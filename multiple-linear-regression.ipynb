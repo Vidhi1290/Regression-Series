{
  "cells": [
    {
      "cell_type": "markdown",
      "metadata": {
        "id": "view-in-github",
        "colab_type": "text"
      },
      "source": [
        "<a href=\"https://colab.research.google.com/gist/Vidhi1290/36989ceeb78ebfa490e7d5e26df39b4b/multiple-linear-regression.ipynb\" target=\"_parent\"><img src=\"https://colab.research.google.com/assets/colab-badge.svg\" alt=\"Open In Colab\"/></a>"
      ]
    },
    {
      "cell_type": "markdown",
      "metadata": {
        "id": "JnAfeUbZht4C"
      },
      "source": [
        "## Multiple Linear Regression"
      ]
    },
    {
      "cell_type": "markdown",
      "metadata": {
        "id": "_tR6gfKVht4G"
      },
      "source": [
        "### Agenda\n",
        "   \n",
        "    ♦ Problem Description\n",
        "    ♦ Data Understanding\n",
        "    ♦ Split the data into Train and Validation sets\n",
        "    ♦ Build a Multiple linear regression model\n",
        "    ♦ Build a Multiple linear regression model after checking VIF values\n",
        "    ♦ Build a Multiple linear regression model with StepAIC attributes\n",
        "    ♦ Build a Multiple linear regression model on standardized independent attributes\n",
        "    ♦ Predict on new data     "
      ]
    },
    {
      "cell_type": "markdown",
      "metadata": {
        "id": "p0m0tJ8_ht4G"
      },
      "source": [
        "### Problem Description"
      ]
    },
    {
      "cell_type": "markdown",
      "metadata": {
        "id": "pblkTSWwht4H"
      },
      "source": [
        "\n",
        "An online gaming portal wants to understand their customer patterns based on their transactional behavior. \n",
        "For this, they have constructed a customer level data based on the details they are tracking. The customer database consists of demographic and transactional information for each customer. Build a regression model to predict \n",
        "the customer revenue.\n"
      ]
    },
    {
      "cell_type": "markdown",
      "metadata": {
        "id": "L3ByHpO4ht4H"
      },
      "source": [
        "### Data Reading"
      ]
    },
    {
      "cell_type": "code",
      "execution_count": 43,
      "metadata": {
        "id": "NweV7lT8ht4I"
      },
      "outputs": [],
      "source": [
        "### Read data\n",
        "data<-read.csv(\"CustomerData.csv\",header=T)\n"
      ]
    },
    {
      "cell_type": "markdown",
      "metadata": {
        "id": "EpajJXsmht4J"
      },
      "source": [
        "### Data Understanding"
      ]
    },
    {
      "cell_type": "markdown",
      "metadata": {
        "id": "meYKonp4ht4K"
      },
      "source": [
        "Check the number of observations and attributes\n",
        "\n",
        "Classify independent variables and dependent variable\n",
        "\n",
        "In Linear Regression, the dependent variable is continuous variable.\n",
        "\n",
        "For Multiple Linear Regression we will predict dependent variable with multiple independent variables.\n"
      ]
    },
    {
      "cell_type": "code",
      "execution_count": 44,
      "metadata": {
        "colab": {
          "base_uri": "https://localhost:8080/",
          "height": 34
        },
        "id": "GxqxXW6nht4K",
        "outputId": "93c1c6ca-3f21-403b-d986-c6e6bf94ce4f"
      },
      "outputs": [
        {
          "output_type": "display_data",
          "data": {
            "text/html": [
              "<style>\n",
              ".list-inline {list-style: none; margin:0; padding: 0}\n",
              ".list-inline>li {display: inline-block}\n",
              ".list-inline>li:not(:last-child)::after {content: \"\\00b7\"; padding: 0 .5ex}\n",
              "</style>\n",
              "<ol class=list-inline><li>3209</li><li>14</li></ol>\n"
            ],
            "text/markdown": "1. 3209\n2. 14\n\n\n",
            "text/latex": "\\begin{enumerate*}\n\\item 3209\n\\item 14\n\\end{enumerate*}\n",
            "text/plain": [
              "[1] 3209   14"
            ]
          },
          "metadata": {}
        }
      ],
      "source": [
        "## Dimensions\n",
        "\n",
        "dim(data)"
      ]
    },
    {
      "cell_type": "code",
      "execution_count": 45,
      "metadata": {
        "colab": {
          "base_uri": "https://localhost:8080/"
        },
        "id": "0hpHFb-fht4L",
        "outputId": "d42a6bfe-e2f3-45bf-bf48-c4d5405b4863"
      },
      "outputs": [
        {
          "output_type": "stream",
          "name": "stdout",
          "text": [
            "'data.frame':\t3209 obs. of  14 variables:\n",
            " $ CustomerID                  : int  1001 1002 1003 1004 1005 1006 1007 1008 1009 1010 ...\n",
            " $ City                        : int  1 1 1 1 1 1 1 1 1 2 ...\n",
            " $ NoOfChildren                : int  2 2 4 1 3 2 3 2 4 3 ...\n",
            " $ MinAgeOfChild               : int  3 3 3 6 6 3 8 6 6 5 ...\n",
            " $ MaxAgeOfChild               : int  8 6 5 6 9 4 12 8 9 6 ...\n",
            " $ Tenure                      : int  210 442 424 261 422 378 369 404 420 333 ...\n",
            " $ FrquncyOfPurchase           : int  11 20 18 11 44 16 25 13 20 15 ...\n",
            " $ NoOfUnitsPurchased          : int  11 20 18 9 31 16 15 12 16 15 ...\n",
            " $ FrequencyOFPlay             : int  2344 245 1059 365 1066 228 75 1488 2743 1967 ...\n",
            " $ NoOfGamesPlayed             : int  108 22 130 34 102 12 2 118 163 56 ...\n",
            " $ NoOfGamesBought             : int  10 7 18 11 44 16 25 13 16 15 ...\n",
            " $ FavoriteChannelOfTransaction: chr  \"Uniform\" \"Favorite\" \"Favorite\" \"Favorite\" ...\n",
            " $ FavoriteGame                : chr  \"Uniform\" \"Uniform\" \"Uniform\" \"Uniform\" ...\n",
            " $ TotalRevenueGenerated       : num  108 382 135 125 335 ...\n"
          ]
        }
      ],
      "source": [
        "## Structure\n",
        "\n",
        "str(data)"
      ]
    },
    {
      "cell_type": "code",
      "execution_count": 46,
      "metadata": {
        "scrolled": true,
        "colab": {
          "base_uri": "https://localhost:8080/",
          "height": 306
        },
        "id": "lHwYxopMht4L",
        "outputId": "790b083c-bff0-44d9-9cae-d8bf2bff68f7"
      },
      "outputs": [
        {
          "output_type": "display_data",
          "data": {
            "text/html": [
              "<table class=\"dataframe\">\n",
              "<caption>A data.frame: 6 × 14</caption>\n",
              "<thead>\n",
              "\t<tr><th></th><th scope=col>CustomerID</th><th scope=col>City</th><th scope=col>NoOfChildren</th><th scope=col>MinAgeOfChild</th><th scope=col>MaxAgeOfChild</th><th scope=col>Tenure</th><th scope=col>FrquncyOfPurchase</th><th scope=col>NoOfUnitsPurchased</th><th scope=col>FrequencyOFPlay</th><th scope=col>NoOfGamesPlayed</th><th scope=col>NoOfGamesBought</th><th scope=col>FavoriteChannelOfTransaction</th><th scope=col>FavoriteGame</th><th scope=col>TotalRevenueGenerated</th></tr>\n",
              "\t<tr><th></th><th scope=col>&lt;int&gt;</th><th scope=col>&lt;int&gt;</th><th scope=col>&lt;int&gt;</th><th scope=col>&lt;int&gt;</th><th scope=col>&lt;int&gt;</th><th scope=col>&lt;int&gt;</th><th scope=col>&lt;int&gt;</th><th scope=col>&lt;int&gt;</th><th scope=col>&lt;int&gt;</th><th scope=col>&lt;int&gt;</th><th scope=col>&lt;int&gt;</th><th scope=col>&lt;chr&gt;</th><th scope=col>&lt;chr&gt;</th><th scope=col>&lt;dbl&gt;</th></tr>\n",
              "</thead>\n",
              "<tbody>\n",
              "\t<tr><th scope=row>1</th><td>1001</td><td>1</td><td>2</td><td>3</td><td>8</td><td>210</td><td>11</td><td>11</td><td>2344</td><td>108</td><td>10</td><td>Uniform </td><td>Uniform </td><td>107.51</td></tr>\n",
              "\t<tr><th scope=row>2</th><td>1002</td><td>1</td><td>2</td><td>3</td><td>6</td><td>442</td><td>20</td><td>20</td><td> 245</td><td> 22</td><td> 7</td><td>Favorite</td><td>Uniform </td><td>382.40</td></tr>\n",
              "\t<tr><th scope=row>3</th><td>1003</td><td>1</td><td>4</td><td>3</td><td>5</td><td>424</td><td>18</td><td>18</td><td>1059</td><td>130</td><td>18</td><td>Favorite</td><td>Uniform </td><td>135.01</td></tr>\n",
              "\t<tr><th scope=row>4</th><td>1004</td><td>1</td><td>1</td><td>6</td><td>6</td><td>261</td><td>11</td><td> 9</td><td> 365</td><td> 34</td><td>11</td><td>Favorite</td><td>Uniform </td><td>125.00</td></tr>\n",
              "\t<tr><th scope=row>5</th><td>1005</td><td>1</td><td>3</td><td>6</td><td>9</td><td>422</td><td>44</td><td>31</td><td>1066</td><td>102</td><td>44</td><td>Uniform </td><td>Uniform </td><td>335.05</td></tr>\n",
              "\t<tr><th scope=row>6</th><td>1006</td><td>1</td><td>2</td><td>3</td><td>4</td><td>378</td><td>16</td><td>16</td><td> 228</td><td> 12</td><td>16</td><td>Favorite</td><td>Favorite</td><td>150.00</td></tr>\n",
              "</tbody>\n",
              "</table>\n"
            ],
            "text/markdown": "\nA data.frame: 6 × 14\n\n| <!--/--> | CustomerID &lt;int&gt; | City &lt;int&gt; | NoOfChildren &lt;int&gt; | MinAgeOfChild &lt;int&gt; | MaxAgeOfChild &lt;int&gt; | Tenure &lt;int&gt; | FrquncyOfPurchase &lt;int&gt; | NoOfUnitsPurchased &lt;int&gt; | FrequencyOFPlay &lt;int&gt; | NoOfGamesPlayed &lt;int&gt; | NoOfGamesBought &lt;int&gt; | FavoriteChannelOfTransaction &lt;chr&gt; | FavoriteGame &lt;chr&gt; | TotalRevenueGenerated &lt;dbl&gt; |\n|---|---|---|---|---|---|---|---|---|---|---|---|---|---|---|\n| 1 | 1001 | 1 | 2 | 3 | 8 | 210 | 11 | 11 | 2344 | 108 | 10 | Uniform  | Uniform  | 107.51 |\n| 2 | 1002 | 1 | 2 | 3 | 6 | 442 | 20 | 20 |  245 |  22 |  7 | Favorite | Uniform  | 382.40 |\n| 3 | 1003 | 1 | 4 | 3 | 5 | 424 | 18 | 18 | 1059 | 130 | 18 | Favorite | Uniform  | 135.01 |\n| 4 | 1004 | 1 | 1 | 6 | 6 | 261 | 11 |  9 |  365 |  34 | 11 | Favorite | Uniform  | 125.00 |\n| 5 | 1005 | 1 | 3 | 6 | 9 | 422 | 44 | 31 | 1066 | 102 | 44 | Uniform  | Uniform  | 335.05 |\n| 6 | 1006 | 1 | 2 | 3 | 4 | 378 | 16 | 16 |  228 |  12 | 16 | Favorite | Favorite | 150.00 |\n\n",
            "text/latex": "A data.frame: 6 × 14\n\\begin{tabular}{r|llllllllllllll}\n  & CustomerID & City & NoOfChildren & MinAgeOfChild & MaxAgeOfChild & Tenure & FrquncyOfPurchase & NoOfUnitsPurchased & FrequencyOFPlay & NoOfGamesPlayed & NoOfGamesBought & FavoriteChannelOfTransaction & FavoriteGame & TotalRevenueGenerated\\\\\n  & <int> & <int> & <int> & <int> & <int> & <int> & <int> & <int> & <int> & <int> & <int> & <chr> & <chr> & <dbl>\\\\\n\\hline\n\t1 & 1001 & 1 & 2 & 3 & 8 & 210 & 11 & 11 & 2344 & 108 & 10 & Uniform  & Uniform  & 107.51\\\\\n\t2 & 1002 & 1 & 2 & 3 & 6 & 442 & 20 & 20 &  245 &  22 &  7 & Favorite & Uniform  & 382.40\\\\\n\t3 & 1003 & 1 & 4 & 3 & 5 & 424 & 18 & 18 & 1059 & 130 & 18 & Favorite & Uniform  & 135.01\\\\\n\t4 & 1004 & 1 & 1 & 6 & 6 & 261 & 11 &  9 &  365 &  34 & 11 & Favorite & Uniform  & 125.00\\\\\n\t5 & 1005 & 1 & 3 & 6 & 9 & 422 & 44 & 31 & 1066 & 102 & 44 & Uniform  & Uniform  & 335.05\\\\\n\t6 & 1006 & 1 & 2 & 3 & 4 & 378 & 16 & 16 &  228 &  12 & 16 & Favorite & Favorite & 150.00\\\\\n\\end{tabular}\n",
            "text/plain": [
              "  CustomerID City NoOfChildren MinAgeOfChild MaxAgeOfChild Tenure\n",
              "1 1001       1    2            3             8             210   \n",
              "2 1002       1    2            3             6             442   \n",
              "3 1003       1    4            3             5             424   \n",
              "4 1004       1    1            6             6             261   \n",
              "5 1005       1    3            6             9             422   \n",
              "6 1006       1    2            3             4             378   \n",
              "  FrquncyOfPurchase NoOfUnitsPurchased FrequencyOFPlay NoOfGamesPlayed\n",
              "1 11                11                 2344            108            \n",
              "2 20                20                  245             22            \n",
              "3 18                18                 1059            130            \n",
              "4 11                 9                  365             34            \n",
              "5 44                31                 1066            102            \n",
              "6 16                16                  228             12            \n",
              "  NoOfGamesBought FavoriteChannelOfTransaction FavoriteGame\n",
              "1 10              Uniform                      Uniform     \n",
              "2  7              Favorite                     Uniform     \n",
              "3 18              Favorite                     Uniform     \n",
              "4 11              Favorite                     Uniform     \n",
              "5 44              Uniform                      Uniform     \n",
              "6 16              Favorite                     Favorite    \n",
              "  TotalRevenueGenerated\n",
              "1 107.51               \n",
              "2 382.40               \n",
              "3 135.01               \n",
              "4 125.00               \n",
              "5 335.05               \n",
              "6 150.00               "
            ]
          },
          "metadata": {}
        }
      ],
      "source": [
        "## First few rows\n",
        "\n",
        "head(data)"
      ]
    },
    {
      "cell_type": "code",
      "execution_count": 47,
      "metadata": {
        "colab": {
          "base_uri": "https://localhost:8080/",
          "height": 306
        },
        "id": "rPNCXpovht4M",
        "outputId": "8e931872-1e18-49d4-fc84-45a4acd8b422"
      },
      "outputs": [
        {
          "output_type": "display_data",
          "data": {
            "text/html": [
              "<table class=\"dataframe\">\n",
              "<caption>A data.frame: 6 × 14</caption>\n",
              "<thead>\n",
              "\t<tr><th></th><th scope=col>CustomerID</th><th scope=col>City</th><th scope=col>NoOfChildren</th><th scope=col>MinAgeOfChild</th><th scope=col>MaxAgeOfChild</th><th scope=col>Tenure</th><th scope=col>FrquncyOfPurchase</th><th scope=col>NoOfUnitsPurchased</th><th scope=col>FrequencyOFPlay</th><th scope=col>NoOfGamesPlayed</th><th scope=col>NoOfGamesBought</th><th scope=col>FavoriteChannelOfTransaction</th><th scope=col>FavoriteGame</th><th scope=col>TotalRevenueGenerated</th></tr>\n",
              "\t<tr><th></th><th scope=col>&lt;int&gt;</th><th scope=col>&lt;int&gt;</th><th scope=col>&lt;int&gt;</th><th scope=col>&lt;int&gt;</th><th scope=col>&lt;int&gt;</th><th scope=col>&lt;int&gt;</th><th scope=col>&lt;int&gt;</th><th scope=col>&lt;int&gt;</th><th scope=col>&lt;int&gt;</th><th scope=col>&lt;int&gt;</th><th scope=col>&lt;int&gt;</th><th scope=col>&lt;chr&gt;</th><th scope=col>&lt;chr&gt;</th><th scope=col>&lt;dbl&gt;</th></tr>\n",
              "</thead>\n",
              "<tbody>\n",
              "\t<tr><th scope=row>3204</th><td>4204</td><td>1</td><td>1</td><td>4</td><td>4</td><td>431</td><td>26</td><td>26</td><td>1166</td><td> 72</td><td>26</td><td>Favorite</td><td>Uniform</td><td>205.00</td></tr>\n",
              "\t<tr><th scope=row>3205</th><td>4205</td><td>1</td><td>2</td><td>4</td><td>6</td><td>365</td><td>16</td><td>16</td><td> 827</td><td> 78</td><td>16</td><td>Favorite</td><td>Uniform</td><td>132.50</td></tr>\n",
              "\t<tr><th scope=row>3206</th><td>4206</td><td>1</td><td>2</td><td>2</td><td>5</td><td>348</td><td>20</td><td>20</td><td>2933</td><td>294</td><td>13</td><td>Favorite</td><td>Uniform</td><td>223.23</td></tr>\n",
              "\t<tr><th scope=row>3207</th><td>4207</td><td>1</td><td>2</td><td>5</td><td>7</td><td>341</td><td>16</td><td>13</td><td>1250</td><td>126</td><td>16</td><td>Uniform </td><td>Uniform</td><td>120.00</td></tr>\n",
              "\t<tr><th scope=row>3208</th><td>4208</td><td>1</td><td>2</td><td>6</td><td>7</td><td>368</td><td>18</td><td>14</td><td>1364</td><td>122</td><td>18</td><td>Favorite</td><td>Uniform</td><td>161.50</td></tr>\n",
              "\t<tr><th scope=row>3209</th><td>4209</td><td>1</td><td>3</td><td>2</td><td>6</td><td>389</td><td>25</td><td>17</td><td> 475</td><td>111</td><td>25</td><td>Favorite</td><td>Uniform</td><td>137.50</td></tr>\n",
              "</tbody>\n",
              "</table>\n"
            ],
            "text/markdown": "\nA data.frame: 6 × 14\n\n| <!--/--> | CustomerID &lt;int&gt; | City &lt;int&gt; | NoOfChildren &lt;int&gt; | MinAgeOfChild &lt;int&gt; | MaxAgeOfChild &lt;int&gt; | Tenure &lt;int&gt; | FrquncyOfPurchase &lt;int&gt; | NoOfUnitsPurchased &lt;int&gt; | FrequencyOFPlay &lt;int&gt; | NoOfGamesPlayed &lt;int&gt; | NoOfGamesBought &lt;int&gt; | FavoriteChannelOfTransaction &lt;chr&gt; | FavoriteGame &lt;chr&gt; | TotalRevenueGenerated &lt;dbl&gt; |\n|---|---|---|---|---|---|---|---|---|---|---|---|---|---|---|\n| 3204 | 4204 | 1 | 1 | 4 | 4 | 431 | 26 | 26 | 1166 |  72 | 26 | Favorite | Uniform | 205.00 |\n| 3205 | 4205 | 1 | 2 | 4 | 6 | 365 | 16 | 16 |  827 |  78 | 16 | Favorite | Uniform | 132.50 |\n| 3206 | 4206 | 1 | 2 | 2 | 5 | 348 | 20 | 20 | 2933 | 294 | 13 | Favorite | Uniform | 223.23 |\n| 3207 | 4207 | 1 | 2 | 5 | 7 | 341 | 16 | 13 | 1250 | 126 | 16 | Uniform  | Uniform | 120.00 |\n| 3208 | 4208 | 1 | 2 | 6 | 7 | 368 | 18 | 14 | 1364 | 122 | 18 | Favorite | Uniform | 161.50 |\n| 3209 | 4209 | 1 | 3 | 2 | 6 | 389 | 25 | 17 |  475 | 111 | 25 | Favorite | Uniform | 137.50 |\n\n",
            "text/latex": "A data.frame: 6 × 14\n\\begin{tabular}{r|llllllllllllll}\n  & CustomerID & City & NoOfChildren & MinAgeOfChild & MaxAgeOfChild & Tenure & FrquncyOfPurchase & NoOfUnitsPurchased & FrequencyOFPlay & NoOfGamesPlayed & NoOfGamesBought & FavoriteChannelOfTransaction & FavoriteGame & TotalRevenueGenerated\\\\\n  & <int> & <int> & <int> & <int> & <int> & <int> & <int> & <int> & <int> & <int> & <int> & <chr> & <chr> & <dbl>\\\\\n\\hline\n\t3204 & 4204 & 1 & 1 & 4 & 4 & 431 & 26 & 26 & 1166 &  72 & 26 & Favorite & Uniform & 205.00\\\\\n\t3205 & 4205 & 1 & 2 & 4 & 6 & 365 & 16 & 16 &  827 &  78 & 16 & Favorite & Uniform & 132.50\\\\\n\t3206 & 4206 & 1 & 2 & 2 & 5 & 348 & 20 & 20 & 2933 & 294 & 13 & Favorite & Uniform & 223.23\\\\\n\t3207 & 4207 & 1 & 2 & 5 & 7 & 341 & 16 & 13 & 1250 & 126 & 16 & Uniform  & Uniform & 120.00\\\\\n\t3208 & 4208 & 1 & 2 & 6 & 7 & 368 & 18 & 14 & 1364 & 122 & 18 & Favorite & Uniform & 161.50\\\\\n\t3209 & 4209 & 1 & 3 & 2 & 6 & 389 & 25 & 17 &  475 & 111 & 25 & Favorite & Uniform & 137.50\\\\\n\\end{tabular}\n",
            "text/plain": [
              "     CustomerID City NoOfChildren MinAgeOfChild MaxAgeOfChild Tenure\n",
              "3204 4204       1    1            4             4             431   \n",
              "3205 4205       1    2            4             6             365   \n",
              "3206 4206       1    2            2             5             348   \n",
              "3207 4207       1    2            5             7             341   \n",
              "3208 4208       1    2            6             7             368   \n",
              "3209 4209       1    3            2             6             389   \n",
              "     FrquncyOfPurchase NoOfUnitsPurchased FrequencyOFPlay NoOfGamesPlayed\n",
              "3204 26                26                 1166             72            \n",
              "3205 16                16                  827             78            \n",
              "3206 20                20                 2933            294            \n",
              "3207 16                13                 1250            126            \n",
              "3208 18                14                 1364            122            \n",
              "3209 25                17                  475            111            \n",
              "     NoOfGamesBought FavoriteChannelOfTransaction FavoriteGame\n",
              "3204 26              Favorite                     Uniform     \n",
              "3205 16              Favorite                     Uniform     \n",
              "3206 13              Favorite                     Uniform     \n",
              "3207 16              Uniform                      Uniform     \n",
              "3208 18              Favorite                     Uniform     \n",
              "3209 25              Favorite                     Uniform     \n",
              "     TotalRevenueGenerated\n",
              "3204 205.00               \n",
              "3205 132.50               \n",
              "3206 223.23               \n",
              "3207 120.00               \n",
              "3208 161.50               \n",
              "3209 137.50               "
            ]
          },
          "metadata": {}
        }
      ],
      "source": [
        "## Last few rows\n",
        "\n",
        "tail(data)"
      ]
    },
    {
      "cell_type": "markdown",
      "metadata": {
        "id": "xj_iuAeLht4M"
      },
      "source": [
        "### Summary Statistics"
      ]
    },
    {
      "cell_type": "code",
      "execution_count": 48,
      "metadata": {
        "colab": {
          "base_uri": "https://localhost:8080/",
          "height": 517
        },
        "id": "w97ihoTSht4M",
        "outputId": "457372df-39d3-4d55-a8ea-472b4182c071"
      },
      "outputs": [
        {
          "output_type": "display_data",
          "data": {
            "text/plain": [
              "   CustomerID        City        NoOfChildren    MinAgeOfChild    \n",
              " Min.   :1001   Min.   :1.000   Min.   : 1.000   Min.   :  0.000  \n",
              " 1st Qu.:1803   1st Qu.:1.000   1st Qu.: 1.000   1st Qu.:  4.000  \n",
              " Median :2605   Median :1.000   Median : 2.000   Median :  5.000  \n",
              " Mean   :2605   Mean   :1.114   Mean   : 2.128   Mean   :  4.961  \n",
              " 3rd Qu.:3407   3rd Qu.:1.000   3rd Qu.: 3.000   3rd Qu.:  6.000  \n",
              " Max.   :4209   Max.   :2.000   Max.   :11.000   Max.   :113.000  \n",
              " MaxAgeOfChild         Tenure      FrquncyOfPurchase NoOfUnitsPurchased\n",
              " Min.   :  3.000   Min.   :100.0   Min.   :  1.00    Min.   :  1.00    \n",
              " 1st Qu.:  6.000   1st Qu.:301.0   1st Qu.: 11.00    1st Qu.: 10.00    \n",
              " Median :  7.000   Median :368.0   Median : 14.00    Median : 13.00    \n",
              " Mean   :  7.991   Mean   :347.5   Mean   : 16.27    Mean   : 14.68    \n",
              " 3rd Qu.:  8.000   3rd Qu.:417.0   3rd Qu.: 19.00    3rd Qu.: 17.00    \n",
              " Max.   :113.000   Max.   :472.0   Max.   :119.00    Max.   :112.00    \n",
              " FrequencyOFPlay NoOfGamesPlayed   NoOfGamesBought \n",
              " Min.   :    0   Min.   :   0.00   Min.   :  0.00  \n",
              " 1st Qu.:  446   1st Qu.:  37.00   1st Qu.: 10.00  \n",
              " Median : 1029   Median :  70.00   Median : 14.00  \n",
              " Mean   : 1568   Mean   :  93.63   Mean   : 14.76  \n",
              " 3rd Qu.: 2029   3rd Qu.: 119.00   3rd Qu.: 19.00  \n",
              " Max.   :27829   Max.   :1166.00   Max.   :115.00  \n",
              " FavoriteChannelOfTransaction FavoriteGame       TotalRevenueGenerated\n",
              " Length:3209                  Length:3209        Min.   :100.0        \n",
              " Class :character             Class :character   1st Qu.:116.6        \n",
              " Mode  :character             Mode  :character   Median :142.4        \n",
              "                                                 Mean   :168.5        \n",
              "                                                 3rd Qu.:191.2        \n",
              "                                                 Max.   :990.6        "
            ]
          },
          "metadata": {}
        }
      ],
      "source": [
        "## Summary of the data\n",
        "summary(data)"
      ]
    },
    {
      "cell_type": "markdown",
      "metadata": {
        "id": "bCjZefZrht4N"
      },
      "source": [
        "#### Drop rows where MaxAgeOfChild and MinAgeOfChild are > 100"
      ]
    },
    {
      "cell_type": "code",
      "execution_count": 49,
      "metadata": {
        "id": "JFiw8LZyht4N"
      },
      "outputs": [],
      "source": [
        "data = data[(data$MaxAgeOfChild < 100) & (data$MinAgeOfChild < 100) ,]"
      ]
    },
    {
      "cell_type": "code",
      "execution_count": 50,
      "metadata": {
        "colab": {
          "base_uri": "https://localhost:8080/",
          "height": 517
        },
        "id": "3ATRuss6ht4N",
        "outputId": "909dfeb5-62dd-466d-c9f5-90a97f3b3686"
      },
      "outputs": [
        {
          "output_type": "display_data",
          "data": {
            "text/plain": [
              "   CustomerID        City        NoOfChildren    MinAgeOfChild   \n",
              " Min.   :1001   Min.   :1.000   Min.   : 1.000   Min.   : 0.000  \n",
              " 1st Qu.:1801   1st Qu.:1.000   1st Qu.: 1.000   1st Qu.: 4.000  \n",
              " Median :2604   Median :1.000   Median : 2.000   Median : 5.000  \n",
              " Mean   :2605   Mean   :1.115   Mean   : 2.125   Mean   : 4.859  \n",
              " 3rd Qu.:3409   3rd Qu.:1.000   3rd Qu.: 3.000   3rd Qu.: 6.000  \n",
              " Max.   :4209   Max.   :2.000   Max.   :11.000   Max.   :18.000  \n",
              " MaxAgeOfChild        Tenure      FrquncyOfPurchase NoOfUnitsPurchased\n",
              " Min.   : 3.000   Min.   :100.0   Min.   :  1.00    Min.   :  1.00    \n",
              " 1st Qu.: 6.000   1st Qu.:302.0   1st Qu.: 11.00    1st Qu.: 10.00    \n",
              " Median : 7.000   Median :368.0   Median : 14.00    Median : 13.00    \n",
              " Mean   : 7.332   Mean   :347.7   Mean   : 16.27    Mean   : 14.68    \n",
              " 3rd Qu.: 8.000   3rd Qu.:417.0   3rd Qu.: 19.00    3rd Qu.: 17.00    \n",
              " Max.   :23.000   Max.   :472.0   Max.   :119.00    Max.   :112.00    \n",
              " FrequencyOFPlay NoOfGamesPlayed   NoOfGamesBought \n",
              " Min.   :    0   Min.   :   0.00   Min.   :  0.00  \n",
              " 1st Qu.:  447   1st Qu.:  37.00   1st Qu.: 10.00  \n",
              " Median : 1029   Median :  70.00   Median : 14.00  \n",
              " Mean   : 1566   Mean   :  93.46   Mean   : 14.76  \n",
              " 3rd Qu.: 2016   3rd Qu.: 119.00   3rd Qu.: 19.00  \n",
              " Max.   :27829   Max.   :1166.00   Max.   :115.00  \n",
              " FavoriteChannelOfTransaction FavoriteGame       TotalRevenueGenerated\n",
              " Length:3189                  Length:3189        Min.   :100.0        \n",
              " Class :character             Class :character   1st Qu.:116.6        \n",
              " Mode  :character             Mode  :character   Median :142.4        \n",
              "                                                 Mean   :168.4        \n",
              "                                                 3rd Qu.:191.0        \n",
              "                                                 Max.   :990.6        "
            ]
          },
          "metadata": {}
        }
      ],
      "source": [
        "summary(data)"
      ]
    },
    {
      "cell_type": "markdown",
      "metadata": {
        "id": "4yMps1Ciht4N"
      },
      "source": [
        "### Split the data into Train and Validation sets"
      ]
    },
    {
      "cell_type": "code",
      "execution_count": 51,
      "metadata": {
        "id": "typKtZd2ht4N"
      },
      "outputs": [],
      "source": [
        "## Split row numbers into 2 sets\n",
        "set.seed(1)\n",
        "train_rows = sample(1:nrow(data), size=0.7*nrow(data))\n",
        "validation_rows = setdiff(1:nrow(data),train_rows)"
      ]
    },
    {
      "cell_type": "code",
      "execution_count": 52,
      "metadata": {
        "id": "b4sDN_7Tht4O"
      },
      "outputs": [],
      "source": [
        "## Subset into Train and Validation sets\n",
        "train_data <- data[train_rows,]\n",
        "validation_data <- data[validation_rows,]"
      ]
    },
    {
      "cell_type": "code",
      "execution_count": 53,
      "metadata": {
        "colab": {
          "base_uri": "https://localhost:8080/",
          "height": 69
        },
        "id": "rHXgfPWKht4O",
        "outputId": "3e6de09c-93b0-417d-8785-c411805a92af"
      },
      "outputs": [
        {
          "output_type": "display_data",
          "data": {
            "text/html": [
              "<style>\n",
              ".list-inline {list-style: none; margin:0; padding: 0}\n",
              ".list-inline>li {display: inline-block}\n",
              ".list-inline>li:not(:last-child)::after {content: \"\\00b7\"; padding: 0 .5ex}\n",
              "</style>\n",
              "<ol class=list-inline><li>3189</li><li>14</li></ol>\n"
            ],
            "text/markdown": "1. 3189\n2. 14\n\n\n",
            "text/latex": "\\begin{enumerate*}\n\\item 3189\n\\item 14\n\\end{enumerate*}\n",
            "text/plain": [
              "[1] 3189   14"
            ]
          },
          "metadata": {}
        },
        {
          "output_type": "display_data",
          "data": {
            "text/html": [
              "<style>\n",
              ".list-inline {list-style: none; margin:0; padding: 0}\n",
              ".list-inline>li {display: inline-block}\n",
              ".list-inline>li:not(:last-child)::after {content: \"\\00b7\"; padding: 0 .5ex}\n",
              "</style>\n",
              "<ol class=list-inline><li>2232</li><li>14</li></ol>\n"
            ],
            "text/markdown": "1. 2232\n2. 14\n\n\n",
            "text/latex": "\\begin{enumerate*}\n\\item 2232\n\\item 14\n\\end{enumerate*}\n",
            "text/plain": [
              "[1] 2232   14"
            ]
          },
          "metadata": {}
        },
        {
          "output_type": "display_data",
          "data": {
            "text/html": [
              "<style>\n",
              ".list-inline {list-style: none; margin:0; padding: 0}\n",
              ".list-inline>li {display: inline-block}\n",
              ".list-inline>li:not(:last-child)::after {content: \"\\00b7\"; padding: 0 .5ex}\n",
              "</style>\n",
              "<ol class=list-inline><li>957</li><li>14</li></ol>\n"
            ],
            "text/markdown": "1. 957\n2. 14\n\n\n",
            "text/latex": "\\begin{enumerate*}\n\\item 957\n\\item 14\n\\end{enumerate*}\n",
            "text/plain": [
              "[1] 957  14"
            ]
          },
          "metadata": {}
        }
      ],
      "source": [
        "## View the dimensions of the data\n",
        "dim(data)\n",
        "dim(train_data)\n",
        "dim(validation_data)"
      ]
    },
    {
      "cell_type": "markdown",
      "metadata": {
        "id": "RGBRIUQvht4O"
      },
      "source": [
        "### Data Type Conversion\n",
        "Check if any data type conversions have to be done.\n"
      ]
    },
    {
      "cell_type": "code",
      "execution_count": 54,
      "metadata": {
        "colab": {
          "base_uri": "https://localhost:8080/"
        },
        "id": "fSA4Aa5Qht4O",
        "outputId": "b05b070d-f300-41d8-aed1-3c202478c374"
      },
      "outputs": [
        {
          "output_type": "stream",
          "name": "stdout",
          "text": [
            "'data.frame':\t2232 obs. of  14 variables:\n",
            " $ CustomerID                  : int  2023 1682 3192 1936 2542 1471 3364 1270 2219 1599 ...\n",
            " $ City                        : int  1 1 1 1 1 1 1 2 1 1 ...\n",
            " $ NoOfChildren                : int  1 2 2 2 3 5 3 2 2 1 ...\n",
            " $ MinAgeOfChild               : int  5 4 4 5 5 1 6 3 5 7 ...\n",
            " $ MaxAgeOfChild               : int  5 9 6 7 10 5 21 6 5 7 ...\n",
            " $ Tenure                      : int  398 406 313 367 432 464 261 365 187 241 ...\n",
            " $ FrquncyOfPurchase           : int  15 8 10 27 24 22 21 13 12 22 ...\n",
            " $ NoOfUnitsPurchased          : int  15 8 8 15 20 19 13 13 12 13 ...\n",
            " $ FrequencyOFPlay             : int  241 396 370 2161 1413 348 558 2424 476 358 ...\n",
            " $ NoOfGamesPlayed             : int  32 45 10 108 127 87 54 69 39 42 ...\n",
            " $ NoOfGamesBought             : int  15 8 6 27 24 21 21 13 12 22 ...\n",
            " $ FavoriteChannelOfTransaction: chr  \"Favorite\" \"Favorite\" \"Uniform\" \"Favorite\" ...\n",
            " $ FavoriteGame                : chr  \"Uniform\" \"Uniform\" \"Uniform\" \"Uniform\" ...\n",
            " $ TotalRevenueGenerated       : num  145 100 127 240 188 ...\n"
          ]
        }
      ],
      "source": [
        "str(train_data)"
      ]
    },
    {
      "cell_type": "code",
      "execution_count": 55,
      "metadata": {
        "colab": {
          "base_uri": "https://localhost:8080/"
        },
        "id": "3_hTawcJht4P",
        "outputId": "c653187c-89f9-43bf-acd8-18c5997971e4"
      },
      "outputs": [
        {
          "output_type": "stream",
          "name": "stdout",
          "text": [
            "'data.frame':\t957 obs. of  14 variables:\n",
            " $ CustomerID                  : int  1001 1002 1006 1018 1020 1021 1024 1025 1030 1031 ...\n",
            " $ City                        : int  1 1 1 1 1 1 1 1 1 1 ...\n",
            " $ NoOfChildren                : int  2 2 2 1 2 3 1 2 5 1 ...\n",
            " $ MinAgeOfChild               : int  3 3 3 7 4 4 4 5 2 7 ...\n",
            " $ MaxAgeOfChild               : int  8 6 4 7 7 10 4 7 7 7 ...\n",
            " $ Tenure                      : int  210 442 378 346 278 448 189 427 444 126 ...\n",
            " $ FrquncyOfPurchase           : int  11 20 16 18 12 6 22 16 26 8 ...\n",
            " $ NoOfUnitsPurchased          : int  11 20 16 16 12 6 18 16 26 8 ...\n",
            " $ FrequencyOFPlay             : int  2344 245 228 1029 1080 1016 267 3781 7766 515 ...\n",
            " $ NoOfGamesPlayed             : int  108 22 12 106 49 56 33 288 583 21 ...\n",
            " $ NoOfGamesBought             : int  10 7 16 14 8 6 12 16 26 8 ...\n",
            " $ FavoriteChannelOfTransaction: chr  \"Uniform\" \"Favorite\" \"Favorite\" \"Uniform\" ...\n",
            " $ FavoriteGame                : chr  \"Uniform\" \"Uniform\" \"Favorite\" \"Uniform\" ...\n",
            " $ TotalRevenueGenerated       : num  108 382 150 182 182 ...\n"
          ]
        }
      ],
      "source": [
        "str(validation_data)"
      ]
    },
    {
      "cell_type": "code",
      "execution_count": 56,
      "metadata": {
        "id": "ROIOrCjfht4P"
      },
      "outputs": [],
      "source": [
        "#Convert \"City\" to factor variable\n",
        "train_data$City <- as.factor(as.character(train_data$City))\n",
        "validation_data$City  <- as.factor(as.character(validation_data$City))\n",
        "\n",
        "#Convert \"FavoriteChannelOfTransaction\" to factor variable\n",
        "train_data$FavoriteChannelOfTransaction <- as.factor(train_data$FavoriteChannelOfTransaction)\n",
        "validation_data$FavoriteChannelOfTransaction  <- as.factor(validation_data$FavoriteChannelOfTransaction)\n",
        "\n",
        "#Convert \"FavoriteGame\" to factor variable\n",
        "train_data$FavoriteGame <- as.factor(train_data$FavoriteGame)\n",
        "validation_data$FavoriteGame  <- as.factor(validation_data$FavoriteGame)"
      ]
    },
    {
      "cell_type": "code",
      "execution_count": 57,
      "metadata": {
        "scrolled": true,
        "colab": {
          "base_uri": "https://localhost:8080/"
        },
        "id": "JtgHxjP8ht4P",
        "outputId": "a2ffce9e-aa1f-478f-e745-9d2babeb0e1f"
      },
      "outputs": [
        {
          "output_type": "stream",
          "name": "stdout",
          "text": [
            "'data.frame':\t2232 obs. of  14 variables:\n",
            " $ CustomerID                  : int  2023 1682 3192 1936 2542 1471 3364 1270 2219 1599 ...\n",
            " $ City                        : Factor w/ 2 levels \"1\",\"2\": 1 1 1 1 1 1 1 2 1 1 ...\n",
            " $ NoOfChildren                : int  1 2 2 2 3 5 3 2 2 1 ...\n",
            " $ MinAgeOfChild               : int  5 4 4 5 5 1 6 3 5 7 ...\n",
            " $ MaxAgeOfChild               : int  5 9 6 7 10 5 21 6 5 7 ...\n",
            " $ Tenure                      : int  398 406 313 367 432 464 261 365 187 241 ...\n",
            " $ FrquncyOfPurchase           : int  15 8 10 27 24 22 21 13 12 22 ...\n",
            " $ NoOfUnitsPurchased          : int  15 8 8 15 20 19 13 13 12 13 ...\n",
            " $ FrequencyOFPlay             : int  241 396 370 2161 1413 348 558 2424 476 358 ...\n",
            " $ NoOfGamesPlayed             : int  32 45 10 108 127 87 54 69 39 42 ...\n",
            " $ NoOfGamesBought             : int  15 8 6 27 24 21 21 13 12 22 ...\n",
            " $ FavoriteChannelOfTransaction: Factor w/ 2 levels \"Favorite\",\"Uniform\": 1 1 2 1 1 2 1 1 1 1 ...\n",
            " $ FavoriteGame                : Factor w/ 2 levels \"Favorite\",\"Uniform\": 2 2 2 2 2 2 2 2 2 2 ...\n",
            " $ TotalRevenueGenerated       : num  145 100 127 240 188 ...\n"
          ]
        }
      ],
      "source": [
        "str(train_data)"
      ]
    },
    {
      "cell_type": "code",
      "execution_count": 58,
      "metadata": {
        "colab": {
          "base_uri": "https://localhost:8080/"
        },
        "id": "bN-qXArYht4P",
        "outputId": "6d315d34-085e-435a-e864-91ffcbaf1989"
      },
      "outputs": [
        {
          "output_type": "stream",
          "name": "stdout",
          "text": [
            "'data.frame':\t957 obs. of  14 variables:\n",
            " $ CustomerID                  : int  1001 1002 1006 1018 1020 1021 1024 1025 1030 1031 ...\n",
            " $ City                        : Factor w/ 2 levels \"1\",\"2\": 1 1 1 1 1 1 1 1 1 1 ...\n",
            " $ NoOfChildren                : int  2 2 2 1 2 3 1 2 5 1 ...\n",
            " $ MinAgeOfChild               : int  3 3 3 7 4 4 4 5 2 7 ...\n",
            " $ MaxAgeOfChild               : int  8 6 4 7 7 10 4 7 7 7 ...\n",
            " $ Tenure                      : int  210 442 378 346 278 448 189 427 444 126 ...\n",
            " $ FrquncyOfPurchase           : int  11 20 16 18 12 6 22 16 26 8 ...\n",
            " $ NoOfUnitsPurchased          : int  11 20 16 16 12 6 18 16 26 8 ...\n",
            " $ FrequencyOFPlay             : int  2344 245 228 1029 1080 1016 267 3781 7766 515 ...\n",
            " $ NoOfGamesPlayed             : int  108 22 12 106 49 56 33 288 583 21 ...\n",
            " $ NoOfGamesBought             : int  10 7 16 14 8 6 12 16 26 8 ...\n",
            " $ FavoriteChannelOfTransaction: Factor w/ 2 levels \"Favorite\",\"Uniform\": 2 1 1 2 2 1 1 1 1 1 ...\n",
            " $ FavoriteGame                : Factor w/ 2 levels \"Favorite\",\"Uniform\": 2 2 1 2 2 2 2 2 2 2 ...\n",
            " $ TotalRevenueGenerated       : num  108 382 150 182 182 ...\n"
          ]
        }
      ],
      "source": [
        "str(validation_data)"
      ]
    },
    {
      "cell_type": "markdown",
      "metadata": {
        "id": "Gr6Zl-xNht4P"
      },
      "source": [
        "#### Remove columns not used in model building"
      ]
    },
    {
      "cell_type": "code",
      "execution_count": 59,
      "metadata": {
        "id": "tBQPZnbAht4P"
      },
      "outputs": [],
      "source": [
        "#Note: Apply the same data pre processing steps on validation & test data, that u have done on train data\n",
        "\n",
        "### Removing ID columns\n",
        "train_data$CustomerID <- NULL #Remove ID columns as they won't be used in model building\n",
        "validation_data$CustomerID <- NULL\n"
      ]
    },
    {
      "cell_type": "markdown",
      "metadata": {
        "id": "lRGwhe7ght4Q"
      },
      "source": [
        "### Model Building"
      ]
    },
    {
      "cell_type": "markdown",
      "metadata": {
        "id": "a2tDWpsYht4Q"
      },
      "source": [
        "#### Model with Multicollinearity check using Variance inflation factor"
      ]
    },
    {
      "cell_type": "code",
      "execution_count": 60,
      "metadata": {
        "colab": {
          "base_uri": "https://localhost:8080/",
          "height": 535
        },
        "id": "t_PIn_tzht4Q",
        "outputId": "708aaa54-c681-4491-c732-659b21b7208a"
      },
      "outputs": [
        {
          "output_type": "display_data",
          "data": {
            "text/plain": [
              "\n",
              "Call:\n",
              "lm(formula = TotalRevenueGenerated ~ ., data = train_data)\n",
              "\n",
              "Residuals:\n",
              "    Min      1Q  Median      3Q     Max \n",
              "-159.47  -26.99   -4.75   21.06  341.93 \n",
              "\n",
              "Coefficients:\n",
              "                                      Estimate Std. Error t value Pr(>|t|)    \n",
              "(Intercept)                          2.711e+01  7.398e+00   3.665 0.000253 ***\n",
              "City2                                1.127e+01  2.946e+00   3.826 0.000134 ***\n",
              "NoOfChildren                         5.112e+00  1.240e+00   4.122 3.90e-05 ***\n",
              "MinAgeOfChild                        4.147e+00  6.826e-01   6.076 1.45e-09 ***\n",
              "MaxAgeOfChild                       -1.534e+00  4.305e-01  -3.563 0.000375 ***\n",
              "Tenure                              -1.130e-02  1.072e-02  -1.054 0.291799    \n",
              "FrquncyOfPurchase                    9.755e+00  5.125e-01  19.032  < 2e-16 ***\n",
              "NoOfUnitsPurchased                   9.259e+00  3.777e-01  24.513  < 2e-16 ***\n",
              "FrequencyOFPlay                      3.035e-03  7.354e-04   4.128 3.80e-05 ***\n",
              "NoOfGamesPlayed                     -3.580e-02  1.600e-02  -2.238 0.025346 *  \n",
              "NoOfGamesBought                     -1.074e+01  3.528e-01 -30.443  < 2e-16 ***\n",
              "FavoriteChannelOfTransactionUniform -1.309e+01  2.526e+00  -5.185 2.36e-07 ***\n",
              "FavoriteGameUniform                 -1.161e+01  4.783e+00  -2.428 0.015270 *  \n",
              "---\n",
              "Signif. codes:  0 ‘***’ 0.001 ‘**’ 0.01 ‘*’ 0.05 ‘.’ 0.1 ‘ ’ 1\n",
              "\n",
              "Residual standard error: 43.77 on 2219 degrees of freedom\n",
              "Multiple R-squared:  0.7117,\tAdjusted R-squared:  0.7102 \n",
              "F-statistic: 456.5 on 12 and 2219 DF,  p-value: < 2.2e-16\n"
            ]
          },
          "metadata": {}
        }
      ],
      "source": [
        "# Build a model with all attributes\n",
        "model1<- lm(TotalRevenueGenerated~., data = train_data)\n",
        "\n",
        "summary(model1)"
      ]
    },
    {
      "cell_type": "code",
      "execution_count": 61,
      "metadata": {
        "colab": {
          "base_uri": "https://localhost:8080/",
          "height": 785
        },
        "id": "V57Jku54ht4Q",
        "outputId": "10513313-6bf4-4447-ca41-713b3bf38398"
      },
      "outputs": [
        {
          "output_type": "display_data",
          "data": {
            "text/plain": [
              "\n",
              "Call:\n",
              "lm(formula = TotalRevenueGenerated ~ ., data = train_data)\n",
              "\n",
              "Residuals:\n",
              "    Min      1Q  Median      3Q     Max \n",
              "-159.47  -26.99   -4.75   21.06  341.93 \n",
              "\n",
              "Coefficients:\n",
              "                                       Estimate  Std. Error t value\n",
              "(Intercept)                          27.1103680   7.3976859   3.665\n",
              "City2                                11.2721204   2.9464824   3.826\n",
              "NoOfChildren                          5.1119290   1.2402984   4.122\n",
              "MinAgeOfChild                         4.1470847   0.6825814   6.076\n",
              "MaxAgeOfChild                        -1.5337873   0.4304930  -3.563\n",
              "Tenure                               -0.0113022   0.0107187  -1.054\n",
              "FrquncyOfPurchase                     9.7548434   0.5125460  19.032\n",
              "NoOfUnitsPurchased                    9.2590076   0.3777206  24.513\n",
              "FrequencyOFPlay                       0.0030354   0.0007354   4.128\n",
              "NoOfGamesPlayed                      -0.0357952   0.0159971  -2.238\n",
              "NoOfGamesBought                     -10.7413676   0.3528406 -30.443\n",
              "FavoriteChannelOfTransactionUniform -13.0944449   2.5256221  -5.185\n",
              "FavoriteGameUniform                 -11.6126313   4.7832112  -2.428\n",
              "                                                Pr(>|t|)    \n",
              "(Intercept)                                     0.000253 ***\n",
              "City2                                           0.000134 ***\n",
              "NoOfChildren                               0.00003901901 ***\n",
              "MinAgeOfChild                              0.00000000145 ***\n",
              "MaxAgeOfChild                                   0.000375 ***\n",
              "Tenure                                          0.291799    \n",
              "FrquncyOfPurchase                   < 0.0000000000000002 ***\n",
              "NoOfUnitsPurchased                  < 0.0000000000000002 ***\n",
              "FrequencyOFPlay                            0.00003798791 ***\n",
              "NoOfGamesPlayed                                 0.025346 *  \n",
              "NoOfGamesBought                     < 0.0000000000000002 ***\n",
              "FavoriteChannelOfTransactionUniform        0.00000023603 ***\n",
              "FavoriteGameUniform                             0.015270 *  \n",
              "---\n",
              "Signif. codes:  0 ‘***’ 0.001 ‘**’ 0.01 ‘*’ 0.05 ‘.’ 0.1 ‘ ’ 1\n",
              "\n",
              "Residual standard error: 43.77 on 2219 degrees of freedom\n",
              "Multiple R-squared:  0.7117,\tAdjusted R-squared:  0.7102 \n",
              "F-statistic: 456.5 on 12 and 2219 DF,  p-value: < 0.00000000000000022\n"
            ]
          },
          "metadata": {}
        }
      ],
      "source": [
        "options(scipen=999)\n",
        "\n",
        "# Build a model with all attributes\n",
        "model1<- lm(TotalRevenueGenerated~., data = train_data)\n",
        "\n",
        "summary(model1)\n"
      ]
    },
    {
      "cell_type": "code",
      "execution_count": 62,
      "metadata": {
        "colab": {
          "base_uri": "https://localhost:8080/",
          "height": 69
        },
        "id": "doljHTeiht4Q",
        "outputId": "cbbbafb8-3796-43c7-cfd0-91ea33c11b4f"
      },
      "outputs": [
        {
          "output_type": "display_data",
          "data": {
            "text/html": [
              "<style>\n",
              ".list-inline {list-style: none; margin:0; padding: 0}\n",
              ".list-inline>li {display: inline-block}\n",
              ".list-inline>li:not(:last-child)::after {content: \"\\00b7\"; padding: 0 .5ex}\n",
              "</style>\n",
              "<ol class=list-inline><li>'1'</li><li>'2'</li></ol>\n"
            ],
            "text/markdown": "1. '1'\n2. '2'\n\n\n",
            "text/latex": "\\begin{enumerate*}\n\\item '1'\n\\item '2'\n\\end{enumerate*}\n",
            "text/plain": [
              "[1] \"1\" \"2\""
            ]
          },
          "metadata": {}
        },
        {
          "output_type": "display_data",
          "data": {
            "text/html": [
              "<style>\n",
              ".list-inline {list-style: none; margin:0; padding: 0}\n",
              ".list-inline>li {display: inline-block}\n",
              ".list-inline>li:not(:last-child)::after {content: \"\\00b7\"; padding: 0 .5ex}\n",
              "</style>\n",
              "<ol class=list-inline><li>'Favorite'</li><li>'Uniform'</li></ol>\n"
            ],
            "text/markdown": "1. 'Favorite'\n2. 'Uniform'\n\n\n",
            "text/latex": "\\begin{enumerate*}\n\\item 'Favorite'\n\\item 'Uniform'\n\\end{enumerate*}\n",
            "text/plain": [
              "[1] \"Favorite\" \"Uniform\" "
            ]
          },
          "metadata": {}
        },
        {
          "output_type": "display_data",
          "data": {
            "text/html": [
              "<style>\n",
              ".list-inline {list-style: none; margin:0; padding: 0}\n",
              ".list-inline>li {display: inline-block}\n",
              ".list-inline>li:not(:last-child)::after {content: \"\\00b7\"; padding: 0 .5ex}\n",
              "</style>\n",
              "<ol class=list-inline><li>'Favorite'</li><li>'Uniform'</li></ol>\n"
            ],
            "text/markdown": "1. 'Favorite'\n2. 'Uniform'\n\n\n",
            "text/latex": "\\begin{enumerate*}\n\\item 'Favorite'\n\\item 'Uniform'\n\\end{enumerate*}\n",
            "text/plain": [
              "[1] \"Favorite\" \"Uniform\" "
            ]
          },
          "metadata": {}
        }
      ],
      "source": [
        "levels(train_data$City)\n",
        "levels(train_data$FavoriteChannelOfTransaction)\n",
        "levels(train_data$FavoriteGame)"
      ]
    },
    {
      "cell_type": "code",
      "execution_count": 63,
      "metadata": {
        "colab": {
          "base_uri": "https://localhost:8080/",
          "height": 105
        },
        "id": "I-IDV2Skht4Q",
        "outputId": "9c47ad88-8ac3-46ed-9a4f-c8f14d204f98"
      },
      "outputs": [
        {
          "output_type": "stream",
          "name": "stderr",
          "text": [
            "Installing package into ‘/usr/local/lib/R/site-library’\n",
            "(as ‘lib’ is unspecified)\n",
            "\n"
          ]
        },
        {
          "output_type": "display_data",
          "data": {
            "text/html": [
              "<style>\n",
              ".dl-inline {width: auto; margin:0; padding: 0}\n",
              ".dl-inline>dt, .dl-inline>dd {float: none; width: auto; display: inline-block}\n",
              ".dl-inline>dt::after {content: \":\\0020\"; padding-right: .5ex}\n",
              ".dl-inline>dt:not(:first-of-type) {padding-left: .5ex}\n",
              "</style><dl class=dl-inline><dt>City</dt><dd>1.08239940552117</dd><dt>NoOfChildren</dt><dd>1.90054866537202</dd><dt>MinAgeOfChild</dt><dd>1.57674469440354</dd><dt>MaxAgeOfChild</dt><dd>1.74260616961755</dd><dt>Tenure</dt><dd>1.10804734464654</dd><dt>FrquncyOfPurchase</dt><dd>21.805069384932</dd><dt>NoOfUnitsPurchased</dt><dd>8.78735292749722</dd><dt>FrequencyOFPlay</dt><dd>2.10337472101028</dd><dt>NoOfGamesPlayed</dt><dd>2.40215554169248</dd><dt>NoOfGamesBought</dt><dd>11.2831087590543</dd><dt>FavoriteChannelOfTransaction</dt><dd>1.07811694211582</dd><dt>FavoriteGame</dt><dd>1.04244235476344</dd></dl>\n"
            ],
            "text/markdown": "City\n:   1.08239940552117NoOfChildren\n:   1.90054866537202MinAgeOfChild\n:   1.57674469440354MaxAgeOfChild\n:   1.74260616961755Tenure\n:   1.10804734464654FrquncyOfPurchase\n:   21.805069384932NoOfUnitsPurchased\n:   8.78735292749722FrequencyOFPlay\n:   2.10337472101028NoOfGamesPlayed\n:   2.40215554169248NoOfGamesBought\n:   11.2831087590543FavoriteChannelOfTransaction\n:   1.07811694211582FavoriteGame\n:   1.04244235476344\n\n",
            "text/latex": "\\begin{description*}\n\\item[City] 1.08239940552117\n\\item[NoOfChildren] 1.90054866537202\n\\item[MinAgeOfChild] 1.57674469440354\n\\item[MaxAgeOfChild] 1.74260616961755\n\\item[Tenure] 1.10804734464654\n\\item[FrquncyOfPurchase] 21.805069384932\n\\item[NoOfUnitsPurchased] 8.78735292749722\n\\item[FrequencyOFPlay] 2.10337472101028\n\\item[NoOfGamesPlayed] 2.40215554169248\n\\item[NoOfGamesBought] 11.2831087590543\n\\item[FavoriteChannelOfTransaction] 1.07811694211582\n\\item[FavoriteGame] 1.04244235476344\n\\end{description*}\n",
            "text/plain": [
              "                        City                 NoOfChildren \n",
              "                    1.082399                     1.900549 \n",
              "               MinAgeOfChild                MaxAgeOfChild \n",
              "                    1.576745                     1.742606 \n",
              "                      Tenure            FrquncyOfPurchase \n",
              "                    1.108047                    21.805069 \n",
              "          NoOfUnitsPurchased              FrequencyOFPlay \n",
              "                    8.787353                     2.103375 \n",
              "             NoOfGamesPlayed              NoOfGamesBought \n",
              "                    2.402156                    11.283109 \n",
              "FavoriteChannelOfTransaction                 FavoriteGame \n",
              "                    1.078117                     1.042442 "
            ]
          },
          "metadata": {}
        }
      ],
      "source": [
        "## Compute VIF \n",
        "install.packages(\"car\")\n",
        "library(car)\n",
        "\n",
        "vif(model1)"
      ]
    },
    {
      "cell_type": "code",
      "execution_count": 64,
      "metadata": {
        "id": "j89wq7thht4Q",
        "colab": {
          "base_uri": "https://localhost:8080/",
          "height": 553
        },
        "outputId": "f2fff51d-580f-4327-973e-21a5a4291fde"
      },
      "outputs": [
        {
          "output_type": "display_data",
          "data": {
            "text/plain": [
              "\n",
              "Call:\n",
              "lm(formula = TotalRevenueGenerated ~ City + NoOfChildren + MinAgeOfChild + \n",
              "    MaxAgeOfChild + Tenure + NoOfUnitsPurchased + FrequencyOFPlay + \n",
              "    NoOfGamesPlayed + FavoriteChannelOfTransaction + FavoriteGame, \n",
              "    data = train_data)\n",
              "\n",
              "Residuals:\n",
              "    Min      1Q  Median      3Q     Max \n",
              "-127.29  -32.17   -9.94   16.21  399.29 \n",
              "\n",
              "Coefficients:\n",
              "                                      Estimate Std. Error t value Pr(>|t|)    \n",
              "(Intercept)                          5.874e+01  8.808e+00   6.669 3.23e-11 ***\n",
              "City2                               -4.751e+00  3.461e+00  -1.373 0.169961    \n",
              "NoOfChildren                         2.707e+00  1.488e+00   1.820 0.068959 .  \n",
              "MinAgeOfChild                        2.474e+00  8.173e-01   3.027 0.002501 ** \n",
              "MaxAgeOfChild                       -5.579e-01  5.160e-01  -1.081 0.279719    \n",
              "Tenure                              -1.324e-02  1.287e-02  -1.029 0.303433    \n",
              "NoOfUnitsPurchased                   8.589e+00  1.712e-01  50.164  < 2e-16 ***\n",
              "FrequencyOFPlay                      3.294e-03  8.836e-04   3.728 0.000198 ***\n",
              "NoOfGamesPlayed                     -6.048e-02  1.920e-02  -3.150 0.001654 ** \n",
              "FavoriteChannelOfTransactionUniform -1.287e+01  2.947e+00  -4.367 1.32e-05 ***\n",
              "FavoriteGameUniform                 -2.360e+01  5.729e+00  -4.120 3.93e-05 ***\n",
              "---\n",
              "Signif. codes:  0 ‘***’ 0.001 ‘**’ 0.01 ‘*’ 0.05 ‘.’ 0.1 ‘ ’ 1\n",
              "\n",
              "Residual standard error: 52.6 on 2221 degrees of freedom\n",
              "Multiple R-squared:  0.5833,\tAdjusted R-squared:  0.5814 \n",
              "F-statistic: 310.9 on 10 and 2221 DF,  p-value: < 2.2e-16\n"
            ]
          },
          "metadata": {}
        }
      ],
      "source": [
        "#We see FrquncyOfPurchase and NoOfGamesBought have VIF >10; So ignoring them for model building\n",
        "\n",
        "options(scipen=0)\n",
        "\n",
        "model_vif <- lm(TotalRevenueGenerated ~ City + NoOfChildren + MinAgeOfChild + \n",
        "              MaxAgeOfChild + Tenure + NoOfUnitsPurchased + \n",
        "              FrequencyOFPlay + NoOfGamesPlayed  + FavoriteChannelOfTransaction + \n",
        "              FavoriteGame, data=train_data)\n",
        "summary(model_vif)\n"
      ]
    },
    {
      "cell_type": "markdown",
      "metadata": {
        "id": "23w0JMPVht4R"
      },
      "source": [
        " "
      ]
    },
    {
      "cell_type": "markdown",
      "metadata": {
        "id": "8bkcjHadht4R"
      },
      "source": [
        "#### Model 4 : Using StepAIC"
      ]
    },
    {
      "cell_type": "code",
      "execution_count": 65,
      "metadata": {
        "colab": {
          "base_uri": "https://localhost:8080/",
          "height": 1000
        },
        "id": "TmPV9xINht4R",
        "outputId": "652cf287-575f-4934-811f-68917a671f41"
      },
      "outputs": [
        {
          "output_type": "stream",
          "name": "stdout",
          "text": [
            "Start:  AIC=16882.18\n",
            "TotalRevenueGenerated ~ City + NoOfChildren + MinAgeOfChild + \n",
            "    MaxAgeOfChild + Tenure + FrquncyOfPurchase + NoOfUnitsPurchased + \n",
            "    FrequencyOFPlay + NoOfGamesPlayed + NoOfGamesBought + FavoriteChannelOfTransaction + \n",
            "    FavoriteGame\n",
            "\n",
            "                               Df Sum of Sq     RSS   AIC\n",
            "- Tenure                        1      2130 4253298 16881\n",
            "<none>                                      4251168 16882\n",
            "- NoOfGamesPlayed               1      9592 4260760 16885\n",
            "- FavoriteGame                  1     11292 4262460 16886\n",
            "- MaxAgeOfChild                 1     24319 4275487 16893\n",
            "- City                          1     28038 4279206 16895\n",
            "- NoOfChildren                  1     32544 4283712 16897\n",
            "- FrequencyOFPlay               1     32642 4283810 16897\n",
            "- FavoriteChannelOfTransaction  1     51498 4302666 16907\n",
            "- MinAgeOfChild                 1     70718 4321885 16917\n",
            "- FrquncyOfPurchase             1    693946 4945114 17218\n",
            "- NoOfUnitsPurchased            1   1151167 5402335 17415\n",
            "- NoOfGamesBought               1   1775468 6026636 17659\n",
            "\n",
            "Step:  AIC=16881.3\n",
            "TotalRevenueGenerated ~ City + NoOfChildren + MinAgeOfChild + \n",
            "    MaxAgeOfChild + FrquncyOfPurchase + NoOfUnitsPurchased + \n",
            "    FrequencyOFPlay + NoOfGamesPlayed + NoOfGamesBought + FavoriteChannelOfTransaction + \n",
            "    FavoriteGame\n",
            "\n",
            "                               Df Sum of Sq     RSS   AIC\n",
            "<none>                                      4253298 16881\n",
            "- NoOfGamesPlayed               1     10370 4263668 16885\n",
            "- FavoriteGame                  1     11538 4264836 16885\n",
            "- MaxAgeOfChild                 1     24425 4277723 16892\n",
            "- City                          1     27037 4280335 16893\n",
            "- FrequencyOFPlay               1     31501 4284799 16896\n",
            "- NoOfChildren                  1     32771 4286069 16896\n",
            "- FavoriteChannelOfTransaction  1     51278 4304576 16906\n",
            "- MinAgeOfChild                 1     74419 4327717 16918\n",
            "- FrquncyOfPurchase             1    692118 4945416 17216\n",
            "- NoOfUnitsPurchased            1   1152729 5406026 17415\n",
            "- NoOfGamesBought               1   1774756 6028054 17658\n"
          ]
        },
        {
          "output_type": "display_data",
          "data": {
            "text/plain": [
              "\n",
              "Call:\n",
              "lm(formula = TotalRevenueGenerated ~ City + NoOfChildren + MinAgeOfChild + \n",
              "    MaxAgeOfChild + FrquncyOfPurchase + NoOfUnitsPurchased + \n",
              "    FrequencyOFPlay + NoOfGamesPlayed + NoOfGamesBought + FavoriteChannelOfTransaction + \n",
              "    FavoriteGame, data = train_data)\n",
              "\n",
              "Coefficients:\n",
              "                        (Intercept)                                City2  \n",
              "                          23.327636                            11.037344  \n",
              "                       NoOfChildren                        MinAgeOfChild  \n",
              "                           5.129305                             4.227552  \n",
              "                      MaxAgeOfChild                    FrquncyOfPurchase  \n",
              "                          -1.537087                             9.736171  \n",
              "                 NoOfUnitsPurchased                      FrequencyOFPlay  \n",
              "                           9.264427                             0.002972  \n",
              "                    NoOfGamesPlayed                      NoOfGamesBought  \n",
              "                          -0.037106                           -10.738994  \n",
              "FavoriteChannelOfTransactionUniform                  FavoriteGameUniform  \n",
              "                         -13.065750                           -11.734890  \n"
            ]
          },
          "metadata": {}
        }
      ],
      "source": [
        "# Stepwise Regression\n",
        "library(MASS)\n",
        "stepAIC(model1)\n"
      ]
    },
    {
      "cell_type": "code",
      "execution_count": 66,
      "metadata": {
        "colab": {
          "base_uri": "https://localhost:8080/",
          "height": 571
        },
        "id": "9qHCtBmZht4R",
        "outputId": "b737230c-7071-4fac-9060-a8c9b8306cdd"
      },
      "outputs": [
        {
          "output_type": "display_data",
          "data": {
            "text/plain": [
              "\n",
              "Call:\n",
              "lm(formula = TotalRevenueGenerated ~ City + NoOfChildren + MinAgeOfChild + \n",
              "    MaxAgeOfChild + FrquncyOfPurchase + NoOfUnitsPurchased + \n",
              "    FrequencyOFPlay + NoOfGamesPlayed + NoOfGamesBought + FavoriteChannelOfTransaction + \n",
              "    FavoriteGame, data = train_data)\n",
              "\n",
              "Residuals:\n",
              "    Min      1Q  Median      3Q     Max \n",
              "-158.97  -27.12   -4.65   20.92  342.12 \n",
              "\n",
              "Coefficients:\n",
              "                                      Estimate Std. Error t value Pr(>|t|)    \n",
              "(Intercept)                          2.333e+01  6.470e+00   3.606 0.000318 ***\n",
              "City2                                1.104e+01  2.938e+00   3.757 0.000177 ***\n",
              "NoOfChildren                         5.129e+00  1.240e+00   4.136 3.67e-05 ***\n",
              "MinAgeOfChild                        4.228e+00  6.783e-01   6.232 5.48e-10 ***\n",
              "MaxAgeOfChild                       -1.537e+00  4.305e-01  -3.571 0.000364 ***\n",
              "FrquncyOfPurchase                    9.736e+00  5.123e-01  19.007  < 2e-16 ***\n",
              "NoOfUnitsPurchased                   9.264e+00  3.777e-01  24.529  < 2e-16 ***\n",
              "FrequencyOFPlay                      2.972e-03  7.329e-04   4.055 5.19e-05 ***\n",
              "NoOfGamesPlayed                     -3.711e-02  1.595e-02  -2.327 0.020080 *  \n",
              "NoOfGamesBought                     -1.074e+01  3.528e-01 -30.436  < 2e-16 ***\n",
              "FavoriteChannelOfTransactionUniform -1.307e+01  2.526e+00  -5.173 2.50e-07 ***\n",
              "FavoriteGameUniform                 -1.173e+01  4.782e+00  -2.454 0.014204 *  \n",
              "---\n",
              "Signif. codes:  0 ‘***’ 0.001 ‘**’ 0.01 ‘*’ 0.05 ‘.’ 0.1 ‘ ’ 1\n",
              "\n",
              "Residual standard error: 43.77 on 2220 degrees of freedom\n",
              "Multiple R-squared:  0.7116,\tAdjusted R-squared:  0.7101 \n",
              "F-statistic: 497.9 on 11 and 2220 DF,  p-value: < 2.2e-16\n"
            ]
          },
          "metadata": {}
        }
      ],
      "source": [
        "## Build model with AIC call\n",
        "model_aic <- lm(formula = TotalRevenueGenerated ~ City + NoOfChildren + MinAgeOfChild + \n",
        "    MaxAgeOfChild + FrquncyOfPurchase + NoOfUnitsPurchased + \n",
        "    FrequencyOFPlay + NoOfGamesPlayed + NoOfGamesBought + FavoriteChannelOfTransaction + \n",
        "    FavoriteGame, data = train_data)\n",
        "\n",
        "summary(model_aic)"
      ]
    },
    {
      "cell_type": "markdown",
      "metadata": {
        "id": "VQ-5J4uIht4R"
      },
      "source": [
        "General Note: One can try different models in a variety of combinations. As long as the model's overall significance is good,one can choose the model for prediction. And, one can finalize a model based on its performance on the test data(and explicability, if needed)\n"
      ]
    },
    {
      "cell_type": "markdown",
      "metadata": {
        "id": "1jtZ0CBZht4R"
      },
      "source": [
        "#### Standardizing the Data"
      ]
    },
    {
      "cell_type": "code",
      "execution_count": 67,
      "metadata": {
        "id": "Cc26eOH0ht4R",
        "colab": {
          "base_uri": "https://localhost:8080/"
        },
        "outputId": "da29c56f-45df-437d-e8e4-5b9328bb732e"
      },
      "outputs": [
        {
          "output_type": "stream",
          "name": "stdout",
          "text": [
            "'data.frame':\t2232 obs. of  13 variables:\n",
            " $ City                        : Factor w/ 2 levels \"1\",\"2\": 1 1 1 1 1 1 1 2 1 1 ...\n",
            " $ NoOfChildren                : int  1 2 2 2 3 5 3 2 2 1 ...\n",
            " $ MinAgeOfChild               : int  5 4 4 5 5 1 6 3 5 7 ...\n",
            " $ MaxAgeOfChild               : int  5 9 6 7 10 5 21 6 5 7 ...\n",
            " $ Tenure                      : int  398 406 313 367 432 464 261 365 187 241 ...\n",
            " $ FrquncyOfPurchase           : int  15 8 10 27 24 22 21 13 12 22 ...\n",
            " $ NoOfUnitsPurchased          : int  15 8 8 15 20 19 13 13 12 13 ...\n",
            " $ FrequencyOFPlay             : int  241 396 370 2161 1413 348 558 2424 476 358 ...\n",
            " $ NoOfGamesPlayed             : int  32 45 10 108 127 87 54 69 39 42 ...\n",
            " $ NoOfGamesBought             : int  15 8 6 27 24 21 21 13 12 22 ...\n",
            " $ FavoriteChannelOfTransaction: Factor w/ 2 levels \"Favorite\",\"Uniform\": 1 1 2 1 1 2 1 1 1 1 ...\n",
            " $ FavoriteGame                : Factor w/ 2 levels \"Favorite\",\"Uniform\": 2 2 2 2 2 2 2 2 2 2 ...\n",
            " $ TotalRevenueGenerated       : num  145 100 127 240 188 ...\n"
          ]
        }
      ],
      "source": [
        "str(train_data)"
      ]
    },
    {
      "cell_type": "code",
      "execution_count": 68,
      "metadata": {
        "scrolled": true,
        "id": "Gu7vAv8wht4S",
        "colab": {
          "base_uri": "https://localhost:8080/",
          "height": 178
        },
        "outputId": "65ae21d5-438a-4782-9adb-2ac37333c854"
      },
      "outputs": [
        {
          "output_type": "stream",
          "name": "stderr",
          "text": [
            "Installing package into ‘/usr/local/lib/R/site-library’\n",
            "(as ‘lib’ is unspecified)\n",
            "\n"
          ]
        },
        {
          "output_type": "display_data",
          "data": {
            "text/plain": [
              "Created from 2232 samples and 9 variables\n",
              "\n",
              "Pre-processing:\n",
              "  - centered (9)\n",
              "  - ignored (0)\n",
              "  - scaled (9)\n"
            ]
          },
          "metadata": {}
        }
      ],
      "source": [
        "# We will use the Caret pakcage to standardize the data after the split using the __\"preProcess()\"__ function\n",
        "#It saves the metrics such as mean and standard deviation used for calculating the standardized value by creating a model object\n",
        "#We can then use the model object in the \"predict()\"  function to standardize any other unseen dataset with the same distribuiton and variables\n",
        "\n",
        "install.packages(\"caret\")\n",
        "library(caret)\n",
        "\n",
        "# The \"preProcess()\" function creates a model object required for standardizing unseen data\n",
        "# Do not standardize the target variable\n",
        "\n",
        "train_nonstd = train_data\n",
        "test_nonstd = validation_data\n",
        "\n",
        "\n",
        "library(dplyr)\n",
        "num_cols = colnames(select_if(train_data,is.numeric))\n",
        "independent_num_cols = setdiff(num_cols,\"TotalRevenueGenerated\")\n",
        "\n",
        "std_model <- preProcess(train_data[, independent_num_cols], method = c(\"center\",\"scale\"))\n",
        "std_model"
      ]
    },
    {
      "cell_type": "code",
      "execution_count": 69,
      "metadata": {
        "scrolled": true,
        "id": "abbbfZ8nht4S",
        "colab": {
          "base_uri": "https://localhost:8080/",
          "height": 52
        },
        "outputId": "f7115e24-f5c2-4c46-8865-2f1b88df5e04"
      },
      "outputs": [
        {
          "output_type": "display_data",
          "data": {
            "text/html": [
              "<style>\n",
              ".dl-inline {width: auto; margin:0; padding: 0}\n",
              ".dl-inline>dt, .dl-inline>dd {float: none; width: auto; display: inline-block}\n",
              ".dl-inline>dt::after {content: \":\\0020\"; padding-right: .5ex}\n",
              ".dl-inline>dt:not(:first-of-type) {padding-left: .5ex}\n",
              "</style><dl class=dl-inline><dt>NoOfChildren</dt><dd>2.11021505376344</dd><dt>MinAgeOfChild</dt><dd>4.88485663082437</dd><dt>MaxAgeOfChild</dt><dd>7.33109318996416</dd><dt>Tenure</dt><dd>347.653225806452</dd><dt>FrquncyOfPurchase</dt><dd>16.1671146953405</dd><dt>NoOfUnitsPurchased</dt><dd>14.6465053763441</dd><dt>FrequencyOFPlay</dt><dd>1578.41487455197</dd><dt>NoOfGamesPlayed</dt><dd>94.1111111111111</dd><dt>NoOfGamesBought</dt><dd>14.7083333333333</dd></dl>\n"
            ],
            "text/markdown": "NoOfChildren\n:   2.11021505376344MinAgeOfChild\n:   4.88485663082437MaxAgeOfChild\n:   7.33109318996416Tenure\n:   347.653225806452FrquncyOfPurchase\n:   16.1671146953405NoOfUnitsPurchased\n:   14.6465053763441FrequencyOFPlay\n:   1578.41487455197NoOfGamesPlayed\n:   94.1111111111111NoOfGamesBought\n:   14.7083333333333\n\n",
            "text/latex": "\\begin{description*}\n\\item[NoOfChildren] 2.11021505376344\n\\item[MinAgeOfChild] 4.88485663082437\n\\item[MaxAgeOfChild] 7.33109318996416\n\\item[Tenure] 347.653225806452\n\\item[FrquncyOfPurchase] 16.1671146953405\n\\item[NoOfUnitsPurchased] 14.6465053763441\n\\item[FrequencyOFPlay] 1578.41487455197\n\\item[NoOfGamesPlayed] 94.1111111111111\n\\item[NoOfGamesBought] 14.7083333333333\n\\end{description*}\n",
            "text/plain": [
              "      NoOfChildren      MinAgeOfChild      MaxAgeOfChild             Tenure \n",
              "          2.110215           4.884857           7.331093         347.653226 \n",
              " FrquncyOfPurchase NoOfUnitsPurchased    FrequencyOFPlay    NoOfGamesPlayed \n",
              "         16.167115          14.646505        1578.414875          94.111111 \n",
              "   NoOfGamesBought \n",
              "         14.708333 "
            ]
          },
          "metadata": {}
        }
      ],
      "source": [
        "std_model$mean"
      ]
    },
    {
      "cell_type": "code",
      "execution_count": 70,
      "metadata": {
        "id": "LBhsTvZKht4S",
        "colab": {
          "base_uri": "https://localhost:8080/",
          "height": 52
        },
        "outputId": "43249c4e-ac8e-4338-dd19-67a35bc485e5"
      },
      "outputs": [
        {
          "output_type": "display_data",
          "data": {
            "text/html": [
              "<style>\n",
              ".dl-inline {width: auto; margin:0; padding: 0}\n",
              ".dl-inline>dt, .dl-inline>dd {float: none; width: auto; display: inline-block}\n",
              ".dl-inline>dt::after {content: \":\\0020\"; padding-right: .5ex}\n",
              ".dl-inline>dt:not(:first-of-type) {padding-left: .5ex}\n",
              "</style><dl class=dl-inline><dt>NoOfChildren</dt><dd>1.03000417696259</dd><dt>MinAgeOfChild</dt><dd>1.70471544636639</dd><dt>MaxAgeOfChild</dt><dd>2.84157535273317</dd><dt>Tenure</dt><dd>91.0043457441365</dd><dt>FrquncyOfPurchase</dt><dd>8.44250909133923</dd><dt>NoOfUnitsPurchased</dt><dd>7.2725049937952</dd><dt>FrequencyOFPlay</dt><dd>1827.58112100232</dd><dt>NoOfGamesPlayed</dt><dd>89.7809087960366</dd><dt>NoOfGamesBought</dt><dd>8.82188725589456</dd></dl>\n"
            ],
            "text/markdown": "NoOfChildren\n:   1.03000417696259MinAgeOfChild\n:   1.70471544636639MaxAgeOfChild\n:   2.84157535273317Tenure\n:   91.0043457441365FrquncyOfPurchase\n:   8.44250909133923NoOfUnitsPurchased\n:   7.2725049937952FrequencyOFPlay\n:   1827.58112100232NoOfGamesPlayed\n:   89.7809087960366NoOfGamesBought\n:   8.82188725589456\n\n",
            "text/latex": "\\begin{description*}\n\\item[NoOfChildren] 1.03000417696259\n\\item[MinAgeOfChild] 1.70471544636639\n\\item[MaxAgeOfChild] 2.84157535273317\n\\item[Tenure] 91.0043457441365\n\\item[FrquncyOfPurchase] 8.44250909133923\n\\item[NoOfUnitsPurchased] 7.2725049937952\n\\item[FrequencyOFPlay] 1827.58112100232\n\\item[NoOfGamesPlayed] 89.7809087960366\n\\item[NoOfGamesBought] 8.82188725589456\n\\end{description*}\n",
            "text/plain": [
              "      NoOfChildren      MinAgeOfChild      MaxAgeOfChild             Tenure \n",
              "          1.030004           1.704715           2.841575          91.004346 \n",
              " FrquncyOfPurchase NoOfUnitsPurchased    FrequencyOFPlay    NoOfGamesPlayed \n",
              "          8.442509           7.272505        1827.581121          89.780909 \n",
              "   NoOfGamesBought \n",
              "          8.821887 "
            ]
          },
          "metadata": {}
        }
      ],
      "source": [
        "std_model$std"
      ]
    },
    {
      "cell_type": "code",
      "execution_count": 71,
      "metadata": {
        "id": "8xJM1Fqrht4S",
        "colab": {
          "base_uri": "https://localhost:8080/",
          "height": 306
        },
        "outputId": "c2e8aca4-1ce1-4984-ba15-33de0d588fda"
      },
      "outputs": [
        {
          "output_type": "display_data",
          "data": {
            "text/html": [
              "<table class=\"dataframe\">\n",
              "<caption>A data.frame: 6 × 13</caption>\n",
              "<thead>\n",
              "\t<tr><th></th><th scope=col>City</th><th scope=col>NoOfChildren</th><th scope=col>MinAgeOfChild</th><th scope=col>MaxAgeOfChild</th><th scope=col>Tenure</th><th scope=col>FrquncyOfPurchase</th><th scope=col>NoOfUnitsPurchased</th><th scope=col>FrequencyOFPlay</th><th scope=col>NoOfGamesPlayed</th><th scope=col>NoOfGamesBought</th><th scope=col>FavoriteChannelOfTransaction</th><th scope=col>FavoriteGame</th><th scope=col>TotalRevenueGenerated</th></tr>\n",
              "\t<tr><th></th><th scope=col>&lt;fct&gt;</th><th scope=col>&lt;int&gt;</th><th scope=col>&lt;int&gt;</th><th scope=col>&lt;int&gt;</th><th scope=col>&lt;int&gt;</th><th scope=col>&lt;int&gt;</th><th scope=col>&lt;int&gt;</th><th scope=col>&lt;int&gt;</th><th scope=col>&lt;int&gt;</th><th scope=col>&lt;int&gt;</th><th scope=col>&lt;fct&gt;</th><th scope=col>&lt;fct&gt;</th><th scope=col>&lt;dbl&gt;</th></tr>\n",
              "</thead>\n",
              "<tbody>\n",
              "\t<tr><th scope=row>1023</th><td>1</td><td>1</td><td>5</td><td> 5</td><td>398</td><td>15</td><td>15</td><td> 241</td><td> 32</td><td>15</td><td>Favorite</td><td>Uniform</td><td>145.00</td></tr>\n",
              "\t<tr><th scope=row>682</th><td>1</td><td>2</td><td>4</td><td> 9</td><td>406</td><td> 8</td><td> 8</td><td> 396</td><td> 45</td><td> 8</td><td>Favorite</td><td>Uniform</td><td>100.00</td></tr>\n",
              "\t<tr><th scope=row>2192</th><td>1</td><td>2</td><td>4</td><td> 6</td><td>313</td><td>10</td><td> 8</td><td> 370</td><td> 10</td><td> 6</td><td>Uniform </td><td>Uniform</td><td>126.99</td></tr>\n",
              "\t<tr><th scope=row>936</th><td>1</td><td>2</td><td>5</td><td> 7</td><td>367</td><td>27</td><td>15</td><td>2161</td><td>108</td><td>27</td><td>Favorite</td><td>Uniform</td><td>240.00</td></tr>\n",
              "\t<tr><th scope=row>1542</th><td>1</td><td>3</td><td>5</td><td>10</td><td>432</td><td>24</td><td>20</td><td>1413</td><td>127</td><td>24</td><td>Favorite</td><td>Uniform</td><td>187.52</td></tr>\n",
              "\t<tr><th scope=row>471</th><td>1</td><td>5</td><td>1</td><td> 5</td><td>464</td><td>22</td><td>19</td><td> 348</td><td> 87</td><td>21</td><td>Uniform </td><td>Uniform</td><td>142.50</td></tr>\n",
              "</tbody>\n",
              "</table>\n"
            ],
            "text/markdown": "\nA data.frame: 6 × 13\n\n| <!--/--> | City &lt;fct&gt; | NoOfChildren &lt;int&gt; | MinAgeOfChild &lt;int&gt; | MaxAgeOfChild &lt;int&gt; | Tenure &lt;int&gt; | FrquncyOfPurchase &lt;int&gt; | NoOfUnitsPurchased &lt;int&gt; | FrequencyOFPlay &lt;int&gt; | NoOfGamesPlayed &lt;int&gt; | NoOfGamesBought &lt;int&gt; | FavoriteChannelOfTransaction &lt;fct&gt; | FavoriteGame &lt;fct&gt; | TotalRevenueGenerated &lt;dbl&gt; |\n|---|---|---|---|---|---|---|---|---|---|---|---|---|---|\n| 1023 | 1 | 1 | 5 |  5 | 398 | 15 | 15 |  241 |  32 | 15 | Favorite | Uniform | 145.00 |\n| 682 | 1 | 2 | 4 |  9 | 406 |  8 |  8 |  396 |  45 |  8 | Favorite | Uniform | 100.00 |\n| 2192 | 1 | 2 | 4 |  6 | 313 | 10 |  8 |  370 |  10 |  6 | Uniform  | Uniform | 126.99 |\n| 936 | 1 | 2 | 5 |  7 | 367 | 27 | 15 | 2161 | 108 | 27 | Favorite | Uniform | 240.00 |\n| 1542 | 1 | 3 | 5 | 10 | 432 | 24 | 20 | 1413 | 127 | 24 | Favorite | Uniform | 187.52 |\n| 471 | 1 | 5 | 1 |  5 | 464 | 22 | 19 |  348 |  87 | 21 | Uniform  | Uniform | 142.50 |\n\n",
            "text/latex": "A data.frame: 6 × 13\n\\begin{tabular}{r|lllllllllllll}\n  & City & NoOfChildren & MinAgeOfChild & MaxAgeOfChild & Tenure & FrquncyOfPurchase & NoOfUnitsPurchased & FrequencyOFPlay & NoOfGamesPlayed & NoOfGamesBought & FavoriteChannelOfTransaction & FavoriteGame & TotalRevenueGenerated\\\\\n  & <fct> & <int> & <int> & <int> & <int> & <int> & <int> & <int> & <int> & <int> & <fct> & <fct> & <dbl>\\\\\n\\hline\n\t1023 & 1 & 1 & 5 &  5 & 398 & 15 & 15 &  241 &  32 & 15 & Favorite & Uniform & 145.00\\\\\n\t682 & 1 & 2 & 4 &  9 & 406 &  8 &  8 &  396 &  45 &  8 & Favorite & Uniform & 100.00\\\\\n\t2192 & 1 & 2 & 4 &  6 & 313 & 10 &  8 &  370 &  10 &  6 & Uniform  & Uniform & 126.99\\\\\n\t936 & 1 & 2 & 5 &  7 & 367 & 27 & 15 & 2161 & 108 & 27 & Favorite & Uniform & 240.00\\\\\n\t1542 & 1 & 3 & 5 & 10 & 432 & 24 & 20 & 1413 & 127 & 24 & Favorite & Uniform & 187.52\\\\\n\t471 & 1 & 5 & 1 &  5 & 464 & 22 & 19 &  348 &  87 & 21 & Uniform  & Uniform & 142.50\\\\\n\\end{tabular}\n",
            "text/plain": [
              "     City NoOfChildren MinAgeOfChild MaxAgeOfChild Tenure FrquncyOfPurchase\n",
              "1023 1    1            5              5            398    15               \n",
              "682  1    2            4              9            406     8               \n",
              "2192 1    2            4              6            313    10               \n",
              "936  1    2            5              7            367    27               \n",
              "1542 1    3            5             10            432    24               \n",
              "471  1    5            1              5            464    22               \n",
              "     NoOfUnitsPurchased FrequencyOFPlay NoOfGamesPlayed NoOfGamesBought\n",
              "1023 15                  241             32             15             \n",
              "682   8                  396             45              8             \n",
              "2192  8                  370             10              6             \n",
              "936  15                 2161            108             27             \n",
              "1542 20                 1413            127             24             \n",
              "471  19                  348             87             21             \n",
              "     FavoriteChannelOfTransaction FavoriteGame TotalRevenueGenerated\n",
              "1023 Favorite                     Uniform      145.00               \n",
              "682  Favorite                     Uniform      100.00               \n",
              "2192 Uniform                      Uniform      126.99               \n",
              "936  Favorite                     Uniform      240.00               \n",
              "1542 Favorite                     Uniform      187.52               \n",
              "471  Uniform                      Uniform      142.50               "
            ]
          },
          "metadata": {}
        }
      ],
      "source": [
        "head(train_data)"
      ]
    },
    {
      "cell_type": "code",
      "execution_count": 38,
      "metadata": {
        "id": "HUEY5cYVht4S",
        "colab": {
          "base_uri": "https://localhost:8080/",
          "height": 34
        },
        "outputId": "e8865a4d-d212-4ab3-ed6b-d1ef532a776a"
      },
      "outputs": [
        {
          "output_type": "display_data",
          "data": {
            "text/html": [
              "-1.07787432186672"
            ],
            "text/markdown": "-1.07787432186672",
            "text/latex": "-1.07787432186672",
            "text/plain": [
              "[1] -1.077874"
            ]
          },
          "metadata": {}
        }
      ],
      "source": [
        "(1-2.11021505376344)/1.03000417696259"
      ]
    },
    {
      "cell_type": "code",
      "execution_count": 39,
      "metadata": {
        "id": "4ZyH_FCSht4S",
        "colab": {
          "base_uri": "https://localhost:8080/",
          "height": 306
        },
        "outputId": "843cb1c1-2379-41c1-d1b8-4e122c13c715"
      },
      "outputs": [
        {
          "output_type": "display_data",
          "data": {
            "text/html": [
              "<table class=\"dataframe\">\n",
              "<caption>A data.frame: 6 × 13</caption>\n",
              "<thead>\n",
              "\t<tr><th></th><th scope=col>City</th><th scope=col>NoOfChildren</th><th scope=col>MinAgeOfChild</th><th scope=col>MaxAgeOfChild</th><th scope=col>Tenure</th><th scope=col>FrquncyOfPurchase</th><th scope=col>NoOfUnitsPurchased</th><th scope=col>FrequencyOFPlay</th><th scope=col>NoOfGamesPlayed</th><th scope=col>NoOfGamesBought</th><th scope=col>FavoriteChannelOfTransaction</th><th scope=col>FavoriteGame</th><th scope=col>TotalRevenueGenerated</th></tr>\n",
              "\t<tr><th></th><th scope=col>&lt;fct&gt;</th><th scope=col>&lt;dbl&gt;</th><th scope=col>&lt;dbl&gt;</th><th scope=col>&lt;dbl&gt;</th><th scope=col>&lt;dbl&gt;</th><th scope=col>&lt;dbl&gt;</th><th scope=col>&lt;dbl&gt;</th><th scope=col>&lt;dbl&gt;</th><th scope=col>&lt;dbl&gt;</th><th scope=col>&lt;dbl&gt;</th><th scope=col>&lt;fct&gt;</th><th scope=col>&lt;fct&gt;</th><th scope=col>&lt;dbl&gt;</th></tr>\n",
              "</thead>\n",
              "<tbody>\n",
              "\t<tr><th scope=row>1023</th><td>1</td><td>-1.0778743</td><td> 0.06754404</td><td>-0.8203524</td><td> 0.5532348</td><td>-0.1382426</td><td> 0.0486070</td><td>-0.73179508</td><td>-0.69180756</td><td> 0.03306171</td><td>Favorite</td><td>Uniform</td><td>145.00</td></tr>\n",
              "\t<tr><th scope=row>682</th><td>1</td><td>-0.1070045</td><td>-0.51906412</td><td> 0.5873175</td><td> 0.6411427</td><td>-0.9673800</td><td>-0.9139224</td><td>-0.64698352</td><td>-0.54701063</td><td>-0.76041930</td><td>Favorite</td><td>Uniform</td><td>100.00</td></tr>\n",
              "\t<tr><th scope=row>2192</th><td>1</td><td>-0.1070045</td><td>-0.51906412</td><td>-0.4684349</td><td>-0.3807865</td><td>-0.7304836</td><td>-0.9139224</td><td>-0.66120998</td><td>-0.93684852</td><td>-0.98712816</td><td>Uniform </td><td>Uniform</td><td>126.99</td></tr>\n",
              "\t<tr><th scope=row>936</th><td>1</td><td>-0.1070045</td><td> 0.06754404</td><td>-0.1165175</td><td> 0.2125918</td><td> 1.2831358</td><td> 0.0486070</td><td> 0.31877388</td><td> 0.15469758</td><td> 1.39331487</td><td>Favorite</td><td>Uniform</td><td>240.00</td></tr>\n",
              "\t<tr><th scope=row>1542</th><td>1</td><td> 0.8638654</td><td> 0.06754404</td><td> 0.9392349</td><td> 0.9268434</td><td> 0.9277912</td><td> 0.7361280</td><td>-0.09051028</td><td> 0.36632386</td><td> 1.05325158</td><td>Favorite</td><td>Uniform</td><td>187.52</td></tr>\n",
              "\t<tr><th scope=row>471</th><td>1</td><td> 2.8056051</td><td>-2.27888862</td><td>-0.8203524</td><td> 1.2784749</td><td> 0.6908948</td><td> 0.5986238</td><td>-0.67324775</td><td>-0.07920516</td><td> 0.71318829</td><td>Uniform </td><td>Uniform</td><td>142.50</td></tr>\n",
              "</tbody>\n",
              "</table>\n"
            ],
            "text/markdown": "\nA data.frame: 6 × 13\n\n| <!--/--> | City &lt;fct&gt; | NoOfChildren &lt;dbl&gt; | MinAgeOfChild &lt;dbl&gt; | MaxAgeOfChild &lt;dbl&gt; | Tenure &lt;dbl&gt; | FrquncyOfPurchase &lt;dbl&gt; | NoOfUnitsPurchased &lt;dbl&gt; | FrequencyOFPlay &lt;dbl&gt; | NoOfGamesPlayed &lt;dbl&gt; | NoOfGamesBought &lt;dbl&gt; | FavoriteChannelOfTransaction &lt;fct&gt; | FavoriteGame &lt;fct&gt; | TotalRevenueGenerated &lt;dbl&gt; |\n|---|---|---|---|---|---|---|---|---|---|---|---|---|---|\n| 1023 | 1 | -1.0778743 |  0.06754404 | -0.8203524 |  0.5532348 | -0.1382426 |  0.0486070 | -0.73179508 | -0.69180756 |  0.03306171 | Favorite | Uniform | 145.00 |\n| 682 | 1 | -0.1070045 | -0.51906412 |  0.5873175 |  0.6411427 | -0.9673800 | -0.9139224 | -0.64698352 | -0.54701063 | -0.76041930 | Favorite | Uniform | 100.00 |\n| 2192 | 1 | -0.1070045 | -0.51906412 | -0.4684349 | -0.3807865 | -0.7304836 | -0.9139224 | -0.66120998 | -0.93684852 | -0.98712816 | Uniform  | Uniform | 126.99 |\n| 936 | 1 | -0.1070045 |  0.06754404 | -0.1165175 |  0.2125918 |  1.2831358 |  0.0486070 |  0.31877388 |  0.15469758 |  1.39331487 | Favorite | Uniform | 240.00 |\n| 1542 | 1 |  0.8638654 |  0.06754404 |  0.9392349 |  0.9268434 |  0.9277912 |  0.7361280 | -0.09051028 |  0.36632386 |  1.05325158 | Favorite | Uniform | 187.52 |\n| 471 | 1 |  2.8056051 | -2.27888862 | -0.8203524 |  1.2784749 |  0.6908948 |  0.5986238 | -0.67324775 | -0.07920516 |  0.71318829 | Uniform  | Uniform | 142.50 |\n\n",
            "text/latex": "A data.frame: 6 × 13\n\\begin{tabular}{r|lllllllllllll}\n  & City & NoOfChildren & MinAgeOfChild & MaxAgeOfChild & Tenure & FrquncyOfPurchase & NoOfUnitsPurchased & FrequencyOFPlay & NoOfGamesPlayed & NoOfGamesBought & FavoriteChannelOfTransaction & FavoriteGame & TotalRevenueGenerated\\\\\n  & <fct> & <dbl> & <dbl> & <dbl> & <dbl> & <dbl> & <dbl> & <dbl> & <dbl> & <dbl> & <fct> & <fct> & <dbl>\\\\\n\\hline\n\t1023 & 1 & -1.0778743 &  0.06754404 & -0.8203524 &  0.5532348 & -0.1382426 &  0.0486070 & -0.73179508 & -0.69180756 &  0.03306171 & Favorite & Uniform & 145.00\\\\\n\t682 & 1 & -0.1070045 & -0.51906412 &  0.5873175 &  0.6411427 & -0.9673800 & -0.9139224 & -0.64698352 & -0.54701063 & -0.76041930 & Favorite & Uniform & 100.00\\\\\n\t2192 & 1 & -0.1070045 & -0.51906412 & -0.4684349 & -0.3807865 & -0.7304836 & -0.9139224 & -0.66120998 & -0.93684852 & -0.98712816 & Uniform  & Uniform & 126.99\\\\\n\t936 & 1 & -0.1070045 &  0.06754404 & -0.1165175 &  0.2125918 &  1.2831358 &  0.0486070 &  0.31877388 &  0.15469758 &  1.39331487 & Favorite & Uniform & 240.00\\\\\n\t1542 & 1 &  0.8638654 &  0.06754404 &  0.9392349 &  0.9268434 &  0.9277912 &  0.7361280 & -0.09051028 &  0.36632386 &  1.05325158 & Favorite & Uniform & 187.52\\\\\n\t471 & 1 &  2.8056051 & -2.27888862 & -0.8203524 &  1.2784749 &  0.6908948 &  0.5986238 & -0.67324775 & -0.07920516 &  0.71318829 & Uniform  & Uniform & 142.50\\\\\n\\end{tabular}\n",
            "text/plain": [
              "     City NoOfChildren MinAgeOfChild MaxAgeOfChild Tenure     FrquncyOfPurchase\n",
              "1023 1    -1.0778743    0.06754404   -0.8203524     0.5532348 -0.1382426       \n",
              "682  1    -0.1070045   -0.51906412    0.5873175     0.6411427 -0.9673800       \n",
              "2192 1    -0.1070045   -0.51906412   -0.4684349    -0.3807865 -0.7304836       \n",
              "936  1    -0.1070045    0.06754404   -0.1165175     0.2125918  1.2831358       \n",
              "1542 1     0.8638654    0.06754404    0.9392349     0.9268434  0.9277912       \n",
              "471  1     2.8056051   -2.27888862   -0.8203524     1.2784749  0.6908948       \n",
              "     NoOfUnitsPurchased FrequencyOFPlay NoOfGamesPlayed NoOfGamesBought\n",
              "1023  0.0486070         -0.73179508     -0.69180756      0.03306171    \n",
              "682  -0.9139224         -0.64698352     -0.54701063     -0.76041930    \n",
              "2192 -0.9139224         -0.66120998     -0.93684852     -0.98712816    \n",
              "936   0.0486070          0.31877388      0.15469758      1.39331487    \n",
              "1542  0.7361280         -0.09051028      0.36632386      1.05325158    \n",
              "471   0.5986238         -0.67324775     -0.07920516      0.71318829    \n",
              "     FavoriteChannelOfTransaction FavoriteGame TotalRevenueGenerated\n",
              "1023 Favorite                     Uniform      145.00               \n",
              "682  Favorite                     Uniform      100.00               \n",
              "2192 Uniform                      Uniform      126.99               \n",
              "936  Favorite                     Uniform      240.00               \n",
              "1542 Favorite                     Uniform      187.52               \n",
              "471  Uniform                      Uniform      142.50               "
            ]
          },
          "metadata": {}
        }
      ],
      "source": [
        "# The predict() function is used to standardize any data\n",
        "\n",
        "train_data[, independent_num_cols] <- predict(object = std_model, newdata = train_data[, independent_num_cols])\n",
        "head(train_data)\n"
      ]
    },
    {
      "cell_type": "code",
      "execution_count": 40,
      "metadata": {
        "id": "5iQTt62Kht4S",
        "colab": {
          "base_uri": "https://localhost:8080/",
          "height": 306
        },
        "outputId": "a9c8af84-3e3a-4664-9e52-beec6c929310"
      },
      "outputs": [
        {
          "output_type": "display_data",
          "data": {
            "text/html": [
              "<table class=\"dataframe\">\n",
              "<caption>A data.frame: 6 × 13</caption>\n",
              "<thead>\n",
              "\t<tr><th></th><th scope=col>City</th><th scope=col>NoOfChildren</th><th scope=col>MinAgeOfChild</th><th scope=col>MaxAgeOfChild</th><th scope=col>Tenure</th><th scope=col>FrquncyOfPurchase</th><th scope=col>NoOfUnitsPurchased</th><th scope=col>FrequencyOFPlay</th><th scope=col>NoOfGamesPlayed</th><th scope=col>NoOfGamesBought</th><th scope=col>FavoriteChannelOfTransaction</th><th scope=col>FavoriteGame</th><th scope=col>TotalRevenueGenerated</th></tr>\n",
              "\t<tr><th></th><th scope=col>&lt;fct&gt;</th><th scope=col>&lt;dbl&gt;</th><th scope=col>&lt;dbl&gt;</th><th scope=col>&lt;dbl&gt;</th><th scope=col>&lt;dbl&gt;</th><th scope=col>&lt;dbl&gt;</th><th scope=col>&lt;dbl&gt;</th><th scope=col>&lt;dbl&gt;</th><th scope=col>&lt;dbl&gt;</th><th scope=col>&lt;dbl&gt;</th><th scope=col>&lt;fct&gt;</th><th scope=col>&lt;fct&gt;</th><th scope=col>&lt;dbl&gt;</th></tr>\n",
              "</thead>\n",
              "<tbody>\n",
              "\t<tr><th scope=row>1</th><td>1</td><td>-0.1070045</td><td>-1.1056723</td><td> 0.2354000</td><td>-1.51260058</td><td>-0.61203543</td><td>-0.5014098</td><td> 0.4189062</td><td> 0.1546976</td><td>-0.53371044</td><td>Uniform </td><td>Uniform </td><td>107.51</td></tr>\n",
              "\t<tr><th scope=row>2</th><td>1</td><td>-0.1070045</td><td>-1.1056723</td><td>-0.4684349</td><td> 1.03672823</td><td> 0.45399836</td><td> 0.7361280</td><td>-0.7296064</td><td>-0.8031898</td><td>-0.87377373</td><td>Favorite</td><td>Uniform </td><td>382.40</td></tr>\n",
              "\t<tr><th scope=row>6</th><td>1</td><td>-0.1070045</td><td>-1.1056723</td><td>-1.1722699</td><td> 0.33346511</td><td>-0.01979443</td><td> 0.1861112</td><td>-0.7389083</td><td>-0.9145721</td><td> 0.14641614</td><td>Favorite</td><td>Favorite</td><td>150.00</td></tr>\n",
              "\t<tr><th scope=row>18</th><td>1</td><td>-1.0778743</td><td> 1.2407604</td><td>-0.1165175</td><td>-0.01816645</td><td> 0.21710196</td><td> 0.1861112</td><td>-0.3006241</td><td> 0.1324211</td><td>-0.08029272</td><td>Uniform </td><td>Uniform </td><td>181.71</td></tr>\n",
              "\t<tr><th scope=row>20</th><td>1</td><td>-0.1070045</td><td>-0.5190641</td><td>-0.1165175</td><td>-0.76538351</td><td>-0.49358723</td><td>-0.3639056</td><td>-0.2727183</td><td>-0.5024577</td><td>-0.76041930</td><td>Uniform </td><td>Uniform </td><td>182.36</td></tr>\n",
              "\t<tr><th scope=row>21</th><td>1</td><td> 0.8638654</td><td>-0.5190641</td><td> 0.9392349</td><td> 1.10265915</td><td>-1.20427643</td><td>-1.1889308</td><td>-0.3077373</td><td>-0.4244901</td><td>-0.98712816</td><td>Favorite</td><td>Uniform </td><td>100.00</td></tr>\n",
              "</tbody>\n",
              "</table>\n"
            ],
            "text/markdown": "\nA data.frame: 6 × 13\n\n| <!--/--> | City &lt;fct&gt; | NoOfChildren &lt;dbl&gt; | MinAgeOfChild &lt;dbl&gt; | MaxAgeOfChild &lt;dbl&gt; | Tenure &lt;dbl&gt; | FrquncyOfPurchase &lt;dbl&gt; | NoOfUnitsPurchased &lt;dbl&gt; | FrequencyOFPlay &lt;dbl&gt; | NoOfGamesPlayed &lt;dbl&gt; | NoOfGamesBought &lt;dbl&gt; | FavoriteChannelOfTransaction &lt;fct&gt; | FavoriteGame &lt;fct&gt; | TotalRevenueGenerated &lt;dbl&gt; |\n|---|---|---|---|---|---|---|---|---|---|---|---|---|---|\n| 1 | 1 | -0.1070045 | -1.1056723 |  0.2354000 | -1.51260058 | -0.61203543 | -0.5014098 |  0.4189062 |  0.1546976 | -0.53371044 | Uniform  | Uniform  | 107.51 |\n| 2 | 1 | -0.1070045 | -1.1056723 | -0.4684349 |  1.03672823 |  0.45399836 |  0.7361280 | -0.7296064 | -0.8031898 | -0.87377373 | Favorite | Uniform  | 382.40 |\n| 6 | 1 | -0.1070045 | -1.1056723 | -1.1722699 |  0.33346511 | -0.01979443 |  0.1861112 | -0.7389083 | -0.9145721 |  0.14641614 | Favorite | Favorite | 150.00 |\n| 18 | 1 | -1.0778743 |  1.2407604 | -0.1165175 | -0.01816645 |  0.21710196 |  0.1861112 | -0.3006241 |  0.1324211 | -0.08029272 | Uniform  | Uniform  | 181.71 |\n| 20 | 1 | -0.1070045 | -0.5190641 | -0.1165175 | -0.76538351 | -0.49358723 | -0.3639056 | -0.2727183 | -0.5024577 | -0.76041930 | Uniform  | Uniform  | 182.36 |\n| 21 | 1 |  0.8638654 | -0.5190641 |  0.9392349 |  1.10265915 | -1.20427643 | -1.1889308 | -0.3077373 | -0.4244901 | -0.98712816 | Favorite | Uniform  | 100.00 |\n\n",
            "text/latex": "A data.frame: 6 × 13\n\\begin{tabular}{r|lllllllllllll}\n  & City & NoOfChildren & MinAgeOfChild & MaxAgeOfChild & Tenure & FrquncyOfPurchase & NoOfUnitsPurchased & FrequencyOFPlay & NoOfGamesPlayed & NoOfGamesBought & FavoriteChannelOfTransaction & FavoriteGame & TotalRevenueGenerated\\\\\n  & <fct> & <dbl> & <dbl> & <dbl> & <dbl> & <dbl> & <dbl> & <dbl> & <dbl> & <dbl> & <fct> & <fct> & <dbl>\\\\\n\\hline\n\t1 & 1 & -0.1070045 & -1.1056723 &  0.2354000 & -1.51260058 & -0.61203543 & -0.5014098 &  0.4189062 &  0.1546976 & -0.53371044 & Uniform  & Uniform  & 107.51\\\\\n\t2 & 1 & -0.1070045 & -1.1056723 & -0.4684349 &  1.03672823 &  0.45399836 &  0.7361280 & -0.7296064 & -0.8031898 & -0.87377373 & Favorite & Uniform  & 382.40\\\\\n\t6 & 1 & -0.1070045 & -1.1056723 & -1.1722699 &  0.33346511 & -0.01979443 &  0.1861112 & -0.7389083 & -0.9145721 &  0.14641614 & Favorite & Favorite & 150.00\\\\\n\t18 & 1 & -1.0778743 &  1.2407604 & -0.1165175 & -0.01816645 &  0.21710196 &  0.1861112 & -0.3006241 &  0.1324211 & -0.08029272 & Uniform  & Uniform  & 181.71\\\\\n\t20 & 1 & -0.1070045 & -0.5190641 & -0.1165175 & -0.76538351 & -0.49358723 & -0.3639056 & -0.2727183 & -0.5024577 & -0.76041930 & Uniform  & Uniform  & 182.36\\\\\n\t21 & 1 &  0.8638654 & -0.5190641 &  0.9392349 &  1.10265915 & -1.20427643 & -1.1889308 & -0.3077373 & -0.4244901 & -0.98712816 & Favorite & Uniform  & 100.00\\\\\n\\end{tabular}\n",
            "text/plain": [
              "   City NoOfChildren MinAgeOfChild MaxAgeOfChild Tenure      FrquncyOfPurchase\n",
              "1  1    -0.1070045   -1.1056723     0.2354000    -1.51260058 -0.61203543      \n",
              "2  1    -0.1070045   -1.1056723    -0.4684349     1.03672823  0.45399836      \n",
              "6  1    -0.1070045   -1.1056723    -1.1722699     0.33346511 -0.01979443      \n",
              "18 1    -1.0778743    1.2407604    -0.1165175    -0.01816645  0.21710196      \n",
              "20 1    -0.1070045   -0.5190641    -0.1165175    -0.76538351 -0.49358723      \n",
              "21 1     0.8638654   -0.5190641     0.9392349     1.10265915 -1.20427643      \n",
              "   NoOfUnitsPurchased FrequencyOFPlay NoOfGamesPlayed NoOfGamesBought\n",
              "1  -0.5014098          0.4189062       0.1546976      -0.53371044    \n",
              "2   0.7361280         -0.7296064      -0.8031898      -0.87377373    \n",
              "6   0.1861112         -0.7389083      -0.9145721       0.14641614    \n",
              "18  0.1861112         -0.3006241       0.1324211      -0.08029272    \n",
              "20 -0.3639056         -0.2727183      -0.5024577      -0.76041930    \n",
              "21 -1.1889308         -0.3077373      -0.4244901      -0.98712816    \n",
              "   FavoriteChannelOfTransaction FavoriteGame TotalRevenueGenerated\n",
              "1  Uniform                      Uniform      107.51               \n",
              "2  Favorite                     Uniform      382.40               \n",
              "6  Favorite                     Favorite     150.00               \n",
              "18 Uniform                      Uniform      181.71               \n",
              "20 Uniform                      Uniform      182.36               \n",
              "21 Favorite                     Uniform      100.00               "
            ]
          },
          "metadata": {}
        }
      ],
      "source": [
        "## standardize validation data\n",
        "\n",
        "validation_data[, independent_num_cols] <- predict(object = std_model, newdata = validation_data[, independent_num_cols])\n",
        "head(validation_data)"
      ]
    },
    {
      "cell_type": "code",
      "execution_count": 41,
      "metadata": {
        "id": "hTHfBPzUht4S",
        "colab": {
          "base_uri": "https://localhost:8080/",
          "height": 535
        },
        "outputId": "9a8369f9-40a8-4246-c423-f5223e0c9cbc"
      },
      "outputs": [
        {
          "output_type": "display_data",
          "data": {
            "text/plain": [
              "\n",
              "Call:\n",
              "lm(formula = TotalRevenueGenerated ~ ., data = train_data)\n",
              "\n",
              "Residuals:\n",
              "    Min      1Q  Median      3Q     Max \n",
              "-159.47  -26.99   -4.75   21.06  341.93 \n",
              "\n",
              "Coefficients:\n",
              "                                    Estimate Std. Error t value Pr(>|t|)    \n",
              "(Intercept)                         179.7366     4.7142  38.127  < 2e-16 ***\n",
              "City2                                11.2721     2.9465   3.826 0.000134 ***\n",
              "NoOfChildren                          5.2653     1.2775   4.122 3.90e-05 ***\n",
              "MinAgeOfChild                         7.0696     1.1636   6.076 1.45e-09 ***\n",
              "MaxAgeOfChild                        -4.3584     1.2233  -3.563 0.000375 ***\n",
              "Tenure                               -1.0285     0.9754  -1.054 0.291799    \n",
              "FrquncyOfPurchase                    82.3554     4.3272  19.032  < 2e-16 ***\n",
              "NoOfUnitsPurchased                   67.3362     2.7470  24.513  < 2e-16 ***\n",
              "FrequencyOFPlay                       5.5475     1.3440   4.128 3.80e-05 ***\n",
              "NoOfGamesPlayed                      -3.2137     1.4362  -2.238 0.025346 *  \n",
              "NoOfGamesBought                     -94.7591     3.1127 -30.443  < 2e-16 ***\n",
              "FavoriteChannelOfTransactionUniform -13.0944     2.5256  -5.185 2.36e-07 ***\n",
              "FavoriteGameUniform                 -11.6126     4.7832  -2.428 0.015270 *  \n",
              "---\n",
              "Signif. codes:  0 ‘***’ 0.001 ‘**’ 0.01 ‘*’ 0.05 ‘.’ 0.1 ‘ ’ 1\n",
              "\n",
              "Residual standard error: 43.77 on 2219 degrees of freedom\n",
              "Multiple R-squared:  0.7117,\tAdjusted R-squared:  0.7102 \n",
              "F-statistic: 456.5 on 12 and 2219 DF,  p-value: < 2.2e-16\n"
            ]
          },
          "metadata": {}
        }
      ],
      "source": [
        "# Build linear regression with all standardized attributes \n",
        "LinReg_std <- lm(TotalRevenueGenerated~., data=train_data)\n",
        "\n",
        "summary(LinReg_std)"
      ]
    },
    {
      "cell_type": "code",
      "execution_count": 74,
      "metadata": {
        "id": "g_efCUBrht4T",
        "colab": {
          "base_uri": "https://localhost:8080/",
          "height": 624
        },
        "outputId": "f19c32a5-3b66-4525-b649-a9a257675e81"
      },
      "outputs": [
        {
          "output_type": "stream",
          "name": "stderr",
          "text": [
            "Loading required package: usethis\n",
            "\n",
            "Downloading GitHub repo cran/DMwR@HEAD\n",
            "\n"
          ]
        },
        {
          "output_type": "stream",
          "name": "stdout",
          "text": [
            "caTools  (NA -> 1.18.2) [CRAN]\n",
            "gtools   (NA -> 3.9.4 ) [CRAN]\n",
            "zoo      (NA -> 1.8-11) [CRAN]\n",
            "xts      (NA -> 0.12.2) [CRAN]\n",
            "gplots   (NA -> 3.1.3 ) [CRAN]\n",
            "TTR      (NA -> 0.24.3) [CRAN]\n",
            "ROCR     (NA -> 1.0-11) [CRAN]\n",
            "quantmod (NA -> 0.4.20) [CRAN]\n"
          ]
        },
        {
          "output_type": "stream",
          "name": "stderr",
          "text": [
            "Installing 8 packages: caTools, gtools, zoo, xts, gplots, TTR, ROCR, quantmod\n",
            "\n",
            "Installing packages into ‘/usr/local/lib/R/site-library’\n",
            "(as ‘lib’ is unspecified)\n",
            "\n"
          ]
        },
        {
          "output_type": "stream",
          "name": "stdout",
          "text": [
            "* checking for file ‘/tmp/Rtmpe7Ex8n/remotes492f03721c/cran-DMwR-6fd4f0c/DESCRIPTION’ ... OK\n",
            "* preparing ‘DMwR’:\n",
            "* checking DESCRIPTION meta-information ... OK\n",
            "* checking for LF line-endings in source and make files and shell scripts\n",
            "* checking for empty or unneeded directories\n",
            "* building ‘DMwR_0.4.1.tar.gz’\n",
            "\n"
          ]
        },
        {
          "output_type": "stream",
          "name": "stderr",
          "text": [
            "Installing package into ‘/usr/local/lib/R/site-library’\n",
            "(as ‘lib’ is unspecified)\n",
            "\n",
            "Loading required package: grid\n",
            "\n",
            "Registered S3 method overwritten by 'quantmod':\n",
            "  method            from\n",
            "  as.zoo.data.frame zoo \n",
            "\n"
          ]
        },
        {
          "output_type": "display_data",
          "data": {
            "text/html": [
              "<style>\n",
              ".dl-inline {width: auto; margin:0; padding: 0}\n",
              ".dl-inline>dt, .dl-inline>dd {float: none; width: auto; display: inline-block}\n",
              ".dl-inline>dt::after {content: \":\\0020\"; padding-right: .5ex}\n",
              ".dl-inline>dt:not(:first-of-type) {padding-left: .5ex}\n",
              "</style><dl class=dl-inline><dt>mae</dt><dd>31.6678661600125</dd><dt>mse</dt><dd>1904.64505535762</dd><dt>rmse</dt><dd>43.6422393485671</dd><dt>mape</dt><dd>0.191840483011063</dd></dl>\n"
            ],
            "text/markdown": "mae\n:   31.6678661600125mse\n:   1904.64505535762rmse\n:   43.6422393485671mape\n:   0.191840483011063\n\n",
            "text/latex": "\\begin{description*}\n\\item[mae] 31.6678661600125\n\\item[mse] 1904.64505535762\n\\item[rmse] 43.6422393485671\n\\item[mape] 0.191840483011063\n\\end{description*}\n",
            "text/plain": [
              "         mae          mse         rmse         mape \n",
              "  31.6678662 1904.6450554   43.6422393    0.1918405 "
            ]
          },
          "metadata": {}
        }
      ],
      "source": [
        "library(devtools)\n",
        "install_github(\"cran/DMwR\")\n",
        "\n",
        "library(DMwR)\n",
        "## Predict Train\n",
        "train_data_preds_std = LinReg_std$fitted.values\n",
        "\n",
        "## Eval metrics\n",
        "regr.eval(train_data$TotalRevenueGenerated,train_data_preds_std)"
      ]
    },
    {
      "cell_type": "code",
      "execution_count": 75,
      "metadata": {
        "id": "A9n1dowxht4T",
        "colab": {
          "base_uri": "https://localhost:8080/",
          "height": 34
        },
        "outputId": "0e94f341-b25c-4124-d210-3ef1c8af9a75"
      },
      "outputs": [
        {
          "output_type": "display_data",
          "data": {
            "text/html": [
              "167.665452508961"
            ],
            "text/markdown": "167.665452508961",
            "text/latex": "167.665452508961",
            "text/plain": [
              "[1] 167.6655"
            ]
          },
          "metadata": {}
        }
      ],
      "source": [
        "mean(train_data$TotalRevenueGenerated)"
      ]
    },
    {
      "cell_type": "code",
      "execution_count": 76,
      "metadata": {
        "id": "S90HoXklht4T",
        "colab": {
          "base_uri": "https://localhost:8080/",
          "height": 34
        },
        "outputId": "637e97e5-968d-4e01-8ec6-0491015aebf3"
      },
      "outputs": [
        {
          "output_type": "display_data",
          "data": {
            "text/html": [
              "81.3014083963848"
            ],
            "text/markdown": "81.3014083963848",
            "text/latex": "81.3014083963848",
            "text/plain": [
              "[1] 81.30141"
            ]
          },
          "metadata": {}
        }
      ],
      "source": [
        "sd(train_data$TotalRevenueGenerated)"
      ]
    },
    {
      "cell_type": "code",
      "execution_count": 77,
      "metadata": {
        "id": "WQaMVHfsht4T",
        "colab": {
          "base_uri": "https://localhost:8080/",
          "height": 34
        },
        "outputId": "7efc2fdd-c143-4d8d-86dc-b978d1e2a8f5"
      },
      "outputs": [
        {
          "output_type": "display_data",
          "data": {
            "text/html": [
              "<style>\n",
              ".dl-inline {width: auto; margin:0; padding: 0}\n",
              ".dl-inline>dt, .dl-inline>dd {float: none; width: auto; display: inline-block}\n",
              ".dl-inline>dt::after {content: \":\\0020\"; padding-right: .5ex}\n",
              ".dl-inline>dt:not(:first-of-type) {padding-left: .5ex}\n",
              "</style><dl class=dl-inline><dt>mae</dt><dd>8832.34787354039</dd><dt>mse</dt><dd>170292021.376712</dd><dt>rmse</dt><dd>13049.5985140046</dd><dt>mape</dt><dd>55.2110105298981</dd></dl>\n"
            ],
            "text/markdown": "mae\n:   8832.34787354039mse\n:   170292021.376712rmse\n:   13049.5985140046mape\n:   55.2110105298981\n\n",
            "text/latex": "\\begin{description*}\n\\item[mae] 8832.34787354039\n\\item[mse] 170292021.376712\n\\item[rmse] 13049.5985140046\n\\item[mape] 55.2110105298981\n\\end{description*}\n",
            "text/plain": [
              "         mae          mse         rmse         mape \n",
              "8.832348e+03 1.702920e+08 1.304960e+04 5.521101e+01 "
            ]
          },
          "metadata": {}
        }
      ],
      "source": [
        "## Predict Validation\n",
        "validation_data_preds_std = predict(object = LinReg_std,newdata = validation_data)\n",
        "\n",
        "## Eval Metrics\n",
        "regr.eval(validation_data$TotalRevenueGenerated,validation_data_preds_std)"
      ]
    },
    {
      "cell_type": "markdown",
      "metadata": {
        "id": "H0uTQ3B1ht4T"
      },
      "source": [
        "#### Predict on new data"
      ]
    },
    {
      "cell_type": "code",
      "execution_count": 82,
      "metadata": {
        "id": "LAJCFIwHht4T"
      },
      "outputs": [],
      "source": [
        "new_data = read.csv(\"New_data.csv\")\n"
      ]
    },
    {
      "cell_type": "code",
      "execution_count": 83,
      "metadata": {
        "id": "lyS63Objht4T",
        "colab": {
          "base_uri": "https://localhost:8080/",
          "height": 286
        },
        "outputId": "c81f4bb9-7394-40b7-953d-04dcfb38160d"
      },
      "outputs": [
        {
          "output_type": "display_data",
          "data": {
            "text/html": [
              "<table class=\"dataframe\">\n",
              "<caption>A data.frame: 6 × 12</caption>\n",
              "<thead>\n",
              "\t<tr><th></th><th scope=col>City</th><th scope=col>NoOfChildren</th><th scope=col>MinAgeOfChild</th><th scope=col>MaxAgeOfChild</th><th scope=col>Tenure</th><th scope=col>FrquncyOfPurchase</th><th scope=col>NoOfUnitsPurchased</th><th scope=col>FrequencyOFPlay</th><th scope=col>NoOfGamesPlayed</th><th scope=col>NoOfGamesBought</th><th scope=col>FavoriteChannelOfTransaction</th><th scope=col>FavoriteGame</th></tr>\n",
              "\t<tr><th></th><th scope=col>&lt;int&gt;</th><th scope=col>&lt;int&gt;</th><th scope=col>&lt;int&gt;</th><th scope=col>&lt;int&gt;</th><th scope=col>&lt;int&gt;</th><th scope=col>&lt;int&gt;</th><th scope=col>&lt;int&gt;</th><th scope=col>&lt;int&gt;</th><th scope=col>&lt;int&gt;</th><th scope=col>&lt;int&gt;</th><th scope=col>&lt;chr&gt;</th><th scope=col>&lt;chr&gt;</th></tr>\n",
              "</thead>\n",
              "<tbody>\n",
              "\t<tr><th scope=row>1</th><td>1</td><td>2</td><td>8</td><td> 9</td><td>101</td><td>30</td><td>18</td><td>  97</td><td>13</td><td>30</td><td>Uniform </td><td>Uniform</td></tr>\n",
              "\t<tr><th scope=row>2</th><td>1</td><td>1</td><td>5</td><td> 5</td><td>102</td><td>11</td><td>11</td><td> 160</td><td>12</td><td> 8</td><td>Favorite</td><td>Uniform</td></tr>\n",
              "\t<tr><th scope=row>3</th><td>1</td><td>1</td><td>4</td><td> 4</td><td>102</td><td>11</td><td>11</td><td> 114</td><td>23</td><td>11</td><td>Favorite</td><td>Uniform</td></tr>\n",
              "\t<tr><th scope=row>4</th><td>1</td><td>3</td><td>8</td><td>22</td><td>103</td><td>29</td><td>16</td><td> 819</td><td>79</td><td>29</td><td>Uniform </td><td>Uniform</td></tr>\n",
              "\t<tr><th scope=row>5</th><td>1</td><td>4</td><td>4</td><td> 6</td><td>103</td><td>23</td><td>20</td><td> 201</td><td>22</td><td>23</td><td>Favorite</td><td>Uniform</td></tr>\n",
              "\t<tr><th scope=row>6</th><td>1</td><td>3</td><td>4</td><td> 8</td><td>105</td><td>15</td><td>15</td><td>2667</td><td>81</td><td>15</td><td>Favorite</td><td>Uniform</td></tr>\n",
              "</tbody>\n",
              "</table>\n"
            ],
            "text/markdown": "\nA data.frame: 6 × 12\n\n| <!--/--> | City &lt;int&gt; | NoOfChildren &lt;int&gt; | MinAgeOfChild &lt;int&gt; | MaxAgeOfChild &lt;int&gt; | Tenure &lt;int&gt; | FrquncyOfPurchase &lt;int&gt; | NoOfUnitsPurchased &lt;int&gt; | FrequencyOFPlay &lt;int&gt; | NoOfGamesPlayed &lt;int&gt; | NoOfGamesBought &lt;int&gt; | FavoriteChannelOfTransaction &lt;chr&gt; | FavoriteGame &lt;chr&gt; |\n|---|---|---|---|---|---|---|---|---|---|---|---|---|\n| 1 | 1 | 2 | 8 |  9 | 101 | 30 | 18 |   97 | 13 | 30 | Uniform  | Uniform |\n| 2 | 1 | 1 | 5 |  5 | 102 | 11 | 11 |  160 | 12 |  8 | Favorite | Uniform |\n| 3 | 1 | 1 | 4 |  4 | 102 | 11 | 11 |  114 | 23 | 11 | Favorite | Uniform |\n| 4 | 1 | 3 | 8 | 22 | 103 | 29 | 16 |  819 | 79 | 29 | Uniform  | Uniform |\n| 5 | 1 | 4 | 4 |  6 | 103 | 23 | 20 |  201 | 22 | 23 | Favorite | Uniform |\n| 6 | 1 | 3 | 4 |  8 | 105 | 15 | 15 | 2667 | 81 | 15 | Favorite | Uniform |\n\n",
            "text/latex": "A data.frame: 6 × 12\n\\begin{tabular}{r|llllllllllll}\n  & City & NoOfChildren & MinAgeOfChild & MaxAgeOfChild & Tenure & FrquncyOfPurchase & NoOfUnitsPurchased & FrequencyOFPlay & NoOfGamesPlayed & NoOfGamesBought & FavoriteChannelOfTransaction & FavoriteGame\\\\\n  & <int> & <int> & <int> & <int> & <int> & <int> & <int> & <int> & <int> & <int> & <chr> & <chr>\\\\\n\\hline\n\t1 & 1 & 2 & 8 &  9 & 101 & 30 & 18 &   97 & 13 & 30 & Uniform  & Uniform\\\\\n\t2 & 1 & 1 & 5 &  5 & 102 & 11 & 11 &  160 & 12 &  8 & Favorite & Uniform\\\\\n\t3 & 1 & 1 & 4 &  4 & 102 & 11 & 11 &  114 & 23 & 11 & Favorite & Uniform\\\\\n\t4 & 1 & 3 & 8 & 22 & 103 & 29 & 16 &  819 & 79 & 29 & Uniform  & Uniform\\\\\n\t5 & 1 & 4 & 4 &  6 & 103 & 23 & 20 &  201 & 22 & 23 & Favorite & Uniform\\\\\n\t6 & 1 & 3 & 4 &  8 & 105 & 15 & 15 & 2667 & 81 & 15 & Favorite & Uniform\\\\\n\\end{tabular}\n",
            "text/plain": [
              "  City NoOfChildren MinAgeOfChild MaxAgeOfChild Tenure FrquncyOfPurchase\n",
              "1 1    2            8              9            101    30               \n",
              "2 1    1            5              5            102    11               \n",
              "3 1    1            4              4            102    11               \n",
              "4 1    3            8             22            103    29               \n",
              "5 1    4            4              6            103    23               \n",
              "6 1    3            4              8            105    15               \n",
              "  NoOfUnitsPurchased FrequencyOFPlay NoOfGamesPlayed NoOfGamesBought\n",
              "1 18                   97            13              30             \n",
              "2 11                  160            12               8             \n",
              "3 11                  114            23              11             \n",
              "4 16                  819            79              29             \n",
              "5 20                  201            22              23             \n",
              "6 15                 2667            81              15             \n",
              "  FavoriteChannelOfTransaction FavoriteGame\n",
              "1 Uniform                      Uniform     \n",
              "2 Favorite                     Uniform     \n",
              "3 Favorite                     Uniform     \n",
              "4 Uniform                      Uniform     \n",
              "5 Favorite                     Uniform     \n",
              "6 Favorite                     Uniform     "
            ]
          },
          "metadata": {}
        }
      ],
      "source": [
        "head(new_data)"
      ]
    },
    {
      "cell_type": "code",
      "execution_count": 84,
      "metadata": {
        "scrolled": true,
        "id": "3oktCookht4T",
        "colab": {
          "base_uri": "https://localhost:8080/"
        },
        "outputId": "624e0809-abad-40db-9ee1-99a241821caf"
      },
      "outputs": [
        {
          "output_type": "stream",
          "name": "stdout",
          "text": [
            "'data.frame':\t500 obs. of  12 variables:\n",
            " $ City                        : int  1 1 1 1 1 1 1 1 1 1 ...\n",
            " $ NoOfChildren                : int  2 1 1 3 4 3 2 2 2 1 ...\n",
            " $ MinAgeOfChild               : int  8 5 4 8 4 4 6 4 4 7 ...\n",
            " $ MaxAgeOfChild               : int  9 5 4 22 6 8 7 6 7 7 ...\n",
            " $ Tenure                      : int  101 102 102 103 103 105 105 106 108 109 ...\n",
            " $ FrquncyOfPurchase           : int  30 11 11 29 23 15 8 16 13 12 ...\n",
            " $ NoOfUnitsPurchased          : int  18 11 11 16 20 15 8 16 12 11 ...\n",
            " $ FrequencyOFPlay             : int  97 160 114 819 201 2667 577 375 130 126 ...\n",
            " $ NoOfGamesPlayed             : int  13 12 23 79 22 81 42 41 13 24 ...\n",
            " $ NoOfGamesBought             : int  30 8 11 29 23 15 8 8 13 9 ...\n",
            " $ FavoriteChannelOfTransaction: chr  \"Uniform\" \"Favorite\" \"Favorite\" \"Uniform\" ...\n",
            " $ FavoriteGame                : chr  \"Uniform\" \"Uniform\" \"Uniform\" \"Uniform\" ...\n"
          ]
        }
      ],
      "source": [
        "str(new_data)"
      ]
    },
    {
      "cell_type": "code",
      "execution_count": 85,
      "metadata": {
        "id": "6eABxPXoht4U"
      },
      "outputs": [],
      "source": [
        "#Convert \"City\" to factor variable\n",
        "new_data$City <- as.factor(as.character(new_data$City))\n",
        "\n",
        "#Convert \"FavoriteChannelOfTransaction\" to factor variable\n",
        "new_data$FavoriteChannelOfTransaction <- as.factor(new_data$FavoriteChannelOfTransaction)\n",
        "\n",
        "#Convert \"FavoriteGame\" to factor variable\n",
        "new_data$FavoriteGame <- as.factor(new_data$FavoriteGame)\n"
      ]
    },
    {
      "cell_type": "code",
      "execution_count": 88,
      "metadata": {
        "id": "D8_XbYdSht4U"
      },
      "outputs": [],
      "source": [
        "## Standardize data\n",
        "new_data[, independent_num_cols] <- predict(object = std_model, newdata = new_data[, independent_num_cols])\n"
      ]
    },
    {
      "cell_type": "code",
      "execution_count": 89,
      "metadata": {
        "id": "eppgidqiht4U"
      },
      "outputs": [],
      "source": [
        "## Predict on new data\n",
        "\n",
        "new_data_predictions = predict(object = LinReg_std,newdata = new_data)\n"
      ]
    },
    {
      "cell_type": "code",
      "execution_count": 90,
      "metadata": {
        "id": "4OeJZ-hrht4U",
        "colab": {
          "base_uri": "https://localhost:8080/",
          "height": 885
        },
        "outputId": "cca735f6-0d8b-45a2-8213-9851cf2c325f"
      },
      "outputs": [
        {
          "output_type": "display_data",
          "data": {
            "text/html": [
              "<style>\n",
              ".dl-inline {width: auto; margin:0; padding: 0}\n",
              ".dl-inline>dt, .dl-inline>dd {float: none; width: auto; display: inline-block}\n",
              ".dl-inline>dt::after {content: \":\\0020\"; padding-right: .5ex}\n",
              ".dl-inline>dt:not(:first-of-type) {padding-left: .5ex}\n",
              "</style><dl class=dl-inline><dt>1</dt><dd>167.753731791745</dd><dt>2</dt><dd>155.800876618555</dd><dt>3</dt><dd>120.430099436617</dd><dt>4</dt><dd>135.201425636748</dd><dt>5</dt><dd>204.479665616238</dd><dt>6</dt><dd>163.248161892055</dd><dt>7</dt><dd>92.0143283798215</dd><dt>8</dt><dd>236.776090847979</dd><dt>9</dt><dd>115.470886937943</dd><dt>10</dt><dd>146.334639838103</dd><dt>11</dt><dd>121.576074730766</dd><dt>12</dt><dd>194.471785818957</dd><dt>13</dt><dd>146.349200647704</dd><dt>14</dt><dd>122.134691507175</dd><dt>15</dt><dd>168.586171805735</dd><dt>16</dt><dd>132.058052520237</dd><dt>17</dt><dd>121.459408478574</dd><dt>18</dt><dd>106.19687748003</dd><dt>19</dt><dd>232.995092188288</dd><dt>20</dt><dd>144.641519299924</dd><dt>21</dt><dd>157.721653250763</dd><dt>22</dt><dd>126.730922762032</dd><dt>23</dt><dd>128.34517854827</dd><dt>24</dt><dd>205.939164190436</dd><dt>25</dt><dd>116.306502003612</dd><dt>26</dt><dd>171.138743939518</dd><dt>27</dt><dd>106.244816251149</dd><dt>28</dt><dd>131.252440161314</dd><dt>29</dt><dd>110.416501995316</dd><dt>30</dt><dd>137.463392769439</dd><dt>31</dt><dd>119.914351475251</dd><dt>32</dt><dd>163.888658858567</dd><dt>33</dt><dd>140.953715229524</dd><dt>34</dt><dd>146.013871868247</dd><dt>35</dt><dd>133.892783283293</dd><dt>36</dt><dd>165.546993215796</dd><dt>37</dt><dd>111.666588347763</dd><dt>38</dt><dd>246.491140362338</dd><dt>39</dt><dd>106.395090993597</dd><dt>40</dt><dd>137.128703554724</dd><dt>41</dt><dd>157.222025327016</dd><dt>42</dt><dd>111.342115304565</dd><dt>43</dt><dd>92.6724446453245</dd><dt>44</dt><dd>138.98080036136</dd><dt>45</dt><dd>173.491093490441</dd><dt>46</dt><dd>131.482514792338</dd><dt>47</dt><dd>227.764101894838</dd><dt>48</dt><dd>151.963592798577</dd><dt>49</dt><dd>244.688432878153</dd><dt>50</dt><dd>83.6854297424594</dd><dt>51</dt><dd>126.107098740755</dd><dt>52</dt><dd>116.664445587913</dd><dt>53</dt><dd>257.045163219712</dd><dt>54</dt><dd>122.665030375514</dd><dt>55</dt><dd>121.356301161355</dd><dt>56</dt><dd>125.335891136294</dd><dt>57</dt><dd>174.275378578247</dd><dt>58</dt><dd>153.540194749675</dd><dt>59</dt><dd>207.670759485959</dd><dt>60</dt><dd>134.727908465028</dd><dt>61</dt><dd>200.852315864003</dd><dt>62</dt><dd>123.05287618919</dd><dt>63</dt><dd>106.917655905109</dd><dt>64</dt><dd>121.589473491455</dd><dt>65</dt><dd>210.405706819596</dd><dt>66</dt><dd>227.747794639107</dd><dt>67</dt><dd>148.531318410837</dd><dt>68</dt><dd>165.848879182547</dd><dt>69</dt><dd>153.821800352111</dd><dt>70</dt><dd>118.650124066182</dd><dt>71</dt><dd>124.407670597278</dd><dt>72</dt><dd>168.937494671912</dd><dt>73</dt><dd>146.867003652015</dd><dt>74</dt><dd>130.653933969898</dd><dt>75</dt><dd>167.891288899201</dd><dt>76</dt><dd>154.470746433578</dd><dt>77</dt><dd>129.299994731234</dd><dt>78</dt><dd>136.827783756188</dd><dt>79</dt><dd>138.661640073597</dd><dt>80</dt><dd>131.583183970473</dd><dt>81</dt><dd>215.649789673686</dd><dt>82</dt><dd>156.130833739579</dd><dt>83</dt><dd>118.889994194647</dd><dt>84</dt><dd>123.502548193059</dd><dt>85</dt><dd>112.504922969258</dd><dt>86</dt><dd>196.45872342759</dd><dt>87</dt><dd>160.487212156737</dd><dt>88</dt><dd>255.663931155735</dd><dt>89</dt><dd>138.378753655594</dd><dt>90</dt><dd>219.198803382452</dd><dt>91</dt><dd>126.223882834098</dd><dt>92</dt><dd>162.551639127202</dd><dt>93</dt><dd>144.690395212006</dd><dt>94</dt><dd>174.66707875038</dd><dt>95</dt><dd>166.665229123583</dd><dt>96</dt><dd>166.863494558148</dd><dt>97</dt><dd>113.58645092848</dd><dt>98</dt><dd>187.738102083587</dd><dt>99</dt><dd>86.107835178411</dd><dt>100</dt><dd>202.073187600287</dd><dt>101</dt><dd>127.042127948458</dd><dt>102</dt><dd>103.385809745825</dd><dt>103</dt><dd>265.215043356976</dd><dt>104</dt><dd>148.471450095155</dd><dt>105</dt><dd>103.131959619508</dd><dt>106</dt><dd>158.862855043824</dd><dt>107</dt><dd>191.4511810236</dd><dt>108</dt><dd>162.502966964328</dd><dt>109</dt><dd>95.5962486915714</dd><dt>110</dt><dd>165.404173286629</dd><dt>111</dt><dd>115.412493799766</dd><dt>112</dt><dd>166.926285303498</dd><dt>113</dt><dd>238.860513650233</dd><dt>114</dt><dd>99.8402598915027</dd><dt>115</dt><dd>166.219711487076</dd><dt>116</dt><dd>112.2204714535</dd><dt>117</dt><dd>113.230496611651</dd><dt>118</dt><dd>175.175980685119</dd><dt>119</dt><dd>156.393544669278</dd><dt>120</dt><dd>189.675035568776</dd><dt>121</dt><dd>128.898809960534</dd><dt>122</dt><dd>140.245565785316</dd><dt>123</dt><dd>116.754845697255</dd><dt>124</dt><dd>110.441540486203</dd><dt>125</dt><dd>228.436394776738</dd><dt>126</dt><dd>87.1459426942641</dd><dt>127</dt><dd>143.977272058075</dd><dt>128</dt><dd>113.99141081864</dd><dt>129</dt><dd>101.390563494207</dd><dt>130</dt><dd>152.782776079096</dd><dt>131</dt><dd>224.160518909512</dd><dt>132</dt><dd>229.839773286846</dd><dt>133</dt><dd>101.198126878268</dd><dt>134</dt><dd>160.666928939402</dd><dt>135</dt><dd>142.523958747736</dd><dt>136</dt><dd>167.599559822859</dd><dt>137</dt><dd>107.772797183015</dd><dt>138</dt><dd>69.825463119016</dd><dt>139</dt><dd>146.279382563198</dd><dt>140</dt><dd>117.933548696804</dd><dt>141</dt><dd>150.057390408479</dd><dt>142</dt><dd>194.337755920951</dd><dt>143</dt><dd>173.496557215532</dd><dt>144</dt><dd>98.8984668542424</dd><dt>145</dt><dd>165.430426133669</dd><dt>146</dt><dd>268.838609600027</dd><dt>147</dt><dd>141.636075585735</dd><dt>148</dt><dd>118.077314399673</dd><dt>149</dt><dd>114.449501320192</dd><dt>150</dt><dd>46.8404485405277</dd><dt>151</dt><dd>309.922553128328</dd><dt>152</dt><dd>124.756015209061</dd><dt>153</dt><dd>145.084040018541</dd><dt>154</dt><dd>102.695525273438</dd><dt>155</dt><dd>153.546523189088</dd><dt>156</dt><dd>235.334329234025</dd><dt>157</dt><dd>129.982919499621</dd><dt>158</dt><dd>112.363088453229</dd><dt>159</dt><dd>95.4073030387382</dd><dt>160</dt><dd>115.127450580322</dd><dt>161</dt><dd>103.814871295832</dd><dt>162</dt><dd>133.395176951553</dd><dt>163</dt><dd>145.122085640137</dd><dt>164</dt><dd>252.180779053056</dd><dt>165</dt><dd>107.966085113963</dd><dt>166</dt><dd>109.680119242791</dd><dt>167</dt><dd>205.483722171472</dd><dt>168</dt><dd>157.619201191053</dd><dt>169</dt><dd>335.871639635841</dd><dt>170</dt><dd>129.786747971304</dd><dt>171</dt><dd>104.307147586814</dd><dt>172</dt><dd>122.583245872784</dd><dt>173</dt><dd>107.657152285697</dd><dt>174</dt><dd>155.77813819551</dd><dt>175</dt><dd>192.885912313584</dd><dt>176</dt><dd>132.447224150308</dd><dt>177</dt><dd>124.906272080654</dd><dt>178</dt><dd>161.224163686929</dd><dt>179</dt><dd>146.978903574832</dd><dt>180</dt><dd>172.654527202387</dd><dt>181</dt><dd>156.889296817411</dd><dt>182</dt><dd>138.046117994556</dd><dt>183</dt><dd>147.789991567687</dd><dt>184</dt><dd>105.709777331489</dd><dt>185</dt><dd>84.152728430795</dd><dt>186</dt><dd>119.967548130208</dd><dt>187</dt><dd>135.296290565256</dd><dt>188</dt><dd>188.074652193466</dd><dt>189</dt><dd>152.018525293404</dd><dt>190</dt><dd>176.897077377603</dd><dt>191</dt><dd>208.937003719647</dd><dt>192</dt><dd>122.292851034774</dd><dt>193</dt><dd>101.79888387892</dd><dt>194</dt><dd>217.576787988762</dd><dt>195</dt><dd>311.924602158521</dd><dt>196</dt><dd>422.660396234623</dd><dt>197</dt><dd>146.137546345919</dd><dt>198</dt><dd>208.753339428512</dd><dt>199</dt><dd>174.813249445488</dd><dt>200</dt><dd>162.073589016451</dd><dt>201</dt><dd>⋯</dd><dt>202</dt><dd>85.8129619932203</dd><dt>203</dt><dd>210.29046684512</dd><dt>204</dt><dd>131.680678280011</dd><dt>205</dt><dd>134.11066234064</dd><dt>206</dt><dd>217.889712081462</dd><dt>207</dt><dd>147.694796673508</dd><dt>208</dt><dd>177.669598836734</dd><dt>209</dt><dd>263.772313367834</dd><dt>210</dt><dd>141.488080328431</dd><dt>211</dt><dd>135.438040514599</dd><dt>212</dt><dd>135.862828400776</dd><dt>213</dt><dd>156.347067772779</dd><dt>214</dt><dd>144.365738897376</dd><dt>215</dt><dd>202.52964249185</dd><dt>216</dt><dd>120.429025300097</dd><dt>217</dt><dd>94.0779246935298</dd><dt>218</dt><dd>202.271020197763</dd><dt>219</dt><dd>78.882640973654</dd><dt>220</dt><dd>134.996299214976</dd><dt>221</dt><dd>164.123114272711</dd><dt>222</dt><dd>168.850733507406</dd><dt>223</dt><dd>121.28049624147</dd><dt>224</dt><dd>175.276832277807</dd><dt>225</dt><dd>211.301979448686</dd><dt>226</dt><dd>129.534632193891</dd><dt>227</dt><dd>123.937559134631</dd><dt>228</dt><dd>196.783078618629</dd><dt>229</dt><dd>145.112809047086</dd><dt>230</dt><dd>136.687613872861</dd><dt>231</dt><dd>101.2870198406</dd><dt>232</dt><dd>127.908723752179</dd><dt>233</dt><dd>146.608929731772</dd><dt>234</dt><dd>264.579463836067</dd><dt>235</dt><dd>213.075136292415</dd><dt>236</dt><dd>112.895870931765</dd><dt>237</dt><dd>143.606223449556</dd><dt>238</dt><dd>143.862251639109</dd><dt>239</dt><dd>147.349631315979</dd><dt>240</dt><dd>183.003198299457</dd><dt>241</dt><dd>129.997558053682</dd><dt>242</dt><dd>201.792092141613</dd><dt>243</dt><dd>245.750617731263</dd><dt>244</dt><dd>82.4918290876359</dd><dt>245</dt><dd>240.105654358707</dd><dt>246</dt><dd>200.207790572288</dd><dt>247</dt><dd>307.187630751409</dd><dt>248</dt><dd>99.6572798873899</dd><dt>249</dt><dd>157.652565117263</dd><dt>250</dt><dd>132.835032445075</dd><dt>251</dt><dd>155.249784517945</dd><dt>252</dt><dd>134.429247750235</dd><dt>253</dt><dd>148.634065108393</dd><dt>254</dt><dd>165.091311806058</dd><dt>255</dt><dd>101.612251436695</dd><dt>256</dt><dd>89.091018315754</dd><dt>257</dt><dd>109.966221748391</dd><dt>258</dt><dd>164.513981494722</dd><dt>259</dt><dd>127.09166663302</dd><dt>260</dt><dd>157.805642624927</dd><dt>261</dt><dd>138.946711516472</dd><dt>262</dt><dd>101.810678456544</dd><dt>263</dt><dd>115.177421290668</dd><dt>264</dt><dd>133.475482686649</dd><dt>265</dt><dd>136.488993782607</dd><dt>266</dt><dd>154.044063841119</dd><dt>267</dt><dd>142.855877990871</dd><dt>268</dt><dd>202.338553280779</dd><dt>269</dt><dd>110.023217442543</dd><dt>270</dt><dd>115.978787726459</dd><dt>271</dt><dd>118.292913015589</dd><dt>272</dt><dd>273.186270818026</dd><dt>273</dt><dd>333.923430888259</dd><dt>274</dt><dd>113.321227399068</dd><dt>275</dt><dd>124.83649645373</dd><dt>276</dt><dd>183.897098215973</dd><dt>277</dt><dd>145.01152677524</dd><dt>278</dt><dd>105.135857207305</dd><dt>279</dt><dd>127.930495764143</dd><dt>280</dt><dd>485.033934519332</dd><dt>281</dt><dd>302.104536065877</dd><dt>282</dt><dd>202.83057861439</dd><dt>283</dt><dd>135.487540098405</dd><dt>284</dt><dd>231.229952346854</dd><dt>285</dt><dd>119.645714387733</dd><dt>286</dt><dd>124.700264073592</dd><dt>287</dt><dd>194.003634769367</dd><dt>288</dt><dd>143.732904807439</dd><dt>289</dt><dd>163.777140294861</dd><dt>290</dt><dd>92.6865788525085</dd><dt>291</dt><dd>99.0398117458726</dd><dt>292</dt><dd>155.536270553278</dd><dt>293</dt><dd>117.361347994642</dd><dt>294</dt><dd>208.868082822435</dd><dt>295</dt><dd>200.497013031542</dd><dt>296</dt><dd>160.88708512807</dd><dt>297</dt><dd>289.010143903085</dd><dt>298</dt><dd>151.836135693344</dd><dt>299</dt><dd>183.381279349129</dd><dt>300</dt><dd>173.063202129104</dd><dt>301</dt><dd>161.968118563827</dd><dt>302</dt><dd>325.115385419158</dd><dt>303</dt><dd>270.110655146795</dd><dt>304</dt><dd>123.730454463073</dd><dt>305</dt><dd>99.9674036513845</dd><dt>306</dt><dd>80.3858637978562</dd><dt>307</dt><dd>160.955456815667</dd><dt>308</dt><dd>168.361178298958</dd><dt>309</dt><dd>172.840422185389</dd><dt>310</dt><dd>125.253947807386</dd><dt>311</dt><dd>125.669958713165</dd><dt>312</dt><dd>141.260638378717</dd><dt>313</dt><dd>85.7722324258111</dd><dt>314</dt><dd>128.426098571425</dd><dt>315</dt><dd>166.006920656476</dd><dt>316</dt><dd>128.359182146719</dd><dt>317</dt><dd>148.993061140326</dd><dt>318</dt><dd>65.4227606205399</dd><dt>319</dt><dd>297.234757490427</dd><dt>320</dt><dd>187.360958455756</dd><dt>321</dt><dd>120.277371692327</dd><dt>322</dt><dd>190.40735275554</dd><dt>323</dt><dd>163.331281132362</dd><dt>324</dt><dd>161.337871384035</dd><dt>325</dt><dd>152.352580238717</dd><dt>326</dt><dd>124.943850631529</dd><dt>327</dt><dd>133.67659872838</dd><dt>328</dt><dd>196.66536705356</dd><dt>329</dt><dd>124.955744544825</dd><dt>330</dt><dd>271.637716225424</dd><dt>331</dt><dd>211.836059774743</dd><dt>332</dt><dd>134.824573165641</dd><dt>333</dt><dd>138.695889218736</dd><dt>334</dt><dd>163.532658583156</dd><dt>335</dt><dd>100.85198404431</dd><dt>336</dt><dd>120.419602133041</dd><dt>337</dt><dd>109.238237328405</dd><dt>338</dt><dd>139.85586781864</dd><dt>339</dt><dd>444.296286729339</dd><dt>340</dt><dd>134.496273381625</dd><dt>341</dt><dd>188.31763105</dd><dt>342</dt><dd>161.87048162519</dd><dt>343</dt><dd>113.384572093978</dd><dt>344</dt><dd>187.384095291018</dd><dt>345</dt><dd>190.435383838179</dd><dt>346</dt><dd>199.711911425173</dd><dt>347</dt><dd>117.051935170242</dd><dt>348</dt><dd>98.6679679535272</dd><dt>349</dt><dd>182.907337239689</dd><dt>350</dt><dd>100.086471300189</dd><dt>351</dt><dd>471.915164186692</dd><dt>352</dt><dd>165.679649930452</dd><dt>353</dt><dd>92.972180136083</dd><dt>354</dt><dd>126.817016201439</dd><dt>355</dt><dd>133.538969979127</dd><dt>356</dt><dd>115.647390035425</dd><dt>357</dt><dd>168.120098665178</dd><dt>358</dt><dd>177.058388654654</dd><dt>359</dt><dd>244.281834026453</dd><dt>360</dt><dd>113.762914256272</dd><dt>361</dt><dd>123.849950376495</dd><dt>362</dt><dd>127.664163826801</dd><dt>363</dt><dd>293.780025993931</dd><dt>364</dt><dd>166.423384538796</dd><dt>365</dt><dd>142.156929585807</dd><dt>366</dt><dd>108.161515516534</dd><dt>367</dt><dd>125.325742413491</dd><dt>368</dt><dd>103.781996466843</dd><dt>369</dt><dd>141.942279794002</dd><dt>370</dt><dd>133.618421633548</dd><dt>371</dt><dd>326.33022637006</dd><dt>372</dt><dd>103.531233840361</dd><dt>373</dt><dd>145.994123400891</dd><dt>374</dt><dd>156.664200260575</dd><dt>375</dt><dd>93.9865924531313</dd><dt>376</dt><dd>138.136831715282</dd><dt>377</dt><dd>289.914481762598</dd><dt>378</dt><dd>138.272277489851</dd><dt>379</dt><dd>109.25989666745</dd><dt>380</dt><dd>153.265652670519</dd><dt>381</dt><dd>140.980763047013</dd><dt>382</dt><dd>187.424232130198</dd><dt>383</dt><dd>144.968219321534</dd><dt>384</dt><dd>122.296864467743</dd><dt>385</dt><dd>195.11471884798</dd><dt>386</dt><dd>128.553112054231</dd><dt>387</dt><dd>174.395775638156</dd><dt>388</dt><dd>153.299022333758</dd><dt>389</dt><dd>114.984282634667</dd><dt>390</dt><dd>109.491662588969</dd><dt>391</dt><dd>125.417131749192</dd><dt>392</dt><dd>175.036782106677</dd><dt>393</dt><dd>167.94280223522</dd><dt>394</dt><dd>254.134068654758</dd><dt>395</dt><dd>167.375386613231</dd><dt>396</dt><dd>283.944910195525</dd><dt>397</dt><dd>134.963545643061</dd><dt>398</dt><dd>219.687061644437</dd><dt>399</dt><dd>239.344416781819</dd><dt>400</dt><dd>72.1351855636476</dd><dt>401</dt><dd>107.874773931033</dd></dl>\n"
            ],
            "text/markdown": "1\n:   167.7537317917452\n:   155.8008766185553\n:   120.4300994366174\n:   135.2014256367485\n:   204.4796656162386\n:   163.2481618920557\n:   92.01432837982158\n:   236.7760908479799\n:   115.47088693794310\n:   146.33463983810311\n:   121.57607473076612\n:   194.47178581895713\n:   146.34920064770414\n:   122.13469150717515\n:   168.58617180573516\n:   132.05805252023717\n:   121.45940847857418\n:   106.1968774800319\n:   232.99509218828820\n:   144.64151929992421\n:   157.72165325076322\n:   126.73092276203223\n:   128.3451785482724\n:   205.93916419043625\n:   116.30650200361226\n:   171.13874393951827\n:   106.24481625114928\n:   131.25244016131429\n:   110.41650199531630\n:   137.46339276943931\n:   119.91435147525132\n:   163.88865885856733\n:   140.95371522952434\n:   146.01387186824735\n:   133.89278328329336\n:   165.54699321579637\n:   111.66658834776338\n:   246.49114036233839\n:   106.39509099359740\n:   137.12870355472441\n:   157.22202532701642\n:   111.34211530456543\n:   92.672444645324544\n:   138.9808003613645\n:   173.49109349044146\n:   131.48251479233847\n:   227.76410189483848\n:   151.96359279857749\n:   244.68843287815350\n:   83.685429742459451\n:   126.10709874075552\n:   116.66444558791353\n:   257.04516321971254\n:   122.66503037551455\n:   121.35630116135556\n:   125.33589113629457\n:   174.27537857824758\n:   153.54019474967559\n:   207.67075948595960\n:   134.72790846502861\n:   200.85231586400362\n:   123.0528761891963\n:   106.91765590510964\n:   121.58947349145565\n:   210.40570681959666\n:   227.74779463910767\n:   148.53131841083768\n:   165.84887918254769\n:   153.82180035211170\n:   118.65012406618271\n:   124.40767059727872\n:   168.93749467191273\n:   146.86700365201574\n:   130.65393396989875\n:   167.89128889920176\n:   154.47074643357877\n:   129.29999473123478\n:   136.82778375618879\n:   138.66164007359780\n:   131.58318397047381\n:   215.64978967368682\n:   156.13083373957983\n:   118.88999419464784\n:   123.50254819305985\n:   112.50492296925886\n:   196.4587234275987\n:   160.48721215673788\n:   255.66393115573589\n:   138.37875365559490\n:   219.19880338245291\n:   126.22388283409892\n:   162.55163912720293\n:   144.69039521200694\n:   174.6670787503895\n:   166.66522912358396\n:   166.86349455814897\n:   113.5864509284898\n:   187.73810208358799\n:   86.107835178411100\n:   202.073187600287101\n:   127.042127948458102\n:   103.385809745825103\n:   265.215043356976104\n:   148.471450095155105\n:   103.131959619508106\n:   158.862855043824107\n:   191.4511810236108\n:   162.502966964328109\n:   95.5962486915714110\n:   165.404173286629111\n:   115.412493799766112\n:   166.926285303498113\n:   238.860513650233114\n:   99.8402598915027115\n:   166.219711487076116\n:   112.2204714535117\n:   113.230496611651118\n:   175.175980685119119\n:   156.393544669278120\n:   189.675035568776121\n:   128.898809960534122\n:   140.245565785316123\n:   116.754845697255124\n:   110.441540486203125\n:   228.436394776738126\n:   87.1459426942641127\n:   143.977272058075128\n:   113.99141081864129\n:   101.390563494207130\n:   152.782776079096131\n:   224.160518909512132\n:   229.839773286846133\n:   101.198126878268134\n:   160.666928939402135\n:   142.523958747736136\n:   167.599559822859137\n:   107.772797183015138\n:   69.825463119016139\n:   146.279382563198140\n:   117.933548696804141\n:   150.057390408479142\n:   194.337755920951143\n:   173.496557215532144\n:   98.8984668542424145\n:   165.430426133669146\n:   268.838609600027147\n:   141.636075585735148\n:   118.077314399673149\n:   114.449501320192150\n:   46.8404485405277151\n:   309.922553128328152\n:   124.756015209061153\n:   145.084040018541154\n:   102.695525273438155\n:   153.546523189088156\n:   235.334329234025157\n:   129.982919499621158\n:   112.363088453229159\n:   95.4073030387382160\n:   115.127450580322161\n:   103.814871295832162\n:   133.395176951553163\n:   145.122085640137164\n:   252.180779053056165\n:   107.966085113963166\n:   109.680119242791167\n:   205.483722171472168\n:   157.619201191053169\n:   335.871639635841170\n:   129.786747971304171\n:   104.307147586814172\n:   122.583245872784173\n:   107.657152285697174\n:   155.77813819551175\n:   192.885912313584176\n:   132.447224150308177\n:   124.906272080654178\n:   161.224163686929179\n:   146.978903574832180\n:   172.654527202387181\n:   156.889296817411182\n:   138.046117994556183\n:   147.789991567687184\n:   105.709777331489185\n:   84.152728430795186\n:   119.967548130208187\n:   135.296290565256188\n:   188.074652193466189\n:   152.018525293404190\n:   176.897077377603191\n:   208.937003719647192\n:   122.292851034774193\n:   101.79888387892194\n:   217.576787988762195\n:   311.924602158521196\n:   422.660396234623197\n:   146.137546345919198\n:   208.753339428512199\n:   174.813249445488200\n:   162.073589016451201\n:   ⋯202\n:   85.8129619932203203\n:   210.29046684512204\n:   131.680678280011205\n:   134.11066234064206\n:   217.889712081462207\n:   147.694796673508208\n:   177.669598836734209\n:   263.772313367834210\n:   141.488080328431211\n:   135.438040514599212\n:   135.862828400776213\n:   156.347067772779214\n:   144.365738897376215\n:   202.52964249185216\n:   120.429025300097217\n:   94.0779246935298218\n:   202.271020197763219\n:   78.882640973654220\n:   134.996299214976221\n:   164.123114272711222\n:   168.850733507406223\n:   121.28049624147224\n:   175.276832277807225\n:   211.301979448686226\n:   129.534632193891227\n:   123.937559134631228\n:   196.783078618629229\n:   145.112809047086230\n:   136.687613872861231\n:   101.2870198406232\n:   127.908723752179233\n:   146.608929731772234\n:   264.579463836067235\n:   213.075136292415236\n:   112.895870931765237\n:   143.606223449556238\n:   143.862251639109239\n:   147.349631315979240\n:   183.003198299457241\n:   129.997558053682242\n:   201.792092141613243\n:   245.750617731263244\n:   82.4918290876359245\n:   240.105654358707246\n:   200.207790572288247\n:   307.187630751409248\n:   99.6572798873899249\n:   157.652565117263250\n:   132.835032445075251\n:   155.249784517945252\n:   134.429247750235253\n:   148.634065108393254\n:   165.091311806058255\n:   101.612251436695256\n:   89.091018315754257\n:   109.966221748391258\n:   164.513981494722259\n:   127.09166663302260\n:   157.805642624927261\n:   138.946711516472262\n:   101.810678456544263\n:   115.177421290668264\n:   133.475482686649265\n:   136.488993782607266\n:   154.044063841119267\n:   142.855877990871268\n:   202.338553280779269\n:   110.023217442543270\n:   115.978787726459271\n:   118.292913015589272\n:   273.186270818026273\n:   333.923430888259274\n:   113.321227399068275\n:   124.83649645373276\n:   183.897098215973277\n:   145.01152677524278\n:   105.135857207305279\n:   127.930495764143280\n:   485.033934519332281\n:   302.104536065877282\n:   202.83057861439283\n:   135.487540098405284\n:   231.229952346854285\n:   119.645714387733286\n:   124.700264073592287\n:   194.003634769367288\n:   143.732904807439289\n:   163.777140294861290\n:   92.6865788525085291\n:   99.0398117458726292\n:   155.536270553278293\n:   117.361347994642294\n:   208.868082822435295\n:   200.497013031542296\n:   160.88708512807297\n:   289.010143903085298\n:   151.836135693344299\n:   183.381279349129300\n:   173.063202129104301\n:   161.968118563827302\n:   325.115385419158303\n:   270.110655146795304\n:   123.730454463073305\n:   99.9674036513845306\n:   80.3858637978562307\n:   160.955456815667308\n:   168.361178298958309\n:   172.840422185389310\n:   125.253947807386311\n:   125.669958713165312\n:   141.260638378717313\n:   85.7722324258111314\n:   128.426098571425315\n:   166.006920656476316\n:   128.359182146719317\n:   148.993061140326318\n:   65.4227606205399319\n:   297.234757490427320\n:   187.360958455756321\n:   120.277371692327322\n:   190.40735275554323\n:   163.331281132362324\n:   161.337871384035325\n:   152.352580238717326\n:   124.943850631529327\n:   133.67659872838328\n:   196.66536705356329\n:   124.955744544825330\n:   271.637716225424331\n:   211.836059774743332\n:   134.824573165641333\n:   138.695889218736334\n:   163.532658583156335\n:   100.85198404431336\n:   120.419602133041337\n:   109.238237328405338\n:   139.85586781864339\n:   444.296286729339340\n:   134.496273381625341\n:   188.31763105342\n:   161.87048162519343\n:   113.384572093978344\n:   187.384095291018345\n:   190.435383838179346\n:   199.711911425173347\n:   117.051935170242348\n:   98.6679679535272349\n:   182.907337239689350\n:   100.086471300189351\n:   471.915164186692352\n:   165.679649930452353\n:   92.972180136083354\n:   126.817016201439355\n:   133.538969979127356\n:   115.647390035425357\n:   168.120098665178358\n:   177.058388654654359\n:   244.281834026453360\n:   113.762914256272361\n:   123.849950376495362\n:   127.664163826801363\n:   293.780025993931364\n:   166.423384538796365\n:   142.156929585807366\n:   108.161515516534367\n:   125.325742413491368\n:   103.781996466843369\n:   141.942279794002370\n:   133.618421633548371\n:   326.33022637006372\n:   103.531233840361373\n:   145.994123400891374\n:   156.664200260575375\n:   93.9865924531313376\n:   138.136831715282377\n:   289.914481762598378\n:   138.272277489851379\n:   109.25989666745380\n:   153.265652670519381\n:   140.980763047013382\n:   187.424232130198383\n:   144.968219321534384\n:   122.296864467743385\n:   195.11471884798386\n:   128.553112054231387\n:   174.395775638156388\n:   153.299022333758389\n:   114.984282634667390\n:   109.491662588969391\n:   125.417131749192392\n:   175.036782106677393\n:   167.94280223522394\n:   254.134068654758395\n:   167.375386613231396\n:   283.944910195525397\n:   134.963545643061398\n:   219.687061644437399\n:   239.344416781819400\n:   72.1351855636476401\n:   107.874773931033\n\n",
            "text/latex": "\\begin{description*}\n\\item[1] 167.753731791745\n\\item[2] 155.800876618555\n\\item[3] 120.430099436617\n\\item[4] 135.201425636748\n\\item[5] 204.479665616238\n\\item[6] 163.248161892055\n\\item[7] 92.0143283798215\n\\item[8] 236.776090847979\n\\item[9] 115.470886937943\n\\item[10] 146.334639838103\n\\item[11] 121.576074730766\n\\item[12] 194.471785818957\n\\item[13] 146.349200647704\n\\item[14] 122.134691507175\n\\item[15] 168.586171805735\n\\item[16] 132.058052520237\n\\item[17] 121.459408478574\n\\item[18] 106.19687748003\n\\item[19] 232.995092188288\n\\item[20] 144.641519299924\n\\item[21] 157.721653250763\n\\item[22] 126.730922762032\n\\item[23] 128.34517854827\n\\item[24] 205.939164190436\n\\item[25] 116.306502003612\n\\item[26] 171.138743939518\n\\item[27] 106.244816251149\n\\item[28] 131.252440161314\n\\item[29] 110.416501995316\n\\item[30] 137.463392769439\n\\item[31] 119.914351475251\n\\item[32] 163.888658858567\n\\item[33] 140.953715229524\n\\item[34] 146.013871868247\n\\item[35] 133.892783283293\n\\item[36] 165.546993215796\n\\item[37] 111.666588347763\n\\item[38] 246.491140362338\n\\item[39] 106.395090993597\n\\item[40] 137.128703554724\n\\item[41] 157.222025327016\n\\item[42] 111.342115304565\n\\item[43] 92.6724446453245\n\\item[44] 138.98080036136\n\\item[45] 173.491093490441\n\\item[46] 131.482514792338\n\\item[47] 227.764101894838\n\\item[48] 151.963592798577\n\\item[49] 244.688432878153\n\\item[50] 83.6854297424594\n\\item[51] 126.107098740755\n\\item[52] 116.664445587913\n\\item[53] 257.045163219712\n\\item[54] 122.665030375514\n\\item[55] 121.356301161355\n\\item[56] 125.335891136294\n\\item[57] 174.275378578247\n\\item[58] 153.540194749675\n\\item[59] 207.670759485959\n\\item[60] 134.727908465028\n\\item[61] 200.852315864003\n\\item[62] 123.05287618919\n\\item[63] 106.917655905109\n\\item[64] 121.589473491455\n\\item[65] 210.405706819596\n\\item[66] 227.747794639107\n\\item[67] 148.531318410837\n\\item[68] 165.848879182547\n\\item[69] 153.821800352111\n\\item[70] 118.650124066182\n\\item[71] 124.407670597278\n\\item[72] 168.937494671912\n\\item[73] 146.867003652015\n\\item[74] 130.653933969898\n\\item[75] 167.891288899201\n\\item[76] 154.470746433578\n\\item[77] 129.299994731234\n\\item[78] 136.827783756188\n\\item[79] 138.661640073597\n\\item[80] 131.583183970473\n\\item[81] 215.649789673686\n\\item[82] 156.130833739579\n\\item[83] 118.889994194647\n\\item[84] 123.502548193059\n\\item[85] 112.504922969258\n\\item[86] 196.45872342759\n\\item[87] 160.487212156737\n\\item[88] 255.663931155735\n\\item[89] 138.378753655594\n\\item[90] 219.198803382452\n\\item[91] 126.223882834098\n\\item[92] 162.551639127202\n\\item[93] 144.690395212006\n\\item[94] 174.66707875038\n\\item[95] 166.665229123583\n\\item[96] 166.863494558148\n\\item[97] 113.58645092848\n\\item[98] 187.738102083587\n\\item[99] 86.107835178411\n\\item[100] 202.073187600287\n\\item[101] 127.042127948458\n\\item[102] 103.385809745825\n\\item[103] 265.215043356976\n\\item[104] 148.471450095155\n\\item[105] 103.131959619508\n\\item[106] 158.862855043824\n\\item[107] 191.4511810236\n\\item[108] 162.502966964328\n\\item[109] 95.5962486915714\n\\item[110] 165.404173286629\n\\item[111] 115.412493799766\n\\item[112] 166.926285303498\n\\item[113] 238.860513650233\n\\item[114] 99.8402598915027\n\\item[115] 166.219711487076\n\\item[116] 112.2204714535\n\\item[117] 113.230496611651\n\\item[118] 175.175980685119\n\\item[119] 156.393544669278\n\\item[120] 189.675035568776\n\\item[121] 128.898809960534\n\\item[122] 140.245565785316\n\\item[123] 116.754845697255\n\\item[124] 110.441540486203\n\\item[125] 228.436394776738\n\\item[126] 87.1459426942641\n\\item[127] 143.977272058075\n\\item[128] 113.99141081864\n\\item[129] 101.390563494207\n\\item[130] 152.782776079096\n\\item[131] 224.160518909512\n\\item[132] 229.839773286846\n\\item[133] 101.198126878268\n\\item[134] 160.666928939402\n\\item[135] 142.523958747736\n\\item[136] 167.599559822859\n\\item[137] 107.772797183015\n\\item[138] 69.825463119016\n\\item[139] 146.279382563198\n\\item[140] 117.933548696804\n\\item[141] 150.057390408479\n\\item[142] 194.337755920951\n\\item[143] 173.496557215532\n\\item[144] 98.8984668542424\n\\item[145] 165.430426133669\n\\item[146] 268.838609600027\n\\item[147] 141.636075585735\n\\item[148] 118.077314399673\n\\item[149] 114.449501320192\n\\item[150] 46.8404485405277\n\\item[151] 309.922553128328\n\\item[152] 124.756015209061\n\\item[153] 145.084040018541\n\\item[154] 102.695525273438\n\\item[155] 153.546523189088\n\\item[156] 235.334329234025\n\\item[157] 129.982919499621\n\\item[158] 112.363088453229\n\\item[159] 95.4073030387382\n\\item[160] 115.127450580322\n\\item[161] 103.814871295832\n\\item[162] 133.395176951553\n\\item[163] 145.122085640137\n\\item[164] 252.180779053056\n\\item[165] 107.966085113963\n\\item[166] 109.680119242791\n\\item[167] 205.483722171472\n\\item[168] 157.619201191053\n\\item[169] 335.871639635841\n\\item[170] 129.786747971304\n\\item[171] 104.307147586814\n\\item[172] 122.583245872784\n\\item[173] 107.657152285697\n\\item[174] 155.77813819551\n\\item[175] 192.885912313584\n\\item[176] 132.447224150308\n\\item[177] 124.906272080654\n\\item[178] 161.224163686929\n\\item[179] 146.978903574832\n\\item[180] 172.654527202387\n\\item[181] 156.889296817411\n\\item[182] 138.046117994556\n\\item[183] 147.789991567687\n\\item[184] 105.709777331489\n\\item[185] 84.152728430795\n\\item[186] 119.967548130208\n\\item[187] 135.296290565256\n\\item[188] 188.074652193466\n\\item[189] 152.018525293404\n\\item[190] 176.897077377603\n\\item[191] 208.937003719647\n\\item[192] 122.292851034774\n\\item[193] 101.79888387892\n\\item[194] 217.576787988762\n\\item[195] 311.924602158521\n\\item[196] 422.660396234623\n\\item[197] 146.137546345919\n\\item[198] 208.753339428512\n\\item[199] 174.813249445488\n\\item[200] 162.073589016451\n\\item[201] ⋯\n\\item[202] 85.8129619932203\n\\item[203] 210.29046684512\n\\item[204] 131.680678280011\n\\item[205] 134.11066234064\n\\item[206] 217.889712081462\n\\item[207] 147.694796673508\n\\item[208] 177.669598836734\n\\item[209] 263.772313367834\n\\item[210] 141.488080328431\n\\item[211] 135.438040514599\n\\item[212] 135.862828400776\n\\item[213] 156.347067772779\n\\item[214] 144.365738897376\n\\item[215] 202.52964249185\n\\item[216] 120.429025300097\n\\item[217] 94.0779246935298\n\\item[218] 202.271020197763\n\\item[219] 78.882640973654\n\\item[220] 134.996299214976\n\\item[221] 164.123114272711\n\\item[222] 168.850733507406\n\\item[223] 121.28049624147\n\\item[224] 175.276832277807\n\\item[225] 211.301979448686\n\\item[226] 129.534632193891\n\\item[227] 123.937559134631\n\\item[228] 196.783078618629\n\\item[229] 145.112809047086\n\\item[230] 136.687613872861\n\\item[231] 101.2870198406\n\\item[232] 127.908723752179\n\\item[233] 146.608929731772\n\\item[234] 264.579463836067\n\\item[235] 213.075136292415\n\\item[236] 112.895870931765\n\\item[237] 143.606223449556\n\\item[238] 143.862251639109\n\\item[239] 147.349631315979\n\\item[240] 183.003198299457\n\\item[241] 129.997558053682\n\\item[242] 201.792092141613\n\\item[243] 245.750617731263\n\\item[244] 82.4918290876359\n\\item[245] 240.105654358707\n\\item[246] 200.207790572288\n\\item[247] 307.187630751409\n\\item[248] 99.6572798873899\n\\item[249] 157.652565117263\n\\item[250] 132.835032445075\n\\item[251] 155.249784517945\n\\item[252] 134.429247750235\n\\item[253] 148.634065108393\n\\item[254] 165.091311806058\n\\item[255] 101.612251436695\n\\item[256] 89.091018315754\n\\item[257] 109.966221748391\n\\item[258] 164.513981494722\n\\item[259] 127.09166663302\n\\item[260] 157.805642624927\n\\item[261] 138.946711516472\n\\item[262] 101.810678456544\n\\item[263] 115.177421290668\n\\item[264] 133.475482686649\n\\item[265] 136.488993782607\n\\item[266] 154.044063841119\n\\item[267] 142.855877990871\n\\item[268] 202.338553280779\n\\item[269] 110.023217442543\n\\item[270] 115.978787726459\n\\item[271] 118.292913015589\n\\item[272] 273.186270818026\n\\item[273] 333.923430888259\n\\item[274] 113.321227399068\n\\item[275] 124.83649645373\n\\item[276] 183.897098215973\n\\item[277] 145.01152677524\n\\item[278] 105.135857207305\n\\item[279] 127.930495764143\n\\item[280] 485.033934519332\n\\item[281] 302.104536065877\n\\item[282] 202.83057861439\n\\item[283] 135.487540098405\n\\item[284] 231.229952346854\n\\item[285] 119.645714387733\n\\item[286] 124.700264073592\n\\item[287] 194.003634769367\n\\item[288] 143.732904807439\n\\item[289] 163.777140294861\n\\item[290] 92.6865788525085\n\\item[291] 99.0398117458726\n\\item[292] 155.536270553278\n\\item[293] 117.361347994642\n\\item[294] 208.868082822435\n\\item[295] 200.497013031542\n\\item[296] 160.88708512807\n\\item[297] 289.010143903085\n\\item[298] 151.836135693344\n\\item[299] 183.381279349129\n\\item[300] 173.063202129104\n\\item[301] 161.968118563827\n\\item[302] 325.115385419158\n\\item[303] 270.110655146795\n\\item[304] 123.730454463073\n\\item[305] 99.9674036513845\n\\item[306] 80.3858637978562\n\\item[307] 160.955456815667\n\\item[308] 168.361178298958\n\\item[309] 172.840422185389\n\\item[310] 125.253947807386\n\\item[311] 125.669958713165\n\\item[312] 141.260638378717\n\\item[313] 85.7722324258111\n\\item[314] 128.426098571425\n\\item[315] 166.006920656476\n\\item[316] 128.359182146719\n\\item[317] 148.993061140326\n\\item[318] 65.4227606205399\n\\item[319] 297.234757490427\n\\item[320] 187.360958455756\n\\item[321] 120.277371692327\n\\item[322] 190.40735275554\n\\item[323] 163.331281132362\n\\item[324] 161.337871384035\n\\item[325] 152.352580238717\n\\item[326] 124.943850631529\n\\item[327] 133.67659872838\n\\item[328] 196.66536705356\n\\item[329] 124.955744544825\n\\item[330] 271.637716225424\n\\item[331] 211.836059774743\n\\item[332] 134.824573165641\n\\item[333] 138.695889218736\n\\item[334] 163.532658583156\n\\item[335] 100.85198404431\n\\item[336] 120.419602133041\n\\item[337] 109.238237328405\n\\item[338] 139.85586781864\n\\item[339] 444.296286729339\n\\item[340] 134.496273381625\n\\item[341] 188.31763105\n\\item[342] 161.87048162519\n\\item[343] 113.384572093978\n\\item[344] 187.384095291018\n\\item[345] 190.435383838179\n\\item[346] 199.711911425173\n\\item[347] 117.051935170242\n\\item[348] 98.6679679535272\n\\item[349] 182.907337239689\n\\item[350] 100.086471300189\n\\item[351] 471.915164186692\n\\item[352] 165.679649930452\n\\item[353] 92.972180136083\n\\item[354] 126.817016201439\n\\item[355] 133.538969979127\n\\item[356] 115.647390035425\n\\item[357] 168.120098665178\n\\item[358] 177.058388654654\n\\item[359] 244.281834026453\n\\item[360] 113.762914256272\n\\item[361] 123.849950376495\n\\item[362] 127.664163826801\n\\item[363] 293.780025993931\n\\item[364] 166.423384538796\n\\item[365] 142.156929585807\n\\item[366] 108.161515516534\n\\item[367] 125.325742413491\n\\item[368] 103.781996466843\n\\item[369] 141.942279794002\n\\item[370] 133.618421633548\n\\item[371] 326.33022637006\n\\item[372] 103.531233840361\n\\item[373] 145.994123400891\n\\item[374] 156.664200260575\n\\item[375] 93.9865924531313\n\\item[376] 138.136831715282\n\\item[377] 289.914481762598\n\\item[378] 138.272277489851\n\\item[379] 109.25989666745\n\\item[380] 153.265652670519\n\\item[381] 140.980763047013\n\\item[382] 187.424232130198\n\\item[383] 144.968219321534\n\\item[384] 122.296864467743\n\\item[385] 195.11471884798\n\\item[386] 128.553112054231\n\\item[387] 174.395775638156\n\\item[388] 153.299022333758\n\\item[389] 114.984282634667\n\\item[390] 109.491662588969\n\\item[391] 125.417131749192\n\\item[392] 175.036782106677\n\\item[393] 167.94280223522\n\\item[394] 254.134068654758\n\\item[395] 167.375386613231\n\\item[396] 283.944910195525\n\\item[397] 134.963545643061\n\\item[398] 219.687061644437\n\\item[399] 239.344416781819\n\\item[400] 72.1351855636476\n\\item[401] 107.874773931033\n\\end{description*}\n",
            "text/plain": [
              "        1         2         3         4         5         6         7         8 \n",
              "167.75373 155.80088 120.43010 135.20143 204.47967 163.24816  92.01433 236.77609 \n",
              "        9        10        11        12        13        14        15        16 \n",
              "115.47089 146.33464 121.57607 194.47179 146.34920 122.13469 168.58617 132.05805 \n",
              "       17        18        19        20        21        22        23        24 \n",
              "121.45941 106.19688 232.99509 144.64152 157.72165 126.73092 128.34518 205.93916 \n",
              "       25        26        27        28        29        30        31        32 \n",
              "116.30650 171.13874 106.24482 131.25244 110.41650 137.46339 119.91435 163.88866 \n",
              "       33        34        35        36        37        38        39        40 \n",
              "140.95372 146.01387 133.89278 165.54699 111.66659 246.49114 106.39509 137.12870 \n",
              "       41        42        43        44        45        46        47        48 \n",
              "157.22203 111.34212  92.67244 138.98080 173.49109 131.48251 227.76410 151.96359 \n",
              "       49        50        51        52        53        54        55        56 \n",
              "244.68843  83.68543 126.10710 116.66445 257.04516 122.66503 121.35630 125.33589 \n",
              "       57        58        59        60        61        62        63        64 \n",
              "174.27538 153.54019 207.67076 134.72791 200.85232 123.05288 106.91766 121.58947 \n",
              "       65        66        67        68        69        70        71        72 \n",
              "210.40571 227.74779 148.53132 165.84888 153.82180 118.65012 124.40767 168.93749 \n",
              "       73        74        75        76        77        78        79        80 \n",
              "146.86700 130.65393 167.89129 154.47075 129.29999 136.82778 138.66164 131.58318 \n",
              "       81        82        83        84        85        86        87        88 \n",
              "215.64979 156.13083 118.88999 123.50255 112.50492 196.45872 160.48721 255.66393 \n",
              "       89        90        91        92        93        94        95        96 \n",
              "138.37875 219.19880 126.22388 162.55164 144.69040 174.66708 166.66523 166.86349 \n",
              "       97        98        99       100       101       102       103       104 \n",
              "113.58645 187.73810  86.10784 202.07319 127.04213 103.38581 265.21504 148.47145 \n",
              "      105       106       107       108       109       110       111       112 \n",
              "103.13196 158.86286 191.45118 162.50297  95.59625 165.40417 115.41249 166.92629 \n",
              "      113       114       115       116       117       118       119       120 \n",
              "238.86051  99.84026 166.21971 112.22047 113.23050 175.17598 156.39354 189.67504 \n",
              "      121       122       123       124       125       126       127       128 \n",
              "128.89881 140.24557 116.75485 110.44154 228.43639  87.14594 143.97727 113.99141 \n",
              "      129       130       131       132       133       134       135       136 \n",
              "101.39056 152.78278 224.16052 229.83977 101.19813 160.66693 142.52396 167.59956 \n",
              "      137       138       139       140       141       142       143       144 \n",
              "107.77280  69.82546 146.27938 117.93355 150.05739 194.33776 173.49656  98.89847 \n",
              "      145       146       147       148       149       150       151       152 \n",
              "165.43043 268.83861 141.63608 118.07731 114.44950  46.84045 309.92255 124.75602 \n",
              "      153       154       155       156       157       158       159       160 \n",
              "145.08404 102.69553 153.54652 235.33433 129.98292 112.36309  95.40730 115.12745 \n",
              "      161       162       163       164       165       166       167       168 \n",
              "103.81487 133.39518 145.12209 252.18078 107.96609 109.68012 205.48372 157.61920 \n",
              "      169       170       171       172       173       174       175       176 \n",
              "335.87164 129.78675 104.30715 122.58325 107.65715 155.77814 192.88591 132.44722 \n",
              "      177       178       179       180       181       182       183       184 \n",
              "124.90627 161.22416 146.97890 172.65453 156.88930 138.04612 147.78999 105.70978 \n",
              "      185       186       187       188       189       190       191       192 \n",
              " 84.15273 119.96755 135.29629 188.07465 152.01853 176.89708 208.93700 122.29285 \n",
              "      193       194       195       196       197       198       199       200 \n",
              "101.79888 217.57679 311.92460 422.66040 146.13755 208.75334 174.81325 162.07359 \n",
              "      201       202       203       204       205       206       207       208 \n",
              "188.39266 153.96680 143.37466 280.98589 114.37008 143.32200 125.64375 116.28987 \n",
              "      209       210       211       212       213       214       215       216 \n",
              "201.87817 178.08570 184.36621  93.81566 136.76489 126.91688 166.15096 306.69792 \n",
              "      217       218       219       220       221       222       223       224 \n",
              " 95.29145 117.23093 159.66564 132.10807 173.79091 146.00277 133.63663 121.62631 \n",
              "      225       226       227       228       229       230       231       232 \n",
              " 97.21256 106.93639 293.74171 123.58308 132.64558 174.69665 165.56459 159.11588 \n",
              "      233       234       235       236       237       238       239       240 \n",
              "143.73231 195.01836 170.92051 150.31797 124.45347 193.46750 144.50236 179.82375 \n",
              "      241       242       243       244       245       246       247       248 \n",
              "144.94738 114.76699 120.72620 212.49944 109.05998 120.63005 128.28325 140.96041 \n",
              "      249       250       251       252       253       254       255       256 \n",
              "173.86422 151.23511 129.06753 147.89922 165.91154 126.12563 115.79358 234.77877 \n",
              "      257       258       259       260       261       262       263       264 \n",
              "379.91845 112.28088 126.88827 159.14930 120.79243  94.39291 162.14498 104.67587 \n",
              "      265       266       267       268       269       270       271       272 \n",
              "254.14020 274.78924 177.73799 108.59129 139.06728 129.16089 244.42113 130.71943 \n",
              "      273       274       275       276       277       278       279       280 \n",
              " 89.80472 160.62628 110.20825 173.14980 124.41263 106.21937 134.00720 192.20824 \n",
              "      281       282       283       284       285       286       287       288 \n",
              "135.25411 134.04900 131.98479 223.70011 109.20869 132.90887 140.58587 146.71132 \n",
              "      289       290       291       292       293       294       295       296 \n",
              "348.80752 180.41977 142.14897 150.61344 158.65492 116.33833 109.30223 117.44938 \n",
              "      297       298       299       300       301       302       303       304 \n",
              "114.24591 119.68676 114.12682 181.16466  85.81296 210.29047 131.68068 134.11066 \n",
              "      305       306       307       308       309       310       311       312 \n",
              "217.88971 147.69480 177.66960 263.77231 141.48808 135.43804 135.86283 156.34707 \n",
              "      313       314       315       316       317       318       319       320 \n",
              "144.36574 202.52964 120.42903  94.07792 202.27102  78.88264 134.99630 164.12311 \n",
              "      321       322       323       324       325       326       327       328 \n",
              "168.85073 121.28050 175.27683 211.30198 129.53463 123.93756 196.78308 145.11281 \n",
              "      329       330       331       332       333       334       335       336 \n",
              "136.68761 101.28702 127.90872 146.60893 264.57946 213.07514 112.89587 143.60622 \n",
              "      337       338       339       340       341       342       343       344 \n",
              "143.86225 147.34963 183.00320 129.99756 201.79209 245.75062  82.49183 240.10565 \n",
              "      345       346       347       348       349       350       351       352 \n",
              "200.20779 307.18763  99.65728 157.65257 132.83503 155.24978 134.42925 148.63407 \n",
              "      353       354       355       356       357       358       359       360 \n",
              "165.09131 101.61225  89.09102 109.96622 164.51398 127.09167 157.80564 138.94671 \n",
              "      361       362       363       364       365       366       367       368 \n",
              "101.81068 115.17742 133.47548 136.48899 154.04406 142.85588 202.33855 110.02322 \n",
              "      369       370       371       372       373       374       375       376 \n",
              "115.97879 118.29291 273.18627 333.92343 113.32123 124.83650 183.89710 145.01153 \n",
              "      377       378       379       380       381       382       383       384 \n",
              "105.13586 127.93050 485.03393 302.10454 202.83058 135.48754 231.22995 119.64571 \n",
              "      385       386       387       388       389       390       391       392 \n",
              "124.70026 194.00363 143.73290 163.77714  92.68658  99.03981 155.53627 117.36135 \n",
              "      393       394       395       396       397       398       399       400 \n",
              "208.86808 200.49701 160.88709 289.01014 151.83614 183.38128 173.06320 161.96812 \n",
              "      401       402       403       404       405       406       407       408 \n",
              "325.11539 270.11066 123.73045  99.96740  80.38586 160.95546 168.36118 172.84042 \n",
              "      409       410       411       412       413       414       415       416 \n",
              "125.25395 125.66996 141.26064  85.77223 128.42610 166.00692 128.35918 148.99306 \n",
              "      417       418       419       420       421       422       423       424 \n",
              " 65.42276 297.23476 187.36096 120.27737 190.40735 163.33128 161.33787 152.35258 \n",
              "      425       426       427       428       429       430       431       432 \n",
              "124.94385 133.67660 196.66537 124.95574 271.63772 211.83606 134.82457 138.69589 \n",
              "      433       434       435       436       437       438       439       440 \n",
              "163.53266 100.85198 120.41960 109.23824 139.85587 444.29629 134.49627 188.31763 \n",
              "      441       442       443       444       445       446       447       448 \n",
              "161.87048 113.38457 187.38410 190.43538 199.71191 117.05194  98.66797 182.90734 \n",
              "      449       450       451       452       453       454       455       456 \n",
              "100.08647 471.91516 165.67965  92.97218 126.81702 133.53897 115.64739 168.12010 \n",
              "      457       458       459       460       461       462       463       464 \n",
              "177.05839 244.28183 113.76291 123.84995 127.66416 293.78003 166.42338 142.15693 \n",
              "      465       466       467       468       469       470       471       472 \n",
              "108.16152 125.32574 103.78200 141.94228 133.61842 326.33023 103.53123 145.99412 \n",
              "      473       474       475       476       477       478       479       480 \n",
              "156.66420  93.98659 138.13683 289.91448 138.27228 109.25990 153.26565 140.98076 \n",
              "      481       482       483       484       485       486       487       488 \n",
              "187.42423 144.96822 122.29686 195.11472 128.55311 174.39578 153.29902 114.98428 \n",
              "      489       490       491       492       493       494       495       496 \n",
              "109.49166 125.41713 175.03678 167.94280 254.13407 167.37539 283.94491 134.96355 \n",
              "      497       498       499       500 \n",
              "219.68706 239.34442  72.13519 107.87477 "
            ]
          },
          "metadata": {}
        }
      ],
      "source": [
        "new_data_predictions"
      ]
    },
    {
      "cell_type": "markdown",
      "metadata": {
        "id": "t-dgmVswht4U"
      },
      "source": [
        " "
      ]
    },
    {
      "cell_type": "markdown",
      "metadata": {
        "id": "zmLLND6Bht4U"
      },
      "source": [
        "#### Log Transformed Target"
      ]
    },
    {
      "cell_type": "code",
      "execution_count": 91,
      "metadata": {
        "id": "vo3MF48Xht4U"
      },
      "outputs": [],
      "source": [
        "train_data_log = train_data\n",
        "validation_data_log = validation_data\n",
        "\n",
        "train_data_log$TotalRevenueGenerated = log(train_data_log$TotalRevenueGenerated)\n",
        "validation_data_log$TotalRevenueGenerated = log(validation_data_log$TotalRevenueGenerated)"
      ]
    },
    {
      "cell_type": "code",
      "execution_count": 93,
      "metadata": {
        "id": "GdZ7CiRwht4U",
        "colab": {
          "base_uri": "https://localhost:8080/",
          "height": 535
        },
        "outputId": "ee5c0d9c-060c-4536-c7b0-a6ef736daaa4"
      },
      "outputs": [
        {
          "output_type": "display_data",
          "data": {
            "text/plain": [
              "\n",
              "Call:\n",
              "lm(formula = TotalRevenueGenerated ~ ., data = train_data_log)\n",
              "\n",
              "Residuals:\n",
              "     Min       1Q   Median       3Q      Max \n",
              "-1.55567 -0.15451 -0.02813  0.14087  1.05084 \n",
              "\n",
              "Coefficients:\n",
              "                                      Estimate Std. Error t value Pr(>|t|)    \n",
              "(Intercept)                          4.441e+00  3.744e-02 118.604  < 2e-16 ***\n",
              "City2                                4.050e-02  1.491e-02   2.716 0.006665 ** \n",
              "NoOfChildren                         1.959e-02  6.278e-03   3.121 0.001829 ** \n",
              "MinAgeOfChild                        1.745e-02  3.455e-03   5.052 4.72e-07 ***\n",
              "MaxAgeOfChild                       -6.195e-03  2.179e-03  -2.843 0.004509 ** \n",
              "Tenure                              -1.844e-05  5.425e-05  -0.340 0.733956    \n",
              "FrquncyOfPurchase                    5.078e-02  2.594e-03  19.575  < 2e-16 ***\n",
              "NoOfUnitsPurchased                   3.327e-02  1.912e-03  17.400  < 2e-16 ***\n",
              "FrequencyOFPlay                      1.381e-05  3.722e-06   3.710 0.000213 ***\n",
              "NoOfGamesPlayed                     -1.062e-04  8.097e-05  -1.311 0.189841    \n",
              "NoOfGamesBought                     -5.020e-02  1.786e-03 -28.111  < 2e-16 ***\n",
              "FavoriteChannelOfTransactionUniform -7.874e-02  1.278e-02  -6.159 8.65e-10 ***\n",
              "FavoriteGameUniform                 -4.689e-02  2.421e-02  -1.937 0.052916 .  \n",
              "---\n",
              "Signif. codes:  0 ‘***’ 0.001 ‘**’ 0.01 ‘*’ 0.05 ‘.’ 0.1 ‘ ’ 1\n",
              "\n",
              "Residual standard error: 0.2215 on 2219 degrees of freedom\n",
              "Multiple R-squared:  0.6383,\tAdjusted R-squared:  0.6363 \n",
              "F-statistic: 326.3 on 12 and 2219 DF,  p-value: < 2.2e-16\n"
            ]
          },
          "metadata": {}
        }
      ],
      "source": [
        "#Now build a model on the new clean data, with all attributes\n",
        "model_log <- lm(TotalRevenueGenerated~., data = train_data_log)\n",
        "summary(model_log)"
      ]
    },
    {
      "cell_type": "code",
      "execution_count": 94,
      "metadata": {
        "id": "9_71STZQht4V",
        "colab": {
          "base_uri": "https://localhost:8080/",
          "height": 617
        },
        "outputId": "5a624ce7-2685-4277-ec4a-998c1678b8d3"
      },
      "outputs": [
        {
          "output_type": "display_data",
          "data": {
            "text/plain": [
              "Plot with title “”"
            ],
            "image/png": "[encoded data removed]"
          },
          "metadata": {
            "image/png": {
              "width": 600,
              "height": 600
            }
          }
        }
      ],
      "source": [
        "#Residual analysis\n",
        "\n",
        "options(repr.plot.width = 10, repr.plot.height = 10)\n",
        "\n",
        "par(mfrow=c(2,2))\n",
        "plot(model_log,col='darkgreen')"
      ]
    },
    {
      "cell_type": "code",
      "execution_count": 95,
      "metadata": {
        "id": "0x5v_CWhht4V",
        "colab": {
          "base_uri": "https://localhost:8080/",
          "height": 885
        },
        "outputId": "bdc4f66f-51b9-4734-9cac-202c65c9cc78"
      },
      "outputs": [
        {
          "output_type": "display_data",
          "data": {
            "text/html": [
              "<style>\n",
              ".dl-inline {width: auto; margin:0; padding: 0}\n",
              ".dl-inline>dt, .dl-inline>dd {float: none; width: auto; display: inline-block}\n",
              ".dl-inline>dt::after {content: \":\\0020\"; padding-right: .5ex}\n",
              ".dl-inline>dt:not(:first-of-type) {padding-left: .5ex}\n",
              "</style><dl class=dl-inline><dt>1023</dt><dd>4.97008326061142</dd><dt>682</dt><dd>4.71114020340351</dd><dt>2192</dt><dd>4.85802545149555</dd><dt>936</dt><dd>5.00324641281617</dd><dt>1542</dt><dd>5.15529518336835</dd><dt>471</dt><dd>5.08162306503269</dd><dt>2364</dt><dd>4.86911539167536</dd><dt>270</dt><dd>4.94819905261153</dd><dt>1219</dt><dd>4.89453149779211</dd><dt>599</dt><dd>4.93357791123844</dd><dt>1309</dt><dd>5.11308959095313</dd><dt>1989</dt><dd>5.20290798982443</dd><dt>330</dt><dd>5.05754014377734</dd><dt>1811</dt><dd>4.89588283137154</dd><dt>1625</dt><dd>5.44331177542666</dd><dt>1761</dt><dd>5.70183482864968</dd><dt>37</dt><dd>5.28935874038689</dd><dt>1136</dt><dd>5.38694711286961</dd><dt>732</dt><dd>4.91564161067756</dd><dt>883</dt><dd>4.95566570174011</dd><dt>485</dt><dd>5.23395456529957</dd><dt>1840</dt><dd>4.87552890207512</dd><dt>2942</dt><dd>4.73432863043298</dd><dt>2447</dt><dd>5.11099888274379</dd><dt>981</dt><dd>5.65064767879437</dd><dt>2869</dt><dd>4.8577214541883</dd><dt>2920</dt><dd>5.34812757861428</dd><dt>2999</dt><dd>5.08222797673908</dd><dt>2391</dt><dd>4.85624903592072</dd><dt>2395</dt><dd>4.84802164555017</dd><dt>554</dt><dd>4.95452236274133</dd><dt>1455</dt><dd>5.13310929443545</dd><dt>2174</dt><dd>4.89052793138799</dd><dt>1963</dt><dd>5.3177168358033</dd><dt>2597</dt><dd>4.94184925588891</dd><dt>1539</dt><dd>4.95498331988957</dd><dt>2621</dt><dd>5.01792671305703</dd><dt>2957</dt><dd>5.23186099376634</dd><dt>343</dt><dd>4.88588504945037</dd><dt>2648</dt><dd>4.79948975549474</dd><dt>40</dt><dd>5.21805662084155</dd><dt>537</dt><dd>4.92334560104839</dd><dt>2440</dt><dd>5.02954892665574</dd><dt>248</dt><dd>4.89322320359491</dd><dt>1230</dt><dd>5.03315365115782</dd><dt>2443</dt><dd>4.87672465098133</dd><dt>2102</dt><dd>4.90116522907356</dd><dt>2500</dt><dd>5.50488496542075</dd><dt>2878</dt><dd>5.33707648065106</dd><dt>1423</dt><dd>4.7565365423864</dd><dt>1312</dt><dd>5.13492255380762</dd><dt>1707</dt><dd>4.78205955538332</dd><dt>526</dt><dd>4.72699064448178</dd><dt>2708</dt><dd>5.21630497093411</dd><dt>1075</dt><dd>4.97678220657214</dd><dt>1435</dt><dd>4.82346964957777</dd><dt>22</dt><dd>5.08066143281349</dd><dt>1754</dt><dd>5.08107739624258</dd><dt>1778</dt><dd>5.0945758287167</dd><dt>2256</dt><dd>4.85826177167795</dd><dt>1403</dt><dd>4.78443370146028</dd><dt>2564</dt><dd>5.09115049146761</dd><dt>1135</dt><dd>5.14608650204766</dd><dt>989</dt><dd>4.93976763295776</dd><dt>1803</dt><dd>4.97001733580469</dd><dt>1525</dt><dd>5.20738221235116</dd><dt>1650</dt><dd>4.86306108791463</dd><dt>1649</dt><dd>4.74626549176362</dd><dt>847</dt><dd>4.93520711831428</dd><dt>465</dt><dd>5.59801984413217</dd><dt>1002</dt><dd>4.86003358738736</dd><dt>1558</dt><dd>4.82635395279368</dd><dt>1208</dt><dd>6.36747612950007</dd><dt>1141</dt><dd>5.327114846012</dd><dt>84</dt><dd>5.15050422345658</dd><dt>1910</dt><dd>5.21226217919994</dd><dt>3121</dt><dd>4.83853187142302</dd><dt>1173</dt><dd>5.4119521124609</dd><dt>2316</dt><dd>4.90486963893608</dd><dt>2801</dt><dd>5.08741798970937</dd><dt>3176</dt><dd>5.39511971191367</dd><dt>2686</dt><dd>5.30383168881434</dd><dt>1336</dt><dd>4.78857677083447</dd><dt>557</dt><dd>4.99979800975618</dd><dt>1696</dt><dd>5.0329155916488</dd><dt>287</dt><dd>4.91297829506423</dd><dt>2680</dt><dd>5.23917387284417</dd><dt>2394</dt><dd>5.03348762540906</dd><dt>2552</dt><dd>4.89868332490465</dd><dt>2923</dt><dd>4.93197674492648</dd><dt>2919</dt><dd>5.001543017573</dd><dt>1531</dt><dd>5.23592379448795</dd><dt>862</dt><dd>5.50522203050076</dd><dt>1854</dt><dd>4.92658795626803</dd><dt>2685</dt><dd>5.16236102722822</dd><dt>577</dt><dd>5.19063205894686</dd><dt>996</dt><dd>4.96663708074751</dd><dt>3091</dt><dd>5.04275845171541</dd><dt>316</dt><dd>5.26443206147737</dd><dt>1081</dt><dd>5.08668383166633</dd><dt>736</dt><dd>5.03758073697455</dd><dt>1322</dt><dd>4.89949831654899</dd><dt>2716</dt><dd>5.20736772154605</dd><dt>3207</dt><dd>4.83759809145085</dd><dt>815</dt><dd>5.19762463870028</dd><dt>961</dt><dd>5.19939803494873</dd><dt>2347</dt><dd>4.9391680897577</dd><dt>1175</dt><dd>5.20994065653292</dd><dt>2350</dt><dd>5.18723651571963</dd><dt>1717</dt><dd>4.80585106441113</dd><dt>501</dt><dd>4.75758632997733</dd><dt>2576</dt><dd>5.11286050329824</dd><dt>536</dt><dd>5.27209861514734</dd><dt>2761</dt><dd>4.95240103015057</dd><dt>994</dt><dd>4.97331362386854</dd><dt>2805</dt><dd>5.21046978998274</dd><dt>1073</dt><dd>5.20423754669276</dd><dt>1031</dt><dd>4.82588592373347</dd><dt>29</dt><dd>5.00023205401877</dd><dt>1957</dt><dd>5.39405777946541</dd><dt>842</dt><dd>4.91490113487631</dd><dt>1832</dt><dd>5.31927830494095</dd><dt>1663</dt><dd>5.25300628053898</dd><dt>2297</dt><dd>5.21022590451009</dd><dt>1325</dt><dd>4.85810837147978</dd><dt>574</dt><dd>4.89072042590575</dd><dt>1981</dt><dd>5.08497394022204</dd><dt>369</dt><dd>5.07442068667356</dd><dt>2516</dt><dd>5.12868469362651</dd><dt>86</dt><dd>5.13213457938684</dd><dt>1516</dt><dd>5.77433348161604</dd><dt>2392</dt><dd>4.98283525359313</dd><dt>1656</dt><dd>4.93392425420176</dd><dt>355</dt><dd>4.92448048238106</dd><dt>1857</dt><dd>5.14514514317509</dd><dt>2880</dt><dd>4.854890307786</dd><dt>1079</dt><dd>5.03306995878873</dd><dt>361</dt><dd>4.77698966693382</dd><dt>1348</dt><dd>5.1424369334962</dd><dt>1274</dt><dd>4.89539660875669</dd><dt>2826</dt><dd>4.98047696381894</dd><dt>1855</dt><dd>5.18171482025224</dd><dt>2886</dt><dd>4.89242368243411</dd><dt>247</dt><dd>4.85951145296948</dd><dt>754</dt><dd>4.81249474091947</dd><dt>219</dt><dd>4.95025168815324</dd><dt>135</dt><dd>4.87937711059078</dd><dt>111</dt><dd>4.70519756512046</dd><dt>532</dt><dd>5.04190230437502</dd><dt>2442</dt><dd>4.82217229355837</dd><dt>408</dt><dd>5.03591749542149</dd><dt>1598</dt><dd>5.07586506823252</dd><dt>918</dt><dd>4.94537890363844</dd><dt>2532</dt><dd>5.09252946689285</dd><dt>2193</dt><dd>4.95073436290437</dd><dt>3116</dt><dd>4.97136458845209</dd><dt>1850</dt><dd>4.96389552499008</dd><dt>359</dt><dd>5.14443232513846</dd><dt>2168</dt><dd>4.98124824531087</dd><dt>1156</dt><dd>5.12340619114532</dd><dt>2057</dt><dd>5.71142725581469</dd><dt>1108</dt><dd>4.89882665238587</dd><dt>1250</dt><dd>5.04122755961253</dd><dt>1226</dt><dd>4.74563196999628</dd><dt>19</dt><dd>5.0820591528229</dd><dt>273</dt><dd>4.70072711842968</dd><dt>418</dt><dd>5.08657921607578</dd><dt>2010</dt><dd>5.12688954611352</dd><dt>1576</dt><dd>5.07408317549851</dd><dt>2484</dt><dd>4.92672035294154</dd><dt>871</dt><dd>5.38509698013341</dd><dt>689</dt><dd>5.25384430698366</dd><dt>403</dt><dd>4.83368694810323</dd><dt>1620</dt><dd>4.96626920192746</dd><dt>1046</dt><dd>5.28247053454312</dd><dt>1070</dt><dd>4.87746979520882</dd><dt>1813</dt><dd>5.18247601906474</dd><dt>822</dt><dd>4.95368790618326</dd><dt>2670</dt><dd>4.8897752256969</dd><dt>637</dt><dd>4.83192374827716</dd><dt>667</dt><dd>5.60860202061433</dd><dt>722</dt><dd>4.9888808003949</dd><dt>500</dt><dd>5.54458424707151</dd><dt>2829</dt><dd>5.34970841557306</dd><dt>2739</dt><dd>5.16778525411044</dd><dt>2293</dt><dd>5.07567147355225</dd><dt>423</dt><dd>4.87383641471647</dd><dt>421</dt><dd>5.5829512668669</dd><dt>995</dt><dd>4.7392943596674</dd><dt>140</dt><dd>4.96910579499342</dd><dt>126</dt><dd>4.88939442182577</dd><dt>1004</dt><dd>5.00475196120762</dd><dt>3035</dt><dd>4.75011578642071</dd><dt>2336</dt><dd>4.8971298165797</dd><dt>1162</dt><dd>5.05233143035141</dd><dt>2643</dt><dd>4.76629350333097</dd><dt>1545</dt><dd>4.8248994843001</dd><dt>504</dt><dd>4.95724259714882</dd><dt>1490</dt><dd>4.97789635587262</dd><dt>358</dt><dd>4.79560591617704</dd><dt>788</dt><dd>⋯</dd><dt>2190</dt><dd>4.79041175335401</dd><dt>2711</dt><dd>4.97776259348386</dd><dt>1581</dt><dd>5.25802423435596</dd><dt>305</dt><dd>5.13343056550953</dd><dt>1847</dt><dd>5.30486980050283</dd><dt>2478</dt><dd>4.93923522277171</dd><dt>987</dt><dd>4.68047321058</dd><dt>2642</dt><dd>4.97831968860282</dd><dt>129</dt><dd>4.94613502499112</dd><dt>309</dt><dd>4.91553067660008</dd><dt>3187</dt><dd>5.04393142176701</dd><dt>441</dt><dd>4.88765641840732</dd><dt>2924</dt><dd>5.07015530437951</dd><dt>3182</dt><dd>5.03770320460821</dd><dt>470</dt><dd>4.82296519724368</dd><dt>2627</dt><dd>4.86219613798027</dd><dt>1368</dt><dd>5.16198143470303</dd><dt>1836</dt><dd>5.47576071062908</dd><dt>1802</dt><dd>5.25037582290348</dd><dt>349</dt><dd>4.66866316677834</dd><dt>900</dt><dd>5.02748829082578</dd><dt>592</dt><dd>5.07657368836963</dd><dt>1971</dt><dd>5.17587016798722</dd><dt>474</dt><dd>5.77899653346765</dd><dt>2231</dt><dd>5.37011748696594</dd><dt>2566</dt><dd>4.92080386295011</dd><dt>3022</dt><dd>5.18746264612931</dd><dt>2908</dt><dd>5.01041006445363</dd><dt>958</dt><dd>4.85233643620168</dd><dt>455</dt><dd>5.38377919664015</dd><dt>2421</dt><dd>5.01357802421848</dd><dt>2136</dt><dd>5.046415108701</dd><dt>1586</dt><dd>4.75460159997387</dd><dt>15</dt><dd>4.93552954191195</dd><dt>62</dt><dd>5.18341656146101</dd><dt>390</dt><dd>4.76861367340486</dd><dt>1679</dt><dd>5.06604763949885</dd><dt>1065</dt><dd>4.69251052733788</dd><dt>381</dt><dd>5.36134470550171</dd><dt>1906</dt><dd>5.97150027791059</dd><dt>2140</dt><dd>4.89421702056091</dd><dt>3192</dt><dd>4.95199407698568</dd><dt>1359</dt><dd>5.19546437234981</dd><dt>2732</dt><dd>5.74342474341061</dd><dt>2094</dt><dd>5.0517718394733</dd><dt>2614</dt><dd>5.05870721570907</dd><dt>2027</dt><dd>5.05062100827667</dd><dt>2811</dt><dd>5.30637021165732</dd><dt>1058</dt><dd>5.44531039691322</dd><dt>2125</dt><dd>5.09948201564857</dd><dt>1180</dt><dd>5.22555059037753</dd><dt>800</dt><dd>5.03208288826451</dd><dt>3161</dt><dd>4.90694228682352</dd><dt>1605</dt><dd>5.41796251837404</dd><dt>967</dt><dd>5.00327996855149</dd><dt>334</dt><dd>4.8647658246395</dd><dt>2964</dt><dd>5.5103544215626</dd><dt>1300</dt><dd>5.20878759845717</dd><dt>2156</dt><dd>4.80936727792804</dd><dt>2782</dt><dd>4.87392969669831</dd><dt>613</dt><dd>4.90825096336837</dd><dt>1273</dt><dd>5.87437439244606</dd><dt>2096</dt><dd>4.94242793458655</dd><dt>2502</dt><dd>4.60592207932973</dd><dt>3080</dt><dd>5.19197635090092</dd><dt>2281</dt><dd>5.17085224072925</dd><dt>2860</dt><dd>4.86956380728735</dd><dt>2873</dt><dd>4.95714158555245</dd><dt>2171</dt><dd>5.41069252417183</dd><dt>3016</dt><dd>4.86621111658542</dd><dt>1302</dt><dd>4.84531558141887</dd><dt>3065</dt><dd>4.85875533925351</dd><dt>2273</dt><dd>4.91229478978838</dd><dt>1370</dt><dd>5.24207442552813</dd><dt>1643</dt><dd>4.83254250702798</dd><dt>1772</dt><dd>5.24174488413307</dd><dt>1617</dt><dd>5.02225444861141</dd><dt>3058</dt><dd>5.00964671729353</dd><dt>568</dt><dd>5.19098823688842</dd><dt>1008</dt><dd>5.19387782102343</dd><dt>746</dt><dd>5.02395203504304</dd><dt>1747</dt><dd>5.07402796684643</dd><dt>2836</dt><dd>5.08892401053446</dd><dt>2264</dt><dd>6.11860692606487</dd><dt>1386</dt><dd>4.94737678090953</dd><dt>116</dt><dd>5.27534440874282</dd><dt>2058</dt><dd>5.09209689671046</dd><dt>2709</dt><dd>4.9688854726778</dd><dt>1265</dt><dd>4.74942000427123</dd><dt>1703</dt><dd>4.94269718611746</dd><dt>1472</dt><dd>4.87597682761527</dd><dt>1229</dt><dd>5.01766705028858</dd><dt>462</dt><dd>4.95711184816587</dd><dt>1972</dt><dd>5.16100294637995</dd><dt>3203</dt><dd>5.17320389598604</dd><dt>2299</dt><dd>4.97979938146987</dd><dt>2578</dt><dd>5.01032677571565</dd><dt>1507</dt><dd>4.7028469144795</dd><dt>2236</dt><dd>5.30205085763958</dd><dt>1114</dt><dd>5.09916519824304</dd><dt>2911</dt><dd>5.18414682423349</dd><dt>407</dt><dd>4.83766378529812</dd><dt>2389</dt><dd>4.9363362940359</dd><dt>2048</dt><dd>4.9485821842544</dd><dt>734</dt><dd>4.93900460482821</dd><dt>185</dt><dd>5.1604760523815</dd><dt>2833</dt><dd>5.46271859000026</dd><dt>1212</dt><dd>4.90349537693151</dd><dt>2529</dt><dd>5.1475315847075</dd><dt>493</dt><dd>4.8329848644093</dd><dt>678</dt><dd>4.90718544590014</dd><dt>972</dt><dd>4.77044994955606</dd><dt>2509</dt><dd>5.0174568037417</dd><dt>1199</dt><dd>4.9523839093095</dd><dt>2112</dt><dd>5.34613715956055</dd><dt>2032</dt><dd>5.13777318325773</dd><dt>1504</dt><dd>4.79405716296458</dd><dt>1708</dt><dd>4.93338740767667</dd><dt>291</dt><dd>4.97641769474588</dd><dt>656</dt><dd>5.06003963228333</dd><dt>3066</dt><dd>5.17163722619451</dd><dt>2499</dt><dd>4.81446186240727</dd><dt>2809</dt><dd>4.83628741810209</dd><dt>2741</dt><dd>4.93547146516446</dd><dt>56</dt><dd>4.94239967040469</dd><dt>940</dt><dd>5.36859700911088</dd><dt>329</dt><dd>4.71425480141743</dd><dt>494</dt><dd>5.43492188278803</dd><dt>1770</dt><dd>5.35610621620703</dd><dt>2882</dt><dd>5.03449703164773</dd><dt>2167</dt><dd>4.90578833182642</dd><dt>1033</dt><dd>5.33269306598219</dd><dt>2725</dt><dd>5.00042776993132</dd><dt>161</dt><dd>4.90948612007669</dd><dt>2449</dt><dd>5.19504106818635</dd><dt>2501</dt><dd>4.86819164877447</dd><dt>127</dt><dd>5.13780526231616</dd><dt>260</dt><dd>4.88159701467392</dd><dt>720</dt><dd>5.63229725992266</dd><dt>60</dt><dd>4.92536951077355</dd><dt>1871</dt><dd>4.98648004826986</dd><dt>2513</dt><dd>4.8970861072934</dd><dt>2553</dt><dd>4.96104787577219</dd><dt>181</dt><dd>5.0644600314033</dd><dt>1543</dt><dd>5.37048158620516</dd><dt>1165</dt><dd>4.99590524530167</dd><dt>1652</dt><dd>4.96684407060816</dd><dt>1461</dt><dd>5.0491538377571</dd><dt>2890</dt><dd>4.88326681874542</dd><dt>679</dt><dd>5.00469590187338</dd><dt>2008</dt><dd>5.01867419151023</dd><dt>3167</dt><dd>4.81488903192969</dd><dt>614</dt><dd>5.01329205970563</dd><dt>1710</dt><dd>4.80100421542175</dd><dt>148</dt><dd>4.88434502141373</dd><dt>150</dt><dd>4.79030882637978</dd><dt>121</dt><dd>4.85020423937391</dd><dt>169</dt><dd>4.73373611755184</dd><dt>601</dt><dd>5.17687993066278</dd><dt>1500</dt><dd>4.77201124306293</dd><dt>108</dt><dd>4.89925194364362</dd><dt>2835</dt><dd>4.85389781427792</dd><dt>2595</dt><dd>4.84666455337465</dd><dt>1589</dt><dd>4.84221734391795</dd><dt>1456</dt><dd>4.76315832877976</dd><dt>1122</dt><dd>5.1465845446594</dd><dt>2227</dt><dd>5.16331322632121</dd><dt>51</dt><dd>5.21545658213877</dd><dt>2182</dt><dd>5.04677683019868</dd><dt>2530</dt><dd>5.08487565574104</dd><dt>3024</dt><dd>5.24014348457445</dd><dt>2114</dt><dd>4.7945724446515</dd><dt>1795</dt><dd>4.82024627822583</dd><dt>2446</dt><dd>4.87552971575943</dd><dt>436</dt><dd>4.94788459233267</dd><dt>2152</dt><dd>5.24618526668015</dd><dt>1956</dt><dd>4.93444644173155</dd><dt>533</dt><dd>5.09314789451809</dd><dt>2657</dt><dd>5.04895435801512</dd><dt>1922</dt><dd>4.91684977934831</dd><dt>1389</dt><dd>4.84256087883576</dd><dt>2772</dt><dd>5.10790653864459</dd><dt>1505</dt><dd>4.73020218824172</dd><dt>850</dt><dd>5.47999993540036</dd><dt>1102</dt><dd>5.2091532103131</dd><dt>1417</dt><dd>5.07339654990027</dd><dt>2380</dt><dd>5.12805000992331</dd><dt>3064</dt><dd>4.79053374780381</dd><dt>3117</dt><dd>4.89303551639871</dd><dt>570</dt><dd>5.51466448166059</dd><dt>1303</dt><dd>5.02661308129974</dd><dt>1941</dt><dd>4.95965639063334</dd><dt>1579</dt><dd>4.89156785370703</dd><dt>1825</dt><dd>4.93740737894773</dd><dt>1607</dt><dd>5.47463862849858</dd><dt>2981</dt><dd>4.83233039161543</dd><dt>1200</dt><dd>4.98167676969123</dd><dt>1872</dt><dd>4.9196312707869</dd><dt>1071</dt><dd>4.84785064716041</dd><dt>636</dt><dd>4.92335744854987</dd></dl>\n"
            ],
            "text/markdown": "1023\n:   4.97008326061142682\n:   4.711140203403512192\n:   4.85802545149555936\n:   5.003246412816171542\n:   5.15529518336835471\n:   5.081623065032692364\n:   4.86911539167536270\n:   4.948199052611531219\n:   4.89453149779211599\n:   4.933577911238441309\n:   5.113089590953131989\n:   5.20290798982443330\n:   5.057540143777341811\n:   4.895882831371541625\n:   5.443311775426661761\n:   5.7018348286496837\n:   5.289358740386891136\n:   5.38694711286961732\n:   4.91564161067756883\n:   4.95566570174011485\n:   5.233954565299571840\n:   4.875528902075122942\n:   4.734328630432982447\n:   5.11099888274379981\n:   5.650647678794372869\n:   4.85772145418832920\n:   5.348127578614282999\n:   5.082227976739082391\n:   4.856249035920722395\n:   4.84802164555017554\n:   4.954522362741331455\n:   5.133109294435452174\n:   4.890527931387991963\n:   5.31771683580332597\n:   4.941849255888911539\n:   4.954983319889572621\n:   5.017926713057032957\n:   5.23186099376634343\n:   4.885885049450372648\n:   4.7994897554947440\n:   5.21805662084155537\n:   4.923345601048392440\n:   5.02954892665574248\n:   4.893223203594911230\n:   5.033153651157822443\n:   4.876724650981332102\n:   4.901165229073562500\n:   5.504884965420752878\n:   5.337076480651061423\n:   4.75653654238641312\n:   5.134922553807621707\n:   4.78205955538332526\n:   4.726990644481782708\n:   5.216304970934111075\n:   4.976782206572141435\n:   4.8234696495777722\n:   5.080661432813491754\n:   5.081077396242581778\n:   5.09457582871672256\n:   4.858261771677951403\n:   4.784433701460282564\n:   5.091150491467611135\n:   5.14608650204766989\n:   4.939767632957761803\n:   4.970017335804691525\n:   5.207382212351161650\n:   4.863061087914631649\n:   4.74626549176362847\n:   4.93520711831428465\n:   5.598019844132171002\n:   4.860033587387361558\n:   4.826353952793681208\n:   6.367476129500071141\n:   5.32711484601284\n:   5.150504223456581910\n:   5.212262179199943121\n:   4.838531871423021173\n:   5.41195211246092316\n:   4.904869638936082801\n:   5.087417989709373176\n:   5.395119711913672686\n:   5.303831688814341336\n:   4.78857677083447557\n:   4.999798009756181696\n:   5.0329155916488287\n:   4.912978295064232680\n:   5.239173872844172394\n:   5.033487625409062552\n:   4.898683324904652923\n:   4.931976744926482919\n:   5.0015430175731531\n:   5.23592379448795862\n:   5.505222030500761854\n:   4.926587956268032685\n:   5.16236102722822577\n:   5.19063205894686996\n:   4.966637080747513091\n:   5.04275845171541316\n:   5.264432061477371081\n:   5.08668383166633736\n:   5.037580736974551322\n:   4.899498316548992716\n:   5.207367721546053207\n:   4.83759809145085815\n:   5.19762463870028961\n:   5.199398034948732347\n:   4.93916808975771175\n:   5.209940656532922350\n:   5.187236515719631717\n:   4.80585106441113501\n:   4.757586329977332576\n:   5.11286050329824536\n:   5.272098615147342761\n:   4.95240103015057994\n:   4.973313623868542805\n:   5.210469789982741073\n:   5.204237546692761031\n:   4.8258859237334729\n:   5.000232054018771957\n:   5.39405777946541842\n:   4.914901134876311832\n:   5.319278304940951663\n:   5.253006280538982297\n:   5.210225904510091325\n:   4.85810837147978574\n:   4.890720425905751981\n:   5.08497394022204369\n:   5.074420686673562516\n:   5.1286846936265186\n:   5.132134579386841516\n:   5.774333481616042392\n:   4.982835253593131656\n:   4.93392425420176355\n:   4.924480482381061857\n:   5.145145143175092880\n:   4.8548903077861079\n:   5.03306995878873361\n:   4.776989666933821348\n:   5.14243693349621274\n:   4.895396608756692826\n:   4.980476963818941855\n:   5.181714820252242886\n:   4.89242368243411247\n:   4.85951145296948754\n:   4.81249474091947219\n:   4.95025168815324135\n:   4.87937711059078111\n:   4.70519756512046532\n:   5.041902304375022442\n:   4.82217229355837408\n:   5.035917495421491598\n:   5.07586506823252918\n:   4.945378903638442532\n:   5.092529466892852193\n:   4.950734362904373116\n:   4.971364588452091850\n:   4.96389552499008359\n:   5.144432325138462168\n:   4.981248245310871156\n:   5.123406191145322057\n:   5.711427255814691108\n:   4.898826652385871250\n:   5.041227559612531226\n:   4.7456319699962819\n:   5.0820591528229273\n:   4.70072711842968418\n:   5.086579216075782010\n:   5.126889546113521576\n:   5.074083175498512484\n:   4.92672035294154871\n:   5.38509698013341689\n:   5.25384430698366403\n:   4.833686948103231620\n:   4.966269201927461046\n:   5.282470534543121070\n:   4.877469795208821813\n:   5.18247601906474822\n:   4.953687906183262670\n:   4.8897752256969637\n:   4.83192374827716667\n:   5.60860202061433722\n:   4.9888808003949500\n:   5.544584247071512829\n:   5.349708415573062739\n:   5.167785254110442293\n:   5.07567147355225423\n:   4.87383641471647421\n:   5.5829512668669995\n:   4.7392943596674140\n:   4.96910579499342126\n:   4.889394421825771004\n:   5.004751961207623035\n:   4.750115786420712336\n:   4.89712981657971162\n:   5.052331430351412643\n:   4.766293503330971545\n:   4.8248994843001504\n:   4.957242597148821490\n:   4.97789635587262358\n:   4.79560591617704788\n:   ⋯2190\n:   4.790411753354012711\n:   4.977762593483861581\n:   5.25802423435596305\n:   5.133430565509531847\n:   5.304869800502832478\n:   4.93923522277171987\n:   4.680473210582642\n:   4.97831968860282129\n:   4.94613502499112309\n:   4.915530676600083187\n:   5.04393142176701441\n:   4.887656418407322924\n:   5.070155304379513182\n:   5.03770320460821470\n:   4.822965197243682627\n:   4.862196137980271368\n:   5.161981434703031836\n:   5.475760710629081802\n:   5.25037582290348349\n:   4.66866316677834900\n:   5.02748829082578592\n:   5.076573688369631971\n:   5.17587016798722474\n:   5.778996533467652231\n:   5.370117486965942566\n:   4.920803862950113022\n:   5.187462646129312908\n:   5.01041006445363958\n:   4.85233643620168455\n:   5.383779196640152421\n:   5.013578024218482136\n:   5.0464151087011586\n:   4.7546015999738715\n:   4.9355295419119562\n:   5.18341656146101390\n:   4.768613673404861679\n:   5.066047639498851065\n:   4.69251052733788381\n:   5.361344705501711906\n:   5.971500277910592140\n:   4.894217020560913192\n:   4.951994076985681359\n:   5.195464372349812732\n:   5.743424743410612094\n:   5.05177183947332614\n:   5.058707215709072027\n:   5.050621008276672811\n:   5.306370211657321058\n:   5.445310396913222125\n:   5.099482015648571180\n:   5.22555059037753800\n:   5.032082888264513161\n:   4.906942286823521605\n:   5.41796251837404967\n:   5.00327996855149334\n:   4.86476582463952964\n:   5.51035442156261300\n:   5.208787598457172156\n:   4.809367277928042782\n:   4.87392969669831613\n:   4.908250963368371273\n:   5.874374392446062096\n:   4.942427934586552502\n:   4.605922079329733080\n:   5.191976350900922281\n:   5.170852240729252860\n:   4.869563807287352873\n:   4.957141585552452171\n:   5.410692524171833016\n:   4.866211116585421302\n:   4.845315581418873065\n:   4.858755339253512273\n:   4.912294789788381370\n:   5.242074425528131643\n:   4.832542507027981772\n:   5.241744884133071617\n:   5.022254448611413058\n:   5.00964671729353568\n:   5.190988236888421008\n:   5.19387782102343746\n:   5.023952035043041747\n:   5.074027966846432836\n:   5.088924010534462264\n:   6.118606926064871386\n:   4.94737678090953116\n:   5.275344408742822058\n:   5.092096896710462709\n:   4.96888547267781265\n:   4.749420004271231703\n:   4.942697186117461472\n:   4.875976827615271229\n:   5.01766705028858462\n:   4.957111848165871972\n:   5.161002946379953203\n:   5.173203895986042299\n:   4.979799381469872578\n:   5.010326775715651507\n:   4.70284691447952236\n:   5.302050857639581114\n:   5.099165198243042911\n:   5.18414682423349407\n:   4.837663785298122389\n:   4.93633629403592048\n:   4.9485821842544734\n:   4.93900460482821185\n:   5.16047605238152833\n:   5.462718590000261212\n:   4.903495376931512529\n:   5.1475315847075493\n:   4.8329848644093678\n:   4.90718544590014972\n:   4.770449949556062509\n:   5.01745680374171199\n:   4.95238390930952112\n:   5.346137159560552032\n:   5.137773183257731504\n:   4.794057162964581708\n:   4.93338740767667291\n:   4.97641769474588656\n:   5.060039632283333066\n:   5.171637226194512499\n:   4.814461862407272809\n:   4.836287418102092741\n:   4.9354714651644656\n:   4.94239967040469940\n:   5.36859700911088329\n:   4.71425480141743494\n:   5.434921882788031770\n:   5.356106216207032882\n:   5.034497031647732167\n:   4.905788331826421033\n:   5.332693065982192725\n:   5.00042776993132161\n:   4.909486120076692449\n:   5.195041068186352501\n:   4.86819164877447127\n:   5.13780526231616260\n:   4.88159701467392720\n:   5.6322972599226660\n:   4.925369510773551871\n:   4.986480048269862513\n:   4.89708610729342553\n:   4.96104787577219181\n:   5.06446003140331543\n:   5.370481586205161165\n:   4.995905245301671652\n:   4.966844070608161461\n:   5.04915383775712890\n:   4.88326681874542679\n:   5.004695901873382008\n:   5.018674191510233167\n:   4.81488903192969614\n:   5.013292059705631710\n:   4.80100421542175148\n:   4.88434502141373150\n:   4.79030882637978121\n:   4.85020423937391169\n:   4.73373611755184601\n:   5.176879930662781500\n:   4.77201124306293108\n:   4.899251943643622835\n:   4.853897814277922595\n:   4.846664553374651589\n:   4.842217343917951456\n:   4.763158328779761122\n:   5.14658454465942227\n:   5.1633132263212151\n:   5.215456582138772182\n:   5.046776830198682530\n:   5.084875655741043024\n:   5.240143484574452114\n:   4.79457244465151795\n:   4.820246278225832446\n:   4.87552971575943436\n:   4.947884592332672152\n:   5.246185266680151956\n:   4.93444644173155533\n:   5.093147894518092657\n:   5.048954358015121922\n:   4.916849779348311389\n:   4.842560878835762772\n:   5.107906538644591505\n:   4.73020218824172850\n:   5.479999935400361102\n:   5.20915321031311417\n:   5.073396549900272380\n:   5.128050009923313064\n:   4.790533747803813117\n:   4.89303551639871570\n:   5.514664481660591303\n:   5.026613081299741941\n:   4.959656390633341579\n:   4.891567853707031825\n:   4.937407378947731607\n:   5.474638628498582981\n:   4.832330391615431200\n:   4.981676769691231872\n:   4.91963127078691071\n:   4.84785064716041636\n:   4.92335744854987\n\n",
            "text/latex": "\\begin{description*}\n\\item[1023] 4.97008326061142\n\\item[682] 4.71114020340351\n\\item[2192] 4.85802545149555\n\\item[936] 5.00324641281617\n\\item[1542] 5.15529518336835\n\\item[471] 5.08162306503269\n\\item[2364] 4.86911539167536\n\\item[270] 4.94819905261153\n\\item[1219] 4.89453149779211\n\\item[599] 4.93357791123844\n\\item[1309] 5.11308959095313\n\\item[1989] 5.20290798982443\n\\item[330] 5.05754014377734\n\\item[1811] 4.89588283137154\n\\item[1625] 5.44331177542666\n\\item[1761] 5.70183482864968\n\\item[37] 5.28935874038689\n\\item[1136] 5.38694711286961\n\\item[732] 4.91564161067756\n\\item[883] 4.95566570174011\n\\item[485] 5.23395456529957\n\\item[1840] 4.87552890207512\n\\item[2942] 4.73432863043298\n\\item[2447] 5.11099888274379\n\\item[981] 5.65064767879437\n\\item[2869] 4.8577214541883\n\\item[2920] 5.34812757861428\n\\item[2999] 5.08222797673908\n\\item[2391] 4.85624903592072\n\\item[2395] 4.84802164555017\n\\item[554] 4.95452236274133\n\\item[1455] 5.13310929443545\n\\item[2174] 4.89052793138799\n\\item[1963] 5.3177168358033\n\\item[2597] 4.94184925588891\n\\item[1539] 4.95498331988957\n\\item[2621] 5.01792671305703\n\\item[2957] 5.23186099376634\n\\item[343] 4.88588504945037\n\\item[2648] 4.79948975549474\n\\item[40] 5.21805662084155\n\\item[537] 4.92334560104839\n\\item[2440] 5.02954892665574\n\\item[248] 4.89322320359491\n\\item[1230] 5.03315365115782\n\\item[2443] 4.87672465098133\n\\item[2102] 4.90116522907356\n\\item[2500] 5.50488496542075\n\\item[2878] 5.33707648065106\n\\item[1423] 4.7565365423864\n\\item[1312] 5.13492255380762\n\\item[1707] 4.78205955538332\n\\item[526] 4.72699064448178\n\\item[2708] 5.21630497093411\n\\item[1075] 4.97678220657214\n\\item[1435] 4.82346964957777\n\\item[22] 5.08066143281349\n\\item[1754] 5.08107739624258\n\\item[1778] 5.0945758287167\n\\item[2256] 4.85826177167795\n\\item[1403] 4.78443370146028\n\\item[2564] 5.09115049146761\n\\item[1135] 5.14608650204766\n\\item[989] 4.93976763295776\n\\item[1803] 4.97001733580469\n\\item[1525] 5.20738221235116\n\\item[1650] 4.86306108791463\n\\item[1649] 4.74626549176362\n\\item[847] 4.93520711831428\n\\item[465] 5.59801984413217\n\\item[1002] 4.86003358738736\n\\item[1558] 4.82635395279368\n\\item[1208] 6.36747612950007\n\\item[1141] 5.327114846012\n\\item[84] 5.15050422345658\n\\item[1910] 5.21226217919994\n\\item[3121] 4.83853187142302\n\\item[1173] 5.4119521124609\n\\item[2316] 4.90486963893608\n\\item[2801] 5.08741798970937\n\\item[3176] 5.39511971191367\n\\item[2686] 5.30383168881434\n\\item[1336] 4.78857677083447\n\\item[557] 4.99979800975618\n\\item[1696] 5.0329155916488\n\\item[287] 4.91297829506423\n\\item[2680] 5.23917387284417\n\\item[2394] 5.03348762540906\n\\item[2552] 4.89868332490465\n\\item[2923] 4.93197674492648\n\\item[2919] 5.001543017573\n\\item[1531] 5.23592379448795\n\\item[862] 5.50522203050076\n\\item[1854] 4.92658795626803\n\\item[2685] 5.16236102722822\n\\item[577] 5.19063205894686\n\\item[996] 4.96663708074751\n\\item[3091] 5.04275845171541\n\\item[316] 5.26443206147737\n\\item[1081] 5.08668383166633\n\\item[736] 5.03758073697455\n\\item[1322] 4.89949831654899\n\\item[2716] 5.20736772154605\n\\item[3207] 4.83759809145085\n\\item[815] 5.19762463870028\n\\item[961] 5.19939803494873\n\\item[2347] 4.9391680897577\n\\item[1175] 5.20994065653292\n\\item[2350] 5.18723651571963\n\\item[1717] 4.80585106441113\n\\item[501] 4.75758632997733\n\\item[2576] 5.11286050329824\n\\item[536] 5.27209861514734\n\\item[2761] 4.95240103015057\n\\item[994] 4.97331362386854\n\\item[2805] 5.21046978998274\n\\item[1073] 5.20423754669276\n\\item[1031] 4.82588592373347\n\\item[29] 5.00023205401877\n\\item[1957] 5.39405777946541\n\\item[842] 4.91490113487631\n\\item[1832] 5.31927830494095\n\\item[1663] 5.25300628053898\n\\item[2297] 5.21022590451009\n\\item[1325] 4.85810837147978\n\\item[574] 4.89072042590575\n\\item[1981] 5.08497394022204\n\\item[369] 5.07442068667356\n\\item[2516] 5.12868469362651\n\\item[86] 5.13213457938684\n\\item[1516] 5.77433348161604\n\\item[2392] 4.98283525359313\n\\item[1656] 4.93392425420176\n\\item[355] 4.92448048238106\n\\item[1857] 5.14514514317509\n\\item[2880] 4.854890307786\n\\item[1079] 5.03306995878873\n\\item[361] 4.77698966693382\n\\item[1348] 5.1424369334962\n\\item[1274] 4.89539660875669\n\\item[2826] 4.98047696381894\n\\item[1855] 5.18171482025224\n\\item[2886] 4.89242368243411\n\\item[247] 4.85951145296948\n\\item[754] 4.81249474091947\n\\item[219] 4.95025168815324\n\\item[135] 4.87937711059078\n\\item[111] 4.70519756512046\n\\item[532] 5.04190230437502\n\\item[2442] 4.82217229355837\n\\item[408] 5.03591749542149\n\\item[1598] 5.07586506823252\n\\item[918] 4.94537890363844\n\\item[2532] 5.09252946689285\n\\item[2193] 4.95073436290437\n\\item[3116] 4.97136458845209\n\\item[1850] 4.96389552499008\n\\item[359] 5.14443232513846\n\\item[2168] 4.98124824531087\n\\item[1156] 5.12340619114532\n\\item[2057] 5.71142725581469\n\\item[1108] 4.89882665238587\n\\item[1250] 5.04122755961253\n\\item[1226] 4.74563196999628\n\\item[19] 5.0820591528229\n\\item[273] 4.70072711842968\n\\item[418] 5.08657921607578\n\\item[2010] 5.12688954611352\n\\item[1576] 5.07408317549851\n\\item[2484] 4.92672035294154\n\\item[871] 5.38509698013341\n\\item[689] 5.25384430698366\n\\item[403] 4.83368694810323\n\\item[1620] 4.96626920192746\n\\item[1046] 5.28247053454312\n\\item[1070] 4.87746979520882\n\\item[1813] 5.18247601906474\n\\item[822] 4.95368790618326\n\\item[2670] 4.8897752256969\n\\item[637] 4.83192374827716\n\\item[667] 5.60860202061433\n\\item[722] 4.9888808003949\n\\item[500] 5.54458424707151\n\\item[2829] 5.34970841557306\n\\item[2739] 5.16778525411044\n\\item[2293] 5.07567147355225\n\\item[423] 4.87383641471647\n\\item[421] 5.5829512668669\n\\item[995] 4.7392943596674\n\\item[140] 4.96910579499342\n\\item[126] 4.88939442182577\n\\item[1004] 5.00475196120762\n\\item[3035] 4.75011578642071\n\\item[2336] 4.8971298165797\n\\item[1162] 5.05233143035141\n\\item[2643] 4.76629350333097\n\\item[1545] 4.8248994843001\n\\item[504] 4.95724259714882\n\\item[1490] 4.97789635587262\n\\item[358] 4.79560591617704\n\\item[788] ⋯\n\\item[2190] 4.79041175335401\n\\item[2711] 4.97776259348386\n\\item[1581] 5.25802423435596\n\\item[305] 5.13343056550953\n\\item[1847] 5.30486980050283\n\\item[2478] 4.93923522277171\n\\item[987] 4.68047321058\n\\item[2642] 4.97831968860282\n\\item[129] 4.94613502499112\n\\item[309] 4.91553067660008\n\\item[3187] 5.04393142176701\n\\item[441] 4.88765641840732\n\\item[2924] 5.07015530437951\n\\item[3182] 5.03770320460821\n\\item[470] 4.82296519724368\n\\item[2627] 4.86219613798027\n\\item[1368] 5.16198143470303\n\\item[1836] 5.47576071062908\n\\item[1802] 5.25037582290348\n\\item[349] 4.66866316677834\n\\item[900] 5.02748829082578\n\\item[592] 5.07657368836963\n\\item[1971] 5.17587016798722\n\\item[474] 5.77899653346765\n\\item[2231] 5.37011748696594\n\\item[2566] 4.92080386295011\n\\item[3022] 5.18746264612931\n\\item[2908] 5.01041006445363\n\\item[958] 4.85233643620168\n\\item[455] 5.38377919664015\n\\item[2421] 5.01357802421848\n\\item[2136] 5.046415108701\n\\item[1586] 4.75460159997387\n\\item[15] 4.93552954191195\n\\item[62] 5.18341656146101\n\\item[390] 4.76861367340486\n\\item[1679] 5.06604763949885\n\\item[1065] 4.69251052733788\n\\item[381] 5.36134470550171\n\\item[1906] 5.97150027791059\n\\item[2140] 4.89421702056091\n\\item[3192] 4.95199407698568\n\\item[1359] 5.19546437234981\n\\item[2732] 5.74342474341061\n\\item[2094] 5.0517718394733\n\\item[2614] 5.05870721570907\n\\item[2027] 5.05062100827667\n\\item[2811] 5.30637021165732\n\\item[1058] 5.44531039691322\n\\item[2125] 5.09948201564857\n\\item[1180] 5.22555059037753\n\\item[800] 5.03208288826451\n\\item[3161] 4.90694228682352\n\\item[1605] 5.41796251837404\n\\item[967] 5.00327996855149\n\\item[334] 4.8647658246395\n\\item[2964] 5.5103544215626\n\\item[1300] 5.20878759845717\n\\item[2156] 4.80936727792804\n\\item[2782] 4.87392969669831\n\\item[613] 4.90825096336837\n\\item[1273] 5.87437439244606\n\\item[2096] 4.94242793458655\n\\item[2502] 4.60592207932973\n\\item[3080] 5.19197635090092\n\\item[2281] 5.17085224072925\n\\item[2860] 4.86956380728735\n\\item[2873] 4.95714158555245\n\\item[2171] 5.41069252417183\n\\item[3016] 4.86621111658542\n\\item[1302] 4.84531558141887\n\\item[3065] 4.85875533925351\n\\item[2273] 4.91229478978838\n\\item[1370] 5.24207442552813\n\\item[1643] 4.83254250702798\n\\item[1772] 5.24174488413307\n\\item[1617] 5.02225444861141\n\\item[3058] 5.00964671729353\n\\item[568] 5.19098823688842\n\\item[1008] 5.19387782102343\n\\item[746] 5.02395203504304\n\\item[1747] 5.07402796684643\n\\item[2836] 5.08892401053446\n\\item[2264] 6.11860692606487\n\\item[1386] 4.94737678090953\n\\item[116] 5.27534440874282\n\\item[2058] 5.09209689671046\n\\item[2709] 4.9688854726778\n\\item[1265] 4.74942000427123\n\\item[1703] 4.94269718611746\n\\item[1472] 4.87597682761527\n\\item[1229] 5.01766705028858\n\\item[462] 4.95711184816587\n\\item[1972] 5.16100294637995\n\\item[3203] 5.17320389598604\n\\item[2299] 4.97979938146987\n\\item[2578] 5.01032677571565\n\\item[1507] 4.7028469144795\n\\item[2236] 5.30205085763958\n\\item[1114] 5.09916519824304\n\\item[2911] 5.18414682423349\n\\item[407] 4.83766378529812\n\\item[2389] 4.9363362940359\n\\item[2048] 4.9485821842544\n\\item[734] 4.93900460482821\n\\item[185] 5.1604760523815\n\\item[2833] 5.46271859000026\n\\item[1212] 4.90349537693151\n\\item[2529] 5.1475315847075\n\\item[493] 4.8329848644093\n\\item[678] 4.90718544590014\n\\item[972] 4.77044994955606\n\\item[2509] 5.0174568037417\n\\item[1199] 4.9523839093095\n\\item[2112] 5.34613715956055\n\\item[2032] 5.13777318325773\n\\item[1504] 4.79405716296458\n\\item[1708] 4.93338740767667\n\\item[291] 4.97641769474588\n\\item[656] 5.06003963228333\n\\item[3066] 5.17163722619451\n\\item[2499] 4.81446186240727\n\\item[2809] 4.83628741810209\n\\item[2741] 4.93547146516446\n\\item[56] 4.94239967040469\n\\item[940] 5.36859700911088\n\\item[329] 4.71425480141743\n\\item[494] 5.43492188278803\n\\item[1770] 5.35610621620703\n\\item[2882] 5.03449703164773\n\\item[2167] 4.90578833182642\n\\item[1033] 5.33269306598219\n\\item[2725] 5.00042776993132\n\\item[161] 4.90948612007669\n\\item[2449] 5.19504106818635\n\\item[2501] 4.86819164877447\n\\item[127] 5.13780526231616\n\\item[260] 4.88159701467392\n\\item[720] 5.63229725992266\n\\item[60] 4.92536951077355\n\\item[1871] 4.98648004826986\n\\item[2513] 4.8970861072934\n\\item[2553] 4.96104787577219\n\\item[181] 5.0644600314033\n\\item[1543] 5.37048158620516\n\\item[1165] 4.99590524530167\n\\item[1652] 4.96684407060816\n\\item[1461] 5.0491538377571\n\\item[2890] 4.88326681874542\n\\item[679] 5.00469590187338\n\\item[2008] 5.01867419151023\n\\item[3167] 4.81488903192969\n\\item[614] 5.01329205970563\n\\item[1710] 4.80100421542175\n\\item[148] 4.88434502141373\n\\item[150] 4.79030882637978\n\\item[121] 4.85020423937391\n\\item[169] 4.73373611755184\n\\item[601] 5.17687993066278\n\\item[1500] 4.77201124306293\n\\item[108] 4.89925194364362\n\\item[2835] 4.85389781427792\n\\item[2595] 4.84666455337465\n\\item[1589] 4.84221734391795\n\\item[1456] 4.76315832877976\n\\item[1122] 5.1465845446594\n\\item[2227] 5.16331322632121\n\\item[51] 5.21545658213877\n\\item[2182] 5.04677683019868\n\\item[2530] 5.08487565574104\n\\item[3024] 5.24014348457445\n\\item[2114] 4.7945724446515\n\\item[1795] 4.82024627822583\n\\item[2446] 4.87552971575943\n\\item[436] 4.94788459233267\n\\item[2152] 5.24618526668015\n\\item[1956] 4.93444644173155\n\\item[533] 5.09314789451809\n\\item[2657] 5.04895435801512\n\\item[1922] 4.91684977934831\n\\item[1389] 4.84256087883576\n\\item[2772] 5.10790653864459\n\\item[1505] 4.73020218824172\n\\item[850] 5.47999993540036\n\\item[1102] 5.2091532103131\n\\item[1417] 5.07339654990027\n\\item[2380] 5.12805000992331\n\\item[3064] 4.79053374780381\n\\item[3117] 4.89303551639871\n\\item[570] 5.51466448166059\n\\item[1303] 5.02661308129974\n\\item[1941] 4.95965639063334\n\\item[1579] 4.89156785370703\n\\item[1825] 4.93740737894773\n\\item[1607] 5.47463862849858\n\\item[2981] 4.83233039161543\n\\item[1200] 4.98167676969123\n\\item[1872] 4.9196312707869\n\\item[1071] 4.84785064716041\n\\item[636] 4.92335744854987\n\\end{description*}\n",
            "text/plain": [
              "    1023      682     2192      936     1542      471     2364      270 \n",
              "4.970083 4.711140 4.858025 5.003246 5.155295 5.081623 4.869115 4.948199 \n",
              "    1219      599     1309     1989      330     1811     1625     1761 \n",
              "4.894531 4.933578 5.113090 5.202908 5.057540 4.895883 5.443312 5.701835 \n",
              "      37     1136      732      883      485     1840     2942     2447 \n",
              "5.289359 5.386947 4.915642 4.955666 5.233955 4.875529 4.734329 5.110999 \n",
              "     981     2869     2920     2999     2391     2395      554     1455 \n",
              "5.650648 4.857721 5.348128 5.082228 4.856249 4.848022 4.954522 5.133109 \n",
              "    2174     1963     2597     1539     2621     2957      343     2648 \n",
              "4.890528 5.317717 4.941849 4.954983 5.017927 5.231861 4.885885 4.799490 \n",
              "      40      537     2440      248     1230     2443     2102     2500 \n",
              "5.218057 4.923346 5.029549 4.893223 5.033154 4.876725 4.901165 5.504885 \n",
              "    2878     1423     1312     1707      526     2708     1075     1435 \n",
              "5.337076 4.756537 5.134923 4.782060 4.726991 5.216305 4.976782 4.823470 \n",
              "      22     1754     1778     2256     1403     2564     1135      989 \n",
              "5.080661 5.081077 5.094576 4.858262 4.784434 5.091150 5.146087 4.939768 \n",
              "    1803     1525     1650     1649      847      465     1002     1558 \n",
              "4.970017 5.207382 4.863061 4.746265 4.935207 5.598020 4.860034 4.826354 \n",
              "    1208     1141       84     1910     3121     1173     2316     2801 \n",
              "6.367476 5.327115 5.150504 5.212262 4.838532 5.411952 4.904870 5.087418 \n",
              "    3176     2686     1336      557     1696      287     2680     2394 \n",
              "5.395120 5.303832 4.788577 4.999798 5.032916 4.912978 5.239174 5.033488 \n",
              "    2552     2923     2919     1531      862     1854     2685      577 \n",
              "4.898683 4.931977 5.001543 5.235924 5.505222 4.926588 5.162361 5.190632 \n",
              "     996     3091      316     1081      736     1322     2716     3207 \n",
              "4.966637 5.042758 5.264432 5.086684 5.037581 4.899498 5.207368 4.837598 \n",
              "     815      961     2347     1175     2350     1717      501     2576 \n",
              "5.197625 5.199398 4.939168 5.209941 5.187237 4.805851 4.757586 5.112861 \n",
              "     536     2761      994     2805     1073     1031       29     1957 \n",
              "5.272099 4.952401 4.973314 5.210470 5.204238 4.825886 5.000232 5.394058 \n",
              "     842     1832     1663     2297     1325      574     1981      369 \n",
              "4.914901 5.319278 5.253006 5.210226 4.858108 4.890720 5.084974 5.074421 \n",
              "    2516       86     1516     2392     1656      355     1857     2880 \n",
              "5.128685 5.132135 5.774333 4.982835 4.933924 4.924480 5.145145 4.854890 \n",
              "    1079      361     1348     1274     2826     1855     2886      247 \n",
              "5.033070 4.776990 5.142437 4.895397 4.980477 5.181715 4.892424 4.859511 \n",
              "     754      219      135      111      532     2442      408     1598 \n",
              "4.812495 4.950252 4.879377 4.705198 5.041902 4.822172 5.035917 5.075865 \n",
              "     918     2532     2193     3116     1850      359     2168     1156 \n",
              "4.945379 5.092529 4.950734 4.971365 4.963896 5.144432 4.981248 5.123406 \n",
              "    2057     1108     1250     1226       19      273      418     2010 \n",
              "5.711427 4.898827 5.041228 4.745632 5.082059 4.700727 5.086579 5.126890 \n",
              "    1576     2484      871      689      403     1620     1046     1070 \n",
              "5.074083 4.926720 5.385097 5.253844 4.833687 4.966269 5.282471 4.877470 \n",
              "    1813      822     2670      637      667      722      500     2829 \n",
              "5.182476 4.953688 4.889775 4.831924 5.608602 4.988881 5.544584 5.349708 \n",
              "    2739     2293      423      421      995      140      126     1004 \n",
              "5.167785 5.075671 4.873836 5.582951 4.739294 4.969106 4.889394 5.004752 \n",
              "    3035     2336     1162     2643     1545      504     1490      358 \n",
              "4.750116 4.897130 5.052331 4.766294 4.824899 4.957243 4.977896 4.795606 \n",
              "     788     2190     2711     1581      305     1847     2478      987 \n",
              "4.923536 4.956401 4.696538 5.206905 4.850724 4.967642 4.864731 4.732399 \n",
              "    2642      129      309     3187      441     2924     3182      470 \n",
              "4.764892 4.976412 5.061041 4.870498 5.896587 5.219627 5.017394 5.421153 \n",
              "    2627     1368     1836     1802      349      900      592     1971 \n",
              "5.502238 5.321483 4.802288 5.122885 5.109128 5.102143 4.869571 5.022873 \n",
              "     474     2231     2566     3022     2908      958      455     2421 \n",
              "5.022903 5.096784 5.278552 4.935431 5.094486 4.857280 4.824877 5.515406 \n",
              "    2136     1586       15       62      390     1679     1065      381 \n",
              "4.732497 4.933944 4.871063 5.453045 4.920912 5.170340 5.924881 4.978587 \n",
              "    1906     2140     3192     1359     2732     2094     2614     2027 \n",
              "5.078589 4.955605 4.713921 4.958037 5.167831 5.039497 5.047028 4.836967 \n",
              "    2811     1058     2125     1180      800     3161     1605      967 \n",
              "4.782902 5.054981 5.901082 4.949198 4.852935 5.150193 5.070806 4.940037 \n",
              "     334     2964     1300     2156     2782      613     1273     2096 \n",
              "4.750486 4.959348 4.862178 5.320943 4.852517 5.061778 5.691622 4.715371 \n",
              "    2502     3080     2281     2860     2873     2171     3016     1302 \n",
              "4.877699 4.858476 4.941391 4.749728 5.081542 4.828124 4.679345 5.185599 \n",
              "    3065     2273     1370     1643     1772     1617     3058      568 \n",
              "5.137587 5.098348 4.844439 5.370042 5.155088 5.003779 4.984472 5.643659 \n",
              "    1008      746     1747     2836     2264     1386      116     2058 \n",
              "4.842929 4.867515 4.860059 4.875552 4.581532 5.030386 4.815260 5.170972 \n",
              "    2709     1265     1703     1472     1229      462     1972     3203 \n",
              "5.090521 5.357943 4.922711 5.432918 4.891680 5.012156 5.365441 5.644391 \n",
              "    2299     2578     1507     2236     1114     2911      407     2389 \n",
              "4.826734 5.022527 4.944526 4.841789 6.672322 4.907464 5.421886 4.959680 \n",
              "    2048      734      185     2833     1212     2529      493      678 \n",
              "4.850497 4.672615 4.873528 4.955573 4.981938 4.950977 5.018952 5.019250 \n",
              "     972     2509     1199     2112     2032     1504     1708      291 \n",
              "5.301542 4.925649 4.924617 4.825329 5.021326 5.172084 5.367761 4.841379 \n",
              "     656     3066     2499     2809     2741       56      940      329 \n",
              "4.734309 5.010242 5.258054 4.843818 5.275672 4.935573 4.645416 4.931923 \n",
              "     494     1770     2882     2167     1033     2725      161     2449 \n",
              "5.180040 4.997238 5.417292 4.790974 4.943254 4.908843 4.966883 4.780191 \n",
              "    2501      127      260      720       60     1871     2513     2553 \n",
              "5.896250 4.769034 4.973225 5.573445 5.850355 5.188176 5.204835 5.515914 \n",
              "     181     1543     1165     1652     1461     2890      679     2008 \n",
              "4.733976 4.983731 5.243652 5.816199 4.736891 5.117010 5.145448 4.748997 \n",
              "    3167      614     1710      148      150      121      169      601 \n",
              "5.263938 4.930778 4.701485 4.833081 4.866024 4.723557 5.189750 5.100538 \n",
              "    1500      108     2835     2595     1589     1456     1122     2227 \n",
              "5.158847 4.723776 4.701885 5.771350 4.993442 5.476313 4.914372 5.683903 \n",
              "      51     2182     2530     3024     2114     1795     2446      436 \n",
              "4.909476 5.748978 5.018227 5.263926 4.920272 4.957017 4.788498 4.825123 \n",
              "    2152     1956      533     2657     1922     1389     2772     1505 \n",
              "4.861926 5.216407 4.941198 5.214799 4.823636 4.910835 4.940573 4.768650 \n",
              "     850     1102     1417     2380     3064     3117      570     1303 \n",
              "5.416645 4.900887 5.087218 5.151775 4.926312 4.860857 5.456175 4.953664 \n",
              "    1941     1579     1825     1607     2981     1200     1872     1071 \n",
              "4.881019 4.861338 4.758108 4.662544 4.880833 4.976344 5.037862 4.887441 \n",
              "     636      281     3030      727     2068     1362      492     2083 \n",
              "5.398681 4.867294 4.933055 5.243620 5.281023 4.874055 4.896712 5.503586 \n",
              "    2930     1110     1964      514     1936     2132     2819     1261 \n",
              "4.838281 4.729965 5.056338 5.016007 5.377205 4.988494 5.123262 4.784346 \n",
              "    2031     1328     2204      132     2105     3018     1670     2196 \n",
              "4.872716 5.253042 4.771600 4.969693 4.776059 5.330000 4.820779 4.815106 \n",
              "    1987     2359      753     1430     2329     2240     2661      950 \n",
              "4.881120 4.813842 5.504517 4.902730 4.976107 5.151717 4.992353 5.009120 \n",
              "    1853     1638     1400     1852     3151     1171     1553      320 \n",
              "5.142796 5.072756 4.710058 5.000850 5.306802 4.772664 5.060693 5.010745 \n",
              "     856      115     1483     2518     2461     3081     3047      887 \n",
              "5.089162 4.943797 4.997789 4.814121 4.889072 4.979274 4.936912 5.369707 \n",
              "    2222     2840     2560     1796     2033     2991     1830      109 \n",
              "5.192715 4.842176 4.800668 5.315857 4.875637 4.704257 4.898173 5.032033 \n",
              "    2584     1658     2604      756     3105      393      651       45 \n",
              "5.418239 5.020300 4.792072 4.892871 5.011853 4.950994 4.877842 4.687374 \n",
              "     112     1057      946      222     2331      158     3000     1952 \n",
              "4.907967 5.418470 5.085729 5.054104 4.965302 4.923682 5.161360 5.010658 \n",
              "     956     2451     2793      300     2022     1147      340     2155 \n",
              "4.810822 4.882647 4.983809 5.081786 4.867209 5.059029 4.800951 5.025401 \n",
              "     412     1687       99     1678     2559      786     1198     1468 \n",
              "5.384008 4.872361 4.998072 5.050104 5.006918 4.869504 5.064911 5.211181 \n",
              "    1027     1788     3120     3194     1334     1861     1240     1024 \n",
              "4.764063 4.830222 4.795032 4.989993 4.680632 4.566221 5.234340 5.007258 \n",
              "    2838      383      731      774     1118      484      503     2370 \n",
              "5.097742 5.447567 4.926672 4.735580 5.395522 5.010714 4.870213 6.432797 \n",
              "    2580     2175     2377     1711       58     1518      708     2036 \n",
              "4.916167 5.051171 4.779545 5.106397 4.518917 4.802110 4.923350 4.933488 \n",
              "     342     1631     3060     2154     2185       44     1815     3160 \n",
              "4.846689 5.219996 5.159681 4.851339 4.885159 4.910903 5.156545 4.763858 \n",
              "    1131      313     2019     1264      826     2546     1392     1041 \n",
              "4.860982 5.052544 4.885347 4.865189 4.958733 4.949302 4.716033 5.459270 \n",
              "      81     3033     2209     2731     3041     2393     1409     2827 \n",
              "4.922273 4.934536 4.930326 4.787689 4.656936 5.007412 4.844704 4.836369 \n",
              "     435     2314     2698     1798      234      296      315     3040 \n",
              "5.021843 5.873944 5.042319 4.865328 4.913233 4.946120 4.859175 5.140806 \n",
              "    1556     2870     1791     3055     3165     2633      182     2618 \n",
              "4.799471 4.871256 4.671399 5.164561 4.809530 5.190569 4.868662 6.230579 \n",
              "      61     1380     2638      510     1095      652     1876     2821 \n",
              "4.733482 5.162367 4.945183 4.883855 5.165241 5.720734 4.652091 4.820073 \n",
              "    1394     2129     1647     2309     2659      453     1998     1185 \n",
              "4.971750 4.866993 5.006212 5.177187 4.864128 5.018900 5.132348 5.032402 \n",
              "      17     1063     2361     2936     2211     1534     2341      627 \n",
              "4.860500 5.006396 5.308798 4.869299 5.085179 4.884223 5.194638 4.756654 \n",
              "    1725     2952      798     1482     3084     1955     2406      472 \n",
              "4.738351 4.757696 5.055961 4.775050 4.765954 4.923243 4.871080 4.895851 \n",
              "    2368     2147      806     3031     2691     1886     1705      944 \n",
              "4.737956 4.880995 4.748077 6.509436 5.026156 4.707543 5.016816 4.973660 \n",
              "     915     2713      363     2632     2414     2590     1275     3054 \n",
              "4.903498 4.856525 5.022432 5.100376 4.794891 4.876273 4.856722 4.901145 \n",
              "    2753      596     2003     2390      705     2173     2996      965 \n",
              "5.047722 5.414584 5.023591 4.862003 4.805232 4.768780 4.902438 4.974101 \n",
              "     282     2289     3045     1498      397     2371      941     3078 \n",
              "4.697390 4.830751 4.904681 4.780591 4.959828 4.929185 4.927961 4.682609 \n",
              "    2944     3122      747      564     1128     2951      478     1606 \n",
              "5.289826 4.948484 5.060841 4.855569 5.019274 4.871288 4.710779 4.609085 \n",
              "    1601     2306     1239     2895       87      217     1546      864 \n",
              "4.723479 5.064156 5.136703 5.139216 4.832031 4.984459 5.177147 4.903441 \n",
              "    1533     2053     2463      631     2416     1280     1111     1502 \n",
              "4.721717 4.857214 4.960658 4.674855 5.078786 4.864930 5.065586 4.855845 \n",
              "    2690     2525     1527      691     2993      476      268     2640 \n",
              "4.810381 4.915196 6.367307 5.539238 5.107504 4.676292 5.512755 4.835311 \n",
              "     306     2902     2071     1084      674      841     2203     3046 \n",
              "5.144172 4.693457 4.821881 5.483431 5.296443 4.991268 4.971751 5.218903 \n",
              "    2650     2426      128     1444      102     1665     1355     2387 \n",
              "4.955953 5.197267 4.804613 4.891931 4.736479 5.134382 4.854017 4.936679 \n",
              "    1243     3001     2419      489     3049     2967     1969      819 \n",
              "5.192674 4.927018 5.141400 5.620807 4.745473 4.878115 5.068362 4.815863 \n",
              "     575       13      647     2558       48     1182     1793     1538 \n",
              "4.804262 4.957478 5.160792 5.137654 5.416111 4.871444 5.142207 4.814922 \n",
              "     262     1599     3200      839     2296     1559       27     2877 \n",
              "4.953852 5.384682 5.496999 5.219846 5.133536 5.340243 4.793412 5.629357 \n",
              "    1833     2626       69     1017      604     1771      721     2122 \n",
              "5.311970 4.782952 4.971826 4.915122 4.971417 4.942204 4.737754 5.029211 \n",
              "    2888     1025     2035      543     1155     2666     1054     1769 \n",
              "4.828106 4.938264 6.540057 5.021155 4.830326 5.385410 5.344833 5.093242 \n",
              "    1945      461      767     1479     1746     2804      122      498 \n",
              "4.977666 4.959371 5.873959 4.909228 5.076596 5.504236 5.397170 4.775041 \n",
              "    1049      376      466     2020      925     2763     1496     2028 \n",
              "4.983378 4.952351 4.848693 5.037777 4.903959 4.801620 5.075944 5.270513 \n",
              "    1160     1918     2789     1574     2004     1374      578      858 \n",
              "4.903561 4.931593 5.286324 4.756145 5.129684 5.083602 4.878696 4.749871 \n",
              "     525     1826     2848       41     2160     3159      125     2301 \n",
              "5.570930 5.015743 5.419350 4.937249 5.366552 6.000333 6.088175 5.315454 \n",
              "     339     2556      396      144     1849     1166      252     2084 \n",
              "4.830461 4.968315 5.142625 4.968139 4.761676 4.747307 4.981215 5.194010 \n",
              "    3039     2363      804     1640     2786      133     2689     1651 \n",
              "4.829958 5.033144 4.837650 4.779033 4.978035 4.802826 5.945336 4.928623 \n",
              "     386     1814      290      773     1671      908     2601     2795 \n",
              "4.872101 4.932514 5.013316 5.028463 4.924947 4.974801 5.109877 5.082083 \n",
              "     201      487     3094     2589     1730     1120     2949      914 \n",
              "5.392640 4.950558 4.997014 5.174428 5.236621 4.796337 5.079433 5.229514 \n",
              "    1812      190     2510     2379      457      997     2239     3019 \n",
              "5.145050 5.099380 5.204407 4.960405 4.763939 4.885878 4.768660 4.772968 \n",
              "     584      183      650     2803     1630     1347      553     1792 \n",
              "4.966423 4.812342 4.852979 5.374646 5.142000 5.185888 4.941334 5.219377 \n",
              "    1879     3168     1452     1150     1799     2052     1037     2943 \n",
              "4.712751 5.227500 4.909527 4.940999 5.209226 4.730014 5.098689 5.199920 \n",
              "    2667     2619     1596     2881     1662     1691     1106     1986 \n",
              "4.963125 4.953030 4.957586 4.916756 5.122223 5.491425 4.767832 4.987808 \n",
              "    2459     2343      675     1440     2151     2759     2960      392 \n",
              "5.220785 4.892408 4.966465 5.069503 4.647917 5.904187 4.937063 5.039811 \n",
              "     151     1043     2574      789      831      322     3183      783 \n",
              "4.938475 5.059514 4.923984 4.889127 4.991773 5.119862 4.879941 4.866239 \n",
              "    1427     2365     3067     2086      583      779     2624     1138 \n",
              "4.812796 5.531800 5.155770 5.221090 5.773691 4.759585 5.026714 5.299663 \n",
              "     237     1905     2585     1211     1246     1183      308     2324 \n",
              "5.346270 4.912608 4.776279 5.088998 4.813544 4.848907 4.721114 4.903700 \n",
              "    2963     2318     1231      534      186      311     2034      389 \n",
              "5.042820 4.986759 5.046732 5.135128 4.721370 4.861291 4.763347 5.017713 \n",
              "    2545     1982     2429     2784      347      394      591     1217 \n",
              "4.902830 6.537516 4.644023 5.416674 4.905081 4.968737 5.369896 4.784033 \n",
              "    2176     2864      114     3027     1224      231     1786     2664 \n",
              "4.984390 5.317153 5.230395 5.216529 4.817959 4.790656 5.339443 5.631197 \n",
              "    1804      963     1593     2738     1672     2663      314      228 \n",
              "5.099872 4.747105 4.937961 4.748757 4.865345 5.597162 4.695901 4.922801 \n",
              "     692      827     1881     2815     2907      934      280     1218 \n",
              "6.231613 4.802649 5.524046 4.983503 5.132275 4.906914 4.993740 4.988827 \n",
              "     517      159      672      855     1615     2427     2233      796 \n",
              "4.965687 4.945750 5.321695 4.758113 5.609281 5.132688 4.991842 5.364498 \n",
              "     706      324      235     1584     2121      790     1600     1381 \n",
              "4.964117 4.745803 4.820576 5.083989 5.212367 5.326691 5.023063 4.753433 \n",
              "    2582     1163     1907      663      916     1044     2476       64 \n",
              "5.033314 4.936232 5.022781 5.193656 5.295723 5.958206 5.103077 4.936344 \n",
              "     483     2146      926      629     2338     2531     1520     1415 \n",
              "4.954059 6.357747 4.678393 4.849024 4.695036 4.987707 5.082566 4.978844 \n",
              "     791     2916      755     2212      375     1838      284     1878 \n",
              "4.855233 5.909427 5.265453 5.077142 4.866078 5.629495 4.953294 4.926251 \n",
              "    1965      416      666     1927     1321      882     1363     1115 \n",
              "4.925149 5.100106 4.834831 5.051310 4.703954 5.002828 4.882284 5.198082 \n",
              "    2600     2238     2126     2396      110     1206      304     1425 \n",
              "4.749163 5.030705 5.228808 4.804608 4.871868 5.361739 4.684584 4.953091 \n",
              "     384     1242     2660      174     1762     3006     2714     2913 \n",
              "4.886930 5.199048 4.836011 4.928846 4.897497 4.927319 4.906902 4.930688 \n",
              "     452     2141     2517     3036     3155      153     2700      479 \n",
              "5.006838 4.986962 4.756148 5.271692 5.159891 4.791397 5.085486 4.837619 \n",
              "     751     2090     1937      352     2109     1501      197     1759 \n",
              "5.045783 5.242915 4.975850 5.445679 5.052515 4.723346 4.784331 5.117057 \n",
              "    3082     1779     1891       90     2322      782     2567      638 \n",
              "4.937871 5.230008 4.854258 4.743811 4.785391 5.070761 4.867143 5.725859 \n",
              "     269     1824      249     2573     2883      101      520     1583 \n",
              "4.866354 4.716365 5.169348 4.995511 4.814010 4.962629 6.308547 4.905323 \n",
              "    2852     2404     2307      653       14      686     2015     2547 \n",
              "4.747862 5.176011 4.871155 5.099084 5.378886 5.064872 4.815876 4.718202 \n",
              "     620     2064      581     1797     1860     2872     2505     1437 \n",
              "4.954630 4.765012 5.057019 5.140469 4.887441 5.044156 5.621760 5.657144 \n",
              "       9     2388      852     2947     1255     1780     2374     2288 \n",
              "5.199988 5.191600 4.759860 4.889525 5.059769 4.941864 5.146030 4.817056 \n",
              "    1249      661     1609     3012      588      157     1944      816 \n",
              "4.830751 5.452061 4.926734 4.798556 4.883041 4.778278 4.796496 5.324344 \n",
              "    1874     1571     1664      486      338     1580     3107      206 \n",
              "5.958730 4.955978 4.781798 5.580011 4.958706 4.997759 4.782106 4.902986 \n",
              "    1382     1763      442     2319     2926      684      749     2987 \n",
              "5.561897 5.082146 4.972275 4.763348 5.215018 4.797197 4.857066 4.956690 \n",
              "     544     2654     2549     2906     2000      821     2060      220 \n",
              "4.830457 5.098597 4.839379 6.149929 4.919096 4.783539 5.149396 5.798979 \n",
              "    3085      860     2561     1585     2383      541     1657      552 \n",
              "4.883656 4.731307 5.867589 4.881034 5.001394 5.392397 4.701278 4.728412 \n",
              "     522     2856     2577     2300      726     2956     2158      271 \n",
              "4.921804 4.861827 5.197054 5.086589 4.816592 4.841192 4.783342 5.172509 \n",
              "    1307      808     2418       75     2649     3172     2799      640 \n",
              "4.963948 4.799648 4.776924 4.981027 4.983952 4.864878 5.049657 4.839876 \n",
              "    1193     2520      561     2477     1839      482      289     2467 \n",
              "5.187135 4.942425 4.860393 5.105899 4.919216 5.126796 4.957639 4.884807 \n",
              "     196     2253     3209     2995      251      971      893     1828 \n",
              "4.972885 4.897430 5.018035 5.327475 4.758355 5.194175 4.889406 5.043753 \n",
              "    2814      213     3179     1488      907     2774     3099     1094 \n",
              "4.966288 4.978995 5.199429 4.991673 5.153823 4.857015 4.854851 5.143985 \n",
              "     628     1169      863     1077     2975     2705     2110     1378 \n",
              "5.357227 4.842351 5.646165 5.294482 4.840514 5.006478 5.286629 4.898288 \n",
              "    1773      985     2636       55     2948     2217      490      659 \n",
              "5.287560 5.187186 5.187006 5.073226 4.898850 4.873816 5.275106 5.234817 \n",
              "    3208     2037     2353     1045     2124     1086     1260     3152 \n",
              "4.969713 5.204825 4.871216 5.156791 4.985797 5.367622 4.820691 5.255719 \n",
              "    2543     2646     2378      413      203     2261     1137     1555 \n",
              "5.030284 5.520009 4.972539 6.095537 4.775060 4.960897 4.829187 4.905158 \n",
              "    2397      139     1267     1100     1445      809        7     2800 \n",
              "5.242600 5.234379 4.787620 4.873353 5.246609 4.986213 5.072371 5.532959 \n",
              "     802     2512     2366      427      867      266     1728     2386 \n",
              "4.917077 5.023952 4.617868 4.891662 5.038898 4.858641 4.872759 4.684870 \n",
              "    3114     1829     1069      225     1491     2903      513     1685 \n",
              "4.867216 5.173186 5.992857 5.184219 5.089745 4.795436 5.691459 4.793632 \n",
              "    1712      245     3068     2653      618      450     2290      668 \n",
              "5.321743 4.858670 5.053200 4.902283 5.081726 4.895765 4.877907 4.894233 \n",
              "    3113     1681     2955      617     1096     2950     2863     1257 \n",
              "4.964782 5.281539 5.200829 5.024945 4.974444 5.016780 5.000245 5.208678 \n",
              "    2724     1810      743     2139     2899     3115     2355     3076 \n",
              "4.961703 4.906759 5.324227 4.919228 4.959251 5.081954 4.945903 4.788590 \n",
              "      39     2225      868     1561     3147     1612     2765      724 \n",
              "5.147571 4.732035 5.633693 4.746695 4.801620 4.816126 5.386507 4.845662 \n",
              "    2292     1676     2635     1976     2673     1441     1492     2454 \n",
              "5.031999 4.903640 5.104489 5.288987 4.707434 5.076014 5.100549 5.227760 \n",
              "     913     3141      818     1385      364      803      742     2961 \n",
              "5.347359 4.835290 4.908394 5.174364 5.012048 5.072960 5.142963 5.459727 \n",
              "    1682      669     1050     3044     2629     1207      327     2006 \n",
              "4.819914 4.709869 5.006719 4.822801 4.771593 5.142462 4.799281 4.873728 \n",
              "    1768     1764     1713     1319     1290      609     2866     1416 \n",
              "4.857579 6.085347 4.924087 5.144630 5.184378 4.815864 4.880770 5.003598 \n",
              "    1213     1526     1197     2215     2005      762      959     3166 \n",
              "5.117596 5.097799 5.341787 4.830282 4.886082 5.328531 4.951764 4.947643 \n",
              "     693     1149     2671     1787     1563     1523     1704     2978 \n",
              "4.977124 4.922370 5.052927 5.121971 4.769932 5.112978 4.745222 4.830888 \n",
              "    1740     1276       16     1866     3089     1751     1172     1675 \n",
              "5.508095 4.933617 4.668361 5.508963 5.489533 5.015433 5.337309 5.013815 \n",
              "    2194      378      610     1308     2424     2593     2206     1844 \n",
              "4.750348 4.902139 5.055648 5.236742 4.558014 5.567342 5.197902 4.814921 \n",
              "    2047     1567      556     1282     3104      250     2304      387 \n",
              "4.845293 4.976561 4.972076 4.950889 4.904220 5.215729 5.658770 4.967248 \n",
              "     951     2806      346      733     1287     1903     2681     2243 \n",
              "5.084754 4.982031 5.087157 4.681151 4.704946 4.840392 4.720288 4.659684 \n",
              "     752     2437      224     2177      459      124     1408     1439 \n",
              "5.005085 4.769055 4.863826 5.555883 5.064104 4.857997 5.170655 4.751540 \n",
              "      47      902     1228     3170      812     2413     2581      264 \n",
              "5.225558 4.949450 4.817013 4.858203 4.762535 4.924415 4.815538 5.076298 \n",
              "    2662      192     2781     2220     1684     3177     1983      980 \n",
              "4.896769 4.958278 5.277203 4.845578 5.244184 5.037399 5.648449 4.702021 \n",
              "    3086     2910     2082     2135     1535      341     2202      401 \n",
              "4.866797 5.878093 4.983720 4.761478 5.067047 4.863850 4.908556 4.616482 \n",
              "    2508     2703      687      966     1896       34      243     2409 \n",
              "5.442480 4.844194 4.781339 4.867158 4.778608 4.937284 4.845497 5.130313 \n",
              "    2717     1248     2054     2326     2213      326     1856     1259 \n",
              "5.382298 5.386993 5.023847 5.265746 5.640676 4.915190 5.016459 5.192587 \n",
              "    2362     1310     1718       82      572     2735     1066      859 \n",
              "5.048907 5.085833 5.329022 5.198945 5.056877 4.774177 4.780662 6.023881 \n",
              "     834     1541     1477     2195      594     1641     2150     2611 \n",
              "5.027761 4.929977 4.859510 4.891279 5.056492 5.336989 5.113751 5.013995 \n",
              "    1330     1897     3025       68     2172      832     2658     2133 \n",
              "4.650337 4.870531 5.164381 4.779723 5.285327 4.982370 6.428908 5.167561 \n",
              "    1702     1723     1536      173      391      302     1170      505 \n",
              "5.236658 4.888785 4.950624 4.917441 4.954698 5.030439 4.859599 4.817451 \n",
              "     379      241     1404     1514     2592     1324     1152     2857 \n",
              "5.373251 4.930198 4.870391 4.692980 5.312521 4.754041 5.115387 5.028864 \n",
              "     769     1968     1935     1067     1908      360     1410     2973 \n",
              "4.807749 4.580072 5.092782 5.169363 5.210851 5.001550 4.943683 5.124294 \n",
              "    2249     2692     2471     1633     1999     2093      377     2448 \n",
              "5.746246 4.979367 4.886411 5.029236 5.448991 4.883540 6.187702 4.870558 \n",
              "     654      451     1700     1011     1471     3125     2425       46 \n",
              "5.503944 4.938837 5.039009 4.936965 4.957455 4.949953 4.808877 5.095185 \n",
              "    2858     2303      776     1485     2357     1335     1611     1313 \n",
              "4.873490 4.983997 4.797053 5.093496 4.876391 5.164855 4.762180 4.899329 \n",
              "     738     1005     2771       97     3169     2475     1203      143 \n",
              "5.001000 4.998607 5.208969 4.981826 4.770203 5.054989 4.952682 4.949496 \n",
              "    2932      113      555     2568      603      207     1117      118 \n",
              "5.694729 4.925290 5.308005 5.148753 5.258463 5.393691 4.871781 4.820719 \n",
              "    2457      645     2768     2575     3142     2455      431     1464 \n",
              "5.769647 4.777512 5.239691 4.800249 4.790998 5.248517 4.914366 5.097814 \n",
              "    2976      797     1528     2128     2998     1306     2458      516 \n",
              "5.512269 4.976704 5.010012 4.771460 5.040213 4.701868 5.128947 5.132290 \n",
              "     232     2707       52      660      336     1367      823     1590 \n",
              "4.708098 5.084698 4.983374 5.368483 5.142631 4.893092 4.860681 4.696537 \n",
              "     917     2179      685      531      670     1395      765      718 \n",
              "4.933440 5.115155 4.814895 5.266369 4.858102 5.068957 5.027584 5.057003 \n",
              "     515      801      463     1613     1990      845     2198      741 \n",
              "4.976573 4.662753 5.859352 4.989411 4.973364 4.780354 5.076376 4.790312 \n",
              "    2985     2191     1603     1624      202      166     3015     1463 \n",
              "4.890705 5.076098 6.160792 5.070767 5.160682 4.920984 5.087457 5.289146 \n",
              "     711     2270        8     2007     1569       67      107      146 \n",
              "4.759543 5.130899 4.895564 4.985445 5.125667 4.908505 5.586422 4.889029 \n",
              "     896     1266     1028       11       94      180      569      702 \n",
              "6.083725 5.051599 4.882929 5.119467 4.973145 4.833954 4.813814 4.956786 \n",
              "    1237     2730     1939     2061     1756     2285     2988      906 \n",
              "5.039699 5.458744 4.749468 5.208659 6.039200 4.871797 5.158160 4.534200 \n",
              "    1632     1059     2312      512      240     1373     2184     1975 \n",
              "4.873309 4.900535 5.087660 4.915921 4.839264 5.161157 4.891010 4.924997 \n",
              "     187     1709     1384     2170     1739     2334      861     1105 \n",
              "5.024381 5.082880 4.932689 4.849202 4.976178 4.949258 5.030889 4.929669 \n",
              "    2153     1744     2540     2107     1522      891     2118     2641 \n",
              "4.991297 4.792331 4.744290 5.478832 5.106631 4.869652 5.032882 4.932864 \n",
              "    2039     2622     2571     1006     1644     1252     1642      191 \n",
              "5.620346 4.703959 5.100246 5.053622 4.879312 4.800514 4.961987 4.945524 \n",
              "    3029      491     2751     2522      622     1103     2294      134 \n",
              "5.190480 5.176030 4.928400 5.111192 4.868354 4.786257 4.889580 4.900777 \n",
              "    1646     1251     2610      137     1478     1332      162     2382 \n",
              "5.844620 4.850607 4.905312 4.949533 4.743334 4.807808 4.800562 4.784766 \n",
              "    2038     2072     2917      317      877      621     1858      448 \n",
              "5.540966 4.902735 5.152646 4.839255 5.282688 4.853671 5.050221 5.030644 \n",
              "    1299     3201      833     2551     1733     1925     2679     2623 \n",
              "7.463877 5.259788 5.161525 4.994023 4.907637 4.739649 5.480867 4.886751 \n",
              "    1537       53     2606     2145     1587      426      310     3148 \n",
              "5.292702 4.667409 5.316573 5.204395 4.796992 4.906474 4.964049 5.280287 \n",
              "     619     1269     1099     2486     1420      163       23     3129 \n",
              "4.964883 4.822543 5.931081 4.979973 5.057250 4.969254 5.126429 4.742696 \n",
              "     547     1655     2489      759     1817     2644     1694     2280 \n",
              "4.766331 4.863296 4.893390 5.144397 4.970492 4.784286 4.840700 4.816262 \n",
              "    1168     2672      828     1722     2830     1979      120     1698 \n",
              "5.007680 5.671663 5.179813 5.690967 5.335526 4.955339 4.862851 4.978621 \n",
              "    1749     1629      294     1436      680     2108     2310     2972 \n",
              "4.996791 4.743661 5.235690 5.348165 5.445258 5.363092 4.980196 4.939848 \n",
              "    2464     2214       72     3181     1340     2187     2550     2138 \n",
              "4.765895 5.148983 4.979877 4.722048 5.381218 4.831951 4.869133 4.875265 \n",
              "     406      931     2818     2143     1177       54      922      780 \n",
              "5.381454 4.727474 4.844516 4.811692 4.840583 4.717392 5.056606 5.031531 \n",
              "     538     1962     2992      199     2046     2813      885     1157 \n",
              "5.350811 4.975180 4.794739 4.785866 7.109648 4.879109 5.073660 5.179560 \n",
              "    1988     1153     2403     2346     1693     1222     2868      677 \n",
              "6.062833 5.439062 5.501367 4.906856 4.940849 4.889577 5.126571 4.772739 \n",
              "    2381     1978     2853     2997     2630     1823     2274       66 \n",
              "4.839778 4.973291 4.943879 4.856115 4.820164 6.236911 4.729439 5.049756 \n",
              "    2067      775       92     2087      229     1954     2762     2226 \n",
              "5.466366 4.921830 4.921796 5.012456 4.822711 4.995781 4.876129 4.798162 \n",
              "      12     2841     2435     2278     2369     1494     1915     2798 \n",
              "4.974220 4.989066 4.756233 5.009808 4.804229 5.373952 4.781102 4.797173 \n",
              "     253     1061     1602     2935     3020     2327     2050     1236 \n",
              "5.015650 4.903636 5.051001 8.453945 5.338968 5.038507 5.968264 4.941502 \n",
              "    3072      892     2232       76      286     2235     2091      244 \n",
              "5.571897 4.926234 4.937326 4.961594 5.599864 4.861902 5.060590 5.491077 \n",
              "     331      344      373      464     1627      335     1126     1842 \n",
              "4.942368 4.867136 5.162633 4.821548 4.955273 4.823385 4.948869 4.866472 \n",
              "    3007     1176     2415     1113     1339     1634      699     1009 \n",
              "4.998296 4.947309 5.154591 5.015675 5.014171 5.004251 5.305385 5.058375 \n",
              "    1293     3092     2983     1493     2103      131      332     2822 \n",
              "5.119609 4.770537 4.815657 4.683062 5.099454 4.803596 4.795385 5.310179 \n",
              "    2089     2131      605     2428     1432     1660      707     1195 \n",
              "4.898611 5.519409 5.029260 5.234497 4.906303 5.067670 4.899633 4.815002 \n",
              "    3014     3205     2791     1387     2941     1960      468     1048 \n",
              "4.802664 5.003682 4.873068 5.818754 5.058689 4.970109 4.947691 4.812649 \n",
              "    1862     1991     1344     1552     1201        3     1742      901 \n",
              "5.154968 4.883649 4.990807 4.885049 5.316873 5.095883 4.557447 4.788551 \n",
              "     795      239     1448     2734     2579     2401     2148     1016 \n",
              "4.817276 4.835746 5.042465 4.872457 4.942786 5.011536 5.102782 4.837978 \n",
              "    2275      857     2376     2030      259     3174     1639     2842 \n",
              "4.830700 4.926992 5.035181 5.084728 5.050014 4.995876 5.386268 5.005393 \n",
              "    1777     1284      700      820     1407     1949      881       28 \n",
              "5.393384 4.809686 4.903446 5.214578 5.366846 4.907277 4.930554 5.803366 \n",
              "     792     2251     1554      695     2241      830     1752     2120 \n",
              "4.828850 4.873584 5.026876 4.933693 4.935617 4.972125 5.046397 5.238143 \n",
              "     778     2423     3123     1132      843     1080     1914      945 \n",
              "5.069087 5.403174 4.866890 5.029568 5.108263 4.899133 5.056834 5.418657 \n",
              "    1003     1953     1457     1466     2696     1637     1519     3038 \n",
              "4.912464 5.071871 5.379857 4.921230 5.143245 4.980484 5.236161 4.910208 \n",
              "     744     1286     1402     1285      878     2210     1648     1716 \n",
              "5.008008 5.039440 4.919944 4.846584 4.900341 4.955361 5.074579 5.061907 \n",
              "     930      221     1205     1412     1846      662     3163     1950 \n",
              "4.923735 4.783767 5.406326 4.902559 4.987619 4.929598 4.982170 6.247248 \n",
              "     152     2495      558     2824     1892      920      955      899 \n",
              "4.858785 4.900208 5.238534 4.911798 4.845156 5.165103 4.859658 4.984095 \n",
              "    1350     2400     1278     2162     1189     1078     2433     2228 \n",
              "4.884867 5.004800 4.913922 5.114988 4.779049 5.056203 4.935446 5.029022 \n",
              "    1327     1933     2958     2874     2929      671      104     2375 \n",
              "5.292312 5.216682 4.872482 4.869822 5.500356 4.797897 4.844273 4.829403 \n",
              "    2272     2879     3097      714     2748     1109     1995     1721 \n",
              "5.299927 4.905460 4.786988 4.852476 5.167157 4.927815 5.506824 5.014008 \n",
              "    1221     3005     1495      624     2488      460     1636       63 \n",
              "4.835010 4.890380 4.830652 5.106030 4.726357 5.181916 4.875302 5.170700 \n",
              "    1338     2081     1376      519     1562     1146     1158     2402 \n",
              "4.828863 4.962637 5.327704 5.936711 4.893564 4.980973 5.017808 4.951198 \n",
              "    1190     1481      539     1689     2603     1244     2779      566 \n",
              "5.167454 5.449184 5.211437 4.930625 4.857497 5.263546 4.804917 4.980437 \n",
              "    1184     1820     2528     2839      725     3146      607     2922 \n",
              "5.499217 4.998515 4.903252 4.777184 4.894973 5.052585 5.066635 4.795361 \n",
              "     993     3088      325     2012      263     2025     1000     1564 \n",
              "5.068417 4.721567 4.993640 4.847688 4.965942 4.960135 4.852291 4.907744 \n",
              "    2218     2953      323     1289     2157     1577     1174      138 \n",
              "5.550745 5.019081 4.771657 5.095986 5.178481 5.525611 4.960754 5.178130 \n",
              "     990     1349     2323      208     1453      467     1994       36 \n",
              "4.996527 5.487360 5.003973 5.027220 4.810678 5.099250 4.852502 4.846753 \n",
              "    2757     2444     2339     2337     1047     1458      130      560 \n",
              "5.067576 4.844050 4.833193 4.994404 5.024541 4.931286 5.114528 5.126507 \n",
              "     813     2767     1393      215     1736     1085      370     2524 \n",
              "4.784278 4.742023 4.850547 4.806667 4.971348 5.128536 4.945380 5.326780 \n",
              "    2498     3197     1789     1863      258     1396     2851      999 \n",
              "4.708740 4.887766 5.087397 4.893172 5.004113 5.062812 5.034514 4.707445 \n",
              "    2441     3157       83     1346     1167     1323     2684     2728 \n",
              "5.047516 5.064894 4.879775 5.123927 5.065316 5.546964 4.711314 5.040447 \n",
              "    2001      216     1928      784     3144      703     2986      764 \n",
              "5.165554 4.928658 4.857096 4.997671 5.268014 4.741793 4.924342 5.218201 \n",
              "     411     1082      643      371     1194     2605     1898     1116 \n",
              "4.729805 4.877650 4.852856 5.000679 4.968819 5.490607 5.033984 4.858473 \n",
              "    2130      168      233      103     3119     1055      976     1750 \n",
              "4.962889 5.300480 5.214121 5.103615 5.036967 4.845620 4.775470 5.128093 \n",
              "     434     2674      523      973     1090     2715     2224     2797 \n",
              "4.927410 5.327219 4.698794 5.070999 5.017633 4.920803 5.449199 5.222927 \n",
              "     886     2652     1068     1296      288     1808     2939     2066 \n",
              "5.048155 4.917144 4.875116 5.316135 5.304057 7.058356 4.762217 5.447593 \n",
              "    2587     3162     2340     1051     2358     1984     2526     1419 \n",
              "4.939970 4.946514 5.384270 5.275543 4.776776 5.317698 4.735088 5.377409 \n",
              "    1841     2613      873        4     1317     2023     2468     1931 \n",
              "4.860388 4.996179 4.801755 4.783462 6.861647 4.991564 4.842092 4.860626 \n",
              "    2078     1151     1889      200     2785     1030      904     1305 \n",
              "5.170549 4.752459 5.838459 4.754751 4.983275 4.837086 4.957010 5.215390 \n",
              "    1880     2777      710      362     2875       49     2011     1621 \n",
              "5.114744 4.828760 4.800960 5.034912 5.498021 4.875661 4.813640 4.611675 \n",
              "    1014      445     2507       93      690      141     2780     2188 \n",
              "5.436186 5.293905 4.788395 4.683117 4.972115 4.902071 5.091293 4.918177 \n",
              "    1297     2931     1294     2024      388     2367     1734     2200 \n",
              "4.993079 4.791547 5.114919 5.040690 4.983038 5.162892 4.766428 4.901812 \n",
              "     649      875     2079     2277     1366      880     2682     1460 \n",
              "4.894816 5.084298 4.875909 4.853139 4.978346 4.934978 4.934916 4.939843 \n",
              "     894     1443      573      178     2912     2655      210     1301 \n",
              "4.756309 5.083157 5.396154 4.691300 5.265958 4.795116 5.081390 5.504992 \n",
              "     438     1399     3127      149      979     1130     1164     1921 \n",
              "4.835504 5.877454 4.949223 4.884031 5.134821 5.159529 4.938266 5.027779 \n",
              "     991      167     1104     2183     2262     1196     2718     3023 \n",
              "4.903691 4.976321 5.094221 5.538199 4.895060 4.918248 4.747503 5.164235 \n",
              "    2244      105       77     2315     1924     3150      447     1123 \n",
              "5.075410 5.548096 4.958502 4.839411 4.757391 4.882250 5.009503 5.271969 \n",
              "     924     2267     3061     2349     2308      641     1948      595 \n",
              "5.108549 5.347737 5.273163 4.990182 4.756016 5.706565 5.132224 4.795555 \n",
              "     939     2250     1179      983     1139     2760     2915     1680 \n",
              "5.291462 4.825337 5.027843 4.943276 5.079726 5.717712 4.894095 4.752457 \n",
              "    1245     1316       80     3145       38     2181     1480      154 \n",
              "4.669470 4.992820 4.998176 4.904845 4.813850 5.137234 4.928690 4.948633 \n",
              "    2733     3075      337      170      978      257     1388     1040 \n",
              "4.900752 4.858270 4.786104 4.786432 5.743298 4.870853 5.603877 4.691467 \n",
              "    1092     1357     2775     2538      540     2166     2536     1459 \n",
              "5.311800 4.881050 5.197222 4.768731 5.042215 4.646241 4.824404 5.327411 \n",
              "    2085       88     1254     2503     2328     1010     2970       35 \n",
              "4.983660 4.830916 5.337699 5.148020 5.229733 5.247881 5.142979 5.087501 \n",
              "    1091     1511      238      716     3153      410     2321     1868 \n",
              "4.790412 4.977763 5.258024 5.133431 5.304870 4.939235 4.680473 4.978320 \n",
              "    2787     2257     1475     2740     1377     1885     3048      100 \n",
              "4.946135 4.915531 5.043931 4.887656 5.070155 5.037703 4.822965 4.862196 \n",
              "    3112        5     1673      748     2891     2080     1686     2144 \n",
              "5.161981 5.475761 5.250376 4.668663 5.027488 5.076574 5.175870 5.778997 \n",
              "    2485     3171     1926     1144      943      602      242     1940 \n",
              "5.370117 4.920804 5.187463 5.010410 4.852336 5.383779 5.013578 5.046415 \n",
              "     874     3008     1800     2436       10     2697     2356     2990 \n",
              "4.754602 4.935530 5.183417 4.768614 5.066048 4.692511 5.361345 5.971500 \n",
              "     737      719     1913     2496     1062     2320     3079     1724 \n",
              "4.894217 4.951994 5.195464 5.743425 5.051772 5.058707 5.050621 5.306370 \n",
              "    2354     2372     3083     1597     1107     1012     2609     2178 \n",
              "5.445310 5.099482 5.225551 5.032083 4.906942 5.417963 5.003280 4.864766 \n",
              "    3011     1934      353     2490     1628     3042      586     1352 \n",
              "5.510354 5.208788 4.809367 4.873930 4.908251 5.874374 4.942428 4.605922 \n",
              "    1916      630      226      277     3188     1669     1697     2149 \n",
              "5.191976 5.170852 4.869564 4.957142 5.410693 4.866211 4.845316 4.858755 \n",
              "     846     2665     2723     3026     2555     1486      437     2115 \n",
              "4.912295 5.242074 4.832543 5.241745 5.022254 5.009647 5.190988 5.193878 \n",
              "     188      261     2291     1112     2810      829      739     1884 \n",
              "5.023952 5.074028 5.088924 6.118607 4.947377 5.275344 5.092097 4.968885 \n",
              "    1570     1690     2302     1064     2045     2773     2770      524 \n",
              "4.749420 4.942697 4.875977 5.017667 4.957112 5.161003 5.173204 4.979799 \n",
              "     665     2283     1038     3002     2639     1263     1729     2796 \n",
              "5.010327 4.702847 5.302051 5.099165 5.184147 4.837664 4.936336 4.948582 \n",
              "      70      793     1699      164     3198     2594      992     1032 \n",
              "4.939005 5.160476 5.462719 4.903495 5.147532 4.832985 4.907185 4.770450 \n",
              "    2221     1089     1706      477     2844      276     2344     1426 \n",
              "5.017457 4.952384 5.346137 5.137773 4.794057 4.933387 4.976418 5.060040 \n",
              "    2271     2420      398       89     2487     2258     1342      729 \n",
              "5.171637 4.814462 4.836287 4.935471 4.942400 5.368597 4.714255 5.434922 \n",
              "    1882      488      848     3186     1029     1614     2106      160 \n",
              "5.356106 5.034497 4.905788 5.332693 5.000428 4.909486 5.195041 4.868192 \n",
              "    2669     1454      735     2511     1345     2893     3037     2974 \n",
              "5.137805 4.881597 5.632297 4.925370 4.986480 4.897086 4.961048 5.064460 \n",
              "    2938      382     2808      799      283      701     2434     3136 \n",
              "5.370482 4.995905 4.966844 5.049154 4.883267 5.004696 5.018674 4.814889 \n",
              "    2219     1827      333     2823     1575       26     2905      977 \n",
              "5.013292 4.801004 4.884345 4.790309 4.850204 4.733736 5.176880 4.772011 \n",
              "     507      953      598      986     1383      218     2399     1947 \n",
              "4.899252 4.853898 4.846665 4.842217 4.763158 5.146585 5.163313 5.215457 \n",
              "    1186     1220     1668      740     2602     2018     2921      794 \n",
              "5.046777 5.084876 5.240143 4.794572 4.820246 4.875530 4.947885 5.246185 \n",
              "     673     1474      713     2766     2161     1865     1666     1369 \n",
              "4.934446 5.093148 5.048954 4.916850 4.842561 5.107907 4.730202 5.480000 \n",
              "     458     3043     1870      824     2049     2693     1298     2189 \n",
              "5.209153 5.073397 5.128050 4.790534 4.893036 5.514664 5.026613 4.959656 \n",
              "     912     2163     1277     3102     3138      165     3077     1565 \n",
              "4.891568 4.937407 5.474639 4.832330 4.981677 4.919631 4.847851 4.923357 "
            ]
          },
          "metadata": {}
        }
      ],
      "source": [
        "model_log$fitted.values\n"
      ]
    },
    {
      "cell_type": "markdown",
      "metadata": {
        "id": "FHUXxlvMht4V"
      },
      "source": [
        " "
      ]
    },
    {
      "cell_type": "code",
      "source": [
        "#Predictions on train, vaildation, and test data\n",
        "library(DMwR)\n",
        "\n",
        "## Predict on Train and Validation\n",
        "model_log_train_preds <- model_log$fitted.values \n",
        "model_log_validation_preds <- predict(object = model_log, newdata = validation_data_log)\n",
        "\n",
        "## \n",
        "model_log_train_preds = exp(model_log_train_preds)\n",
        "model_log_validation_preds = exp(model_log_validation_preds)\n",
        "\n",
        "## Evaluate\n",
        "regr.eval(trues = train_data$TotalRevenueGenerated, preds = model_log_train_preds)\n",
        "regr.eval(trues = validation_data$TotalRevenueGenerated, preds = model_log_validation_preds)"
      ],
      "metadata": {
        "colab": {
          "base_uri": "https://localhost:8080/",
          "height": 52
        },
        "id": "8O56Eq_3SlXV",
        "outputId": "7326c92c-3d58-4d60-b38e-b72b948d38ae"
      },
      "execution_count": 96,
      "outputs": [
        {
          "output_type": "display_data",
          "data": {
            "text/html": [
              "<style>\n",
              ".dl-inline {width: auto; margin:0; padding: 0}\n",
              ".dl-inline>dt, .dl-inline>dd {float: none; width: auto; display: inline-block}\n",
              ".dl-inline>dt::after {content: \":\\0020\"; padding-right: .5ex}\n",
              ".dl-inline>dt:not(:first-of-type) {padding-left: .5ex}\n",
              "</style><dl class=dl-inline><dt>mae</dt><dd>32.8381185520935</dd><dt>mse</dt><dd>8775.1856813705</dd><dt>rmse</dt><dd>93.6759610645682</dd><dt>mape</dt><dd>0.174837641207808</dd></dl>\n"
            ],
            "text/markdown": "mae\n:   32.8381185520935mse\n:   8775.1856813705rmse\n:   93.6759610645682mape\n:   0.174837641207808\n\n",
            "text/latex": "\\begin{description*}\n\\item[mae] 32.8381185520935\n\\item[mse] 8775.1856813705\n\\item[rmse] 93.6759610645682\n\\item[mape] 0.174837641207808\n\\end{description*}\n",
            "text/plain": [
              "         mae          mse         rmse         mape \n",
              "  32.8381186 8775.1856814   93.6759611    0.1748376 "
            ]
          },
          "metadata": {}
        },
        {
          "output_type": "display_data",
          "data": {
            "text/html": [
              "<style>\n",
              ".dl-inline {width: auto; margin:0; padding: 0}\n",
              ".dl-inline>dt, .dl-inline>dd {float: none; width: auto; display: inline-block}\n",
              ".dl-inline>dt::after {content: \":\\0020\"; padding-right: .5ex}\n",
              ".dl-inline>dt:not(:first-of-type) {padding-left: .5ex}\n",
              "</style><dl class=dl-inline><dt>mae</dt><dd>31.1193900595251</dd><dt>mse</dt><dd>3232.77990267875</dd><dt>rmse</dt><dd>56.8575404205875</dd><dt>mape</dt><dd>0.169436802463309</dd></dl>\n"
            ],
            "text/markdown": "mae\n:   31.1193900595251mse\n:   3232.77990267875rmse\n:   56.8575404205875mape\n:   0.169436802463309\n\n",
            "text/latex": "\\begin{description*}\n\\item[mae] 31.1193900595251\n\\item[mse] 3232.77990267875\n\\item[rmse] 56.8575404205875\n\\item[mape] 0.169436802463309\n\\end{description*}\n",
            "text/plain": [
              "         mae          mse         rmse         mape \n",
              "  31.1193901 3232.7799027   56.8575404    0.1694368 "
            ]
          },
          "metadata": {}
        }
      ]
    }
  ],
  "metadata": {
    "kernelspec": {
      "display_name": "R",
      "language": "R",
      "name": "ir"
    },
    "language_info": {
      "codemirror_mode": "r",
      "file_extension": ".r",
      "mimetype": "text/x-r-source",
      "name": "R",
      "pygments_lexer": "r",
      "version": "4.1.0"
    },
    "colab": {
      "provenance": [],
      "include_colab_link": true
    }
  },
  "nbformat": 4,
  "nbformat_minor": 0
}