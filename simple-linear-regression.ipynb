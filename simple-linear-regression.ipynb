{
  "cells": [
    {
      "cell_type": "markdown",
      "metadata": {
        "id": "view-in-github",
        "colab_type": "text"
      },
      "source": [
        "<a href=\"https://colab.research.google.com/gist/Vidhi1290/c25b662327cdc18fed950e7465f7b959/simple-linear-regression.ipynb\" target=\"_parent\"><img src=\"https://colab.research.google.com/assets/colab-badge.svg\" alt=\"Open In Colab\"/></a>"
      ]
    },
    {
      "cell_type": "markdown",
      "metadata": {
        "id": "t25yppPuyadr"
      },
      "source": [
        "## Simple Linear Regression"
      ]
    },
    {
      "cell_type": "markdown",
      "metadata": {
        "id": "_VSZdUbnyadt"
      },
      "source": [
        "### Agenda\n",
        "   \n",
        "    ♦ Problem Description\n",
        "    ♦ Data Understanding\n",
        "    ♦ Handling Missing values\n",
        "    ♦ Data Exploratory Analysis\n",
        "    ♦ Split the data into Train and Validation sets\n",
        "    ♦ Build a simple linear regression model\n",
        "    ♦ Interpret model results\n"
      ]
    },
    {
      "cell_type": "markdown",
      "metadata": {
        "id": "TPY923CGyadt"
      },
      "source": [
        "### Problem Description"
      ]
    },
    {
      "cell_type": "markdown",
      "metadata": {
        "id": "nRJUaRvLyadu"
      },
      "source": [
        "The given data has various attributes of a car, use linear regression approach to estimate price of the car with a combination of collected features. \n",
        "\n",
        "\n",
        "Price - The cost of the car\n",
        "\n",
        "Country - The country in which the car is up for sale\n",
        "\n",
        "Reliability - An ordinal metric for understanding the reliability of the car\n",
        "\n",
        "Mileage - The fuel efficiency of the car\n",
        "\n",
        "Type - A categorical variable defining the category to which the car belongs.\n",
        "\n",
        "Weight - The weight of the car\n",
        "\n",
        "Displacement - Represents the engine displacement of the car\n",
        "\n",
        "HP - Horsepower of the car, a unit that measures it's power\n"
      ]
    },
    {
      "cell_type": "markdown",
      "metadata": {
        "id": "OMrQhSAryadu"
      },
      "source": [
        "### Data Reading"
      ]
    },
    {
      "cell_type": "code",
      "execution_count": 1,
      "metadata": {
        "colab": {
          "base_uri": "https://localhost:8080/",
          "height": 34
        },
        "id": "ZahGCmncyadu",
        "outputId": "2ae7101f-7684-4d4a-ee69-cfec6deaa853"
      },
      "outputs": [
        {
          "output_type": "display_data",
          "data": {
            "text/html": [
              "'/content'"
            ],
            "text/markdown": "'/content'",
            "text/latex": "'/content'",
            "text/plain": [
              "[1] \"/content\""
            ]
          },
          "metadata": {}
        }
      ],
      "source": [
        "getwd()"
      ]
    },
    {
      "cell_type": "code",
      "execution_count": 2,
      "metadata": {
        "id": "V71-7n8Qyad3"
      },
      "outputs": [],
      "source": [
        "## Load the data\n",
        "cars_data  <- read.csv(file = \"cars.csv\")"
      ]
    },
    {
      "cell_type": "markdown",
      "metadata": {
        "id": "H8VHxuAryad3"
      },
      "source": [
        "### Data Understanding"
      ]
    },
    {
      "cell_type": "markdown",
      "metadata": {
        "id": "SEeqd1O2yad4"
      },
      "source": [
        "Check the number of observations and attributes\n",
        "\n",
        "Classify independent variables and dependent variable\n",
        "\n",
        "In Linear Regression, the dependent variable is continuous variable.\n",
        "\n",
        "For Simple Linear Regression we will predict dependent variable with one independent variable\n",
        "\n",
        "For this example, we will consider the Price as dependent variable and the Displacement of the car as the independent variable.\n"
      ]
    },
    {
      "cell_type": "markdown",
      "metadata": {
        "id": "7B4xEyt3yad4"
      },
      "source": [
        " "
      ]
    },
    {
      "cell_type": "code",
      "execution_count": 3,
      "metadata": {
        "scrolled": true,
        "colab": {
          "base_uri": "https://localhost:8080/",
          "height": 34
        },
        "id": "sj9pJgKfyad4",
        "outputId": "b8cb1eaa-a928-490b-dd64-f14f93ded915"
      },
      "outputs": [
        {
          "output_type": "display_data",
          "data": {
            "text/html": [
              "<style>\n",
              ".list-inline {list-style: none; margin:0; padding: 0}\n",
              ".list-inline>li {display: inline-block}\n",
              ".list-inline>li:not(:last-child)::after {content: \"\\00b7\"; padding: 0 .5ex}\n",
              "</style>\n",
              "<ol class=list-inline><li>60</li><li>8</li></ol>\n"
            ],
            "text/markdown": "1. 60\n2. 8\n\n\n",
            "text/latex": "\\begin{enumerate*}\n\\item 60\n\\item 8\n\\end{enumerate*}\n",
            "text/plain": [
              "[1] 60  8"
            ]
          },
          "metadata": {}
        }
      ],
      "source": [
        "dim(cars_data)"
      ]
    },
    {
      "cell_type": "code",
      "execution_count": 4,
      "metadata": {
        "colab": {
          "base_uri": "https://localhost:8080/"
        },
        "id": "UjeSvAxeyad4",
        "outputId": "a4815fc7-f94d-4c75-bb9d-5d7f1ed3aa05"
      },
      "outputs": [
        {
          "output_type": "stream",
          "name": "stdout",
          "text": [
            "'data.frame':\t60 obs. of  8 variables:\n",
            " $ Price      : int  8895 7402 6319 6635 6599 8672 7399 7254 9599 5866 ...\n",
            " $ Country    : chr  \"USA\" \"USA\" \"Korea\" \"Japan/USA\" ...\n",
            " $ Reliability: int  4 2 4 5 5 4 5 1 5 NA ...\n",
            " $ Mileage    : int  33 33 37 32 32 26 33 28 25 34 ...\n",
            " $ Type       : chr  \"Small\" \"Small\" \"Small\" \"Small\" ...\n",
            " $ Weight     : int  2560 2345 1845 2260 2440 2285 2275 2350 2295 1900 ...\n",
            " $ Disp.      : int  97 114 81 91 113 97 97 98 109 73 ...\n",
            " $ HP         : int  113 90 63 92 103 82 90 74 90 73 ...\n"
          ]
        }
      ],
      "source": [
        "str(cars_data)"
      ]
    },
    {
      "cell_type": "code",
      "execution_count": 5,
      "metadata": {
        "colab": {
          "base_uri": "https://localhost:8080/",
          "height": 286
        },
        "id": "A_bLQ1q5yad5",
        "outputId": "f9720fec-174a-4cef-87e9-0511a31c89d3"
      },
      "outputs": [
        {
          "output_type": "display_data",
          "data": {
            "text/html": [
              "<table class=\"dataframe\">\n",
              "<caption>A data.frame: 6 × 8</caption>\n",
              "<thead>\n",
              "\t<tr><th></th><th scope=col>Price</th><th scope=col>Country</th><th scope=col>Reliability</th><th scope=col>Mileage</th><th scope=col>Type</th><th scope=col>Weight</th><th scope=col>Disp.</th><th scope=col>HP</th></tr>\n",
              "\t<tr><th></th><th scope=col>&lt;int&gt;</th><th scope=col>&lt;chr&gt;</th><th scope=col>&lt;int&gt;</th><th scope=col>&lt;int&gt;</th><th scope=col>&lt;chr&gt;</th><th scope=col>&lt;int&gt;</th><th scope=col>&lt;int&gt;</th><th scope=col>&lt;int&gt;</th></tr>\n",
              "</thead>\n",
              "<tbody>\n",
              "\t<tr><th scope=row>1</th><td>8895</td><td>USA      </td><td>4</td><td>33</td><td>Small</td><td>2560</td><td> 97</td><td>113</td></tr>\n",
              "\t<tr><th scope=row>2</th><td>7402</td><td>USA      </td><td>2</td><td>33</td><td>Small</td><td>2345</td><td>114</td><td> 90</td></tr>\n",
              "\t<tr><th scope=row>3</th><td>6319</td><td>Korea    </td><td>4</td><td>37</td><td>Small</td><td>1845</td><td> 81</td><td> 63</td></tr>\n",
              "\t<tr><th scope=row>4</th><td>6635</td><td>Japan/USA</td><td>5</td><td>32</td><td>Small</td><td>2260</td><td> 91</td><td> 92</td></tr>\n",
              "\t<tr><th scope=row>5</th><td>6599</td><td>Japan    </td><td>5</td><td>32</td><td>Small</td><td>2440</td><td>113</td><td>103</td></tr>\n",
              "\t<tr><th scope=row>6</th><td>8672</td><td>Mexico   </td><td>4</td><td>26</td><td>Small</td><td>2285</td><td> 97</td><td> 82</td></tr>\n",
              "</tbody>\n",
              "</table>\n"
            ],
            "text/markdown": "\nA data.frame: 6 × 8\n\n| <!--/--> | Price &lt;int&gt; | Country &lt;chr&gt; | Reliability &lt;int&gt; | Mileage &lt;int&gt; | Type &lt;chr&gt; | Weight &lt;int&gt; | Disp. &lt;int&gt; | HP &lt;int&gt; |\n|---|---|---|---|---|---|---|---|---|\n| 1 | 8895 | USA       | 4 | 33 | Small | 2560 |  97 | 113 |\n| 2 | 7402 | USA       | 2 | 33 | Small | 2345 | 114 |  90 |\n| 3 | 6319 | Korea     | 4 | 37 | Small | 1845 |  81 |  63 |\n| 4 | 6635 | Japan/USA | 5 | 32 | Small | 2260 |  91 |  92 |\n| 5 | 6599 | Japan     | 5 | 32 | Small | 2440 | 113 | 103 |\n| 6 | 8672 | Mexico    | 4 | 26 | Small | 2285 |  97 |  82 |\n\n",
            "text/latex": "A data.frame: 6 × 8\n\\begin{tabular}{r|llllllll}\n  & Price & Country & Reliability & Mileage & Type & Weight & Disp. & HP\\\\\n  & <int> & <chr> & <int> & <int> & <chr> & <int> & <int> & <int>\\\\\n\\hline\n\t1 & 8895 & USA       & 4 & 33 & Small & 2560 &  97 & 113\\\\\n\t2 & 7402 & USA       & 2 & 33 & Small & 2345 & 114 &  90\\\\\n\t3 & 6319 & Korea     & 4 & 37 & Small & 1845 &  81 &  63\\\\\n\t4 & 6635 & Japan/USA & 5 & 32 & Small & 2260 &  91 &  92\\\\\n\t5 & 6599 & Japan     & 5 & 32 & Small & 2440 & 113 & 103\\\\\n\t6 & 8672 & Mexico    & 4 & 26 & Small & 2285 &  97 &  82\\\\\n\\end{tabular}\n",
            "text/plain": [
              "  Price Country   Reliability Mileage Type  Weight Disp. HP \n",
              "1 8895  USA       4           33      Small 2560    97   113\n",
              "2 7402  USA       2           33      Small 2345   114    90\n",
              "3 6319  Korea     4           37      Small 1845    81    63\n",
              "4 6635  Japan/USA 5           32      Small 2260    91    92\n",
              "5 6599  Japan     5           32      Small 2440   113   103\n",
              "6 8672  Mexico    4           26      Small 2285    97    82"
            ]
          },
          "metadata": {}
        }
      ],
      "source": [
        "head(cars_data)"
      ]
    },
    {
      "cell_type": "code",
      "execution_count": 6,
      "metadata": {
        "colab": {
          "base_uri": "https://localhost:8080/",
          "height": 286
        },
        "id": "qaTrWLhsyad5",
        "outputId": "02ad3cbd-a48f-489c-90dd-faa43b971024"
      },
      "outputs": [
        {
          "output_type": "display_data",
          "data": {
            "text/html": [
              "<table class=\"dataframe\">\n",
              "<caption>A data.frame: 6 × 8</caption>\n",
              "<thead>\n",
              "\t<tr><th></th><th scope=col>Price</th><th scope=col>Country</th><th scope=col>Reliability</th><th scope=col>Mileage</th><th scope=col>Type</th><th scope=col>Weight</th><th scope=col>Disp.</th><th scope=col>HP</th></tr>\n",
              "\t<tr><th></th><th scope=col>&lt;int&gt;</th><th scope=col>&lt;chr&gt;</th><th scope=col>&lt;int&gt;</th><th scope=col>&lt;int&gt;</th><th scope=col>&lt;chr&gt;</th><th scope=col>&lt;int&gt;</th><th scope=col>&lt;int&gt;</th><th scope=col>&lt;int&gt;</th></tr>\n",
              "</thead>\n",
              "<tbody>\n",
              "\t<tr><th scope=row>55</th><td>15395</td><td>USA  </td><td> 3</td><td>18</td><td>Van</td><td>3735</td><td>202</td><td>150</td></tr>\n",
              "\t<tr><th scope=row>56</th><td>12267</td><td>USA  </td><td> 3</td><td>18</td><td>Van</td><td>3665</td><td>182</td><td>145</td></tr>\n",
              "\t<tr><th scope=row>57</th><td>14944</td><td>Japan</td><td> 5</td><td>19</td><td>Van</td><td>3735</td><td>181</td><td>150</td></tr>\n",
              "\t<tr><th scope=row>58</th><td>14929</td><td>Japan</td><td>NA</td><td>20</td><td>Van</td><td>3415</td><td>143</td><td>107</td></tr>\n",
              "\t<tr><th scope=row>59</th><td>13949</td><td>Japan</td><td>NA</td><td>20</td><td>Van</td><td>3185</td><td>146</td><td>138</td></tr>\n",
              "\t<tr><th scope=row>60</th><td>14799</td><td>Japan</td><td>NA</td><td>19</td><td>Van</td><td>3690</td><td>146</td><td>106</td></tr>\n",
              "</tbody>\n",
              "</table>\n"
            ],
            "text/markdown": "\nA data.frame: 6 × 8\n\n| <!--/--> | Price &lt;int&gt; | Country &lt;chr&gt; | Reliability &lt;int&gt; | Mileage &lt;int&gt; | Type &lt;chr&gt; | Weight &lt;int&gt; | Disp. &lt;int&gt; | HP &lt;int&gt; |\n|---|---|---|---|---|---|---|---|---|\n| 55 | 15395 | USA   |  3 | 18 | Van | 3735 | 202 | 150 |\n| 56 | 12267 | USA   |  3 | 18 | Van | 3665 | 182 | 145 |\n| 57 | 14944 | Japan |  5 | 19 | Van | 3735 | 181 | 150 |\n| 58 | 14929 | Japan | NA | 20 | Van | 3415 | 143 | 107 |\n| 59 | 13949 | Japan | NA | 20 | Van | 3185 | 146 | 138 |\n| 60 | 14799 | Japan | NA | 19 | Van | 3690 | 146 | 106 |\n\n",
            "text/latex": "A data.frame: 6 × 8\n\\begin{tabular}{r|llllllll}\n  & Price & Country & Reliability & Mileage & Type & Weight & Disp. & HP\\\\\n  & <int> & <chr> & <int> & <int> & <chr> & <int> & <int> & <int>\\\\\n\\hline\n\t55 & 15395 & USA   &  3 & 18 & Van & 3735 & 202 & 150\\\\\n\t56 & 12267 & USA   &  3 & 18 & Van & 3665 & 182 & 145\\\\\n\t57 & 14944 & Japan &  5 & 19 & Van & 3735 & 181 & 150\\\\\n\t58 & 14929 & Japan & NA & 20 & Van & 3415 & 143 & 107\\\\\n\t59 & 13949 & Japan & NA & 20 & Van & 3185 & 146 & 138\\\\\n\t60 & 14799 & Japan & NA & 19 & Van & 3690 & 146 & 106\\\\\n\\end{tabular}\n",
            "text/plain": [
              "   Price Country Reliability Mileage Type Weight Disp. HP \n",
              "55 15395 USA      3          18      Van  3735   202   150\n",
              "56 12267 USA      3          18      Van  3665   182   145\n",
              "57 14944 Japan    5          19      Van  3735   181   150\n",
              "58 14929 Japan   NA          20      Van  3415   143   107\n",
              "59 13949 Japan   NA          20      Van  3185   146   138\n",
              "60 14799 Japan   NA          19      Van  3690   146   106"
            ]
          },
          "metadata": {}
        }
      ],
      "source": [
        "tail(cars_data)"
      ]
    },
    {
      "cell_type": "markdown",
      "metadata": {
        "id": "3y17rUEvyad5"
      },
      "source": [
        "### Summary Statistics"
      ]
    },
    {
      "cell_type": "code",
      "execution_count": 7,
      "metadata": {
        "colab": {
          "base_uri": "https://localhost:8080/",
          "height": 303
        },
        "id": "YJqALKwPyad5",
        "outputId": "d97e2d4c-d57c-44c3-89d8-d60d6f01697d"
      },
      "outputs": [
        {
          "output_type": "display_data",
          "data": {
            "text/plain": [
              "     Price         Country           Reliability       Mileage     \n",
              " Min.   : 5866   Length:60          Min.   :1.000   Min.   :18.00  \n",
              " 1st Qu.: 9932   Class :character   1st Qu.:2.000   1st Qu.:21.00  \n",
              " Median :12216   Mode  :character   Median :3.000   Median :23.00  \n",
              " Mean   :12616                      Mean   :3.388   Mean   :24.58  \n",
              " 3rd Qu.:14933                      3rd Qu.:5.000   3rd Qu.:27.00  \n",
              " Max.   :24760                      Max.   :5.000   Max.   :37.00  \n",
              "                                    NA's   :11                     \n",
              "     Type               Weight         Disp.             HP       \n",
              " Length:60          Min.   :1845   Min.   : 73.0   Min.   : 63.0  \n",
              " Class :character   1st Qu.:2571   1st Qu.:113.8   1st Qu.:101.5  \n",
              " Mode  :character   Median :2885   Median :144.5   Median :111.5  \n",
              "                    Mean   :2901   Mean   :152.1   Mean   :122.3  \n",
              "                    3rd Qu.:3231   3rd Qu.:180.0   3rd Qu.:142.8  \n",
              "                    Max.   :3855   Max.   :305.0   Max.   :225.0  \n",
              "                                                                  "
            ]
          },
          "metadata": {}
        }
      ],
      "source": [
        "summary(cars_data)"
      ]
    },
    {
      "cell_type": "markdown",
      "metadata": {
        "id": "P916aqM3yad5"
      },
      "source": [
        "### Data Type Conversion\n",
        "Check if any data type conversions have to be done.\n"
      ]
    },
    {
      "cell_type": "code",
      "execution_count": 8,
      "metadata": {
        "id": "nzhP4fMyyad5"
      },
      "outputs": [],
      "source": [
        "#Convert \"Reliability\" to factor variable\n",
        "cars_data[, \"Reliability\"] <- as.factor(as.character(cars_data[, \"Reliability\"]))"
      ]
    },
    {
      "cell_type": "code",
      "execution_count": 9,
      "metadata": {
        "id": "CniOWoK4yad6"
      },
      "outputs": [],
      "source": [
        "cars_data[, \"Country\"] <- as.factor(as.character(cars_data[, \"Country\"]))\n",
        "cars_data[, \"Type\"] <- as.factor(as.character(cars_data[, \"Type\"]))"
      ]
    },
    {
      "cell_type": "code",
      "execution_count": 10,
      "metadata": {
        "colab": {
          "base_uri": "https://localhost:8080/"
        },
        "id": "Uug7oEe8yad6",
        "outputId": "a751ffe4-8ca0-4690-c653-89870bc71e14"
      },
      "outputs": [
        {
          "output_type": "stream",
          "name": "stdout",
          "text": [
            "'data.frame':\t60 obs. of  8 variables:\n",
            " $ Price      : int  8895 7402 6319 6635 6599 8672 7399 7254 9599 5866 ...\n",
            " $ Country    : Factor w/ 8 levels \"France\",\"Germany\",..: 8 8 5 4 3 6 4 5 3 3 ...\n",
            " $ Reliability: Factor w/ 5 levels \"1\",\"2\",\"3\",\"4\",..: 4 2 4 5 5 4 5 1 5 NA ...\n",
            " $ Mileage    : int  33 33 37 32 32 26 33 28 25 34 ...\n",
            " $ Type       : Factor w/ 6 levels \"Compact\",\"Large\",..: 4 4 4 4 4 4 4 4 4 4 ...\n",
            " $ Weight     : int  2560 2345 1845 2260 2440 2285 2275 2350 2295 1900 ...\n",
            " $ Disp.      : int  97 114 81 91 113 97 97 98 109 73 ...\n",
            " $ HP         : int  113 90 63 92 103 82 90 74 90 73 ...\n"
          ]
        }
      ],
      "source": [
        "str(cars_data)"
      ]
    },
    {
      "cell_type": "markdown",
      "metadata": {
        "id": "aJx4SaZGyad6"
      },
      "source": [
        "### Handling Missing Values"
      ]
    },
    {
      "cell_type": "code",
      "execution_count": 11,
      "metadata": {
        "colab": {
          "base_uri": "https://localhost:8080/",
          "height": 34
        },
        "id": "UPprwblbyad6",
        "outputId": "be998249-5e30-4442-e928-209db08508b2"
      },
      "outputs": [
        {
          "output_type": "display_data",
          "data": {
            "text/html": [
              "11"
            ],
            "text/markdown": "11",
            "text/latex": "11",
            "text/plain": [
              "[1] 11"
            ]
          },
          "metadata": {}
        }
      ],
      "source": [
        "## Look for Missing Values\n",
        "sum(is.na(cars_data))"
      ]
    },
    {
      "cell_type": "code",
      "execution_count": 12,
      "metadata": {
        "colab": {
          "base_uri": "https://localhost:8080/",
          "height": 34
        },
        "id": "u3rQa7Ewyad7",
        "outputId": "1e3a7180-6c28-46ee-c767-05aec1414e15"
      },
      "outputs": [
        {
          "output_type": "display_data",
          "data": {
            "text/html": [
              "<style>\n",
              ".dl-inline {width: auto; margin:0; padding: 0}\n",
              ".dl-inline>dt, .dl-inline>dd {float: none; width: auto; display: inline-block}\n",
              ".dl-inline>dt::after {content: \":\\0020\"; padding-right: .5ex}\n",
              ".dl-inline>dt:not(:first-of-type) {padding-left: .5ex}\n",
              "</style><dl class=dl-inline><dt>Price</dt><dd>0</dd><dt>Country</dt><dd>0</dd><dt>Reliability</dt><dd>11</dd><dt>Mileage</dt><dd>0</dd><dt>Type</dt><dd>0</dd><dt>Weight</dt><dd>0</dd><dt>Disp.</dt><dd>0</dd><dt>HP</dt><dd>0</dd></dl>\n"
            ],
            "text/markdown": "Price\n:   0Country\n:   0Reliability\n:   11Mileage\n:   0Type\n:   0Weight\n:   0Disp.\n:   0HP\n:   0\n\n",
            "text/latex": "\\begin{description*}\n\\item[Price] 0\n\\item[Country] 0\n\\item[Reliability] 11\n\\item[Mileage] 0\n\\item[Type] 0\n\\item[Weight] 0\n\\item[Disp.] 0\n\\item[HP] 0\n\\end{description*}\n",
            "text/plain": [
              "      Price     Country Reliability     Mileage        Type      Weight \n",
              "          0           0          11           0           0           0 \n",
              "      Disp.          HP \n",
              "          0           0 "
            ]
          },
          "metadata": {}
        }
      ],
      "source": [
        "colSums(is.na(cars_data))"
      ]
    },
    {
      "cell_type": "code",
      "execution_count": 13,
      "metadata": {
        "colab": {
          "base_uri": "https://localhost:8080/",
          "height": 34
        },
        "id": "JaSs-b5Iyad7",
        "outputId": "718e94b7-e23e-46fb-e720-eab24d6b10ec"
      },
      "outputs": [
        {
          "output_type": "display_data",
          "data": {
            "text/html": [
              "<style>\n",
              ".list-inline {list-style: none; margin:0; padding: 0}\n",
              ".list-inline>li {display: inline-block}\n",
              ".list-inline>li:not(:last-child)::after {content: \"\\00b7\"; padding: 0 .5ex}\n",
              "</style>\n",
              "<ol class=list-inline><li>10</li><li>21</li><li>22</li><li>23</li><li>34</li><li>45</li><li>49</li><li>54</li><li>58</li><li>59</li><li>60</li></ol>\n"
            ],
            "text/markdown": "1. 10\n2. 21\n3. 22\n4. 23\n5. 34\n6. 45\n7. 49\n8. 54\n9. 58\n10. 59\n11. 60\n\n\n",
            "text/latex": "\\begin{enumerate*}\n\\item 10\n\\item 21\n\\item 22\n\\item 23\n\\item 34\n\\item 45\n\\item 49\n\\item 54\n\\item 58\n\\item 59\n\\item 60\n\\end{enumerate*}\n",
            "text/plain": [
              " [1] 10 21 22 23 34 45 49 54 58 59 60"
            ]
          },
          "metadata": {}
        }
      ],
      "source": [
        "which(is.na(cars_data$Reliability))"
      ]
    },
    {
      "cell_type": "code",
      "execution_count": 43,
      "metadata": {
        "colab": {
          "base_uri": "https://localhost:8080/"
        },
        "id": "b32KBGm9yad7",
        "outputId": "8b740313-d71a-4826-fab1-27bee81e503a"
      },
      "outputs": [
        {
          "output_type": "stream",
          "name": "stderr",
          "text": [
            "Loading required package: usethis\n",
            "\n",
            "Downloading GitHub repo cran/DMwR@HEAD\n",
            "\n"
          ]
        },
        {
          "output_type": "stream",
          "name": "stdout",
          "text": [
            "bitops   (NA -> 1.0-7 ) [CRAN]\n",
            "caTools  (NA -> 1.18.2) [CRAN]\n",
            "gtools   (NA -> 3.9.4 ) [CRAN]\n",
            "zoo      (NA -> 1.8-11) [CRAN]\n",
            "xts      (NA -> 0.12.2) [CRAN]\n",
            "gplots   (NA -> 3.1.3 ) [CRAN]\n",
            "TTR      (NA -> 0.24.3) [CRAN]\n",
            "ROCR     (NA -> 1.0-11) [CRAN]\n",
            "abind    (NA -> 1.4-5 ) [CRAN]\n",
            "quantmod (NA -> 0.4.20) [CRAN]\n"
          ]
        },
        {
          "output_type": "stream",
          "name": "stderr",
          "text": [
            "Installing 10 packages: bitops, caTools, gtools, zoo, xts, gplots, TTR, ROCR, abind, quantmod\n",
            "\n",
            "Installing packages into ‘/usr/local/lib/R/site-library’\n",
            "(as ‘lib’ is unspecified)\n",
            "\n"
          ]
        },
        {
          "output_type": "stream",
          "name": "stdout",
          "text": [
            "* checking for file ‘/tmp/Rtmp6qugmV/remotes486f3ea2b1/cran-DMwR-6fd4f0c/DESCRIPTION’ ... OK\n",
            "* preparing ‘DMwR’:\n",
            "* checking DESCRIPTION meta-information ... OK\n",
            "* checking for LF line-endings in source and make files and shell scripts\n",
            "* checking for empty or unneeded directories\n",
            "* building ‘DMwR_0.4.1.tar.gz’\n",
            "\n"
          ]
        },
        {
          "output_type": "stream",
          "name": "stderr",
          "text": [
            "Installing package into ‘/usr/local/lib/R/site-library’\n",
            "(as ‘lib’ is unspecified)\n",
            "\n",
            "Loading required package: lattice\n",
            "\n",
            "Loading required package: grid\n",
            "\n",
            "Registered S3 method overwritten by 'quantmod':\n",
            "  method            from\n",
            "  as.zoo.data.frame zoo \n",
            "\n"
          ]
        }
      ],
      "source": [
        "## Imputing missing values\n",
        "\n",
        "library(devtools)\n",
        "install_github(\"cran/DMwR\")\n",
        "library(DMwR)\n",
        "cars_data=centralImputation(cars_data)"
      ]
    },
    {
      "cell_type": "code",
      "execution_count": 15,
      "metadata": {
        "colab": {
          "base_uri": "https://localhost:8080/",
          "height": 34
        },
        "id": "a_9HZW0tyad7",
        "outputId": "c7a4e012-c302-4106-dee0-1e6be23822f4"
      },
      "outputs": [
        {
          "output_type": "display_data",
          "data": {
            "text/html": [
              "11"
            ],
            "text/markdown": "11",
            "text/latex": "11",
            "text/plain": [
              "[1] 11"
            ]
          },
          "metadata": {}
        }
      ],
      "source": [
        "sum(is.na(cars_data))"
      ]
    },
    {
      "cell_type": "markdown",
      "metadata": {
        "id": "Mon10k3tyad7"
      },
      "source": [
        "### Data Exploratory Analysis"
      ]
    },
    {
      "cell_type": "code",
      "execution_count": 16,
      "metadata": {
        "colab": {
          "base_uri": "https://localhost:8080/",
          "height": 617
        },
        "id": "x_SFkoHQyad8",
        "outputId": "63f61abb-6105-44a6-c8ae-7099db26ffd7"
      },
      "outputs": [
        {
          "output_type": "display_data",
          "data": {
            "text/plain": [
              "Plot with title “Horse Power vs Price”"
            ],
            "image/png": "[encoded data removed]"
          },
          "metadata": {
            "image/png": {
              "width": 600,
              "height": 600
            }
          }
        }
      ],
      "source": [
        "#Plot the Dependent and  Independent variables\n",
        "# _*Scatter Plot*_ helps to view the relationship between two continuous variables\n",
        "\n",
        "options(repr.plot.width = 10, repr.plot.height = 10)\n",
        "par(mfrow = c(2,2)) # Splits the plotting pane 2*2\n",
        "\n",
        "plot(cars_data$Weight, cars_data$Price, xlab = \"Weight\", \n",
        "     ylab = \"Price\", main = \"Weight vs Price\")\n",
        "\n",
        "plot(cars_data$Mileage, cars_data$Price, xlab = \"Mileage\",\n",
        "     ylab = \"Price\", main = \"Mileage vs Price\")\n",
        "\n",
        "plot(cars_data$Disp., cars_data$Price, xlab = \"Displacement\",\n",
        "     ylab = \"Price\", main = \"Displacement vs Price\")\n",
        "\n",
        "plot(cars_data$HP, cars_data$Price, xlab = \"Horse Power\", \n",
        "     ylab = \"Price\", main = \"Horse Power vs Price\")\n"
      ]
    },
    {
      "cell_type": "code",
      "execution_count": 17,
      "metadata": {
        "id": "EfzNE5jEyad8"
      },
      "outputs": [],
      "source": []
    },
    {
      "cell_type": "code",
      "execution_count": 22,
      "metadata": {
        "colab": {
          "base_uri": "https://localhost:8080/",
          "height": 877
        },
        "id": "8o_DKtYZyad8",
        "outputId": "49e4a62f-8d66-43c7-ebbb-7bc2891f24b3"
      },
      "outputs": [
        {
          "output_type": "display_data",
          "data": {
            "text/html": [
              "<table class=\"dataframe\">\n",
              "<caption>A matrix: 5 × 5 of type dbl</caption>\n",
              "<thead>\n",
              "\t<tr><th></th><th scope=col>Price</th><th scope=col>Mileage</th><th scope=col>Weight</th><th scope=col>Disp.</th><th scope=col>HP</th></tr>\n",
              "</thead>\n",
              "<tbody>\n",
              "\t<tr><th scope=row>Price</th><td> 1.0000000</td><td>-0.6537541</td><td> 0.7017999</td><td> 0.4856769</td><td> 0.6536433</td></tr>\n",
              "\t<tr><th scope=row>Mileage</th><td>-0.6537541</td><td> 1.0000000</td><td>-0.8478541</td><td>-0.6931928</td><td>-0.6667146</td></tr>\n",
              "\t<tr><th scope=row>Weight</th><td> 0.7017999</td><td>-0.8478541</td><td> 1.0000000</td><td> 0.8032804</td><td> 0.7629322</td></tr>\n",
              "\t<tr><th scope=row>Disp.</th><td> 0.4856769</td><td>-0.6931928</td><td> 0.8032804</td><td> 1.0000000</td><td> 0.8181881</td></tr>\n",
              "\t<tr><th scope=row>HP</th><td> 0.6536433</td><td>-0.6667146</td><td> 0.7629322</td><td> 0.8181881</td><td> 1.0000000</td></tr>\n",
              "</tbody>\n",
              "</table>\n"
            ],
            "text/markdown": "\nA matrix: 5 × 5 of type dbl\n\n| <!--/--> | Price | Mileage | Weight | Disp. | HP |\n|---|---|---|---|---|---|\n| Price |  1.0000000 | -0.6537541 |  0.7017999 |  0.4856769 |  0.6536433 |\n| Mileage | -0.6537541 |  1.0000000 | -0.8478541 | -0.6931928 | -0.6667146 |\n| Weight |  0.7017999 | -0.8478541 |  1.0000000 |  0.8032804 |  0.7629322 |\n| Disp. |  0.4856769 | -0.6931928 |  0.8032804 |  1.0000000 |  0.8181881 |\n| HP |  0.6536433 | -0.6667146 |  0.7629322 |  0.8181881 |  1.0000000 |\n\n",
            "text/latex": "A matrix: 5 × 5 of type dbl\n\\begin{tabular}{r|lllll}\n  & Price & Mileage & Weight & Disp. & HP\\\\\n\\hline\n\tPrice &  1.0000000 & -0.6537541 &  0.7017999 &  0.4856769 &  0.6536433\\\\\n\tMileage & -0.6537541 &  1.0000000 & -0.8478541 & -0.6931928 & -0.6667146\\\\\n\tWeight &  0.7017999 & -0.8478541 &  1.0000000 &  0.8032804 &  0.7629322\\\\\n\tDisp. &  0.4856769 & -0.6931928 &  0.8032804 &  1.0000000 &  0.8181881\\\\\n\tHP &  0.6536433 & -0.6667146 &  0.7629322 &  0.8181881 &  1.0000000\\\\\n\\end{tabular}\n",
            "text/plain": [
              "        Price      Mileage    Weight     Disp.      HP        \n",
              "Price    1.0000000 -0.6537541  0.7017999  0.4856769  0.6536433\n",
              "Mileage -0.6537541  1.0000000 -0.8478541 -0.6931928 -0.6667146\n",
              "Weight   0.7017999 -0.8478541  1.0000000  0.8032804  0.7629322\n",
              "Disp.    0.4856769 -0.6931928  0.8032804  1.0000000  0.8181881\n",
              "HP       0.6536433 -0.6667146  0.7629322  0.8181881  1.0000000"
            ]
          },
          "metadata": {}
        },
        {
          "output_type": "stream",
          "name": "stderr",
          "text": [
            "Installing package into ‘/usr/local/lib/R/site-library’\n",
            "(as ‘lib’ is unspecified)\n",
            "\n"
          ]
        },
        {
          "output_type": "display_data",
          "data": {
            "text/plain": [
              "Plot with title “”"
            ],
            "image/png": "[encoded data removed]"
          },
          "metadata": {
            "image/png": {
              "width": 600,
              "height": 600
            }
          }
        }
      ],
      "source": [
        "# Correlation can be calculated only for numerical attributes.\n",
        "cor_data = cor(cars_data[,c(\"Price\",\"Mileage\",\"Weight\",\"Disp.\",\"HP\")])      \n",
        "# Correlation between independent and dependent variable\n",
        "cor_data\n",
        "\n",
        "# The values of correlation coefficient ranges from -1 to 1\n",
        "## Corrplot\n",
        "\n",
        "install.packages(\"corrplot\")\n",
        "library(corrplot)\n",
        "\n",
        "par(mfrow = c(1,1))\n",
        "\n",
        "corrplot(cor_data, method = \"number\")"
      ]
    },
    {
      "cell_type": "markdown",
      "metadata": {
        "id": "ripqTIM4yad8"
      },
      "source": [
        "### Split the data into Train and Validation sets"
      ]
    },
    {
      "cell_type": "code",
      "execution_count": 23,
      "metadata": {
        "colab": {
          "base_uri": "https://localhost:8080/",
          "height": 52
        },
        "id": "oUEqs4tCyad8",
        "outputId": "2c3aaa1c-d052-4325-a616-560c5e9ce6ac"
      },
      "outputs": [
        {
          "output_type": "display_data",
          "data": {
            "text/html": [
              "<style>\n",
              ".list-inline {list-style: none; margin:0; padding: 0}\n",
              ".list-inline>li {display: inline-block}\n",
              ".list-inline>li:not(:last-child)::after {content: \"\\00b7\"; padding: 0 .5ex}\n",
              "</style>\n",
              "<ol class=list-inline><li>1</li><li>2</li><li>3</li><li>4</li><li>5</li><li>6</li><li>7</li><li>8</li><li>9</li><li>10</li><li>11</li><li>12</li><li>13</li><li>14</li><li>15</li><li>16</li><li>17</li><li>18</li><li>19</li><li>20</li><li>21</li><li>22</li><li>23</li><li>24</li><li>25</li><li>26</li><li>27</li><li>28</li><li>29</li><li>30</li><li>31</li><li>32</li><li>33</li><li>34</li><li>35</li><li>36</li><li>37</li><li>38</li><li>39</li><li>40</li><li>41</li><li>42</li><li>43</li><li>44</li><li>45</li><li>46</li><li>47</li><li>48</li><li>49</li><li>50</li><li>51</li><li>52</li><li>53</li><li>54</li><li>55</li><li>56</li><li>57</li><li>58</li><li>59</li><li>60</li><li>61</li><li>62</li><li>63</li><li>64</li><li>65</li><li>66</li><li>67</li><li>68</li><li>69</li><li>70</li><li>71</li><li>72</li><li>73</li><li>74</li><li>75</li><li>76</li><li>77</li><li>78</li><li>79</li><li>80</li><li>81</li><li>82</li><li>83</li><li>84</li><li>85</li><li>86</li><li>87</li><li>88</li><li>89</li><li>90</li><li>91</li><li>92</li><li>93</li><li>94</li><li>95</li><li>96</li><li>97</li><li>98</li><li>99</li><li>100</li></ol>\n"
            ],
            "text/markdown": "1. 1\n2. 2\n3. 3\n4. 4\n5. 5\n6. 6\n7. 7\n8. 8\n9. 9\n10. 10\n11. 11\n12. 12\n13. 13\n14. 14\n15. 15\n16. 16\n17. 17\n18. 18\n19. 19\n20. 20\n21. 21\n22. 22\n23. 23\n24. 24\n25. 25\n26. 26\n27. 27\n28. 28\n29. 29\n30. 30\n31. 31\n32. 32\n33. 33\n34. 34\n35. 35\n36. 36\n37. 37\n38. 38\n39. 39\n40. 40\n41. 41\n42. 42\n43. 43\n44. 44\n45. 45\n46. 46\n47. 47\n48. 48\n49. 49\n50. 50\n51. 51\n52. 52\n53. 53\n54. 54\n55. 55\n56. 56\n57. 57\n58. 58\n59. 59\n60. 60\n61. 61\n62. 62\n63. 63\n64. 64\n65. 65\n66. 66\n67. 67\n68. 68\n69. 69\n70. 70\n71. 71\n72. 72\n73. 73\n74. 74\n75. 75\n76. 76\n77. 77\n78. 78\n79. 79\n80. 80\n81. 81\n82. 82\n83. 83\n84. 84\n85. 85\n86. 86\n87. 87\n88. 88\n89. 89\n90. 90\n91. 91\n92. 92\n93. 93\n94. 94\n95. 95\n96. 96\n97. 97\n98. 98\n99. 99\n100. 100\n\n\n",
            "text/latex": "\\begin{enumerate*}\n\\item 1\n\\item 2\n\\item 3\n\\item 4\n\\item 5\n\\item 6\n\\item 7\n\\item 8\n\\item 9\n\\item 10\n\\item 11\n\\item 12\n\\item 13\n\\item 14\n\\item 15\n\\item 16\n\\item 17\n\\item 18\n\\item 19\n\\item 20\n\\item 21\n\\item 22\n\\item 23\n\\item 24\n\\item 25\n\\item 26\n\\item 27\n\\item 28\n\\item 29\n\\item 30\n\\item 31\n\\item 32\n\\item 33\n\\item 34\n\\item 35\n\\item 36\n\\item 37\n\\item 38\n\\item 39\n\\item 40\n\\item 41\n\\item 42\n\\item 43\n\\item 44\n\\item 45\n\\item 46\n\\item 47\n\\item 48\n\\item 49\n\\item 50\n\\item 51\n\\item 52\n\\item 53\n\\item 54\n\\item 55\n\\item 56\n\\item 57\n\\item 58\n\\item 59\n\\item 60\n\\item 61\n\\item 62\n\\item 63\n\\item 64\n\\item 65\n\\item 66\n\\item 67\n\\item 68\n\\item 69\n\\item 70\n\\item 71\n\\item 72\n\\item 73\n\\item 74\n\\item 75\n\\item 76\n\\item 77\n\\item 78\n\\item 79\n\\item 80\n\\item 81\n\\item 82\n\\item 83\n\\item 84\n\\item 85\n\\item 86\n\\item 87\n\\item 88\n\\item 89\n\\item 90\n\\item 91\n\\item 92\n\\item 93\n\\item 94\n\\item 95\n\\item 96\n\\item 97\n\\item 98\n\\item 99\n\\item 100\n\\end{enumerate*}\n",
            "text/plain": [
              "  [1]   1   2   3   4   5   6   7   8   9  10  11  12  13  14  15  16  17  18\n",
              " [19]  19  20  21  22  23  24  25  26  27  28  29  30  31  32  33  34  35  36\n",
              " [37]  37  38  39  40  41  42  43  44  45  46  47  48  49  50  51  52  53  54\n",
              " [55]  55  56  57  58  59  60  61  62  63  64  65  66  67  68  69  70  71  72\n",
              " [73]  73  74  75  76  77  78  79  80  81  82  83  84  85  86  87  88  89  90\n",
              " [91]  91  92  93  94  95  96  97  98  99 100"
            ]
          },
          "metadata": {}
        }
      ],
      "source": [
        "1:100"
      ]
    },
    {
      "cell_type": "code",
      "execution_count": 24,
      "metadata": {
        "colab": {
          "base_uri": "https://localhost:8080/",
          "height": 34
        },
        "id": "WAlggxW9yad9",
        "outputId": "0c46eaf1-9a5c-4141-9f6c-1edfec1eb0a6"
      },
      "outputs": [
        {
          "output_type": "display_data",
          "data": {
            "text/html": [
              "<style>\n",
              ".list-inline {list-style: none; margin:0; padding: 0}\n",
              ".list-inline>li {display: inline-block}\n",
              ".list-inline>li:not(:last-child)::after {content: \"\\00b7\"; padding: 0 .5ex}\n",
              "</style>\n",
              "<ol class=list-inline><li>11</li><li>19</li><li>46</li><li>10</li><li>21</li><li>84</li><li>59</li><li>86</li><li>77</li><li>22</li></ol>\n"
            ],
            "text/markdown": "1. 11\n2. 19\n3. 46\n4. 10\n5. 21\n6. 84\n7. 59\n8. 86\n9. 77\n10. 22\n\n\n",
            "text/latex": "\\begin{enumerate*}\n\\item 11\n\\item 19\n\\item 46\n\\item 10\n\\item 21\n\\item 84\n\\item 59\n\\item 86\n\\item 77\n\\item 22\n\\end{enumerate*}\n",
            "text/plain": [
              " [1] 11 19 46 10 21 84 59 86 77 22"
            ]
          },
          "metadata": {}
        }
      ],
      "source": [
        "sample(1:100,size=10)"
      ]
    },
    {
      "cell_type": "code",
      "execution_count": 25,
      "metadata": {
        "colab": {
          "base_uri": "https://localhost:8080/",
          "height": 161
        },
        "id": "Sx-HsFhqyad9",
        "outputId": "a6760ed2-db9a-4c2e-a5df-42a1bfa43f1c"
      },
      "outputs": [
        {
          "output_type": "display_data",
          "data": {
            "text/html": [
              "<table class=\"dataframe\">\n",
              "<caption>A data.frame: 2 × 8</caption>\n",
              "<thead>\n",
              "\t<tr><th></th><th scope=col>Price</th><th scope=col>Country</th><th scope=col>Reliability</th><th scope=col>Mileage</th><th scope=col>Type</th><th scope=col>Weight</th><th scope=col>Disp.</th><th scope=col>HP</th></tr>\n",
              "\t<tr><th></th><th scope=col>&lt;int&gt;</th><th scope=col>&lt;fct&gt;</th><th scope=col>&lt;fct&gt;</th><th scope=col>&lt;int&gt;</th><th scope=col>&lt;fct&gt;</th><th scope=col>&lt;int&gt;</th><th scope=col>&lt;int&gt;</th><th scope=col>&lt;int&gt;</th></tr>\n",
              "</thead>\n",
              "<tbody>\n",
              "\t<tr><th scope=row>1</th><td>8895</td><td>USA  </td><td>4 </td><td>33</td><td>Small</td><td>2560</td><td>97</td><td>113</td></tr>\n",
              "\t<tr><th scope=row>10</th><td>5866</td><td>Japan</td><td>NA</td><td>34</td><td>Small</td><td>1900</td><td>73</td><td> 73</td></tr>\n",
              "</tbody>\n",
              "</table>\n"
            ],
            "text/markdown": "\nA data.frame: 2 × 8\n\n| <!--/--> | Price &lt;int&gt; | Country &lt;fct&gt; | Reliability &lt;fct&gt; | Mileage &lt;int&gt; | Type &lt;fct&gt; | Weight &lt;int&gt; | Disp. &lt;int&gt; | HP &lt;int&gt; |\n|---|---|---|---|---|---|---|---|---|\n| 1 | 8895 | USA   | 4  | 33 | Small | 2560 | 97 | 113 |\n| 10 | 5866 | Japan | NA | 34 | Small | 1900 | 73 |  73 |\n\n",
            "text/latex": "A data.frame: 2 × 8\n\\begin{tabular}{r|llllllll}\n  & Price & Country & Reliability & Mileage & Type & Weight & Disp. & HP\\\\\n  & <int> & <fct> & <fct> & <int> & <fct> & <int> & <int> & <int>\\\\\n\\hline\n\t1 & 8895 & USA   & 4  & 33 & Small & 2560 & 97 & 113\\\\\n\t10 & 5866 & Japan & NA & 34 & Small & 1900 & 73 &  73\\\\\n\\end{tabular}\n",
            "text/plain": [
              "   Price Country Reliability Mileage Type  Weight Disp. HP \n",
              "1  8895  USA     4           33      Small 2560   97    113\n",
              "10 5866  Japan   NA          34      Small 1900   73     73"
            ]
          },
          "metadata": {}
        }
      ],
      "source": [
        "cars_data[c(1,10),]"
      ]
    },
    {
      "cell_type": "code",
      "execution_count": 26,
      "metadata": {
        "id": "nP2dPRQlyad9"
      },
      "outputs": [],
      "source": [
        "## Split row numbers into 2 sets\n",
        "set.seed(1)\n",
        "train_rows = sample(1:nrow(cars_data), size=0.7*nrow(cars_data))\n",
        "validation_rows = setdiff(1:nrow(cars_data),train_rows)"
      ]
    },
    {
      "cell_type": "code",
      "execution_count": 27,
      "metadata": {
        "colab": {
          "base_uri": "https://localhost:8080/",
          "height": 34
        },
        "id": "7FUyY6pAyad9",
        "outputId": "6e1f9b4b-175a-404f-ada6-4e58c78bcf28"
      },
      "outputs": [
        {
          "output_type": "display_data",
          "data": {
            "text/html": [
              "<style>\n",
              ".list-inline {list-style: none; margin:0; padding: 0}\n",
              ".list-inline>li {display: inline-block}\n",
              ".list-inline>li:not(:last-child)::after {content: \"\\00b7\"; padding: 0 .5ex}\n",
              "</style>\n",
              "<ol class=list-inline><li>57</li><li>4</li><li>39</li><li>1</li><li>34</li><li>23</li><li>43</li><li>14</li><li>18</li><li>51</li><li>33</li><li>21</li><li>49</li><li>42</li><li>46</li><li>10</li><li>7</li><li>9</li><li>15</li><li>48</li><li>37</li><li>25</li><li>40</li><li>38</li><li>56</li><li>58</li><li>47</li><li>50</li><li>20</li><li>3</li><li>6</li><li>45</li><li>29</li><li>30</li><li>36</li><li>32</li><li>35</li><li>12</li><li>27</li><li>8</li><li>55</li><li>22</li></ol>\n"
            ],
            "text/markdown": "1. 57\n2. 4\n3. 39\n4. 1\n5. 34\n6. 23\n7. 43\n8. 14\n9. 18\n10. 51\n11. 33\n12. 21\n13. 49\n14. 42\n15. 46\n16. 10\n17. 7\n18. 9\n19. 15\n20. 48\n21. 37\n22. 25\n23. 40\n24. 38\n25. 56\n26. 58\n27. 47\n28. 50\n29. 20\n30. 3\n31. 6\n32. 45\n33. 29\n34. 30\n35. 36\n36. 32\n37. 35\n38. 12\n39. 27\n40. 8\n41. 55\n42. 22\n\n\n",
            "text/latex": "\\begin{enumerate*}\n\\item 57\n\\item 4\n\\item 39\n\\item 1\n\\item 34\n\\item 23\n\\item 43\n\\item 14\n\\item 18\n\\item 51\n\\item 33\n\\item 21\n\\item 49\n\\item 42\n\\item 46\n\\item 10\n\\item 7\n\\item 9\n\\item 15\n\\item 48\n\\item 37\n\\item 25\n\\item 40\n\\item 38\n\\item 56\n\\item 58\n\\item 47\n\\item 50\n\\item 20\n\\item 3\n\\item 6\n\\item 45\n\\item 29\n\\item 30\n\\item 36\n\\item 32\n\\item 35\n\\item 12\n\\item 27\n\\item 8\n\\item 55\n\\item 22\n\\end{enumerate*}\n",
            "text/plain": [
              " [1] 57  4 39  1 34 23 43 14 18 51 33 21 49 42 46 10  7  9 15 48 37 25 40 38 56\n",
              "[26] 58 47 50 20  3  6 45 29 30 36 32 35 12 27  8 55 22"
            ]
          },
          "metadata": {}
        }
      ],
      "source": [
        "train_rows"
      ]
    },
    {
      "cell_type": "code",
      "execution_count": 28,
      "metadata": {
        "colab": {
          "base_uri": "https://localhost:8080/",
          "height": 34
        },
        "id": "TapA_Tjtyad9",
        "outputId": "628c2c28-b6ee-4795-babb-8ab38709c6c9"
      },
      "outputs": [
        {
          "output_type": "display_data",
          "data": {
            "text/html": [
              "<style>\n",
              ".list-inline {list-style: none; margin:0; padding: 0}\n",
              ".list-inline>li {display: inline-block}\n",
              ".list-inline>li:not(:last-child)::after {content: \"\\00b7\"; padding: 0 .5ex}\n",
              "</style>\n",
              "<ol class=list-inline><li>2</li><li>5</li><li>11</li><li>13</li><li>16</li><li>17</li><li>19</li><li>24</li><li>26</li><li>28</li><li>31</li><li>41</li><li>44</li><li>52</li><li>53</li><li>54</li><li>59</li><li>60</li></ol>\n"
            ],
            "text/markdown": "1. 2\n2. 5\n3. 11\n4. 13\n5. 16\n6. 17\n7. 19\n8. 24\n9. 26\n10. 28\n11. 31\n12. 41\n13. 44\n14. 52\n15. 53\n16. 54\n17. 59\n18. 60\n\n\n",
            "text/latex": "\\begin{enumerate*}\n\\item 2\n\\item 5\n\\item 11\n\\item 13\n\\item 16\n\\item 17\n\\item 19\n\\item 24\n\\item 26\n\\item 28\n\\item 31\n\\item 41\n\\item 44\n\\item 52\n\\item 53\n\\item 54\n\\item 59\n\\item 60\n\\end{enumerate*}\n",
            "text/plain": [
              " [1]  2  5 11 13 16 17 19 24 26 28 31 41 44 52 53 54 59 60"
            ]
          },
          "metadata": {}
        }
      ],
      "source": [
        "validation_rows"
      ]
    },
    {
      "cell_type": "code",
      "execution_count": 29,
      "metadata": {
        "id": "xnHiYlMuyad-"
      },
      "outputs": [],
      "source": [
        "## Subset into Train and Validation sets\n",
        "train_data <- cars_data[train_rows,]\n",
        "validation_data <- cars_data[validation_rows,]"
      ]
    },
    {
      "cell_type": "code",
      "execution_count": 30,
      "metadata": {
        "scrolled": true,
        "colab": {
          "base_uri": "https://localhost:8080/",
          "height": 69
        },
        "id": "mRoeW3Tzyad-",
        "outputId": "bee50ca2-eeff-4b7c-c072-18924c3f7e6f"
      },
      "outputs": [
        {
          "output_type": "display_data",
          "data": {
            "text/html": [
              "<style>\n",
              ".list-inline {list-style: none; margin:0; padding: 0}\n",
              ".list-inline>li {display: inline-block}\n",
              ".list-inline>li:not(:last-child)::after {content: \"\\00b7\"; padding: 0 .5ex}\n",
              "</style>\n",
              "<ol class=list-inline><li>60</li><li>8</li></ol>\n"
            ],
            "text/markdown": "1. 60\n2. 8\n\n\n",
            "text/latex": "\\begin{enumerate*}\n\\item 60\n\\item 8\n\\end{enumerate*}\n",
            "text/plain": [
              "[1] 60  8"
            ]
          },
          "metadata": {}
        },
        {
          "output_type": "display_data",
          "data": {
            "text/html": [
              "<style>\n",
              ".list-inline {list-style: none; margin:0; padding: 0}\n",
              ".list-inline>li {display: inline-block}\n",
              ".list-inline>li:not(:last-child)::after {content: \"\\00b7\"; padding: 0 .5ex}\n",
              "</style>\n",
              "<ol class=list-inline><li>42</li><li>8</li></ol>\n"
            ],
            "text/markdown": "1. 42\n2. 8\n\n\n",
            "text/latex": "\\begin{enumerate*}\n\\item 42\n\\item 8\n\\end{enumerate*}\n",
            "text/plain": [
              "[1] 42  8"
            ]
          },
          "metadata": {}
        },
        {
          "output_type": "display_data",
          "data": {
            "text/html": [
              "<style>\n",
              ".list-inline {list-style: none; margin:0; padding: 0}\n",
              ".list-inline>li {display: inline-block}\n",
              ".list-inline>li:not(:last-child)::after {content: \"\\00b7\"; padding: 0 .5ex}\n",
              "</style>\n",
              "<ol class=list-inline><li>18</li><li>8</li></ol>\n"
            ],
            "text/markdown": "1. 18\n2. 8\n\n\n",
            "text/latex": "\\begin{enumerate*}\n\\item 18\n\\item 8\n\\end{enumerate*}\n",
            "text/plain": [
              "[1] 18  8"
            ]
          },
          "metadata": {}
        }
      ],
      "source": [
        "## View the dimensions of the data\n",
        "dim(cars_data)\n",
        "dim(train_data)\n",
        "dim(validation_data)"
      ]
    },
    {
      "cell_type": "markdown",
      "metadata": {
        "id": "yVyU8C55yad-"
      },
      "source": [
        "### Build A Simple Linear Regression Model"
      ]
    },
    {
      "cell_type": "code",
      "execution_count": 31,
      "metadata": {
        "colab": {
          "base_uri": "https://localhost:8080/",
          "height": 34
        },
        "id": "vSGb_p8Iyad-",
        "outputId": "3329470c-0257-461b-b2d6-8c7f2841aa5e"
      },
      "outputs": [
        {
          "output_type": "display_data",
          "data": {
            "text/html": [
              "<style>\n",
              ".list-inline {list-style: none; margin:0; padding: 0}\n",
              ".list-inline>li {display: inline-block}\n",
              ".list-inline>li:not(:last-child)::after {content: \"\\00b7\"; padding: 0 .5ex}\n",
              "</style>\n",
              "<ol class=list-inline><li>'Price'</li><li>'Country'</li><li>'Reliability'</li><li>'Mileage'</li><li>'Type'</li><li>'Weight'</li><li>'Disp.'</li><li>'HP'</li></ol>\n"
            ],
            "text/markdown": "1. 'Price'\n2. 'Country'\n3. 'Reliability'\n4. 'Mileage'\n5. 'Type'\n6. 'Weight'\n7. 'Disp.'\n8. 'HP'\n\n\n",
            "text/latex": "\\begin{enumerate*}\n\\item 'Price'\n\\item 'Country'\n\\item 'Reliability'\n\\item 'Mileage'\n\\item 'Type'\n\\item 'Weight'\n\\item 'Disp.'\n\\item 'HP'\n\\end{enumerate*}\n",
            "text/plain": [
              "[1] \"Price\"       \"Country\"     \"Reliability\" \"Mileage\"     \"Type\"       \n",
              "[6] \"Weight\"      \"Disp.\"       \"HP\"         "
            ]
          },
          "metadata": {}
        }
      ],
      "source": [
        "names(train_data)"
      ]
    },
    {
      "cell_type": "code",
      "execution_count": 32,
      "metadata": {
        "id": "_mzqimrSyad-"
      },
      "outputs": [],
      "source": [
        "# lm function is used to fit linear models\n",
        "LinReg = lm(Price ~ Disp., data = train_data)"
      ]
    },
    {
      "cell_type": "markdown",
      "metadata": {
        "id": "89P1TG7Ryad-"
      },
      "source": [
        "### Interpret model results"
      ]
    },
    {
      "cell_type": "code",
      "execution_count": 33,
      "metadata": {
        "colab": {
          "base_uri": "https://localhost:8080/",
          "height": 338
        },
        "id": "-qz1BMQRyad-",
        "outputId": "60dc53aa-8cbb-46bf-82a4-e33397e8fbf1"
      },
      "outputs": [
        {
          "output_type": "display_data",
          "data": {
            "text/plain": [
              "\n",
              "Call:\n",
              "lm(formula = Price ~ Disp., data = train_data)\n",
              "\n",
              "Residuals:\n",
              "    Min      1Q  Median      3Q     Max \n",
              "-9438.3 -2545.1  -661.7   458.2 11118.9 \n",
              "\n",
              "Coefficients:\n",
              "            Estimate Std. Error t value Pr(>|t|)    \n",
              "(Intercept)  5213.12    2014.97   2.587 0.013418 *  \n",
              "Disp.          51.71      13.48   3.836 0.000434 ***\n",
              "---\n",
              "Signif. codes:  0 ‘***’ 0.001 ‘**’ 0.01 ‘*’ 0.05 ‘.’ 0.1 ‘ ’ 1\n",
              "\n",
              "Residual standard error: 3840 on 40 degrees of freedom\n",
              "Multiple R-squared:  0.2689,\tAdjusted R-squared:  0.2507 \n",
              "F-statistic: 14.72 on 1 and 40 DF,  p-value: 0.0004342\n"
            ]
          },
          "metadata": {}
        }
      ],
      "source": [
        "## Summary of the linear model\n",
        "summary(LinReg)\n",
        "\n",
        "# Summary displays the following: \n",
        "# Formula given (Call) - Shows the function call used to compute the regression model.\n",
        "# Residuals. Provide a quick view of the distribution of the residuals, which by definition have a mean zero.\n",
        "# Coefficients and the test statistic values. Shows the regression beta coefficients and their statistical significance. Predictor variables, that are significantly associated to the outcome variable, are marked by stars.\n",
        "# Residual Standard Error (RSE)\n",
        "# Multiple R- Squared (which we generally refer to as R squared or Co-efficient of Determination)\n",
        "# F statistic - Test for Model\n",
        "\n",
        "# The statistical hypothesis is as follows :\n",
        "# Null Hypothesis (H0):        the coefficients (slope) are equal to zero \n",
        "                               #(i.e., no relationship between x and y)\n",
        "# Alternative Hypothesis (H1): the coefficients (slope) are not equal to zero \n",
        "                               #(i.e., there is some relationship between x and y)"
      ]
    },
    {
      "cell_type": "markdown",
      "metadata": {
        "id": "I-vg028yyad_"
      },
      "source": [
        "#### Try answering these questions (Interpreting model output) :\n",
        "\n",
        "Is the Slope significant?\n",
        "\n",
        "Is the Model significant?\n",
        "\n",
        "What is the predictive power of the model (R-squared)?\n",
        "\n",
        "In our example, both the p-values for the intercept and the predictor variable are highly significant, so we can reject the null hypothesis and accept the alternative hypothesis, which means that there is a significant association between the predictor and the outcome variables."
      ]
    },
    {
      "cell_type": "markdown",
      "metadata": {
        "id": "9mZ-ZF2Iyad_"
      },
      "source": [
        "#### Regression line on top of data"
      ]
    },
    {
      "cell_type": "code",
      "execution_count": 34,
      "metadata": {
        "colab": {
          "base_uri": "https://localhost:8080/",
          "height": 617
        },
        "id": "B2fxEzggyad_",
        "outputId": "eb7d2897-c091-4c05-8715-479bc78292f2"
      },
      "outputs": [
        {
          "output_type": "display_data",
          "data": {
            "text/plain": [
              "plot without title"
            ],
            "image/png": "[encoded data removed]"
          },
          "metadata": {
            "image/png": {
              "width": 600,
              "height": 600
            }
          }
        }
      ],
      "source": [
        "plot(train_data$Disp.,train_data$Price)\n",
        "\n",
        "abline(LinReg)"
      ]
    },
    {
      "cell_type": "markdown",
      "metadata": {
        "id": "oBP7uDmYyad_"
      },
      "source": [
        "#### Regression Equation\n",
        "PredictedPrice = 5213.12 + 51.71 * Disp."
      ]
    },
    {
      "cell_type": "code",
      "execution_count": 35,
      "metadata": {
        "colab": {
          "base_uri": "https://localhost:8080/",
          "height": 286
        },
        "id": "QjEqtUXRyad_",
        "outputId": "0a2d6626-b675-42da-88c8-3eccd7756c67"
      },
      "outputs": [
        {
          "output_type": "display_data",
          "data": {
            "text/html": [
              "<table class=\"dataframe\">\n",
              "<caption>A data.frame: 6 × 8</caption>\n",
              "<thead>\n",
              "\t<tr><th></th><th scope=col>Price</th><th scope=col>Country</th><th scope=col>Reliability</th><th scope=col>Mileage</th><th scope=col>Type</th><th scope=col>Weight</th><th scope=col>Disp.</th><th scope=col>HP</th></tr>\n",
              "\t<tr><th></th><th scope=col>&lt;int&gt;</th><th scope=col>&lt;fct&gt;</th><th scope=col>&lt;fct&gt;</th><th scope=col>&lt;int&gt;</th><th scope=col>&lt;fct&gt;</th><th scope=col>&lt;int&gt;</th><th scope=col>&lt;int&gt;</th><th scope=col>&lt;int&gt;</th></tr>\n",
              "</thead>\n",
              "<tbody>\n",
              "\t<tr><th scope=row>57</th><td>14944</td><td>Japan    </td><td>5 </td><td>19</td><td>Van    </td><td>3735</td><td>181</td><td>150</td></tr>\n",
              "\t<tr><th scope=row>4</th><td> 6635</td><td>Japan/USA</td><td>5 </td><td>32</td><td>Small  </td><td>2260</td><td> 91</td><td> 92</td></tr>\n",
              "\t<tr><th scope=row>39</th><td>13150</td><td>USA      </td><td>3 </td><td>21</td><td>Medium </td><td>2880</td><td>151</td><td>110</td></tr>\n",
              "\t<tr><th scope=row>1</th><td> 8895</td><td>USA      </td><td>4 </td><td>33</td><td>Small  </td><td>2560</td><td> 97</td><td>113</td></tr>\n",
              "\t<tr><th scope=row>34</th><td>15930</td><td>France   </td><td>NA</td><td>24</td><td>Compact</td><td>2575</td><td>116</td><td>120</td></tr>\n",
              "\t<tr><th scope=row>23</th><td>18900</td><td>Germany  </td><td>NA</td><td>27</td><td>Compact</td><td>2670</td><td>121</td><td>108</td></tr>\n",
              "</tbody>\n",
              "</table>\n"
            ],
            "text/markdown": "\nA data.frame: 6 × 8\n\n| <!--/--> | Price &lt;int&gt; | Country &lt;fct&gt; | Reliability &lt;fct&gt; | Mileage &lt;int&gt; | Type &lt;fct&gt; | Weight &lt;int&gt; | Disp. &lt;int&gt; | HP &lt;int&gt; |\n|---|---|---|---|---|---|---|---|---|\n| 57 | 14944 | Japan     | 5  | 19 | Van     | 3735 | 181 | 150 |\n| 4 |  6635 | Japan/USA | 5  | 32 | Small   | 2260 |  91 |  92 |\n| 39 | 13150 | USA       | 3  | 21 | Medium  | 2880 | 151 | 110 |\n| 1 |  8895 | USA       | 4  | 33 | Small   | 2560 |  97 | 113 |\n| 34 | 15930 | France    | NA | 24 | Compact | 2575 | 116 | 120 |\n| 23 | 18900 | Germany   | NA | 27 | Compact | 2670 | 121 | 108 |\n\n",
            "text/latex": "A data.frame: 6 × 8\n\\begin{tabular}{r|llllllll}\n  & Price & Country & Reliability & Mileage & Type & Weight & Disp. & HP\\\\\n  & <int> & <fct> & <fct> & <int> & <fct> & <int> & <int> & <int>\\\\\n\\hline\n\t57 & 14944 & Japan     & 5  & 19 & Van     & 3735 & 181 & 150\\\\\n\t4 &  6635 & Japan/USA & 5  & 32 & Small   & 2260 &  91 &  92\\\\\n\t39 & 13150 & USA       & 3  & 21 & Medium  & 2880 & 151 & 110\\\\\n\t1 &  8895 & USA       & 4  & 33 & Small   & 2560 &  97 & 113\\\\\n\t34 & 15930 & France    & NA & 24 & Compact & 2575 & 116 & 120\\\\\n\t23 & 18900 & Germany   & NA & 27 & Compact & 2670 & 121 & 108\\\\\n\\end{tabular}\n",
            "text/plain": [
              "   Price Country   Reliability Mileage Type    Weight Disp. HP \n",
              "57 14944 Japan     5           19      Van     3735   181   150\n",
              "4   6635 Japan/USA 5           32      Small   2260    91    92\n",
              "39 13150 USA       3           21      Medium  2880   151   110\n",
              "1   8895 USA       4           33      Small   2560    97   113\n",
              "34 15930 France    NA          24      Compact 2575   116   120\n",
              "23 18900 Germany   NA          27      Compact 2670   121   108"
            ]
          },
          "metadata": {}
        }
      ],
      "source": [
        "head(train_data)"
      ]
    },
    {
      "cell_type": "code",
      "execution_count": 36,
      "metadata": {
        "colab": {
          "base_uri": "https://localhost:8080/",
          "height": 34
        },
        "id": "VOhM9YlAyad_",
        "outputId": "b2553900-5820-47af-fc47-b6c7e324442b"
      },
      "outputs": [
        {
          "output_type": "display_data",
          "data": {
            "text/html": [
              "14572.63"
            ],
            "text/markdown": "14572.63",
            "text/latex": "14572.63",
            "text/plain": [
              "[1] 14572.63"
            ]
          },
          "metadata": {}
        }
      ],
      "source": [
        "5213.12 + 51.71 * 181"
      ]
    },
    {
      "cell_type": "code",
      "execution_count": 37,
      "metadata": {
        "scrolled": true,
        "colab": {
          "base_uri": "https://localhost:8080/",
          "height": 69
        },
        "id": "2ATiYIG-yad_",
        "outputId": "d2bc595c-3fa0-4528-987a-3563eec860a3"
      },
      "outputs": [
        {
          "output_type": "display_data",
          "data": {
            "text/html": [
              "<style>\n",
              ".list-inline {list-style: none; margin:0; padding: 0}\n",
              ".list-inline>li {display: inline-block}\n",
              ".list-inline>li:not(:last-child)::after {content: \"\\00b7\"; padding: 0 .5ex}\n",
              "</style>\n",
              "<ol class=list-inline><li>14944</li><li>6635</li><li>13150</li><li>8895</li><li>15930</li><li>18900</li></ol>\n"
            ],
            "text/markdown": "1. 14944\n2. 6635\n3. 13150\n4. 8895\n5. 15930\n6. 18900\n\n\n",
            "text/latex": "\\begin{enumerate*}\n\\item 14944\n\\item 6635\n\\item 13150\n\\item 8895\n\\item 15930\n\\item 18900\n\\end{enumerate*}\n",
            "text/plain": [
              "[1] 14944  6635 13150  8895 15930 18900"
            ]
          },
          "metadata": {}
        },
        {
          "output_type": "display_data",
          "data": {
            "text/html": [
              "<style>\n",
              ".list-inline {list-style: none; margin:0; padding: 0}\n",
              ".list-inline>li {display: inline-block}\n",
              ".list-inline>li:not(:last-child)::after {content: \"\\00b7\"; padding: 0 .5ex}\n",
              "</style>\n",
              "<ol class=list-inline><li>14571.823458939</li><li>9918.32397437345</li><li>13020.6569640838</li><li>10228.5572733445</li><li>11210.9627200861</li><li>11469.4904692286</li></ol>\n"
            ],
            "text/markdown": "1. 14571.823458939\n2. 9918.32397437345\n3. 13020.6569640838\n4. 10228.5572733445\n5. 11210.9627200861\n6. 11469.4904692286\n\n\n",
            "text/latex": "\\begin{enumerate*}\n\\item 14571.823458939\n\\item 9918.32397437345\n\\item 13020.6569640838\n\\item 10228.5572733445\n\\item 11210.9627200861\n\\item 11469.4904692286\n\\end{enumerate*}\n",
            "text/plain": [
              "[1] 14571.823  9918.324 13020.657 10228.557 11210.963 11469.490"
            ]
          },
          "metadata": {}
        },
        {
          "output_type": "display_data",
          "data": {
            "text/html": [
              "<style>\n",
              ".list-inline {list-style: none; margin:0; padding: 0}\n",
              ".list-inline>li {display: inline-block}\n",
              ".list-inline>li:not(:last-child)::after {content: \"\\00b7\"; padding: 0 .5ex}\n",
              "</style>\n",
              "<ol class=list-inline><li>372.176541060982</li><li>-3283.32397437345</li><li>129.343035916175</li><li>-1333.55727334449</li><li>4719.03727991389</li><li>7430.50953077136</li></ol>\n"
            ],
            "text/markdown": "1. 372.176541060982\n2. -3283.32397437345\n3. 129.343035916175\n4. -1333.55727334449\n5. 4719.03727991389\n6. 7430.50953077136\n\n\n",
            "text/latex": "\\begin{enumerate*}\n\\item 372.176541060982\n\\item -3283.32397437345\n\\item 129.343035916175\n\\item -1333.55727334449\n\\item 4719.03727991389\n\\item 7430.50953077136\n\\end{enumerate*}\n",
            "text/plain": [
              "[1]   372.1765 -3283.3240   129.3430 -1333.5573  4719.0373  7430.5095"
            ]
          },
          "metadata": {}
        }
      ],
      "source": [
        "## Extracting residuals and fitted values\n",
        "#  Target \n",
        "head(train_data$Price)\n",
        "# To extract the predictions\n",
        "head(as.numeric(LinReg$fitted.values))\n",
        "# To extract the residuals:\n",
        "head(as.numeric(LinReg$residuals))"
      ]
    },
    {
      "cell_type": "code",
      "execution_count": 38,
      "metadata": {
        "colab": {
          "base_uri": "https://localhost:8080/",
          "height": 34
        },
        "id": "1TdnfACDyaeA",
        "outputId": "32a80c51-143e-41bd-827c-3b6b2f9c559e"
      },
      "outputs": [
        {
          "output_type": "display_data",
          "data": {
            "text/html": [
              "372.176541061001"
            ],
            "text/markdown": "372.176541061001",
            "text/latex": "372.176541061001",
            "text/plain": [
              "[1] 372.1765"
            ]
          },
          "metadata": {}
        }
      ],
      "source": [
        "14944 - 14571.823458939"
      ]
    }
  ],
  "metadata": {
    "kernelspec": {
      "display_name": "R",
      "language": "R",
      "name": "ir"
    },
    "language_info": {
      "codemirror_mode": "r",
      "file_extension": ".r",
      "mimetype": "text/x-r-source",
      "name": "R",
      "pygments_lexer": "r",
      "version": "4.1.0"
    },
    "colab": {
      "provenance": [],
      "include_colab_link": true
    }
  },
  "nbformat": 4,
  "nbformat_minor": 0
}