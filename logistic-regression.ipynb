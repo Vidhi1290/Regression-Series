{
  "cells": [
    {
      "cell_type": "markdown",
      "metadata": {
        "id": "view-in-github",
        "colab_type": "text"
      },
      "source": [
        "<a href=\"https://colab.research.google.com/gist/Vidhi1290/0d914729ad0c1eee645efecaf26b7741/logistic-regression.ipynb\" target=\"_parent\"><img src=\"https://colab.research.google.com/assets/colab-badge.svg\" alt=\"Open In Colab\"/></a>"
      ]
    },
    {
      "cell_type": "markdown",
      "metadata": {
        "id": "O65lJv8I1Ulk"
      },
      "source": [
        "## Logistic Regression"
      ]
    },
    {
      "cell_type": "markdown",
      "metadata": {
        "id": "h1XCYZDG1Uln"
      },
      "source": [
        "### Agenda\n",
        "   \n",
        "    ♦ Problem Description\n",
        "    ♦ Data Understanding\n",
        "    ♦ Split the data into Train and Validation sets\n",
        "    ♦ Build the Logistic Regression model\n",
        "    ♦ Construct a confusion matrix\n",
        "    ♦ Compute Evaluation metrics\n",
        "    ♦ Set threshold using an ROC curve\n",
        "    ♦ Multi-collinearity analysis\n",
        "    ♦ Stepwise Logistic Regression\n",
        "    "
      ]
    },
    {
      "cell_type": "markdown",
      "metadata": {
        "id": "jtLOdwr21Ulo"
      },
      "source": [
        "### Problem Description"
      ]
    },
    {
      "cell_type": "markdown",
      "metadata": {
        "id": "UYd9s0Sd1Ulo"
      },
      "source": [
        "#### Predict if an existing customer would subscribe to a Term Deposit"
      ]
    },
    {
      "cell_type": "markdown",
      "metadata": {
        "id": "IQsRCNnJ1Ulp"
      },
      "source": [
        "Attribute information:\n",
        "\n",
        "Input variables:\n",
        "\n",
        "1 - age (numeric)\n",
        "\n",
        "2 - job : type of job (categorical: \"admin.\",\"unknown\",\"unemployed\",\"management\",\"housemaid\",\"entrepreneur\",\"student\",\n",
        "                                   \"blue-collar\",\"self-employed\",\"retired\",\"technician\",\"services\") \n",
        "\n",
        "3 - marital : marital status (categorical: \"married\",\"divorced\",\"single\"; note: \"divorced\" means divorced or widowed)\n",
        "\n",
        "4 - education (categorical: \"unknown\",\"secondary\",\"primary\",\"tertiary\")\n",
        "\n",
        "5 - default: has credit in default? (binary: \"yes\",\"no\")\n",
        "\n",
        "6 - balance: average yearly balance, in euros (numeric) \n",
        "\n",
        "7 - housing: has housing loan? (binary: \"yes\",\"no\")\n",
        "\n",
        "8 - loan: has personal loan? (binary: \"yes\",\"no\") \n",
        "\n",
        "##### Related with the last contact of the current campaign:\n",
        "\n",
        "9 - contact: contact communication type (categorical: \"unknown\",\"telephone\",\"cellular\") \n",
        "\n",
        "10 - month: last contact month of year (categorical: \"jan\", \"feb\", \"mar\", ..., \"nov\", \"dec\")\n",
        "\n",
        "11 - duration: last contact duration, in seconds (numeric)\n",
        "\n",
        "##### Other attributes:\n",
        "12 - campaign: number of contacts performed during this campaign and for this client (numeric, includes last contact)\n",
        "\n",
        "13 - pdays: number of days that passed by after the client was last contacted from a previous campaign (numeric, -1 means client was not previously contacted)\n",
        "\n",
        "14 - previous: number of contacts performed before this campaign and for this client (numeric)\n",
        "\n",
        "15 - poutcome: outcome of the previous marketing campaign (categorical: \"unknown\",\"other\",\"failure\",\"success\")\n",
        "\n",
        "##### Output variable (desired target):\n",
        "\n",
        "16 - y - has the client subscribed a term deposit? (binary: \"yes\",\"no\")\n",
        "\n",
        " "
      ]
    },
    {
      "cell_type": "markdown",
      "metadata": {
        "id": "YgwCdaDO1Ulq"
      },
      "source": [
        "### Data Reading"
      ]
    },
    {
      "cell_type": "code",
      "execution_count": 2,
      "metadata": {
        "id": "BDdlk9ix1Ulq"
      },
      "outputs": [],
      "source": [
        "### Read data\n",
        "data<-read.csv(\"Bank_Data.csv\",stringsAsFactors=T)\n"
      ]
    },
    {
      "cell_type": "markdown",
      "metadata": {
        "id": "-BgDVy3W1Uls"
      },
      "source": [
        "### Data Understanding"
      ]
    },
    {
      "cell_type": "code",
      "execution_count": 3,
      "metadata": {
        "colab": {
          "base_uri": "https://localhost:8080/",
          "height": 34
        },
        "id": "bjII0tHC1Uls",
        "outputId": "da35b58a-201e-41a7-b244-e4dc56a60aae"
      },
      "outputs": [
        {
          "output_type": "display_data",
          "data": {
            "text/html": [
              "<style>\n",
              ".list-inline {list-style: none; margin:0; padding: 0}\n",
              ".list-inline>li {display: inline-block}\n",
              ".list-inline>li:not(:last-child)::after {content: \"\\00b7\"; padding: 0 .5ex}\n",
              "</style>\n",
              "<ol class=list-inline><li>4521</li><li>16</li></ol>\n"
            ],
            "text/markdown": "1. 4521\n2. 16\n\n\n",
            "text/latex": "\\begin{enumerate*}\n\\item 4521\n\\item 16\n\\end{enumerate*}\n",
            "text/plain": [
              "[1] 4521   16"
            ]
          },
          "metadata": {}
        }
      ],
      "source": [
        "## Dimensions\n",
        "\n",
        "dim(data)"
      ]
    },
    {
      "cell_type": "code",
      "execution_count": 4,
      "metadata": {
        "colab": {
          "base_uri": "https://localhost:8080/"
        },
        "id": "SGXUMfh01Ult",
        "outputId": "535316b8-23bf-4b11-9e37-83a47dda6f03"
      },
      "outputs": [
        {
          "output_type": "stream",
          "name": "stdout",
          "text": [
            "'data.frame':\t4521 obs. of  16 variables:\n",
            " $ age      : int  30 33 35 30 59 35 36 39 41 43 ...\n",
            " $ job      : Factor w/ 12 levels \"admin.\",\"blue-collar\",..: 11 8 5 5 2 5 7 10 3 8 ...\n",
            " $ marital  : Factor w/ 3 levels \"divorced\",\"married\",..: 2 2 3 2 2 3 2 2 2 2 ...\n",
            " $ education: Factor w/ 4 levels \"primary\",\"secondary\",..: 1 2 3 3 2 3 3 2 3 1 ...\n",
            " $ default  : Factor w/ 2 levels \"no\",\"yes\": 1 1 1 1 1 1 1 1 1 1 ...\n",
            " $ balance  : int  1787 4789 1350 1476 0 747 307 147 221 -88 ...\n",
            " $ housing  : Factor w/ 2 levels \"no\",\"yes\": 1 2 2 2 2 1 2 2 2 2 ...\n",
            " $ loan     : Factor w/ 2 levels \"no\",\"yes\": 1 2 1 2 1 1 1 1 1 2 ...\n",
            " $ contact  : Factor w/ 3 levels \"cellular\",\"telephone\",..: 1 1 1 3 3 1 1 1 3 1 ...\n",
            " $ month    : Factor w/ 12 levels \"apr\",\"aug\",\"dec\",..: 11 9 1 7 9 4 9 9 9 1 ...\n",
            " $ duration : int  79 220 185 199 226 141 341 151 57 313 ...\n",
            " $ campaign : int  1 1 1 4 1 2 1 2 2 1 ...\n",
            " $ pdays    : int  -1 339 330 -1 -1 176 330 -1 -1 147 ...\n",
            " $ previous : int  0 4 1 0 0 3 2 0 0 2 ...\n",
            " $ poutcome : Factor w/ 4 levels \"failure\",\"other\",..: 4 1 1 4 4 1 2 4 4 1 ...\n",
            " $ y        : Factor w/ 2 levels \"no\",\"yes\": 1 1 1 1 1 1 1 1 1 1 ...\n"
          ]
        }
      ],
      "source": [
        "## Structure\n",
        "\n",
        "str(data)"
      ]
    },
    {
      "cell_type": "code",
      "execution_count": 5,
      "metadata": {
        "scrolled": true,
        "colab": {
          "base_uri": "https://localhost:8080/",
          "height": 286
        },
        "id": "X8QCpy7D1Ult",
        "outputId": "d260bd50-f98d-438b-818a-0fcfe200fa80"
      },
      "outputs": [
        {
          "output_type": "display_data",
          "data": {
            "text/html": [
              "<table class=\"dataframe\">\n",
              "<caption>A data.frame: 6 × 16</caption>\n",
              "<thead>\n",
              "\t<tr><th></th><th scope=col>age</th><th scope=col>job</th><th scope=col>marital</th><th scope=col>education</th><th scope=col>default</th><th scope=col>balance</th><th scope=col>housing</th><th scope=col>loan</th><th scope=col>contact</th><th scope=col>month</th><th scope=col>duration</th><th scope=col>campaign</th><th scope=col>pdays</th><th scope=col>previous</th><th scope=col>poutcome</th><th scope=col>y</th></tr>\n",
              "\t<tr><th></th><th scope=col>&lt;int&gt;</th><th scope=col>&lt;fct&gt;</th><th scope=col>&lt;fct&gt;</th><th scope=col>&lt;fct&gt;</th><th scope=col>&lt;fct&gt;</th><th scope=col>&lt;int&gt;</th><th scope=col>&lt;fct&gt;</th><th scope=col>&lt;fct&gt;</th><th scope=col>&lt;fct&gt;</th><th scope=col>&lt;fct&gt;</th><th scope=col>&lt;int&gt;</th><th scope=col>&lt;int&gt;</th><th scope=col>&lt;int&gt;</th><th scope=col>&lt;int&gt;</th><th scope=col>&lt;fct&gt;</th><th scope=col>&lt;fct&gt;</th></tr>\n",
              "</thead>\n",
              "<tbody>\n",
              "\t<tr><th scope=row>1</th><td>30</td><td>unemployed </td><td>married</td><td>primary  </td><td>no</td><td>1787</td><td>no </td><td>no </td><td>cellular</td><td>oct</td><td> 79</td><td>1</td><td> -1</td><td>0</td><td>unknown</td><td>no</td></tr>\n",
              "\t<tr><th scope=row>2</th><td>33</td><td>services   </td><td>married</td><td>secondary</td><td>no</td><td>4789</td><td>yes</td><td>yes</td><td>cellular</td><td>may</td><td>220</td><td>1</td><td>339</td><td>4</td><td>failure</td><td>no</td></tr>\n",
              "\t<tr><th scope=row>3</th><td>35</td><td>management </td><td>single </td><td>tertiary </td><td>no</td><td>1350</td><td>yes</td><td>no </td><td>cellular</td><td>apr</td><td>185</td><td>1</td><td>330</td><td>1</td><td>failure</td><td>no</td></tr>\n",
              "\t<tr><th scope=row>4</th><td>30</td><td>management </td><td>married</td><td>tertiary </td><td>no</td><td>1476</td><td>yes</td><td>yes</td><td>unknown </td><td>jun</td><td>199</td><td>4</td><td> -1</td><td>0</td><td>unknown</td><td>no</td></tr>\n",
              "\t<tr><th scope=row>5</th><td>59</td><td>blue-collar</td><td>married</td><td>secondary</td><td>no</td><td>   0</td><td>yes</td><td>no </td><td>unknown </td><td>may</td><td>226</td><td>1</td><td> -1</td><td>0</td><td>unknown</td><td>no</td></tr>\n",
              "\t<tr><th scope=row>6</th><td>35</td><td>management </td><td>single </td><td>tertiary </td><td>no</td><td> 747</td><td>no </td><td>no </td><td>cellular</td><td>feb</td><td>141</td><td>2</td><td>176</td><td>3</td><td>failure</td><td>no</td></tr>\n",
              "</tbody>\n",
              "</table>\n"
            ],
            "text/markdown": "\nA data.frame: 6 × 16\n\n| <!--/--> | age &lt;int&gt; | job &lt;fct&gt; | marital &lt;fct&gt; | education &lt;fct&gt; | default &lt;fct&gt; | balance &lt;int&gt; | housing &lt;fct&gt; | loan &lt;fct&gt; | contact &lt;fct&gt; | month &lt;fct&gt; | duration &lt;int&gt; | campaign &lt;int&gt; | pdays &lt;int&gt; | previous &lt;int&gt; | poutcome &lt;fct&gt; | y &lt;fct&gt; |\n|---|---|---|---|---|---|---|---|---|---|---|---|---|---|---|---|---|\n| 1 | 30 | unemployed  | married | primary   | no | 1787 | no  | no  | cellular | oct |  79 | 1 |  -1 | 0 | unknown | no |\n| 2 | 33 | services    | married | secondary | no | 4789 | yes | yes | cellular | may | 220 | 1 | 339 | 4 | failure | no |\n| 3 | 35 | management  | single  | tertiary  | no | 1350 | yes | no  | cellular | apr | 185 | 1 | 330 | 1 | failure | no |\n| 4 | 30 | management  | married | tertiary  | no | 1476 | yes | yes | unknown  | jun | 199 | 4 |  -1 | 0 | unknown | no |\n| 5 | 59 | blue-collar | married | secondary | no |    0 | yes | no  | unknown  | may | 226 | 1 |  -1 | 0 | unknown | no |\n| 6 | 35 | management  | single  | tertiary  | no |  747 | no  | no  | cellular | feb | 141 | 2 | 176 | 3 | failure | no |\n\n",
            "text/latex": "A data.frame: 6 × 16\n\\begin{tabular}{r|llllllllllllllll}\n  & age & job & marital & education & default & balance & housing & loan & contact & month & duration & campaign & pdays & previous & poutcome & y\\\\\n  & <int> & <fct> & <fct> & <fct> & <fct> & <int> & <fct> & <fct> & <fct> & <fct> & <int> & <int> & <int> & <int> & <fct> & <fct>\\\\\n\\hline\n\t1 & 30 & unemployed  & married & primary   & no & 1787 & no  & no  & cellular & oct &  79 & 1 &  -1 & 0 & unknown & no\\\\\n\t2 & 33 & services    & married & secondary & no & 4789 & yes & yes & cellular & may & 220 & 1 & 339 & 4 & failure & no\\\\\n\t3 & 35 & management  & single  & tertiary  & no & 1350 & yes & no  & cellular & apr & 185 & 1 & 330 & 1 & failure & no\\\\\n\t4 & 30 & management  & married & tertiary  & no & 1476 & yes & yes & unknown  & jun & 199 & 4 &  -1 & 0 & unknown & no\\\\\n\t5 & 59 & blue-collar & married & secondary & no &    0 & yes & no  & unknown  & may & 226 & 1 &  -1 & 0 & unknown & no\\\\\n\t6 & 35 & management  & single  & tertiary  & no &  747 & no  & no  & cellular & feb & 141 & 2 & 176 & 3 & failure & no\\\\\n\\end{tabular}\n",
            "text/plain": [
              "  age job         marital education default balance housing loan contact  month\n",
              "1 30  unemployed  married primary   no      1787    no      no   cellular oct  \n",
              "2 33  services    married secondary no      4789    yes     yes  cellular may  \n",
              "3 35  management  single  tertiary  no      1350    yes     no   cellular apr  \n",
              "4 30  management  married tertiary  no      1476    yes     yes  unknown  jun  \n",
              "5 59  blue-collar married secondary no         0    yes     no   unknown  may  \n",
              "6 35  management  single  tertiary  no       747    no      no   cellular feb  \n",
              "  duration campaign pdays previous poutcome y \n",
              "1  79      1         -1   0        unknown  no\n",
              "2 220      1        339   4        failure  no\n",
              "3 185      1        330   1        failure  no\n",
              "4 199      4         -1   0        unknown  no\n",
              "5 226      1         -1   0        unknown  no\n",
              "6 141      2        176   3        failure  no"
            ]
          },
          "metadata": {}
        }
      ],
      "source": [
        "## First few rows\n",
        "\n",
        "head(data)"
      ]
    },
    {
      "cell_type": "code",
      "execution_count": 6,
      "metadata": {
        "colab": {
          "base_uri": "https://localhost:8080/",
          "height": 286
        },
        "id": "btVvvn2V1Ulu",
        "outputId": "07a98f42-cb25-4616-972d-ecfd56c77249"
      },
      "outputs": [
        {
          "output_type": "display_data",
          "data": {
            "text/html": [
              "<table class=\"dataframe\">\n",
              "<caption>A data.frame: 6 × 16</caption>\n",
              "<thead>\n",
              "\t<tr><th></th><th scope=col>age</th><th scope=col>job</th><th scope=col>marital</th><th scope=col>education</th><th scope=col>default</th><th scope=col>balance</th><th scope=col>housing</th><th scope=col>loan</th><th scope=col>contact</th><th scope=col>month</th><th scope=col>duration</th><th scope=col>campaign</th><th scope=col>pdays</th><th scope=col>previous</th><th scope=col>poutcome</th><th scope=col>y</th></tr>\n",
              "\t<tr><th></th><th scope=col>&lt;int&gt;</th><th scope=col>&lt;fct&gt;</th><th scope=col>&lt;fct&gt;</th><th scope=col>&lt;fct&gt;</th><th scope=col>&lt;fct&gt;</th><th scope=col>&lt;int&gt;</th><th scope=col>&lt;fct&gt;</th><th scope=col>&lt;fct&gt;</th><th scope=col>&lt;fct&gt;</th><th scope=col>&lt;fct&gt;</th><th scope=col>&lt;int&gt;</th><th scope=col>&lt;int&gt;</th><th scope=col>&lt;int&gt;</th><th scope=col>&lt;int&gt;</th><th scope=col>&lt;fct&gt;</th><th scope=col>&lt;fct&gt;</th></tr>\n",
              "</thead>\n",
              "<tbody>\n",
              "\t<tr><th scope=row>4516</th><td>32</td><td>services     </td><td>single </td><td>secondary</td><td>no </td><td>  473</td><td>yes</td><td>no </td><td>cellular</td><td>jul</td><td>624</td><td> 5</td><td> -1</td><td>0</td><td>unknown</td><td>no</td></tr>\n",
              "\t<tr><th scope=row>4517</th><td>33</td><td>services     </td><td>married</td><td>secondary</td><td>no </td><td> -333</td><td>yes</td><td>no </td><td>cellular</td><td>jul</td><td>329</td><td> 5</td><td> -1</td><td>0</td><td>unknown</td><td>no</td></tr>\n",
              "\t<tr><th scope=row>4518</th><td>57</td><td>self-employed</td><td>married</td><td>tertiary </td><td>yes</td><td>-3313</td><td>yes</td><td>yes</td><td>unknown </td><td>may</td><td>153</td><td> 1</td><td> -1</td><td>0</td><td>unknown</td><td>no</td></tr>\n",
              "\t<tr><th scope=row>4519</th><td>57</td><td>technician   </td><td>married</td><td>secondary</td><td>no </td><td>  295</td><td>no </td><td>no </td><td>cellular</td><td>aug</td><td>151</td><td>11</td><td> -1</td><td>0</td><td>unknown</td><td>no</td></tr>\n",
              "\t<tr><th scope=row>4520</th><td>28</td><td>blue-collar  </td><td>married</td><td>secondary</td><td>no </td><td> 1137</td><td>no </td><td>no </td><td>cellular</td><td>feb</td><td>129</td><td> 4</td><td>211</td><td>3</td><td>other  </td><td>no</td></tr>\n",
              "\t<tr><th scope=row>4521</th><td>44</td><td>entrepreneur </td><td>single </td><td>tertiary </td><td>no </td><td> 1136</td><td>yes</td><td>yes</td><td>cellular</td><td>apr</td><td>345</td><td> 2</td><td>249</td><td>7</td><td>other  </td><td>no</td></tr>\n",
              "</tbody>\n",
              "</table>\n"
            ],
            "text/markdown": "\nA data.frame: 6 × 16\n\n| <!--/--> | age &lt;int&gt; | job &lt;fct&gt; | marital &lt;fct&gt; | education &lt;fct&gt; | default &lt;fct&gt; | balance &lt;int&gt; | housing &lt;fct&gt; | loan &lt;fct&gt; | contact &lt;fct&gt; | month &lt;fct&gt; | duration &lt;int&gt; | campaign &lt;int&gt; | pdays &lt;int&gt; | previous &lt;int&gt; | poutcome &lt;fct&gt; | y &lt;fct&gt; |\n|---|---|---|---|---|---|---|---|---|---|---|---|---|---|---|---|---|\n| 4516 | 32 | services      | single  | secondary | no  |   473 | yes | no  | cellular | jul | 624 |  5 |  -1 | 0 | unknown | no |\n| 4517 | 33 | services      | married | secondary | no  |  -333 | yes | no  | cellular | jul | 329 |  5 |  -1 | 0 | unknown | no |\n| 4518 | 57 | self-employed | married | tertiary  | yes | -3313 | yes | yes | unknown  | may | 153 |  1 |  -1 | 0 | unknown | no |\n| 4519 | 57 | technician    | married | secondary | no  |   295 | no  | no  | cellular | aug | 151 | 11 |  -1 | 0 | unknown | no |\n| 4520 | 28 | blue-collar   | married | secondary | no  |  1137 | no  | no  | cellular | feb | 129 |  4 | 211 | 3 | other   | no |\n| 4521 | 44 | entrepreneur  | single  | tertiary  | no  |  1136 | yes | yes | cellular | apr | 345 |  2 | 249 | 7 | other   | no |\n\n",
            "text/latex": "A data.frame: 6 × 16\n\\begin{tabular}{r|llllllllllllllll}\n  & age & job & marital & education & default & balance & housing & loan & contact & month & duration & campaign & pdays & previous & poutcome & y\\\\\n  & <int> & <fct> & <fct> & <fct> & <fct> & <int> & <fct> & <fct> & <fct> & <fct> & <int> & <int> & <int> & <int> & <fct> & <fct>\\\\\n\\hline\n\t4516 & 32 & services      & single  & secondary & no  &   473 & yes & no  & cellular & jul & 624 &  5 &  -1 & 0 & unknown & no\\\\\n\t4517 & 33 & services      & married & secondary & no  &  -333 & yes & no  & cellular & jul & 329 &  5 &  -1 & 0 & unknown & no\\\\\n\t4518 & 57 & self-employed & married & tertiary  & yes & -3313 & yes & yes & unknown  & may & 153 &  1 &  -1 & 0 & unknown & no\\\\\n\t4519 & 57 & technician    & married & secondary & no  &   295 & no  & no  & cellular & aug & 151 & 11 &  -1 & 0 & unknown & no\\\\\n\t4520 & 28 & blue-collar   & married & secondary & no  &  1137 & no  & no  & cellular & feb & 129 &  4 & 211 & 3 & other   & no\\\\\n\t4521 & 44 & entrepreneur  & single  & tertiary  & no  &  1136 & yes & yes & cellular & apr & 345 &  2 & 249 & 7 & other   & no\\\\\n\\end{tabular}\n",
            "text/plain": [
              "     age job           marital education default balance housing loan contact \n",
              "4516 32  services      single  secondary no        473   yes     no   cellular\n",
              "4517 33  services      married secondary no       -333   yes     no   cellular\n",
              "4518 57  self-employed married tertiary  yes     -3313   yes     yes  unknown \n",
              "4519 57  technician    married secondary no        295   no      no   cellular\n",
              "4520 28  blue-collar   married secondary no       1137   no      no   cellular\n",
              "4521 44  entrepreneur  single  tertiary  no       1136   yes     yes  cellular\n",
              "     month duration campaign pdays previous poutcome y \n",
              "4516 jul   624       5        -1   0        unknown  no\n",
              "4517 jul   329       5        -1   0        unknown  no\n",
              "4518 may   153       1        -1   0        unknown  no\n",
              "4519 aug   151      11        -1   0        unknown  no\n",
              "4520 feb   129       4       211   3        other    no\n",
              "4521 apr   345       2       249   7        other    no"
            ]
          },
          "metadata": {}
        }
      ],
      "source": [
        "## Last few rows\n",
        "\n",
        "tail(data)"
      ]
    },
    {
      "cell_type": "markdown",
      "metadata": {
        "id": "_cdQuVJ81Ulu"
      },
      "source": [
        "### Summary Statistics"
      ]
    },
    {
      "cell_type": "code",
      "execution_count": 7,
      "metadata": {
        "colab": {
          "base_uri": "https://localhost:8080/",
          "height": 589
        },
        "id": "THdR_TNm1Ulu",
        "outputId": "7c04e4f1-e4d6-45d4-9131-6623b8eb164f"
      },
      "outputs": [
        {
          "output_type": "display_data",
          "data": {
            "text/plain": [
              "      age                 job          marital         education    default   \n",
              " Min.   :19.00   management :969   divorced: 528   primary  : 678   no :4445  \n",
              " 1st Qu.:33.00   blue-collar:946   married :2797   secondary:2306   yes:  76  \n",
              " Median :39.00   technician :768   single  :1196   tertiary :1350             \n",
              " Mean   :41.17   admin.     :478                   unknown  : 187             \n",
              " 3rd Qu.:49.00   services   :417                                              \n",
              " Max.   :87.00   retired    :230                                              \n",
              "                 (Other)    :713                                              \n",
              "    balance      housing     loan           contact         month     \n",
              " Min.   :-3313   no :1962   no :3830   cellular :2896   may    :1398  \n",
              " 1st Qu.:   69   yes:2559   yes: 691   telephone: 301   jul    : 706  \n",
              " Median :  444                         unknown  :1324   aug    : 633  \n",
              " Mean   : 1423                                          jun    : 531  \n",
              " 3rd Qu.: 1480                                          nov    : 389  \n",
              " Max.   :71188                                          apr    : 293  \n",
              "                                                        (Other): 571  \n",
              "    duration       campaign          pdays           previous      \n",
              " Min.   :   4   Min.   : 1.000   Min.   : -1.00   Min.   : 0.0000  \n",
              " 1st Qu.: 104   1st Qu.: 1.000   1st Qu.: -1.00   1st Qu.: 0.0000  \n",
              " Median : 185   Median : 2.000   Median : -1.00   Median : 0.0000  \n",
              " Mean   : 264   Mean   : 2.794   Mean   : 39.77   Mean   : 0.5426  \n",
              " 3rd Qu.: 329   3rd Qu.: 3.000   3rd Qu.: -1.00   3rd Qu.: 0.0000  \n",
              " Max.   :3025   Max.   :50.000   Max.   :871.00   Max.   :25.0000  \n",
              "                                                                   \n",
              "    poutcome      y       \n",
              " failure: 490   no :4000  \n",
              " other  : 197   yes: 521  \n",
              " success: 129             \n",
              " unknown:3705             \n",
              "                          \n",
              "                          \n",
              "                          "
            ]
          },
          "metadata": {}
        }
      ],
      "source": [
        "## Summary of the data\n",
        "summary(data)"
      ]
    },
    {
      "cell_type": "markdown",
      "metadata": {
        "id": "9MhQ6K3H1Ulu"
      },
      "source": [
        "### Split the data into Train and Validation sets"
      ]
    },
    {
      "cell_type": "code",
      "execution_count": 8,
      "metadata": {
        "colab": {
          "base_uri": "https://localhost:8080/",
          "height": 71
        },
        "id": "Dhgvqju41Ulv",
        "outputId": "944e8e45-a6eb-4b27-b60e-347a2e814129"
      },
      "outputs": [
        {
          "output_type": "display_data",
          "data": {
            "text/plain": [
              "\n",
              "  no  yes \n",
              "4000  521 "
            ]
          },
          "metadata": {}
        }
      ],
      "source": [
        "## Frequency of the target variable\n",
        "\n",
        "table(data$y)"
      ]
    },
    {
      "cell_type": "code",
      "execution_count": 9,
      "metadata": {
        "colab": {
          "base_uri": "https://localhost:8080/",
          "height": 71
        },
        "id": "l7t2SLhm1Ulv",
        "outputId": "0c8f7570-f394-48bd-e68b-a6f7f27477d6"
      },
      "outputs": [
        {
          "output_type": "display_data",
          "data": {
            "text/plain": [
              "\n",
              "     no     yes \n",
              "0.88476 0.11524 "
            ]
          },
          "metadata": {}
        }
      ],
      "source": [
        "## Proportion of the target variable\n",
        "\n",
        "table(data$y)/nrow(data)"
      ]
    },
    {
      "cell_type": "code",
      "execution_count": 10,
      "metadata": {
        "colab": {
          "base_uri": "https://localhost:8080/"
        },
        "id": "IIgEBexA1Ulv",
        "outputId": "c0a13e36-029a-4bae-dd7c-549160a21936"
      },
      "outputs": [
        {
          "output_type": "stream",
          "name": "stderr",
          "text": [
            "Installing package into ‘/usr/local/lib/R/site-library’\n",
            "(as ‘lib’ is unspecified)\n",
            "\n",
            "also installing the dependencies ‘listenv’, ‘parallelly’, ‘future’, ‘globals’, ‘R.methodsS3’, ‘R.oo’, ‘R.utils’, ‘bitops’, ‘future.apply’, ‘numDeriv’, ‘progressr’, ‘SQUAREM’, ‘httpuv’, ‘xtable’, ‘fontawesome’, ‘sourcetools’, ‘later’, ‘promises’, ‘R.cache’, ‘caTools’, ‘TH.data’, ‘profileModel’, ‘minqa’, ‘nloptr’, ‘RcppEigen’, ‘lazyeval’, ‘plotrix’, ‘lava’, ‘shiny’, ‘miniUI’, ‘styler’, ‘classInt’, ‘labelled’, ‘gplots’, ‘libcoin’, ‘matrixStats’, ‘multcomp’, ‘iterators’, ‘Rcpp’, ‘clock’, ‘gower’, ‘hardhat’, ‘timeDate’, ‘brglm’, ‘gtools’, ‘lme4’, ‘qvcalc’, ‘rex’, ‘Formula’, ‘plotmo’, ‘TeachingDemos’, ‘prodlim’, ‘combinat’, ‘questionr’, ‘ROCR’, ‘mvtnorm’, ‘modeltools’, ‘strucchange’, ‘coin’, ‘zoo’, ‘sandwich’, ‘ISwR’, ‘corpcor’, ‘ROSE’, ‘e1071’, ‘foreach’, ‘ModelMetrics’, ‘plyr’, ‘pROC’, ‘recipes’, ‘reshape2’, ‘BradleyTerry2’, ‘covr’, ‘Cubist’, ‘earth’, ‘ellipse’, ‘fastICA’, ‘gam’, ‘ipred’, ‘kernlab’, ‘klaR’, ‘mda’, ‘mlbench’, ‘MLmetrics’, ‘pamr’, ‘party’, ‘pls’, ‘proxy’, ‘randomForest’, ‘RANN’, ‘spls’, ‘subselect’, ‘superpc’, ‘themis’\n",
            "\n",
            "\n",
            "Loading required package: ggplot2\n",
            "\n",
            "Loading required package: lattice\n",
            "\n",
            "Warning message in system(\"timedatectl\", intern = TRUE):\n",
            "“running command 'timedatectl' had status 1”\n"
          ]
        }
      ],
      "source": [
        "## Split row numbers into 2 sets\n",
        "set.seed(1)\n",
        "\n",
        "install.packages('caret', dependencies = TRUE)\n",
        "library(caret)\n",
        "\n",
        "train_rows = createDataPartition(data$y,p = 0.7,list = F)\n",
        "validation_rows = setdiff(1:nrow(data),train_rows)\n"
      ]
    },
    {
      "cell_type": "code",
      "execution_count": 11,
      "metadata": {
        "id": "w0U-x9AD1Ulv"
      },
      "outputs": [],
      "source": [
        "## Subset into Train and Validation sets\n",
        "train_data <- data[train_rows,]\n",
        "validation_data <- data[validation_rows,]"
      ]
    },
    {
      "cell_type": "code",
      "execution_count": 12,
      "metadata": {
        "colab": {
          "base_uri": "https://localhost:8080/",
          "height": 69
        },
        "id": "suad2cDl1Ulv",
        "outputId": "640b9faa-6807-4b19-a143-060df579649c"
      },
      "outputs": [
        {
          "output_type": "display_data",
          "data": {
            "text/html": [
              "<style>\n",
              ".list-inline {list-style: none; margin:0; padding: 0}\n",
              ".list-inline>li {display: inline-block}\n",
              ".list-inline>li:not(:last-child)::after {content: \"\\00b7\"; padding: 0 .5ex}\n",
              "</style>\n",
              "<ol class=list-inline><li>4521</li><li>16</li></ol>\n"
            ],
            "text/markdown": "1. 4521\n2. 16\n\n\n",
            "text/latex": "\\begin{enumerate*}\n\\item 4521\n\\item 16\n\\end{enumerate*}\n",
            "text/plain": [
              "[1] 4521   16"
            ]
          },
          "metadata": {}
        },
        {
          "output_type": "display_data",
          "data": {
            "text/html": [
              "<style>\n",
              ".list-inline {list-style: none; margin:0; padding: 0}\n",
              ".list-inline>li {display: inline-block}\n",
              ".list-inline>li:not(:last-child)::after {content: \"\\00b7\"; padding: 0 .5ex}\n",
              "</style>\n",
              "<ol class=list-inline><li>3165</li><li>16</li></ol>\n"
            ],
            "text/markdown": "1. 3165\n2. 16\n\n\n",
            "text/latex": "\\begin{enumerate*}\n\\item 3165\n\\item 16\n\\end{enumerate*}\n",
            "text/plain": [
              "[1] 3165   16"
            ]
          },
          "metadata": {}
        },
        {
          "output_type": "display_data",
          "data": {
            "text/html": [
              "<style>\n",
              ".list-inline {list-style: none; margin:0; padding: 0}\n",
              ".list-inline>li {display: inline-block}\n",
              ".list-inline>li:not(:last-child)::after {content: \"\\00b7\"; padding: 0 .5ex}\n",
              "</style>\n",
              "<ol class=list-inline><li>1356</li><li>16</li></ol>\n"
            ],
            "text/markdown": "1. 1356\n2. 16\n\n\n",
            "text/latex": "\\begin{enumerate*}\n\\item 1356\n\\item 16\n\\end{enumerate*}\n",
            "text/plain": [
              "[1] 1356   16"
            ]
          },
          "metadata": {}
        }
      ],
      "source": [
        "## View the dimensions of the data\n",
        "dim(data)\n",
        "dim(train_data)\n",
        "dim(validation_data)"
      ]
    },
    {
      "cell_type": "code",
      "execution_count": 13,
      "metadata": {
        "scrolled": true,
        "colab": {
          "base_uri": "https://localhost:8080/",
          "height": 178
        },
        "id": "o1l4JrkO1Ulw",
        "outputId": "1a1eb405-db77-4879-c9da-092ed1514072"
      },
      "outputs": [
        {
          "output_type": "display_data",
          "data": {
            "text/plain": [
              "\n",
              "     no     yes \n",
              "0.88476 0.11524 "
            ]
          },
          "metadata": {}
        },
        {
          "output_type": "display_data",
          "data": {
            "text/plain": [
              "\n",
              "       no       yes \n",
              "0.8846761 0.1153239 "
            ]
          },
          "metadata": {}
        },
        {
          "output_type": "display_data",
          "data": {
            "text/plain": [
              "\n",
              "       no       yes \n",
              "0.8849558 0.1150442 "
            ]
          },
          "metadata": {}
        }
      ],
      "source": [
        "## Check if proportions are similar after splitting\n",
        "\n",
        "table(data$y)/nrow(data)\n",
        "\n",
        "table(train_data$y)/nrow(train_data)\n",
        "\n",
        "table(validation_data$y)/nrow(validation_data)"
      ]
    },
    {
      "cell_type": "markdown",
      "metadata": {
        "id": "RVYpBv251Ulw"
      },
      "source": [
        "### Recode the levels of y"
      ]
    },
    {
      "cell_type": "code",
      "execution_count": 14,
      "metadata": {
        "colab": {
          "base_uri": "https://localhost:8080/",
          "height": 69
        },
        "id": "iQH6w2Qq1Ulw",
        "outputId": "4885fa3a-7967-4e3c-c95f-c70210deba7b"
      },
      "outputs": [
        {
          "output_type": "display_data",
          "data": {
            "text/html": [
              "<style>\n",
              ".list-inline {list-style: none; margin:0; padding: 0}\n",
              ".list-inline>li {display: inline-block}\n",
              ".list-inline>li:not(:last-child)::after {content: \"\\00b7\"; padding: 0 .5ex}\n",
              "</style>\n",
              "<ol class=list-inline><li>yes</li><li>no</li><li>no</li><li>no</li><li>no</li><li>no</li></ol>\n",
              "\n",
              "<details>\n",
              "\t<summary style=display:list-item;cursor:pointer>\n",
              "\t\t<strong>Levels</strong>:\n",
              "\t</summary>\n",
              "\t<style>\n",
              "\t.list-inline {list-style: none; margin:0; padding: 0}\n",
              "\t.list-inline>li {display: inline-block}\n",
              "\t.list-inline>li:not(:last-child)::after {content: \"\\00b7\"; padding: 0 .5ex}\n",
              "\t</style>\n",
              "\t<ol class=list-inline><li>'no'</li><li>'yes'</li></ol>\n",
              "</details>"
            ],
            "text/markdown": "1. yes\n2. no\n3. no\n4. no\n5. no\n6. no\n\n\n\n**Levels**: 1. 'no'\n2. 'yes'\n\n\n",
            "text/latex": "\\begin{enumerate*}\n\\item yes\n\\item no\n\\item no\n\\item no\n\\item no\n\\item no\n\\end{enumerate*}\n\n\\emph{Levels}: \\begin{enumerate*}\n\\item 'no'\n\\item 'yes'\n\\end{enumerate*}\n",
            "text/plain": [
              "[1] yes no  no  no  no  no \n",
              "Levels: no yes"
            ]
          },
          "metadata": {}
        },
        {
          "output_type": "display_data",
          "data": {
            "text/html": [
              "<style>\n",
              ".list-inline {list-style: none; margin:0; padding: 0}\n",
              ".list-inline>li {display: inline-block}\n",
              ".list-inline>li:not(:last-child)::after {content: \"\\00b7\"; padding: 0 .5ex}\n",
              "</style>\n",
              "<ol class=list-inline><li>1</li><li>0</li><li>0</li><li>0</li><li>0</li><li>0</li></ol>\n"
            ],
            "text/markdown": "1. 1\n2. 0\n3. 0\n4. 0\n5. 0\n6. 0\n\n\n",
            "text/latex": "\\begin{enumerate*}\n\\item 1\n\\item 0\n\\item 0\n\\item 0\n\\item 0\n\\item 0\n\\end{enumerate*}\n",
            "text/plain": [
              "[1] 1 0 0 0 0 0"
            ]
          },
          "metadata": {}
        }
      ],
      "source": [
        "## check the original levels of the target\n",
        "tail(train_data$y)\n",
        "\n",
        "## recode the levels of the target by assigning 1 to the level of interest \n",
        "train_data$y <- ifelse(train_data$y == \"yes\",yes = 1,no = 0)\n",
        "\n",
        "## check the levels after recoding\n",
        "tail(train_data$y,)\n"
      ]
    },
    {
      "cell_type": "code",
      "execution_count": 15,
      "metadata": {
        "colab": {
          "base_uri": "https://localhost:8080/",
          "height": 69
        },
        "id": "idE0UAAa1Ulw",
        "outputId": "917ca900-ca13-4896-b8bf-6f0e1cb5709c"
      },
      "outputs": [
        {
          "output_type": "display_data",
          "data": {
            "text/html": [
              "<style>\n",
              ".list-inline {list-style: none; margin:0; padding: 0}\n",
              ".list-inline>li {display: inline-block}\n",
              ".list-inline>li:not(:last-child)::after {content: \"\\00b7\"; padding: 0 .5ex}\n",
              "</style>\n",
              "<ol class=list-inline><li>yes</li><li>no</li><li>no</li><li>no</li><li>no</li><li>no</li></ol>\n",
              "\n",
              "<details>\n",
              "\t<summary style=display:list-item;cursor:pointer>\n",
              "\t\t<strong>Levels</strong>:\n",
              "\t</summary>\n",
              "\t<style>\n",
              "\t.list-inline {list-style: none; margin:0; padding: 0}\n",
              "\t.list-inline>li {display: inline-block}\n",
              "\t.list-inline>li:not(:last-child)::after {content: \"\\00b7\"; padding: 0 .5ex}\n",
              "\t</style>\n",
              "\t<ol class=list-inline><li>'no'</li><li>'yes'</li></ol>\n",
              "</details>"
            ],
            "text/markdown": "1. yes\n2. no\n3. no\n4. no\n5. no\n6. no\n\n\n\n**Levels**: 1. 'no'\n2. 'yes'\n\n\n",
            "text/latex": "\\begin{enumerate*}\n\\item yes\n\\item no\n\\item no\n\\item no\n\\item no\n\\item no\n\\end{enumerate*}\n\n\\emph{Levels}: \\begin{enumerate*}\n\\item 'no'\n\\item 'yes'\n\\end{enumerate*}\n",
            "text/plain": [
              "[1] yes no  no  no  no  no \n",
              "Levels: no yes"
            ]
          },
          "metadata": {}
        },
        {
          "output_type": "display_data",
          "data": {
            "text/html": [
              "<style>\n",
              ".list-inline {list-style: none; margin:0; padding: 0}\n",
              ".list-inline>li {display: inline-block}\n",
              ".list-inline>li:not(:last-child)::after {content: \"\\00b7\"; padding: 0 .5ex}\n",
              "</style>\n",
              "<ol class=list-inline><li>1</li><li>0</li><li>0</li><li>0</li><li>0</li><li>0</li></ol>\n"
            ],
            "text/markdown": "1. 1\n2. 0\n3. 0\n4. 0\n5. 0\n6. 0\n\n\n",
            "text/latex": "\\begin{enumerate*}\n\\item 1\n\\item 0\n\\item 0\n\\item 0\n\\item 0\n\\item 0\n\\end{enumerate*}\n",
            "text/plain": [
              "[1] 1 0 0 0 0 0"
            ]
          },
          "metadata": {}
        }
      ],
      "source": [
        "## Do the same on validation data\n",
        "\n",
        "tail(validation_data$y)\n",
        "\n",
        "validation_data$y <- ifelse(validation_data$y == \"yes\",yes = 1,no = 0)\n",
        "\n",
        "tail(validation_data$y)\n"
      ]
    },
    {
      "cell_type": "markdown",
      "metadata": {
        "id": "sAo0kKrG1Ulx"
      },
      "source": [
        "### Data Type Conversion\n",
        "Check if any data type conversions have to be done.\n"
      ]
    },
    {
      "cell_type": "code",
      "execution_count": 16,
      "metadata": {
        "scrolled": true,
        "colab": {
          "base_uri": "https://localhost:8080/"
        },
        "id": "gCnBesF11Ulx",
        "outputId": "239724b4-1b92-42ec-f009-9e25c18cd3ce"
      },
      "outputs": [
        {
          "output_type": "stream",
          "name": "stdout",
          "text": [
            "'data.frame':\t3165 obs. of  16 variables:\n",
            " $ age      : int  35 30 59 35 36 41 43 39 43 36 ...\n",
            " $ job      : Factor w/ 12 levels \"admin.\",\"blue-collar\",..: 5 5 2 5 7 3 8 8 1 10 ...\n",
            " $ marital  : Factor w/ 3 levels \"divorced\",\"married\",..: 3 2 2 3 2 2 2 2 2 2 ...\n",
            " $ education: Factor w/ 4 levels \"primary\",\"secondary\",..: 3 3 2 3 3 3 1 2 2 3 ...\n",
            " $ default  : Factor w/ 2 levels \"no\",\"yes\": 1 1 1 1 1 1 1 1 1 1 ...\n",
            " $ balance  : int  1350 1476 0 747 307 221 -88 9374 264 1109 ...\n",
            " $ housing  : Factor w/ 2 levels \"no\",\"yes\": 2 2 2 1 2 2 2 2 2 1 ...\n",
            " $ loan     : Factor w/ 2 levels \"no\",\"yes\": 1 2 1 1 1 1 2 1 1 1 ...\n",
            " $ contact  : Factor w/ 3 levels \"cellular\",\"telephone\",..: 1 3 3 1 1 3 1 3 1 1 ...\n",
            " $ month    : Factor w/ 12 levels \"apr\",\"aug\",\"dec\",..: 1 7 9 4 9 9 1 9 1 2 ...\n",
            " $ duration : int  185 199 226 141 341 57 313 273 113 328 ...\n",
            " $ campaign : int  1 4 1 2 1 2 1 1 2 2 ...\n",
            " $ pdays    : int  330 -1 -1 176 330 -1 147 -1 -1 -1 ...\n",
            " $ previous : int  1 0 0 3 2 0 2 0 0 0 ...\n",
            " $ poutcome : Factor w/ 4 levels \"failure\",\"other\",..: 1 4 4 1 2 4 1 4 4 4 ...\n",
            " $ y        : num  0 0 0 0 0 0 0 0 0 0 ...\n"
          ]
        }
      ],
      "source": [
        "str(train_data)"
      ]
    },
    {
      "cell_type": "code",
      "execution_count": 17,
      "metadata": {
        "scrolled": true,
        "colab": {
          "base_uri": "https://localhost:8080/"
        },
        "id": "JdxpFf9H1Ulx",
        "outputId": "f4b116db-175a-4af2-ab65-ed45109d744b"
      },
      "outputs": [
        {
          "output_type": "stream",
          "name": "stdout",
          "text": [
            "'data.frame':\t1356 obs. of  16 variables:\n",
            " $ age      : int  30 33 39 25 38 42 26 55 31 59 ...\n",
            " $ job      : Factor w/ 12 levels \"admin.\",\"blue-collar\",..: 11 8 10 2 5 5 4 2 10 5 ...\n",
            " $ marital  : Factor w/ 3 levels \"divorced\",\"married\",..: 2 2 2 3 1 1 2 2 2 2 ...\n",
            " $ education: Factor w/ 4 levels \"primary\",\"secondary\",..: 1 2 2 1 4 3 3 1 2 2 ...\n",
            " $ default  : Factor w/ 2 levels \"no\",\"yes\": 1 1 1 1 1 1 1 1 1 1 ...\n",
            " $ balance  : int  1787 4789 147 -221 0 16 543 627 171 42 ...\n",
            " $ housing  : Factor w/ 2 levels \"no\",\"yes\": 1 2 2 2 2 1 1 2 1 1 ...\n",
            " $ loan     : Factor w/ 2 levels \"no\",\"yes\": 1 2 1 1 1 1 1 1 1 1 ...\n",
            " $ contact  : Factor w/ 3 levels \"cellular\",\"telephone\",..: 1 1 1 3 1 1 1 3 1 1 ...\n",
            " $ month    : Factor w/ 12 levels \"apr\",\"aug\",\"dec\",..: 11 9 9 9 10 10 5 9 2 10 ...\n",
            " $ duration : int  79 220 151 250 96 140 169 247 81 40 ...\n",
            " $ campaign : int  1 1 2 1 2 3 3 1 3 1 ...\n",
            " $ pdays    : int  -1 339 -1 -1 -1 -1 -1 -1 -1 -1 ...\n",
            " $ previous : int  0 4 0 0 0 0 0 0 0 0 ...\n",
            " $ poutcome : Factor w/ 4 levels \"failure\",\"other\",..: 4 1 4 4 4 4 4 4 4 4 ...\n",
            " $ y        : num  0 0 0 0 0 0 0 0 0 0 ...\n"
          ]
        }
      ],
      "source": [
        "str(validation_data)"
      ]
    },
    {
      "cell_type": "markdown",
      "metadata": {
        "id": "fpBOXMPy1Ulx"
      },
      "source": [
        "#### Type Casting"
      ]
    },
    {
      "cell_type": "code",
      "execution_count": 18,
      "metadata": {
        "id": "VznHv77L1Ulx"
      },
      "outputs": [],
      "source": [
        "## Convert y to factor\n",
        "\n",
        "train_data$y = as.factor(as.character(train_data$y))\n",
        "validation_data$y = as.factor(as.character(validation_data$y))\n",
        "\n"
      ]
    },
    {
      "cell_type": "code",
      "execution_count": 19,
      "metadata": {
        "colab": {
          "base_uri": "https://localhost:8080/"
        },
        "id": "fDHt7fU51Ulx",
        "outputId": "fc7039b9-9f18-4b5a-a5b9-1f221262fd0c"
      },
      "outputs": [
        {
          "output_type": "stream",
          "name": "stdout",
          "text": [
            "'data.frame':\t3165 obs. of  16 variables:\n",
            " $ age      : int  35 30 59 35 36 41 43 39 43 36 ...\n",
            " $ job      : Factor w/ 12 levels \"admin.\",\"blue-collar\",..: 5 5 2 5 7 3 8 8 1 10 ...\n",
            " $ marital  : Factor w/ 3 levels \"divorced\",\"married\",..: 3 2 2 3 2 2 2 2 2 2 ...\n",
            " $ education: Factor w/ 4 levels \"primary\",\"secondary\",..: 3 3 2 3 3 3 1 2 2 3 ...\n",
            " $ default  : Factor w/ 2 levels \"no\",\"yes\": 1 1 1 1 1 1 1 1 1 1 ...\n",
            " $ balance  : int  1350 1476 0 747 307 221 -88 9374 264 1109 ...\n",
            " $ housing  : Factor w/ 2 levels \"no\",\"yes\": 2 2 2 1 2 2 2 2 2 1 ...\n",
            " $ loan     : Factor w/ 2 levels \"no\",\"yes\": 1 2 1 1 1 1 2 1 1 1 ...\n",
            " $ contact  : Factor w/ 3 levels \"cellular\",\"telephone\",..: 1 3 3 1 1 3 1 3 1 1 ...\n",
            " $ month    : Factor w/ 12 levels \"apr\",\"aug\",\"dec\",..: 1 7 9 4 9 9 1 9 1 2 ...\n",
            " $ duration : int  185 199 226 141 341 57 313 273 113 328 ...\n",
            " $ campaign : int  1 4 1 2 1 2 1 1 2 2 ...\n",
            " $ pdays    : int  330 -1 -1 176 330 -1 147 -1 -1 -1 ...\n",
            " $ previous : int  1 0 0 3 2 0 2 0 0 0 ...\n",
            " $ poutcome : Factor w/ 4 levels \"failure\",\"other\",..: 1 4 4 1 2 4 1 4 4 4 ...\n",
            " $ y        : Factor w/ 2 levels \"0\",\"1\": 1 1 1 1 1 1 1 1 1 1 ...\n"
          ]
        }
      ],
      "source": [
        "str(train_data)"
      ]
    },
    {
      "cell_type": "code",
      "execution_count": 20,
      "metadata": {
        "colab": {
          "base_uri": "https://localhost:8080/",
          "height": 589
        },
        "id": "aOBQpAaX1Ulx",
        "outputId": "55f45c86-1327-4e7e-fcb4-4fbb7d3e73e4"
      },
      "outputs": [
        {
          "output_type": "display_data",
          "data": {
            "text/plain": [
              "      age                 job          marital         education    default   \n",
              " Min.   :19.00   management :680   divorced: 378   primary  : 493   no :3113  \n",
              " 1st Qu.:33.00   blue-collar:674   married :1967   secondary:1610   yes:  52  \n",
              " Median :39.00   technician :532   single  : 820   tertiary : 941             \n",
              " Mean   :41.29   admin.     :316                   unknown  : 121             \n",
              " 3rd Qu.:49.00   services   :292                                              \n",
              " Max.   :87.00   retired    :171                                              \n",
              "                 (Other)    :500                                              \n",
              "    balance      housing     loan           contact         month    \n",
              " Min.   :-3313   no :1393   no :2695   cellular :2044   may    :967  \n",
              " 1st Qu.:   71   yes:1772   yes: 470   telephone: 202   jul    :503  \n",
              " Median :  451                         unknown  : 919   aug    :448  \n",
              " Mean   : 1424                                          jun    :376  \n",
              " 3rd Qu.: 1466                                          nov    :264  \n",
              " Max.   :71188                                          apr    :204  \n",
              "                                                        (Other):403  \n",
              "    duration         campaign          pdays           previous     \n",
              " Min.   :   5.0   Min.   : 1.000   Min.   : -1.00   Min.   : 0.000  \n",
              " 1st Qu.: 105.0   1st Qu.: 1.000   1st Qu.: -1.00   1st Qu.: 0.000  \n",
              " Median : 185.0   Median : 2.000   Median : -1.00   Median : 0.000  \n",
              " Mean   : 262.9   Mean   : 2.826   Mean   : 40.59   Mean   : 0.539  \n",
              " 3rd Qu.: 330.0   3rd Qu.: 3.000   3rd Qu.: -1.00   3rd Qu.: 0.000  \n",
              " Max.   :3025.0   Max.   :50.000   Max.   :871.00   Max.   :25.000  \n",
              "                                                                    \n",
              "    poutcome    y       \n",
              " failure: 344   0:2800  \n",
              " other  : 133   1: 365  \n",
              " success:  93           \n",
              " unknown:2595           \n",
              "                        \n",
              "                        \n",
              "                        "
            ]
          },
          "metadata": {}
        }
      ],
      "source": [
        "summary(train_data)"
      ]
    },
    {
      "cell_type": "markdown",
      "metadata": {
        "id": "gm96Spg_1Uly"
      },
      "source": [
        "#### Building a basic Logistic Regression Model"
      ]
    },
    {
      "cell_type": "code",
      "execution_count": 21,
      "metadata": {
        "colab": {
          "base_uri": "https://localhost:8080/",
          "height": 1000
        },
        "id": "bwNj1cEc1Uly",
        "outputId": "7594313a-6733-4c45-98af-347e24bda6c4"
      },
      "outputs": [
        {
          "output_type": "display_data",
          "data": {
            "text/plain": [
              "\n",
              "Call:\n",
              "glm(formula = y ~ ., family = binomial, data = train_data)\n",
              "\n",
              "Deviance Residuals: \n",
              "    Min       1Q   Median       3Q      Max  \n",
              "-3.8993  -0.3906  -0.2508  -0.1395   3.0076  \n",
              "\n",
              "Coefficients:\n",
              "                     Estimate Std. Error z value Pr(>|z|)    \n",
              "(Intercept)        -2.225e+00  6.964e-01  -3.195 0.001399 ** \n",
              "age                -2.293e-03  8.573e-03  -0.267 0.789130    \n",
              "jobblue-collar     -2.146e-01  2.997e-01  -0.716 0.473883    \n",
              "jobentrepreneur    -1.047e-01  4.541e-01  -0.231 0.817588    \n",
              "jobhousemaid       -3.338e-01  4.986e-01  -0.669 0.503191    \n",
              "jobmanagement       1.348e-01  2.978e-01   0.453 0.650740    \n",
              "jobretired          8.629e-01  3.786e-01   2.279 0.022650 *  \n",
              "jobself-employed    4.799e-02  4.287e-01   0.112 0.910854    \n",
              "jobservices         2.605e-01  3.274e-01   0.796 0.426220    \n",
              "jobstudent          9.610e-01  4.512e-01   2.130 0.033187 *  \n",
              "jobtechnician       3.310e-02  2.869e-01   0.115 0.908146    \n",
              "jobunemployed      -6.618e-01  5.340e-01  -1.239 0.215209    \n",
              "jobunknown          3.915e-01  7.294e-01   0.537 0.591445    \n",
              "maritalmarried     -4.852e-01  2.042e-01  -2.376 0.017506 *  \n",
              "maritalsingle      -3.060e-01  2.404e-01  -1.273 0.203157    \n",
              "educationsecondary  2.672e-03  2.407e-01   0.011 0.991143    \n",
              "educationtertiary   2.759e-01  2.778e-01   0.993 0.320639    \n",
              "educationunknown   -7.828e-01  4.677e-01  -1.674 0.094170 .  \n",
              "defaultyes          2.897e-01  5.423e-01   0.534 0.593227    \n",
              "balance            -1.952e-06  1.924e-05  -0.101 0.919200    \n",
              "housingyes         -1.100e-01  1.643e-01  -0.670 0.502870    \n",
              "loanyes            -9.097e-01  2.597e-01  -3.503 0.000460 ***\n",
              "contacttelephone   -8.809e-02  2.797e-01  -0.315 0.752807    \n",
              "contactunknown     -1.584e+00  2.891e-01  -5.479 4.28e-08 ***\n",
              "monthaug           -3.515e-01  2.899e-01  -1.212 0.225394    \n",
              "monthdec            3.298e-01  7.968e-01   0.414 0.678953    \n",
              "monthfeb           -6.934e-02  3.237e-01  -0.214 0.830385    \n",
              "monthjan           -1.130e+00  4.564e-01  -2.476 0.013289 *  \n",
              "monthjul           -6.339e-01  2.857e-01  -2.218 0.026527 *  \n",
              "monthjun            4.956e-01  3.487e-01   1.421 0.155196    \n",
              "monthmar            1.062e+00  4.777e-01   2.222 0.026274 *  \n",
              "monthmay           -8.381e-01  2.769e-01  -3.027 0.002470 ** \n",
              "monthnov           -9.986e-01  3.300e-01  -3.027 0.002473 ** \n",
              "monthoct            1.439e+00  3.927e-01   3.665 0.000247 ***\n",
              "monthsep            3.730e-01  4.562e-01   0.818 0.413632    \n",
              "duration            4.160e-03  2.442e-04  17.037  < 2e-16 ***\n",
              "campaign           -8.212e-02  3.553e-02  -2.311 0.020806 *  \n",
              "pdays              -4.176e-04  1.144e-03  -0.365 0.715126    \n",
              "previous           -2.903e-02  4.397e-02  -0.660 0.509069    \n",
              "poutcomeother       7.526e-01  3.165e-01   2.378 0.017416 *  \n",
              "poutcomesuccess     2.486e+00  3.317e-01   7.496 6.60e-14 ***\n",
              "poutcomeunknown    -1.802e-01  3.756e-01  -0.480 0.631388    \n",
              "---\n",
              "Signif. codes:  0 ‘***’ 0.001 ‘**’ 0.01 ‘*’ 0.05 ‘.’ 0.1 ‘ ’ 1\n",
              "\n",
              "(Dispersion parameter for binomial family taken to be 1)\n",
              "\n",
              "    Null deviance: 2263.0  on 3164  degrees of freedom\n",
              "Residual deviance: 1510.3  on 3123  degrees of freedom\n",
              "AIC: 1594.3\n",
              "\n",
              "Number of Fisher Scoring iterations: 6\n"
            ]
          },
          "metadata": {}
        }
      ],
      "source": [
        "## Build a basic model with all attributes\n",
        "\n",
        "log_reg <- glm(y~., data = train_data,\n",
        "               family = binomial)\n",
        "summary(log_reg)"
      ]
    },
    {
      "cell_type": "markdown",
      "metadata": {
        "id": "MghKZ4by1Uly"
      },
      "source": [
        "#### Get probability on train \n"
      ]
    },
    {
      "cell_type": "code",
      "execution_count": 22,
      "metadata": {
        "colab": {
          "base_uri": "https://localhost:8080/",
          "height": 34
        },
        "id": "zjIurg8h1Uly",
        "outputId": "12cdaed1-01b7-4191-d456-514348206a2e"
      },
      "outputs": [
        {
          "output_type": "display_data",
          "data": {
            "text/html": [
              "<style>\n",
              ".dl-inline {width: auto; margin:0; padding: 0}\n",
              ".dl-inline>dt, .dl-inline>dd {float: none; width: auto; display: inline-block}\n",
              ".dl-inline>dt::after {content: \":\\0020\"; padding-right: .5ex}\n",
              ".dl-inline>dt:not(:first-of-type) {padding-left: .5ex}\n",
              "</style><dl class=dl-inline><dt>3</dt><dd>0.142752861864697</dd><dt>4</dt><dd>0.0153708825364452</dd><dt>5</dt><dd>0.0073080391878025</dd><dt>6</dt><dd>0.118196675803247</dd><dt>7</dt><dd>0.178785508976477</dd><dt>9</dt><dd>0.00510404280288229</dd></dl>\n"
            ],
            "text/markdown": "3\n:   0.1427528618646974\n:   0.01537088253644525\n:   0.00730803918780256\n:   0.1181966758032477\n:   0.1787855089764779\n:   0.00510404280288229\n\n",
            "text/latex": "\\begin{description*}\n\\item[3] 0.142752861864697\n\\item[4] 0.0153708825364452\n\\item[5] 0.0073080391878025\n\\item[6] 0.118196675803247\n\\item[7] 0.178785508976477\n\\item[9] 0.00510404280288229\n\\end{description*}\n",
            "text/plain": [
              "          3           4           5           6           7           9 \n",
              "0.142752862 0.015370883 0.007308039 0.118196676 0.178785509 0.005104043 "
            ]
          },
          "metadata": {}
        }
      ],
      "source": [
        "## Predict on train data to get probability\n",
        "\n",
        "prob_train = predict(log_reg,train_data,type=\"response\")\n",
        "\n",
        "head(prob_train)"
      ]
    },
    {
      "cell_type": "code",
      "execution_count": 23,
      "metadata": {
        "colab": {
          "base_uri": "https://localhost:8080/",
          "height": 52
        },
        "id": "3kZBJ5kS1Uly",
        "outputId": "5293ce4f-37f7-4953-c82e-4f3b20c5ac3a"
      },
      "outputs": [
        {
          "output_type": "display_data",
          "data": {
            "text/html": [
              "<style>\n",
              ".dl-inline {width: auto; margin:0; padding: 0}\n",
              ".dl-inline>dt, .dl-inline>dd {float: none; width: auto; display: inline-block}\n",
              ".dl-inline>dt::after {content: \":\\0020\"; padding-right: .5ex}\n",
              ".dl-inline>dt:not(:first-of-type) {padding-left: .5ex}\n",
              "</style><dl class=dl-inline><dt>3</dt><dd>0</dd><dt>4</dt><dd>0</dd><dt>5</dt><dd>0</dd><dt>6</dt><dd>0</dd><dt>7</dt><dd>0</dd><dt>9</dt><dd>0</dd></dl>\n",
              "\n",
              "<details>\n",
              "\t<summary style=display:list-item;cursor:pointer>\n",
              "\t\t<strong>Levels</strong>:\n",
              "\t</summary>\n",
              "\t<style>\n",
              "\t.list-inline {list-style: none; margin:0; padding: 0}\n",
              "\t.list-inline>li {display: inline-block}\n",
              "\t.list-inline>li:not(:last-child)::after {content: \"\\00b7\"; padding: 0 .5ex}\n",
              "\t</style>\n",
              "\t<ol class=list-inline><li>'0'</li><li>'1'</li></ol>\n",
              "</details>"
            ],
            "text/markdown": "3\n:   04\n:   05\n:   06\n:   07\n:   09\n:   0\n\n\n**Levels**: 1. '0'\n2. '1'\n\n\n",
            "text/latex": "\\begin{description*}\n\\item[3] 0\n\\item[4] 0\n\\item[5] 0\n\\item[6] 0\n\\item[7] 0\n\\item[9] 0\n\\end{description*}\n\n\\emph{Levels}: \\begin{enumerate*}\n\\item '0'\n\\item '1'\n\\end{enumerate*}\n",
            "text/plain": [
              "3 4 5 6 7 9 \n",
              "0 0 0 0 0 0 \n",
              "Levels: 0 1"
            ]
          },
          "metadata": {}
        }
      ],
      "source": [
        "## Set naive threshold as 0.5 and convert the probabilities to classes\n",
        "\n",
        "preds_train <- as.factor(ifelse(prob_train > 0.5,1, 0))\n",
        "\n",
        "head(preds_train)"
      ]
    },
    {
      "cell_type": "code",
      "execution_count": 24,
      "metadata": {
        "colab": {
          "base_uri": "https://localhost:8080/",
          "height": 71
        },
        "id": "nR-dhUfw1Uly",
        "outputId": "843d57af-491d-4bb5-a3f6-955be53cffb8"
      },
      "outputs": [
        {
          "output_type": "display_data",
          "data": {
            "text/plain": [
              "preds_train\n",
              "   0    1 \n",
              "2976  189 "
            ]
          },
          "metadata": {}
        }
      ],
      "source": [
        "## Predicted counts\n",
        "\n",
        "table(preds_train)"
      ]
    },
    {
      "cell_type": "code",
      "execution_count": 25,
      "metadata": {
        "colab": {
          "base_uri": "https://localhost:8080/",
          "height": 71
        },
        "id": "0M-ghwrw1Uly",
        "outputId": "c4e6f6ec-d03d-41e6-bd77-364aa0c427b4"
      },
      "outputs": [
        {
          "output_type": "display_data",
          "data": {
            "text/plain": [
              "\n",
              "   0    1 \n",
              "2800  365 "
            ]
          },
          "metadata": {}
        }
      ],
      "source": [
        "## original counts\n",
        "\n",
        "table(train_data$y)"
      ]
    },
    {
      "cell_type": "markdown",
      "metadata": {
        "id": "7BNjXJCY1Ulz"
      },
      "source": [
        "### Confusion Matrix"
      ]
    },
    {
      "cell_type": "code",
      "execution_count": 28,
      "metadata": {
        "tags": [],
        "colab": {
          "base_uri": "https://localhost:8080/",
          "height": 88
        },
        "id": "dKTSPOlo1Ulz",
        "outputId": "e91fec94-afdc-45c0-b33a-1150e44bf4d8"
      },
      "outputs": [
        {
          "output_type": "display_data",
          "data": {
            "text/plain": [
              "   preds_train\n",
              "       0    1\n",
              "  0 2743   57\n",
              "  1  233  132"
            ]
          },
          "metadata": {}
        }
      ],
      "source": [
        "## Confusion matrix\n",
        "\n",
        "cm = table(train_data$y,preds_train)\n",
        "cm"
      ]
    },
    {
      "cell_type": "code",
      "execution_count": 29,
      "metadata": {
        "tags": [],
        "colab": {
          "base_uri": "https://localhost:8080/",
          "height": 161
        },
        "id": "KLTXI0rm1Ulz",
        "outputId": "9bdf4430-29f3-43dd-dd4f-8e597dee02f6"
      },
      "outputs": [
        {
          "output_type": "display_data",
          "data": {
            "text/html": [
              "<table class=\"dataframe\">\n",
              "<caption>A data.frame: 2 × 2</caption>\n",
              "<thead>\n",
              "\t<tr><th></th><th scope=col>0</th><th scope=col>1</th></tr>\n",
              "\t<tr><th></th><th scope=col>&lt;int&gt;</th><th scope=col>&lt;int&gt;</th></tr>\n",
              "</thead>\n",
              "<tbody>\n",
              "\t<tr><th scope=row>0</th><td>2743</td><td> 57</td></tr>\n",
              "\t<tr><th scope=row>1</th><td> 233</td><td>132</td></tr>\n",
              "</tbody>\n",
              "</table>\n"
            ],
            "text/markdown": "\nA data.frame: 2 × 2\n\n| <!--/--> | 0 &lt;int&gt; | 1 &lt;int&gt; |\n|---|---|---|\n| 0 | 2743 |  57 |\n| 1 |  233 | 132 |\n\n",
            "text/latex": "A data.frame: 2 × 2\n\\begin{tabular}{r|ll}\n  & 0 & 1\\\\\n  & <int> & <int>\\\\\n\\hline\n\t0 & 2743 &  57\\\\\n\t1 &  233 & 132\\\\\n\\end{tabular}\n",
            "text/plain": [
              "  0    1  \n",
              "0 2743  57\n",
              "1  233 132"
            ]
          },
          "metadata": {}
        }
      ],
      "source": [
        "## convert the table to a dataframe \n",
        "as.data.frame.matrix(cm)"
      ]
    },
    {
      "cell_type": "code",
      "execution_count": 30,
      "metadata": {
        "colab": {
          "base_uri": "https://localhost:8080/",
          "height": 161
        },
        "id": "rli1-q_a1Ulz",
        "outputId": "cd5b7e2c-1e62-4391-925b-96dad071aed1"
      },
      "outputs": [
        {
          "output_type": "display_data",
          "data": {
            "text/html": [
              "<table class=\"dataframe\">\n",
              "<caption>A data.frame: 2 × 2</caption>\n",
              "<thead>\n",
              "\t<tr><th></th><th scope=col>1</th><th scope=col>0</th></tr>\n",
              "\t<tr><th></th><th scope=col>&lt;int&gt;</th><th scope=col>&lt;int&gt;</th></tr>\n",
              "</thead>\n",
              "<tbody>\n",
              "\t<tr><th scope=row>1</th><td>132</td><td> 233</td></tr>\n",
              "\t<tr><th scope=row>0</th><td> 57</td><td>2743</td></tr>\n",
              "</tbody>\n",
              "</table>\n"
            ],
            "text/markdown": "\nA data.frame: 2 × 2\n\n| <!--/--> | 1 &lt;int&gt; | 0 &lt;int&gt; |\n|---|---|---|\n| 1 | 132 |  233 |\n| 0 |  57 | 2743 |\n\n",
            "text/latex": "A data.frame: 2 × 2\n\\begin{tabular}{r|ll}\n  & 1 & 0\\\\\n  & <int> & <int>\\\\\n\\hline\n\t1 & 132 &  233\\\\\n\t0 &  57 & 2743\\\\\n\\end{tabular}\n",
            "text/plain": [
              "  1   0   \n",
              "1 132  233\n",
              "0  57 2743"
            ]
          },
          "metadata": {}
        }
      ],
      "source": [
        "## Order the columns and rows as specified in the image above\n",
        "\n",
        "cm = as.data.frame.matrix(cm)[c(\"1\",\"0\"),c(\"1\",\"0\")]\n",
        "cm"
      ]
    },
    {
      "cell_type": "markdown",
      "metadata": {
        "id": "P6NNUCzL1Ulz"
      },
      "source": [
        "### Compute Evaluation Metrics"
      ]
    },
    {
      "cell_type": "code",
      "execution_count": 31,
      "metadata": {
        "colab": {
          "base_uri": "https://localhost:8080/",
          "height": 34
        },
        "id": "-W5XOpZ01Ulz",
        "outputId": "b3cdf54e-4653-46fa-e293-20a263e11535"
      },
      "outputs": [
        {
          "output_type": "display_data",
          "data": {
            "text/html": [
              "0.908372827804107"
            ],
            "text/markdown": "0.908372827804107",
            "text/latex": "0.908372827804107",
            "text/plain": [
              "[1] 0.9083728"
            ]
          },
          "metadata": {}
        }
      ],
      "source": [
        "## Accuarcy = (TP + TN) / n\n",
        "\n",
        "(cm[\"1\",\"1\"]+cm[\"0\",\"0\"]) / sum(cm)"
      ]
    },
    {
      "cell_type": "code",
      "execution_count": 32,
      "metadata": {
        "colab": {
          "base_uri": "https://localhost:8080/",
          "height": 34
        },
        "id": "X63lD-SX1Ulz",
        "outputId": "49a1c16b-e01d-47aa-f3ee-838ca66a8745"
      },
      "outputs": [
        {
          "output_type": "display_data",
          "data": {
            "text/html": [
              "0.361643835616438"
            ],
            "text/markdown": "0.361643835616438",
            "text/latex": "0.361643835616438",
            "text/plain": [
              "[1] 0.3616438"
            ]
          },
          "metadata": {}
        }
      ],
      "source": [
        "## TP rate = TP / (TP + FN)\n",
        "\n",
        "cm[\"1\",\"1\"] / (cm[\"1\",\"1\"] + cm[\"1\",\"0\"])"
      ]
    },
    {
      "cell_type": "code",
      "execution_count": 33,
      "metadata": {
        "colab": {
          "base_uri": "https://localhost:8080/",
          "height": 34
        },
        "id": "1JhoBG5-1Ul0",
        "outputId": "b85047af-6753-4bce-de2e-946a9ed2b334"
      },
      "outputs": [
        {
          "output_type": "display_data",
          "data": {
            "text/html": [
              "0.0203571428571429"
            ],
            "text/markdown": "0.0203571428571429",
            "text/latex": "0.0203571428571429",
            "text/plain": [
              "[1] 0.02035714"
            ]
          },
          "metadata": {}
        }
      ],
      "source": [
        "## FP rate = FP / (FP + TN)\n",
        "\n",
        "cm[\"0\",\"1\"] / (cm[\"0\",\"1\"] + cm[\"0\",\"0\"])"
      ]
    },
    {
      "cell_type": "code",
      "execution_count": 34,
      "metadata": {
        "colab": {
          "base_uri": "https://localhost:8080/",
          "height": 34
        },
        "id": "ytnlSelf1Ul0",
        "outputId": "eca294eb-448d-4021-b613-8426ec0cdd0f"
      },
      "outputs": [
        {
          "output_type": "display_data",
          "data": {
            "text/html": [
              "0.979642857142857"
            ],
            "text/markdown": "0.979642857142857",
            "text/latex": "0.979642857142857",
            "text/plain": [
              "[1] 0.9796429"
            ]
          },
          "metadata": {}
        }
      ],
      "source": [
        "## TN rate = TN / (TN + FP)\n",
        "\n",
        "cm[\"0\",\"0\"] / (cm[\"0\",\"0\"] + cm[\"0\",\"1\"])"
      ]
    },
    {
      "cell_type": "code",
      "execution_count": 35,
      "metadata": {
        "scrolled": true,
        "colab": {
          "base_uri": "https://localhost:8080/",
          "height": 34
        },
        "id": "dxpTUOOM1Ul0",
        "outputId": "a815f29b-4007-4353-e6b2-d7630c3bca13"
      },
      "outputs": [
        {
          "output_type": "display_data",
          "data": {
            "text/html": [
              "0.698412698412698"
            ],
            "text/markdown": "0.698412698412698",
            "text/latex": "0.698412698412698",
            "text/plain": [
              "[1] 0.6984127"
            ]
          },
          "metadata": {}
        }
      ],
      "source": [
        "## Precision = TP / (TP + FP)\n",
        "\n",
        "cm[\"1\",\"1\"] / (cm[\"1\",\"1\"] + cm[\"0\",\"1\"])"
      ]
    },
    {
      "cell_type": "code",
      "execution_count": 36,
      "metadata": {
        "id": "ZrvD91en1Ul0"
      },
      "outputs": [],
      "source": [
        "## Create a function to output evaluation metrics\n",
        "\n",
        "eval_metrics = function(actual,preds_val){\n",
        "        \n",
        "    cm = table(actual,preds_val)\n",
        "    cm = as.data.frame.matrix(cm)[c(\"1\",\"0\"),c(\"1\",\"0\")]\n",
        "    accuracy = (cm[\"1\",\"1\"]+cm[\"0\",\"0\"]) / sum(cm)\n",
        "    TP_rate = cm[\"1\",\"1\"] / (cm[\"1\",\"1\"] + cm[\"1\",\"0\"])\n",
        "    FP_rate = cm[\"0\",\"1\"] / (cm[\"0\",\"1\"] + cm[\"0\",\"0\"])\n",
        "    TN_rate = cm[\"0\",\"0\"] / (cm[\"0\",\"0\"] + cm[\"0\",\"1\"])\n",
        "    Precision = cm[\"1\",\"1\"] / (cm[\"1\",\"1\"] + cm[\"0\",\"1\"])\n",
        "    \n",
        "    cat(\"\\n\")\n",
        "    cat(\"Confusion Matrix \\n \\n\")\n",
        "    print(cm)\n",
        "    cat(\"\\n\")\n",
        "    cat(\"Accuracy  :\",accuracy,\"\\n\")\n",
        "    cat(\"TP_rate   :\",TP_rate,\"\\n\")\n",
        "    cat(\"FP_rate   :\",FP_rate,\"\\n\")\n",
        "    cat(\"TN_rate   :\",TN_rate,\"\\n\")\n",
        "    cat(\"Precision :\",Precision,\"\\n\")\n",
        "    cat(\"\\n\")\n",
        "}"
      ]
    },
    {
      "cell_type": "raw",
      "metadata": {
        "id": "xqLpCgTS1Ul0"
      },
      "source": [
        "## Accuarcy   = (TP + TN) / n\n",
        "## TP rate    = TP / (TP + FN)\n",
        "## FP rate    = FP / (FP + TN)\n",
        "## TN rate    = TN / (TN + FP)\n",
        "## Precision  = TP / (TP + FP)"
      ]
    },
    {
      "cell_type": "markdown",
      "metadata": {
        "id": "OpVUyzGo1Ul0"
      },
      "source": [
        "#### Check metrics on various probability thresholds"
      ]
    },
    {
      "cell_type": "code",
      "execution_count": 37,
      "metadata": {
        "colab": {
          "base_uri": "https://localhost:8080/"
        },
        "id": "mBfqkVYO1Ul0",
        "outputId": "76e22ba4-7f55-491a-dcd2-5e278dfbf7c8"
      },
      "outputs": [
        {
          "output_type": "stream",
          "name": "stdout",
          "text": [
            "\n",
            "Confusion Matrix \n",
            " \n",
            "    1    0\n",
            "1 132  233\n",
            "0  57 2743\n",
            "\n",
            "Accuracy  : 0.9083728 \n",
            "TP_rate   : 0.3616438 \n",
            "FP_rate   : 0.02035714 \n",
            "TN_rate   : 0.9796429 \n",
            "Precision : 0.6984127 \n",
            "\n"
          ]
        }
      ],
      "source": [
        "## 0.5\n",
        "preds_train_0.5 <- as.factor(ifelse(prob_train > 0.5,1, 0))\n",
        "\n",
        "eval_metrics(train_data$y,preds_train_0.5)"
      ]
    },
    {
      "cell_type": "code",
      "execution_count": 38,
      "metadata": {
        "colab": {
          "base_uri": "https://localhost:8080/"
        },
        "id": "vsLhZuI61Ul1",
        "outputId": "1e1ecd23-5ec6-4b3c-cf1b-3f0b88f6c83f"
      },
      "outputs": [
        {
          "output_type": "stream",
          "name": "stdout",
          "text": [
            "\n",
            "Confusion Matrix \n",
            " \n",
            "    1    0\n",
            "1 237  128\n",
            "0 246 2554\n",
            "\n",
            "Accuracy  : 0.8818325 \n",
            "TP_rate   : 0.6493151 \n",
            "FP_rate   : 0.08785714 \n",
            "TN_rate   : 0.9121429 \n",
            "Precision : 0.4906832 \n",
            "\n"
          ]
        }
      ],
      "source": [
        "## 0.2\n",
        "preds_train_0.2 <- as.factor(ifelse(prob_train > 0.2,1, 0))\n",
        "\n",
        "eval_metrics(train_data$y,preds_train_0.2)"
      ]
    },
    {
      "cell_type": "code",
      "execution_count": 39,
      "metadata": {
        "scrolled": true,
        "colab": {
          "base_uri": "https://localhost:8080/"
        },
        "id": "TpGfTeDF1Ul1",
        "outputId": "247dc8d3-e902-461f-8097-468dcb9b2b92"
      },
      "outputs": [
        {
          "output_type": "stream",
          "name": "stdout",
          "text": [
            "\n",
            "Confusion Matrix \n",
            " \n",
            "   1    0\n",
            "1 39  326\n",
            "0 22 2778\n",
            "\n",
            "Accuracy  : 0.8900474 \n",
            "TP_rate   : 0.1068493 \n",
            "FP_rate   : 0.007857143 \n",
            "TN_rate   : 0.9921429 \n",
            "Precision : 0.6393443 \n",
            "\n"
          ]
        }
      ],
      "source": [
        "## 0.8\n",
        "preds_train_0.8 <- as.factor(ifelse(prob_train > 0.8,1, 0))\n",
        "\n",
        "eval_metrics(train_data$y,preds_train_0.8)"
      ]
    },
    {
      "cell_type": "markdown",
      "metadata": {
        "id": "akfmgiAI1Ul1"
      },
      "source": [
        " "
      ]
    },
    {
      "cell_type": "markdown",
      "metadata": {
        "id": "lihvPVSp1Ul1"
      },
      "source": [
        "#### Plot ROC Curves"
      ]
    },
    {
      "cell_type": "code",
      "execution_count": 40,
      "metadata": {
        "colab": {
          "base_uri": "https://localhost:8080/",
          "height": 34
        },
        "id": "eBA31ocR1Ul1",
        "outputId": "950c902d-801e-4317-9231-e054797c2076"
      },
      "outputs": [
        {
          "output_type": "display_data",
          "data": {
            "text/html": [
              "<style>\n",
              ".dl-inline {width: auto; margin:0; padding: 0}\n",
              ".dl-inline>dt, .dl-inline>dd {float: none; width: auto; display: inline-block}\n",
              ".dl-inline>dt::after {content: \":\\0020\"; padding-right: .5ex}\n",
              ".dl-inline>dt:not(:first-of-type) {padding-left: .5ex}\n",
              "</style><dl class=dl-inline><dt>3</dt><dd>0.142752861864697</dd><dt>4</dt><dd>0.0153708825364452</dd><dt>5</dt><dd>0.0073080391878025</dd><dt>6</dt><dd>0.118196675803247</dd><dt>7</dt><dd>0.178785508976477</dd><dt>9</dt><dd>0.00510404280288229</dd></dl>\n"
            ],
            "text/markdown": "3\n:   0.1427528618646974\n:   0.01537088253644525\n:   0.00730803918780256\n:   0.1181966758032477\n:   0.1787855089764779\n:   0.00510404280288229\n\n",
            "text/latex": "\\begin{description*}\n\\item[3] 0.142752861864697\n\\item[4] 0.0153708825364452\n\\item[5] 0.0073080391878025\n\\item[6] 0.118196675803247\n\\item[7] 0.178785508976477\n\\item[9] 0.00510404280288229\n\\end{description*}\n",
            "text/plain": [
              "          3           4           5           6           7           9 \n",
              "0.142752862 0.015370883 0.007308039 0.118196676 0.178785509 0.005104043 "
            ]
          },
          "metadata": {}
        }
      ],
      "source": [
        "## Predict on train data\n",
        "\n",
        "library(ROCR) \n",
        "\n",
        "prob_train <- predict(log_reg,train_data ,type=\"response\")\n",
        "\n",
        "head(prob_train)"
      ]
    },
    {
      "cell_type": "code",
      "execution_count": 41,
      "metadata": {
        "colab": {
          "base_uri": "https://localhost:8080/",
          "height": 437
        },
        "id": "qycJfEd-1Ul1",
        "outputId": "c9d98599-b57e-4b96-81a2-51aff6d5406f"
      },
      "outputs": [
        {
          "output_type": "display_data",
          "data": {
            "text/plain": [
              "plot without title"
            ],
            "image/png": "[encoded data removed]"
          },
          "metadata": {
            "image/png": {
              "width": 420,
              "height": 420
            }
          }
        }
      ],
      "source": [
        "## Create a prediction object with probabilities on train\n",
        "## Stores the predictions for multiple thresholds\n",
        "pred_object <- prediction(prob_train, train_data$y)\n",
        "\n",
        "## Compute TPR and FPR to get ROC curve\n",
        "tpr_fpr <- performance(pred_object, measure=\"tpr\", x.measure=\"fpr\")\n",
        "\n",
        "#Plot the ROC curve using the extracted performance measures (TPR and FPR)\n",
        "plot(tpr_fpr, col=rainbow(10), colorize=T, print.cutoffs.at=seq(0,1,0.1))"
      ]
    },
    {
      "cell_type": "code",
      "execution_count": 42,
      "metadata": {
        "scrolled": true,
        "colab": {
          "base_uri": "https://localhost:8080/"
        },
        "id": "9Ge7w5XU1Ul1",
        "outputId": "0786d18f-72e8-413f-a2a1-0287a978ccb2"
      },
      "outputs": [
        {
          "output_type": "stream",
          "name": "stdout",
          "text": [
            "[[1]]\n",
            "[1] 0.9020616\n",
            "\n"
          ]
        }
      ],
      "source": [
        "# Compute Area under the curve (AUC) using the same pred_object\n",
        "perf_auc <- performance(pred_object, measure=\"auc\")\n",
        "auc <- perf_auc@y.values\n",
        "print(auc)"
      ]
    },
    {
      "cell_type": "markdown",
      "metadata": {
        "id": "gk3E3L9Q1Ul2"
      },
      "source": [
        "#### Confusion matrix with 0.1 as the threshold"
      ]
    },
    {
      "cell_type": "code",
      "execution_count": 43,
      "metadata": {
        "colab": {
          "base_uri": "https://localhost:8080/"
        },
        "id": "AoFcSQc91Ul2",
        "outputId": "d00cffdb-4274-40ad-f340-92dc04a030b1"
      },
      "outputs": [
        {
          "output_type": "stream",
          "name": "stdout",
          "text": [
            "Train Metrics\n",
            "Confusion Matrix \n",
            " \n",
            "    1    0\n",
            "1 312   53\n",
            "0 560 2240\n",
            "\n",
            "Accuracy  : 0.8063191 \n",
            "TP_rate   : 0.8547945 \n",
            "FP_rate   : 0.2 \n",
            "TN_rate   : 0.8 \n",
            "Precision : 0.3577982 \n",
            "\n",
            "Validation Metrics\n",
            "Confusion Matrix \n",
            " \n",
            "    1   0\n",
            "1 124  32\n",
            "0 221 979\n",
            "\n",
            "Accuracy  : 0.8134218 \n",
            "TP_rate   : 0.7948718 \n",
            "FP_rate   : 0.1841667 \n",
            "TN_rate   : 0.8158333 \n",
            "Precision : 0.3594203 \n",
            "\n"
          ]
        }
      ],
      "source": [
        "# Predicting on train data\n",
        "prob_train_vanilla <- predict(log_reg, train_data, type=\"response\") \n",
        "## Setting 0.1 as threshold\n",
        "preds_train_vanilla_0.1 <- as.factor(ifelse(prob_train_vanilla > 0.1,1, 0))\n",
        "\n",
        "\n",
        "# Predicting on validation data with the same threshold\n",
        "prob_val_vanilla <- predict(log_reg, validation_data, type=\"response\") \n",
        "preds_validation_vanilla_0.1 <- as.factor(ifelse(prob_val_vanilla > 0.1,1, 0))\n",
        "\n",
        "## Print Metrics\n",
        "cat(\"Train Metrics\")\n",
        "eval_metrics(train_data$y,preds_train_vanilla_0.1)\n",
        "cat(\"Validation Metrics\")\n",
        "eval_metrics(validation_data$y,preds_validation_vanilla_0.1)"
      ]
    },
    {
      "cell_type": "markdown",
      "metadata": {
        "id": "pGWLr-sI1Ul2"
      },
      "source": [
        " "
      ]
    },
    {
      "cell_type": "markdown",
      "metadata": {
        "id": "J__12yZM1Ul2"
      },
      "source": [
        "### Use VIF to find multi-collinearity"
      ]
    },
    {
      "cell_type": "code",
      "execution_count": 44,
      "metadata": {
        "colab": {
          "base_uri": "https://localhost:8080/",
          "height": 680
        },
        "id": "zvp3Wsod1Ul2",
        "outputId": "aeab4a62-f3ad-4e68-c963-c54cf0d98376"
      },
      "outputs": [
        {
          "output_type": "stream",
          "name": "stderr",
          "text": [
            "Installing package into ‘/usr/local/lib/R/site-library’\n",
            "(as ‘lib’ is unspecified)\n",
            "\n",
            "also installing the dependencies ‘SparseM’, ‘MatrixModels’, ‘carData’, ‘abind’, ‘pbkrtest’, ‘quantreg’\n",
            "\n",
            "\n",
            "Loading required package: carData\n",
            "\n"
          ]
        },
        {
          "output_type": "display_data",
          "data": {
            "text/html": [
              "<table class=\"dataframe\">\n",
              "<caption>A matrix: 15 × 3 of type dbl</caption>\n",
              "<thead>\n",
              "\t<tr><th></th><th scope=col>GVIF</th><th scope=col>Df</th><th scope=col>GVIF^(1/(2*Df))</th></tr>\n",
              "</thead>\n",
              "<tbody>\n",
              "\t<tr><th scope=row>age</th><td>2.394187</td><td> 1</td><td>1.547316</td></tr>\n",
              "\t<tr><th scope=row>job</th><td>5.909555</td><td>11</td><td>1.084103</td></tr>\n",
              "\t<tr><th scope=row>marital</th><td>1.450869</td><td> 2</td><td>1.097506</td></tr>\n",
              "\t<tr><th scope=row>education</th><td>2.514115</td><td> 3</td><td>1.166087</td></tr>\n",
              "\t<tr><th scope=row>default</th><td>1.027255</td><td> 1</td><td>1.013536</td></tr>\n",
              "\t<tr><th scope=row>balance</th><td>1.078213</td><td> 1</td><td>1.038370</td></tr>\n",
              "\t<tr><th scope=row>housing</th><td>1.448627</td><td> 1</td><td>1.203589</td></tr>\n",
              "\t<tr><th scope=row>loan</th><td>1.080972</td><td> 1</td><td>1.039698</td></tr>\n",
              "\t<tr><th scope=row>contact</th><td>2.025964</td><td> 2</td><td>1.193048</td></tr>\n",
              "\t<tr><th scope=row>month</th><td>4.025453</td><td>11</td><td>1.065348</td></tr>\n",
              "\t<tr><th scope=row>duration</th><td>1.151849</td><td> 1</td><td>1.073242</td></tr>\n",
              "\t<tr><th scope=row>campaign</th><td>1.137959</td><td> 1</td><td>1.066751</td></tr>\n",
              "\t<tr><th scope=row>pdays</th><td>3.750596</td><td> 1</td><td>1.936645</td></tr>\n",
              "\t<tr><th scope=row>previous</th><td>1.830299</td><td> 1</td><td>1.352885</td></tr>\n",
              "\t<tr><th scope=row>poutcome</th><td>5.506034</td><td> 3</td><td>1.328841</td></tr>\n",
              "</tbody>\n",
              "</table>\n"
            ],
            "text/markdown": "\nA matrix: 15 × 3 of type dbl\n\n| <!--/--> | GVIF | Df | GVIF^(1/(2*Df)) |\n|---|---|---|---|\n| age | 2.394187 |  1 | 1.547316 |\n| job | 5.909555 | 11 | 1.084103 |\n| marital | 1.450869 |  2 | 1.097506 |\n| education | 2.514115 |  3 | 1.166087 |\n| default | 1.027255 |  1 | 1.013536 |\n| balance | 1.078213 |  1 | 1.038370 |\n| housing | 1.448627 |  1 | 1.203589 |\n| loan | 1.080972 |  1 | 1.039698 |\n| contact | 2.025964 |  2 | 1.193048 |\n| month | 4.025453 | 11 | 1.065348 |\n| duration | 1.151849 |  1 | 1.073242 |\n| campaign | 1.137959 |  1 | 1.066751 |\n| pdays | 3.750596 |  1 | 1.936645 |\n| previous | 1.830299 |  1 | 1.352885 |\n| poutcome | 5.506034 |  3 | 1.328841 |\n\n",
            "text/latex": "A matrix: 15 × 3 of type dbl\n\\begin{tabular}{r|lll}\n  & GVIF & Df & GVIF\\textasciicircum{}(1/(2*Df))\\\\\n\\hline\n\tage & 2.394187 &  1 & 1.547316\\\\\n\tjob & 5.909555 & 11 & 1.084103\\\\\n\tmarital & 1.450869 &  2 & 1.097506\\\\\n\teducation & 2.514115 &  3 & 1.166087\\\\\n\tdefault & 1.027255 &  1 & 1.013536\\\\\n\tbalance & 1.078213 &  1 & 1.038370\\\\\n\thousing & 1.448627 &  1 & 1.203589\\\\\n\tloan & 1.080972 &  1 & 1.039698\\\\\n\tcontact & 2.025964 &  2 & 1.193048\\\\\n\tmonth & 4.025453 & 11 & 1.065348\\\\\n\tduration & 1.151849 &  1 & 1.073242\\\\\n\tcampaign & 1.137959 &  1 & 1.066751\\\\\n\tpdays & 3.750596 &  1 & 1.936645\\\\\n\tprevious & 1.830299 &  1 & 1.352885\\\\\n\tpoutcome & 5.506034 &  3 & 1.328841\\\\\n\\end{tabular}\n",
            "text/plain": [
              "          GVIF     Df GVIF^(1/(2*Df))\n",
              "age       2.394187  1 1.547316       \n",
              "job       5.909555 11 1.084103       \n",
              "marital   1.450869  2 1.097506       \n",
              "education 2.514115  3 1.166087       \n",
              "default   1.027255  1 1.013536       \n",
              "balance   1.078213  1 1.038370       \n",
              "housing   1.448627  1 1.203589       \n",
              "loan      1.080972  1 1.039698       \n",
              "contact   2.025964  2 1.193048       \n",
              "month     4.025453 11 1.065348       \n",
              "duration  1.151849  1 1.073242       \n",
              "campaign  1.137959  1 1.066751       \n",
              "pdays     3.750596  1 1.936645       \n",
              "previous  1.830299  1 1.352885       \n",
              "poutcome  5.506034  3 1.328841       "
            ]
          },
          "metadata": {}
        }
      ],
      "source": [
        "## VIF\n",
        "install.packages(\"car\")\n",
        "library(car)\n",
        "\n",
        "log_reg_vif = vif(log_reg)\n",
        "log_reg_vif"
      ]
    },
    {
      "cell_type": "code",
      "execution_count": 45,
      "metadata": {
        "colab": {
          "base_uri": "https://localhost:8080/",
          "height": 52
        },
        "id": "mVbu0e341Ul2",
        "outputId": "03b49b6f-71b4-4a89-c772-201fd93ead29"
      },
      "outputs": [
        {
          "output_type": "display_data",
          "data": {
            "text/html": [
              "<style>\n",
              ".list-inline {list-style: none; margin:0; padding: 0}\n",
              ".list-inline>li {display: inline-block}\n",
              ".list-inline>li:not(:last-child)::after {content: \"\\00b7\"; padding: 0 .5ex}\n",
              "</style>\n",
              "<ol class=list-inline><li>2.39418669824727</li><li>1.1752800027222</li><li>1.20452011971868</li><li>1.35975832248356</li><li>1.02725534648133</li><li>1.07821308910863</li><li>1.4486268732192</li><li>1.0809718434491</li><li>1.42336364620088</li><li>1.13496680805666</li><li>1.15184896096227</li><li>1.1379587194273</li><li>3.75059556258747</li><li>1.83029898043841</li><li>1.76581945439865</li></ol>\n"
            ],
            "text/markdown": "1. 2.39418669824727\n2. 1.1752800027222\n3. 1.20452011971868\n4. 1.35975832248356\n5. 1.02725534648133\n6. 1.07821308910863\n7. 1.4486268732192\n8. 1.0809718434491\n9. 1.42336364620088\n10. 1.13496680805666\n11. 1.15184896096227\n12. 1.1379587194273\n13. 3.75059556258747\n14. 1.83029898043841\n15. 1.76581945439865\n\n\n",
            "text/latex": "\\begin{enumerate*}\n\\item 2.39418669824727\n\\item 1.1752800027222\n\\item 1.20452011971868\n\\item 1.35975832248356\n\\item 1.02725534648133\n\\item 1.07821308910863\n\\item 1.4486268732192\n\\item 1.0809718434491\n\\item 1.42336364620088\n\\item 1.13496680805666\n\\item 1.15184896096227\n\\item 1.1379587194273\n\\item 3.75059556258747\n\\item 1.83029898043841\n\\item 1.76581945439865\n\\end{enumerate*}\n",
            "text/plain": [
              " [1] 2.394187 1.175280 1.204520 1.359758 1.027255 1.078213 1.448627 1.080972\n",
              " [9] 1.423364 1.134967 1.151849 1.137959 3.750596 1.830299 1.765819"
            ]
          },
          "metadata": {}
        }
      ],
      "source": [
        "## Convert to dataframe to extract column names less than the threshold  \n",
        "log_reg_vif = data.frame(log_reg_vif)\n",
        "\n",
        "(log_reg_vif$GVIF..1..2.Df..)^2"
      ]
    },
    {
      "cell_type": "markdown",
      "metadata": {
        "id": "ARYpuDKT1Ul2"
      },
      "source": [
        " "
      ]
    },
    {
      "cell_type": "markdown",
      "metadata": {
        "id": "7EZyoCv01Ul2"
      },
      "source": [
        "#### StepAIC"
      ]
    },
    {
      "cell_type": "code",
      "execution_count": 46,
      "metadata": {
        "colab": {
          "base_uri": "https://localhost:8080/"
        },
        "id": "4ZwgKK0T1Ul2",
        "outputId": "18b68407-cb84-457d-fead-a020493173fa"
      },
      "outputs": [
        {
          "output_type": "stream",
          "name": "stdout",
          "text": [
            "Start:  AIC=1594.27\n",
            "y ~ age + job + marital + education + default + balance + housing + \n",
            "    loan + contact + month + duration + campaign + pdays + previous + \n",
            "    poutcome\n",
            "\n",
            "            Df Deviance    AIC\n",
            "- balance    1   1510.3 1592.3\n",
            "- age        1   1510.3 1592.3\n",
            "- pdays      1   1510.4 1592.4\n",
            "- default    1   1510.5 1592.5\n",
            "- previous   1   1510.7 1592.7\n",
            "- housing    1   1510.7 1592.7\n",
            "- job       11   1531.1 1593.1\n",
            "<none>           1510.3 1594.3\n",
            "- education  3   1517.0 1595.0\n",
            "- marital    2   1516.0 1596.0\n",
            "- campaign   1   1516.6 1598.6\n",
            "- loan       1   1524.6 1606.6\n",
            "- contact    2   1543.2 1623.2\n",
            "- month     11   1586.1 1648.1\n",
            "- poutcome   3   1590.5 1668.5\n",
            "- duration   1   1892.1 1974.1\n",
            "\n",
            "Step:  AIC=1592.28\n",
            "y ~ age + job + marital + education + default + housing + loan + \n",
            "    contact + month + duration + campaign + pdays + previous + \n",
            "    poutcome\n",
            "\n",
            "            Df Deviance    AIC\n",
            "- age        1   1510.4 1590.4\n",
            "- pdays      1   1510.4 1590.4\n",
            "- default    1   1510.6 1590.6\n",
            "- previous   1   1510.7 1590.7\n",
            "- housing    1   1510.7 1590.7\n",
            "- job       11   1531.1 1591.1\n",
            "<none>           1510.3 1592.3\n",
            "- education  3   1517.0 1593.0\n",
            "- marital    2   1516.0 1594.0\n",
            "- campaign   1   1516.6 1596.6\n",
            "- loan       1   1524.6 1604.6\n",
            "- contact    2   1543.2 1621.2\n",
            "- month     11   1586.3 1646.3\n",
            "- poutcome   3   1590.5 1666.5\n",
            "- duration   1   1892.3 1972.3\n",
            "\n",
            "Step:  AIC=1590.36\n",
            "y ~ job + marital + education + default + housing + loan + contact + \n",
            "    month + duration + campaign + pdays + previous + poutcome\n",
            "\n",
            "            Df Deviance    AIC\n",
            "- pdays      1   1510.5 1588.5\n",
            "- default    1   1510.6 1588.6\n",
            "- housing    1   1510.8 1588.8\n",
            "- previous   1   1510.8 1588.8\n",
            "- job       11   1532.2 1590.2\n",
            "<none>           1510.4 1590.4\n",
            "- education  3   1517.3 1591.3\n",
            "- marital    2   1516.2 1592.2\n",
            "- campaign   1   1516.6 1594.6\n",
            "- loan       1   1524.6 1602.6\n",
            "- contact    2   1543.3 1619.3\n",
            "- month     11   1586.4 1644.4\n",
            "- poutcome   3   1590.6 1664.6\n",
            "- duration   1   1892.4 1970.4\n",
            "\n",
            "Step:  AIC=1588.49\n",
            "y ~ job + marital + education + default + housing + loan + contact + \n",
            "    month + duration + campaign + previous + poutcome\n",
            "\n",
            "            Df Deviance    AIC\n",
            "- default    1   1510.8 1586.8\n",
            "- previous   1   1510.9 1586.9\n",
            "- housing    1   1511.0 1587.0\n",
            "- job       11   1532.4 1588.4\n",
            "<none>           1510.5 1588.5\n",
            "- education  3   1517.5 1589.5\n",
            "- marital    2   1516.2 1590.2\n",
            "- campaign   1   1516.8 1592.8\n",
            "- loan       1   1524.8 1600.8\n",
            "- contact    2   1543.3 1617.3\n",
            "- month     11   1586.6 1642.6\n",
            "- poutcome   3   1594.2 1666.2\n",
            "- duration   1   1892.5 1968.5\n",
            "\n",
            "Step:  AIC=1586.75\n",
            "y ~ job + marital + education + housing + loan + contact + month + \n",
            "    duration + campaign + previous + poutcome\n",
            "\n",
            "            Df Deviance    AIC\n",
            "- previous   1   1511.1 1585.1\n",
            "- housing    1   1511.2 1585.2\n",
            "- job       11   1532.6 1586.6\n",
            "<none>           1510.8 1586.8\n",
            "- education  3   1517.8 1587.8\n",
            "- marital    2   1516.6 1588.6\n",
            "- campaign   1   1517.1 1591.1\n",
            "- loan       1   1524.9 1598.9\n",
            "- contact    2   1543.8 1615.8\n",
            "- month     11   1586.8 1640.8\n",
            "- poutcome   3   1594.4 1664.4\n",
            "- duration   1   1892.5 1966.5\n",
            "\n",
            "Step:  AIC=1585.14\n",
            "y ~ job + marital + education + housing + loan + contact + month + \n",
            "    duration + campaign + poutcome\n",
            "\n",
            "            Df Deviance    AIC\n",
            "- housing    1   1511.6 1583.6\n",
            "- job       11   1533.1 1585.1\n",
            "<none>           1511.1 1585.1\n",
            "- education  3   1518.0 1586.0\n",
            "- marital    2   1517.0 1587.0\n",
            "- campaign   1   1517.5 1589.5\n",
            "- loan       1   1525.4 1597.4\n",
            "- contact    2   1544.1 1614.1\n",
            "- month     11   1587.0 1639.0\n",
            "- poutcome   3   1602.0 1670.0\n",
            "- duration   1   1892.6 1964.6\n",
            "\n",
            "Step:  AIC=1583.61\n",
            "y ~ job + marital + education + loan + contact + month + duration + \n",
            "    campaign + poutcome\n",
            "\n",
            "            Df Deviance    AIC\n",
            "<none>           1511.6 1583.6\n",
            "- education  3   1518.3 1584.3\n",
            "- job       11   1535.0 1585.0\n",
            "- marital    2   1517.7 1585.7\n",
            "- campaign   1   1518.3 1588.3\n",
            "- loan       1   1526.0 1596.0\n",
            "- contact    2   1545.3 1613.3\n",
            "- month     11   1593.2 1643.2\n",
            "- poutcome   3   1603.5 1669.5\n",
            "- duration   1   1892.6 1962.6\n"
          ]
        }
      ],
      "source": [
        "#Select the best model using stepAIC\n",
        "library(MASS)\n",
        "step_aic_model = stepAIC(log_reg)"
      ]
    },
    {
      "cell_type": "code",
      "execution_count": 47,
      "metadata": {
        "scrolled": true,
        "colab": {
          "base_uri": "https://localhost:8080/",
          "height": 71
        },
        "id": "uQuubkTj1Ul3",
        "outputId": "90f5d4ff-4e4e-4f9e-85e2-a654f33ef9ec"
      },
      "outputs": [
        {
          "output_type": "display_data",
          "data": {
            "text/plain": [
              "glm(formula = y ~ job + marital + education + loan + contact + \n",
              "    month + duration + campaign + poutcome, family = binomial, \n",
              "    data = train_data)"
            ]
          },
          "metadata": {}
        }
      ],
      "source": [
        "## Get the best model in call\n",
        "step_aic_model$call"
      ]
    },
    {
      "cell_type": "code",
      "execution_count": 48,
      "metadata": {
        "id": "aB-1C-hq1Ul3"
      },
      "outputs": [],
      "source": [
        "## Use the formula in call to build the AIC based model\n",
        "\n",
        "log_reg_aic =  glm(formula = y ~ job + marital + education + loan + contact + \n",
        "    month + duration + campaign + poutcome, family = binomial, \n",
        "    data = train_data)"
      ]
    },
    {
      "cell_type": "code",
      "execution_count": 49,
      "metadata": {
        "colab": {
          "base_uri": "https://localhost:8080/",
          "height": 437
        },
        "id": "c6naV8CF1Ul3",
        "outputId": "0cbd1c17-c436-4a0c-fc04-de2c81f63263"
      },
      "outputs": [
        {
          "output_type": "display_data",
          "data": {
            "text/plain": [
              "plot without title"
            ],
            "image/png": "[encoded data removed]"
          },
          "metadata": {
            "image/png": {
              "width": 420,
              "height": 420
            }
          }
        }
      ],
      "source": [
        "## Predict probabilities on train data\n",
        "prob_train <- predict(log_reg_aic, train_data ,type=\"response\")\n",
        "\n",
        "## Compute TPR and FPR for various Thresholds\n",
        "pred_object <- prediction(prob_train, train_data$y)\n",
        "tpr_fpr <- performance(pred_object, measure=\"tpr\", x.measure=\"fpr\")\n",
        "\n",
        "#Plot the ROC curve using the extracted performance measures (TPR and FPR)\n",
        "plot(tpr_fpr, col=rainbow(10), colorize=T, print.cutoffs.at=seq(0,1,0.1))"
      ]
    },
    {
      "cell_type": "code",
      "execution_count": 50,
      "metadata": {
        "colab": {
          "base_uri": "https://localhost:8080/"
        },
        "id": "rvG00fp11Ul3",
        "outputId": "dff00798-e4a9-41bc-d11e-40664cd6e89d"
      },
      "outputs": [
        {
          "output_type": "stream",
          "name": "stdout",
          "text": [
            "Train Metrics\n",
            "Confusion Matrix \n",
            " \n",
            "    1    0\n",
            "1 314   51\n",
            "0 557 2243\n",
            "\n",
            "Accuracy  : 0.8078989 \n",
            "TP_rate   : 0.860274 \n",
            "FP_rate   : 0.1989286 \n",
            "TN_rate   : 0.8010714 \n",
            "Precision : 0.3605052 \n",
            "\n",
            "Validation Metrics\n",
            "Confusion Matrix \n",
            " \n",
            "    1   0\n",
            "1 123  33\n",
            "0 223 977\n",
            "\n",
            "Accuracy  : 0.8112094 \n",
            "TP_rate   : 0.7884615 \n",
            "FP_rate   : 0.1858333 \n",
            "TN_rate   : 0.8141667 \n",
            "Precision : 0.3554913 \n",
            "\n"
          ]
        }
      ],
      "source": [
        "# Predicting on train data\n",
        "prob_train_aic <- predict(log_reg_aic, train_data ,type=\"response\")\n",
        "## Setting 0.1 as threshold\n",
        "preds_train_aic_0.1 <- as.factor(ifelse(prob_train_aic > 0.1,1, 0))\n",
        "\n",
        "# Predicting on validation data with the same threshold\n",
        "prob_val_aic <- predict(log_reg_aic,validation_data , type=\"response\")\n",
        "preds_validation_aic_0.1 <- as.factor(ifelse(prob_val_aic > 0.1,1, 0))\n",
        "\n",
        "\n",
        "cat(\"Train Metrics\")\n",
        "eval_metrics(train_data$y,preds_train_aic_0.1)\n",
        "cat(\"Validation Metrics\")\n",
        "eval_metrics(validation_data$y,preds_validation_aic_0.1)"
      ]
    },
    {
      "cell_type": "markdown",
      "metadata": {
        "id": "Kb_FSlMC1Ul3"
      },
      "source": [
        " "
      ]
    },
    {
      "cell_type": "markdown",
      "metadata": {
        "id": "kF4v7bbw1Ul3"
      },
      "source": [
        "#### Relevel the loan column and build model"
      ]
    },
    {
      "cell_type": "code",
      "execution_count": 51,
      "metadata": {
        "colab": {
          "base_uri": "https://localhost:8080/",
          "height": 34
        },
        "id": "0wqWIUjA1Ul3",
        "outputId": "0f7d7a26-d655-428d-dfe4-d5f78c5daa68"
      },
      "outputs": [
        {
          "output_type": "display_data",
          "data": {
            "text/html": [
              "<style>\n",
              ".list-inline {list-style: none; margin:0; padding: 0}\n",
              ".list-inline>li {display: inline-block}\n",
              ".list-inline>li:not(:last-child)::after {content: \"\\00b7\"; padding: 0 .5ex}\n",
              "</style>\n",
              "<ol class=list-inline><li>'no'</li><li>'yes'</li></ol>\n"
            ],
            "text/markdown": "1. 'no'\n2. 'yes'\n\n\n",
            "text/latex": "\\begin{enumerate*}\n\\item 'no'\n\\item 'yes'\n\\end{enumerate*}\n",
            "text/plain": [
              "[1] \"no\"  \"yes\""
            ]
          },
          "metadata": {}
        }
      ],
      "source": [
        "## Original levels of the independent variable\n",
        "\n",
        "levels(train_data$loan)"
      ]
    },
    {
      "cell_type": "markdown",
      "metadata": {
        "id": "M2RgW8JK1Ul4"
      },
      "source": [
        "Here \"no\" is the reference level"
      ]
    },
    {
      "cell_type": "code",
      "execution_count": 52,
      "metadata": {
        "id": "xU3wC7NS1Ul4"
      },
      "outputs": [],
      "source": [
        "## Relevel the reference level to \"yes\"\n",
        "train_data$loan = relevel(train_data$loan,ref=\"yes\")"
      ]
    },
    {
      "cell_type": "code",
      "execution_count": 53,
      "metadata": {
        "scrolled": true,
        "colab": {
          "base_uri": "https://localhost:8080/",
          "height": 34
        },
        "id": "p0Obudxr1Ul4",
        "outputId": "d5d63b35-2050-4a1a-c507-0bab2dbafc28"
      },
      "outputs": [
        {
          "output_type": "display_data",
          "data": {
            "text/html": [
              "<style>\n",
              ".list-inline {list-style: none; margin:0; padding: 0}\n",
              ".list-inline>li {display: inline-block}\n",
              ".list-inline>li:not(:last-child)::after {content: \"\\00b7\"; padding: 0 .5ex}\n",
              "</style>\n",
              "<ol class=list-inline><li>'yes'</li><li>'no'</li></ol>\n"
            ],
            "text/markdown": "1. 'yes'\n2. 'no'\n\n\n",
            "text/latex": "\\begin{enumerate*}\n\\item 'yes'\n\\item 'no'\n\\end{enumerate*}\n",
            "text/plain": [
              "[1] \"yes\" \"no\" "
            ]
          },
          "metadata": {}
        }
      ],
      "source": [
        "## Check reference level after releveling\n",
        "\n",
        "levels(train_data$loan)"
      ]
    },
    {
      "cell_type": "code",
      "execution_count": 54,
      "metadata": {
        "colab": {
          "base_uri": "https://localhost:8080/",
          "height": 1000
        },
        "id": "cC0AQZQF1Ul4",
        "outputId": "82c8d873-63a5-4c4d-c144-7c8b655529c4"
      },
      "outputs": [
        {
          "output_type": "display_data",
          "data": {
            "text/plain": [
              "\n",
              "Call:\n",
              "glm(formula = y ~ ., family = binomial, data = train_data)\n",
              "\n",
              "Deviance Residuals: \n",
              "    Min       1Q   Median       3Q      Max  \n",
              "-3.8993  -0.3906  -0.2508  -0.1395   3.0076  \n",
              "\n",
              "Coefficients:\n",
              "                     Estimate Std. Error z value Pr(>|z|)    \n",
              "(Intercept)        -3.135e+00  7.379e-01  -4.248 2.16e-05 ***\n",
              "age                -2.293e-03  8.573e-03  -0.267 0.789130    \n",
              "jobblue-collar     -2.146e-01  2.997e-01  -0.716 0.473883    \n",
              "jobentrepreneur    -1.047e-01  4.541e-01  -0.231 0.817588    \n",
              "jobhousemaid       -3.338e-01  4.986e-01  -0.669 0.503191    \n",
              "jobmanagement       1.348e-01  2.978e-01   0.453 0.650740    \n",
              "jobretired          8.629e-01  3.786e-01   2.279 0.022650 *  \n",
              "jobself-employed    4.799e-02  4.287e-01   0.112 0.910854    \n",
              "jobservices         2.605e-01  3.274e-01   0.796 0.426220    \n",
              "jobstudent          9.610e-01  4.512e-01   2.130 0.033187 *  \n",
              "jobtechnician       3.310e-02  2.869e-01   0.115 0.908146    \n",
              "jobunemployed      -6.618e-01  5.340e-01  -1.239 0.215209    \n",
              "jobunknown          3.915e-01  7.294e-01   0.537 0.591445    \n",
              "maritalmarried     -4.852e-01  2.042e-01  -2.376 0.017506 *  \n",
              "maritalsingle      -3.060e-01  2.404e-01  -1.273 0.203157    \n",
              "educationsecondary  2.672e-03  2.407e-01   0.011 0.991143    \n",
              "educationtertiary   2.759e-01  2.778e-01   0.993 0.320639    \n",
              "educationunknown   -7.828e-01  4.677e-01  -1.674 0.094170 .  \n",
              "defaultyes          2.897e-01  5.423e-01   0.534 0.593227    \n",
              "balance            -1.952e-06  1.924e-05  -0.101 0.919200    \n",
              "housingyes         -1.100e-01  1.643e-01  -0.670 0.502870    \n",
              "loanno              9.097e-01  2.597e-01   3.503 0.000460 ***\n",
              "contacttelephone   -8.809e-02  2.797e-01  -0.315 0.752807    \n",
              "contactunknown     -1.584e+00  2.891e-01  -5.479 4.28e-08 ***\n",
              "monthaug           -3.515e-01  2.899e-01  -1.212 0.225394    \n",
              "monthdec            3.298e-01  7.968e-01   0.414 0.678953    \n",
              "monthfeb           -6.934e-02  3.237e-01  -0.214 0.830385    \n",
              "monthjan           -1.130e+00  4.564e-01  -2.476 0.013289 *  \n",
              "monthjul           -6.339e-01  2.857e-01  -2.218 0.026527 *  \n",
              "monthjun            4.956e-01  3.487e-01   1.421 0.155196    \n",
              "monthmar            1.062e+00  4.777e-01   2.222 0.026274 *  \n",
              "monthmay           -8.381e-01  2.769e-01  -3.027 0.002470 ** \n",
              "monthnov           -9.986e-01  3.300e-01  -3.027 0.002473 ** \n",
              "monthoct            1.439e+00  3.927e-01   3.665 0.000247 ***\n",
              "monthsep            3.730e-01  4.562e-01   0.818 0.413632    \n",
              "duration            4.160e-03  2.442e-04  17.037  < 2e-16 ***\n",
              "campaign           -8.212e-02  3.553e-02  -2.311 0.020806 *  \n",
              "pdays              -4.176e-04  1.144e-03  -0.365 0.715126    \n",
              "previous           -2.903e-02  4.397e-02  -0.660 0.509069    \n",
              "poutcomeother       7.526e-01  3.165e-01   2.378 0.017416 *  \n",
              "poutcomesuccess     2.486e+00  3.317e-01   7.496 6.60e-14 ***\n",
              "poutcomeunknown    -1.802e-01  3.756e-01  -0.480 0.631388    \n",
              "---\n",
              "Signif. codes:  0 ‘***’ 0.001 ‘**’ 0.01 ‘*’ 0.05 ‘.’ 0.1 ‘ ’ 1\n",
              "\n",
              "(Dispersion parameter for binomial family taken to be 1)\n",
              "\n",
              "    Null deviance: 2263.0  on 3164  degrees of freedom\n",
              "Residual deviance: 1510.3  on 3123  degrees of freedom\n",
              "AIC: 1594.3\n",
              "\n",
              "Number of Fisher Scoring iterations: 6\n"
            ]
          },
          "metadata": {}
        }
      ],
      "source": [
        "## Build a model with releveled data\n",
        "log_reg_relevel <- glm(y~., data = train_data,family = binomial)\n",
        "\n",
        "summary(log_reg_relevel)"
      ]
    },
    {
      "cell_type": "code",
      "execution_count": 55,
      "metadata": {
        "colab": {
          "base_uri": "https://localhost:8080/",
          "height": 1000
        },
        "id": "vDwXQNdV1Ul4",
        "outputId": "7bdb9f18-0528-4295-a6b7-067e1d89b1ce"
      },
      "outputs": [
        {
          "output_type": "display_data",
          "data": {
            "text/plain": [
              "\n",
              "Call:\n",
              "glm(formula = y ~ ., family = binomial, data = train_data)\n",
              "\n",
              "Deviance Residuals: \n",
              "    Min       1Q   Median       3Q      Max  \n",
              "-3.8993  -0.3906  -0.2508  -0.1395   3.0076  \n",
              "\n",
              "Coefficients:\n",
              "                     Estimate Std. Error z value Pr(>|z|)    \n",
              "(Intercept)        -2.225e+00  6.964e-01  -3.195 0.001399 ** \n",
              "age                -2.293e-03  8.573e-03  -0.267 0.789130    \n",
              "jobblue-collar     -2.146e-01  2.997e-01  -0.716 0.473883    \n",
              "jobentrepreneur    -1.047e-01  4.541e-01  -0.231 0.817588    \n",
              "jobhousemaid       -3.338e-01  4.986e-01  -0.669 0.503191    \n",
              "jobmanagement       1.348e-01  2.978e-01   0.453 0.650740    \n",
              "jobretired          8.629e-01  3.786e-01   2.279 0.022650 *  \n",
              "jobself-employed    4.799e-02  4.287e-01   0.112 0.910854    \n",
              "jobservices         2.605e-01  3.274e-01   0.796 0.426220    \n",
              "jobstudent          9.610e-01  4.512e-01   2.130 0.033187 *  \n",
              "jobtechnician       3.310e-02  2.869e-01   0.115 0.908146    \n",
              "jobunemployed      -6.618e-01  5.340e-01  -1.239 0.215209    \n",
              "jobunknown          3.915e-01  7.294e-01   0.537 0.591445    \n",
              "maritalmarried     -4.852e-01  2.042e-01  -2.376 0.017506 *  \n",
              "maritalsingle      -3.060e-01  2.404e-01  -1.273 0.203157    \n",
              "educationsecondary  2.672e-03  2.407e-01   0.011 0.991143    \n",
              "educationtertiary   2.759e-01  2.778e-01   0.993 0.320639    \n",
              "educationunknown   -7.828e-01  4.677e-01  -1.674 0.094170 .  \n",
              "defaultyes          2.897e-01  5.423e-01   0.534 0.593227    \n",
              "balance            -1.952e-06  1.924e-05  -0.101 0.919200    \n",
              "housingyes         -1.100e-01  1.643e-01  -0.670 0.502870    \n",
              "loanyes            -9.097e-01  2.597e-01  -3.503 0.000460 ***\n",
              "contacttelephone   -8.809e-02  2.797e-01  -0.315 0.752807    \n",
              "contactunknown     -1.584e+00  2.891e-01  -5.479 4.28e-08 ***\n",
              "monthaug           -3.515e-01  2.899e-01  -1.212 0.225394    \n",
              "monthdec            3.298e-01  7.968e-01   0.414 0.678953    \n",
              "monthfeb           -6.934e-02  3.237e-01  -0.214 0.830385    \n",
              "monthjan           -1.130e+00  4.564e-01  -2.476 0.013289 *  \n",
              "monthjul           -6.339e-01  2.857e-01  -2.218 0.026527 *  \n",
              "monthjun            4.956e-01  3.487e-01   1.421 0.155196    \n",
              "monthmar            1.062e+00  4.777e-01   2.222 0.026274 *  \n",
              "monthmay           -8.381e-01  2.769e-01  -3.027 0.002470 ** \n",
              "monthnov           -9.986e-01  3.300e-01  -3.027 0.002473 ** \n",
              "monthoct            1.439e+00  3.927e-01   3.665 0.000247 ***\n",
              "monthsep            3.730e-01  4.562e-01   0.818 0.413632    \n",
              "duration            4.160e-03  2.442e-04  17.037  < 2e-16 ***\n",
              "campaign           -8.212e-02  3.553e-02  -2.311 0.020806 *  \n",
              "pdays              -4.176e-04  1.144e-03  -0.365 0.715126    \n",
              "previous           -2.903e-02  4.397e-02  -0.660 0.509069    \n",
              "poutcomeother       7.526e-01  3.165e-01   2.378 0.017416 *  \n",
              "poutcomesuccess     2.486e+00  3.317e-01   7.496 6.60e-14 ***\n",
              "poutcomeunknown    -1.802e-01  3.756e-01  -0.480 0.631388    \n",
              "---\n",
              "Signif. codes:  0 ‘***’ 0.001 ‘**’ 0.01 ‘*’ 0.05 ‘.’ 0.1 ‘ ’ 1\n",
              "\n",
              "(Dispersion parameter for binomial family taken to be 1)\n",
              "\n",
              "    Null deviance: 2263.0  on 3164  degrees of freedom\n",
              "Residual deviance: 1510.3  on 3123  degrees of freedom\n",
              "AIC: 1594.3\n",
              "\n",
              "Number of Fisher Scoring iterations: 6\n"
            ]
          },
          "metadata": {}
        }
      ],
      "source": [
        "summary(log_reg)"
      ]
    },
    {
      "cell_type": "markdown",
      "metadata": {
        "id": "Y1helEVH1Ul4"
      },
      "source": [
        "###### All the values are the same other than loan and intercept"
      ]
    },
    {
      "cell_type": "code",
      "execution_count": 56,
      "metadata": {
        "colab": {
          "base_uri": "https://localhost:8080/",
          "height": 52
        },
        "id": "lRByqJBx1Ul4",
        "outputId": "21dbce64-2bc4-47da-c6be-7dbd5455aedc"
      },
      "outputs": [
        {
          "output_type": "display_data",
          "data": {
            "text/html": [
              "<style>\n",
              ".list-inline {list-style: none; margin:0; padding: 0}\n",
              ".list-inline>li {display: inline-block}\n",
              ".list-inline>li:not(:last-child)::after {content: \"\\00b7\"; padding: 0 .5ex}\n",
              "</style>\n",
              "<ol class=list-inline><li>'no'</li><li>'yes'</li></ol>\n"
            ],
            "text/markdown": "1. 'no'\n2. 'yes'\n\n\n",
            "text/latex": "\\begin{enumerate*}\n\\item 'no'\n\\item 'yes'\n\\end{enumerate*}\n",
            "text/plain": [
              "[1] \"no\"  \"yes\""
            ]
          },
          "metadata": {}
        },
        {
          "output_type": "display_data",
          "data": {
            "text/html": [
              "<style>\n",
              ".list-inline {list-style: none; margin:0; padding: 0}\n",
              ".list-inline>li {display: inline-block}\n",
              ".list-inline>li:not(:last-child)::after {content: \"\\00b7\"; padding: 0 .5ex}\n",
              "</style>\n",
              "<ol class=list-inline><li>'yes'</li><li>'no'</li></ol>\n"
            ],
            "text/markdown": "1. 'yes'\n2. 'no'\n\n\n",
            "text/latex": "\\begin{enumerate*}\n\\item 'yes'\n\\item 'no'\n\\end{enumerate*}\n",
            "text/plain": [
              "[1] \"yes\" \"no\" "
            ]
          },
          "metadata": {}
        }
      ],
      "source": [
        "## Relevel in the same way on validation data\n",
        "\n",
        "levels(validation_data$loan)\n",
        "\n",
        "validation_data$loan = relevel(validation_data$loan,ref=\"yes\")\n",
        "\n",
        "levels(validation_data$loan)"
      ]
    },
    {
      "cell_type": "code",
      "execution_count": 57,
      "metadata": {
        "colab": {
          "base_uri": "https://localhost:8080/",
          "height": 437
        },
        "id": "iIqJSojr1Ul5",
        "outputId": "d1c49c56-1b91-4f11-8241-4c7353f7d583"
      },
      "outputs": [
        {
          "output_type": "display_data",
          "data": {
            "text/plain": [
              "plot without title"
            ],
            "image/png": "[encoded data removed]"
          },
          "metadata": {
            "image/png": {
              "width": 420,
              "height": 420
            }
          }
        }
      ],
      "source": [
        "## Predict probabilities on train\n",
        "prob_train <- predict(log_reg_relevel, train_data ,type=\"response\")\n",
        "\n",
        "## Compute TPR and FPR on various thresholds\n",
        "pred_object <- prediction(prob_train, train_data$y)\n",
        "tpr_fpr <- performance(pred_object, measure=\"tpr\", x.measure=\"fpr\")\n",
        "\n",
        "#Plot the ROC curve using the extracted performance measures (TPR and FPR)\n",
        "plot(tpr_fpr, col=rainbow(10), colorize=T, print.cutoffs.at=seq(0,1,0.1))"
      ]
    },
    {
      "cell_type": "code",
      "execution_count": 58,
      "metadata": {
        "colab": {
          "base_uri": "https://localhost:8080/"
        },
        "id": "lsUhQGgR1Ul5",
        "outputId": "06e35e05-635f-4484-d0e2-c5da58819a29"
      },
      "outputs": [
        {
          "output_type": "stream",
          "name": "stdout",
          "text": [
            "Train Metrics\n",
            "Confusion Matrix \n",
            " \n",
            "    1    0\n",
            "1 312   53\n",
            "0 560 2240\n",
            "\n",
            "Accuracy  : 0.8063191 \n",
            "TP_rate   : 0.8547945 \n",
            "FP_rate   : 0.2 \n",
            "TN_rate   : 0.8 \n",
            "Precision : 0.3577982 \n",
            "\n",
            "Validation Metrics\n",
            "Confusion Matrix \n",
            " \n",
            "    1   0\n",
            "1 124  32\n",
            "0 221 979\n",
            "\n",
            "Accuracy  : 0.8134218 \n",
            "TP_rate   : 0.7948718 \n",
            "FP_rate   : 0.1841667 \n",
            "TN_rate   : 0.8158333 \n",
            "Precision : 0.3594203 \n",
            "\n"
          ]
        }
      ],
      "source": [
        "# Predicting on train data\n",
        "prob_train <- predict(log_reg_relevel, type=\"response\")\n",
        "## Setting 0.1 as threshold\n",
        "preds_train_relev_0.1 <- as.factor(ifelse(prob_train > 0.1,1, 0))\n",
        "\n",
        "# Predicting on validation data with the same threshold\n",
        "prob_val <- predict(log_reg_relevel, validation_data, type=\"response\") # Predicting on validation data\n",
        "preds_val_relev_0.1 <- as.factor(ifelse(prob_val > 0.1,1, 0))\n",
        "\n",
        "\n",
        "cat(\"Train Metrics\")\n",
        "eval_metrics(train_data$y,preds_train_relev_0.1)\n",
        "cat(\"Validation Metrics\")\n",
        "eval_metrics(validation_data$y,preds_val_relev_0.1)\n"
      ]
    },
    {
      "cell_type": "code",
      "execution_count": 59,
      "metadata": {
        "colab": {
          "base_uri": "https://localhost:8080/"
        },
        "id": "V4P3NzH91Ul5",
        "outputId": "d9256a10-8430-42c5-dfd1-e04752a894c5"
      },
      "outputs": [
        {
          "output_type": "stream",
          "name": "stdout",
          "text": [
            "Train Metrics\n",
            "Confusion Matrix \n",
            " \n",
            "    1    0\n",
            "1 312   53\n",
            "0 560 2240\n",
            "\n",
            "Accuracy  : 0.8063191 \n",
            "TP_rate   : 0.8547945 \n",
            "FP_rate   : 0.2 \n",
            "TN_rate   : 0.8 \n",
            "Precision : 0.3577982 \n",
            "\n",
            "Validation Metrics\n",
            "Confusion Matrix \n",
            " \n",
            "    1   0\n",
            "1 124  32\n",
            "0 221 979\n",
            "\n",
            "Accuracy  : 0.8134218 \n",
            "TP_rate   : 0.7948718 \n",
            "FP_rate   : 0.1841667 \n",
            "TN_rate   : 0.8158333 \n",
            "Precision : 0.3594203 \n",
            "\n"
          ]
        }
      ],
      "source": [
        "## Metrics on original vanilla model\n",
        "\n",
        "cat(\"Train Metrics\")\n",
        "eval_metrics(train_data$y,preds_train_vanilla_0.1)\n",
        "cat(\"Validation Metrics\")\n",
        "eval_metrics(validation_data$y,preds_validation_vanilla_0.1)\n"
      ]
    },
    {
      "cell_type": "markdown",
      "metadata": {
        "id": "XkOl2V3b1Ul5"
      },
      "source": [
        "### The metrics would be the same after re-leveling"
      ]
    }
  ],
  "metadata": {
    "kernelspec": {
      "display_name": "R",
      "language": "R",
      "name": "ir"
    },
    "language_info": {
      "codemirror_mode": "r",
      "file_extension": ".r",
      "mimetype": "text/x-r-source",
      "name": "R",
      "pygments_lexer": "r",
      "version": "4.1.0"
    },
    "colab": {
      "provenance": [],
      "include_colab_link": true
    }
  },
  "nbformat": 4,
  "nbformat_minor": 0
}